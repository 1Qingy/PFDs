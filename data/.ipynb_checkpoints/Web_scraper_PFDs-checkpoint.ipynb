{
 "cells": [
  {
   "cell_type": "markdown",
   "metadata": {},
   "source": [
    "# Scraping the Courts and Tribunals Judiciary Website to collect Prevent Future Death (PFD) reports "
   ]
  },
  {
   "cell_type": "code",
   "execution_count": 510,
   "metadata": {},
   "outputs": [],
   "source": [
    "from requests import get\n",
    "from requests import ConnectionError\n",
    "from bs4 import BeautifulSoup\n",
    "import re\n",
    "from time import sleep\n",
    "from time import time\n",
    "import csv\n",
    "import pandas as pd\n",
    "\n",
    "import matplotlib.pyplot as plt\n",
    "\n",
    "from tqdm.auto import tqdm\n",
    "from tqdm.contrib import tzip\n",
    "\n",
    "import urllib3\n",
    "urllib3.disable_warnings(urllib3.exceptions.InsecureRequestWarning)\n",
    "\n",
    "import concurrent\n",
    "\n",
    "from time import sleep, time\n",
    "\n",
    "\n",
    "from datetime import date\n",
    "\n",
    "def get_url(url):\n",
    "    return BeautifulSoup(get(url, verify = False).content, \"html.parser\")\n",
    "\n",
    "def retries(record_url, tries=3):\n",
    "    for i in range(tries):\n",
    "        try:\n",
    "            soup = get_url(record_url)\n",
    "            return soup\n",
    "        except (ConnectionError, SSLError):\n",
    "            sleep(2)\n",
    "            continue\n",
    "    raise ConnectionError(f\"Exceeded {tries} tries\")"
   ]
  },
  {
   "cell_type": "markdown",
   "metadata": {},
   "source": [
    "# Scraper starts here - last run on Monday, 06 Sept 2021, 9.06 am."
   ]
  },
  {
   "cell_type": "markdown",
   "metadata": {},
   "source": [
    "Here we find the number of pages containing PFD reports."
   ]
  },
  {
   "cell_type": "code",
   "execution_count": 2,
   "metadata": {},
   "outputs": [],
   "source": [
    "prefix = \"https://www.judiciary.uk/subject/prevention-of-future-deaths/\"\n",
    "number_of_pages = int(get_url(prefix) \\\n",
    "                    .find(\"div\", \"pagination\") \\\n",
    "                    .find_all(\"li\")[-1] \\\n",
    "                    .find(\"a\")[\"href\"] \\\n",
    "                    .split(\"/\")[-2])"
   ]
  },
  {
   "cell_type": "code",
   "execution_count": 3,
   "metadata": {},
   "outputs": [],
   "source": [
    "def fetch_urls(page):\n",
    "    soup = retries(prefix+\"/page/{}\".format(str(page+1)))\n",
    "    h5s = soup.find_all('h5', {'class': 'entry-title'})\n",
    "    return [h5.a.get('href') for h5 in h5s]"
   ]
  },
  {
   "cell_type": "code",
   "execution_count": 4,
   "metadata": {},
   "outputs": [
    {
     "data": {
      "application/vnd.jupyter.widget-view+json": {
       "model_id": "187c1ab1731e437f8340265bcacea5c2",
       "version_major": 2,
       "version_minor": 0
      },
      "text/plain": [
       "  0%|          | 0/371 [00:00<?, ?it/s]"
      ]
     },
     "metadata": {},
     "output_type": "display_data"
    }
   ],
   "source": [
    "record_urls = []\n",
    "with tqdm(total = number_of_pages) as pbar:\n",
    "    with concurrent.futures.ProcessPoolExecutor(max_workers=16) as executor:\n",
    "        record_urls = [executor.submit(fetch_urls, i)\n",
    "                       for i in range(number_of_pages)]\n",
    "        for future in concurrent.futures.as_completed(record_urls):\n",
    "            pbar.update(1)\n",
    "record_urls = [link for links in # flatten the list\n",
    "                   [urls.result() for urls in record_urls]\n",
    "                   for link in links]"
   ]
  },
  {
   "cell_type": "markdown",
   "metadata": {},
   "source": [
    "Some technical remarks: we make all our web requests here to avoid repeatedly making requests to the judiciary’s website. Since `concurrent` must pickle the object we can’t nicely handle exceptions so just have to check the output of `download_html` later for strings beginning `Error: ` (on the assumption that most pages won’t start `Error: `.)\n",
    "\n",
    "Only the download part is parallelised, on the assumption that downloads are slow but relatively simple to parallelise, and all other operations are finicky but are fast even on a single thread.\n",
    "\n",
    "It is envisaged that there should be no need to refresh these cells so as to save time."
   ]
  },
  {
   "cell_type": "code",
   "execution_count": 52,
   "metadata": {},
   "outputs": [],
   "source": [
    "def download_html(url, tries=5):\n",
    "    try:\n",
    "        for i in range(tries):\n",
    "            try:\n",
    "                return get(url)\n",
    "            except (ConnectionError, SSLError):\n",
    "                sleep(2)\n",
    "                continue\n",
    "    except Exception as e:\n",
    "        if isinstance(e, ConnectionError):\n",
    "            return \"Error: Connection error\"\n",
    "        else:\n",
    "            return f\"Error: {str(e)}\""
   ]
  },
  {
   "cell_type": "code",
   "execution_count": 53,
   "metadata": {},
   "outputs": [
    {
     "data": {
      "application/vnd.jupyter.widget-view+json": {
       "model_id": "291fe3ff4125468bb283088f1e530d99",
       "version_major": 2,
       "version_minor": 0
      },
      "text/plain": [
       "  0%|          | 0/3708 [00:00<?, ?it/s]"
      ]
     },
     "metadata": {},
     "output_type": "display_data"
    }
   ],
   "source": [
    "with tqdm(total = len(record_urls)) as pbar:\n",
    "    with concurrent.futures.ProcessPoolExecutor(max_workers=16) as executor:\n",
    "        raw = [executor.submit(download_html, url) for url in record_urls]\n",
    "        for future in concurrent.futures.as_completed(raw):\n",
    "            pbar.update(1)"
   ]
  },
  {
   "cell_type": "code",
   "execution_count": 518,
   "metadata": {},
   "outputs": [],
   "source": [
    "class MissingRecordsError(Exception): pass\n",
    "class MissingFieldError(Exception): pass\n",
    "class UnreadableFieldError(Exception): pass\n",
    "class FieldError(Exception): pass\n",
    "class SpecialCaseUnaccountedForError(Exception): pass\n",
    "class TooManyTriesError(Exception): pass\n",
    "class MissingDownloadBoxError(Exception): pass\n",
    "\n",
    "special_cases = [\n",
    "    \"https://www.judiciary.uk/publications/roadsafety/\",\n",
    "    \"https://www.judiciary.uk/publications/helen-sheath/\",\n",
    "    \"https://www.judiciary.uk/publications/rebecca-evans/\"\n",
    "]\n",
    "\n",
    "columns = list(map(lambda x: x.lower(), [\n",
    "    'Date of report',\n",
    "    'Ref',\n",
    "    'Deceased name',\n",
    "    'Coroner name',\n",
    "    'Coroner Area',\n",
    "    'Coroners Area', #NB to be merged later; if both come up there'll be trouble\n",
    "    'Category',\n",
    "    \"This report is being sent to\"\n",
    "]))\n",
    "\n",
    "records, refs, pdflinks = [], [], []\n",
    "\n",
    "plurals_possessives = re.compile(r\"’s\\s|s\\s|'s\\s\")"
   ]
  },
  {
   "cell_type": "code",
   "execution_count": 519,
   "metadata": {},
   "outputs": [],
   "source": [
    "class Extractor(object):\n",
    "    def __init__(self, raw_with_url):\n",
    "        try:\n",
    "            self.url = raw_with_url[0]\n",
    "            url = self.url\n",
    "            self.extracted = {\"url\": url, \"errors\": []}\n",
    "\n",
    "            self.result = raw_with_url[1].result()\n",
    "            \n",
    "            if isinstance(self.result, str):\n",
    "                if self.result.startswith(\"Error:\"):\n",
    "                    raise ConnectionError\n",
    "            \n",
    "            self.soup = BeautifulSoup(self.result.content)\n",
    "            \n",
    "            self.information_area = self.soup.find(\"div\", {\"class\": \"entry-content\"})\n",
    "            \n",
    "            if not self.information_area:\n",
    "                raise MissingRecordsError         \n",
    "            \n",
    "            self.information = self.information_area.find_all(\"p\")\n",
    "\n",
    "            # nothing between <p> to process\n",
    "            if not self.information:\n",
    "                raise MissingRecordsError         \n",
    "\n",
    "            if url in special_cases:\n",
    "                self._process_special_case(url)\n",
    "            else:\n",
    "                 for field in self.information:\n",
    "                    self.strip_field(field, url)\n",
    "\n",
    "            download_box = self.soup.find(\"div\", \"download-box\")\n",
    "            \n",
    "            if download_box:\n",
    "                links = download_box.find_all('a', href=True)\n",
    "                responses = len([s for s in links if \"response\" in s.text.lower()])\n",
    "            else:\n",
    "                raise MissingDownloadBoxError\n",
    "                \n",
    "            pdflinks.append([link.href for link in links])\n",
    "\n",
    "            self.extracted[\"number of links\"] = len(links)\n",
    "            self.extracted[\"number of responses\"] = responses\n",
    "\n",
    "            try:\n",
    "                self.extracted[\"number of recipients\"] = self.extracted[\"this report is being sent to\"].count(\";\") + 1\n",
    "            except:\n",
    "                pass\n",
    "\n",
    "            try:\n",
    "                if self.extracted[\"ref\"] in refs: # deduplication of references\n",
    "                    self.extracted[\"ref\"] += \"-bis\"\n",
    "                refs.append(self.extracted[\"ref\"])\n",
    "            except KeyError:\n",
    "                self.extracted[\"ref\"] = \"autogenerated-ref\" # no reference found\n",
    "\n",
    "        except Exception as e:\n",
    "            details = str(e)\n",
    "\n",
    "            if isinstance(e, ConnectionError):\n",
    "                details = \"Could not connect\"\n",
    "\n",
    "            if isinstance(e, MissingRecordsError):\n",
    "                details = \"No records found\"\n",
    "\n",
    "            if isinstance(e, SpecialCaseUnaccountedForError):\n",
    "                details = \"Special case unaccounted for\"\n",
    "            \n",
    "            if isinstance(e, MissingFieldError):\n",
    "                details = f\"Missing header: {e}\"\n",
    "            \n",
    "            if isinstance(e, AttributeError):\n",
    "                details = f\"Attribute error: {e}\"\n",
    "                \n",
    "            if isinstance(e, MissingDownloadBoxError):\n",
    "                details = f\"Missing download box.\"\n",
    "\n",
    "            print(f\"At {url}, {details}\")\n",
    "                \n",
    "            self.extracted[\"errors\"].append({\"url\": self.url, \"reason\": details})\n",
    "\n",
    "    def strip_field(self, field, url):\n",
    "        try:\n",
    "            extraction = self.FieldStripper(field, url)\n",
    "            self.extracted[extraction.header] = extraction.text\n",
    "            if extraction.error is not None:\n",
    "                self.extracted[\"errors\"].append(extraction.error)\n",
    "        except FieldError:\n",
    "            self.extracted[\"errors\"].append({\"url\": self.url, \"reason\": f\"Field error: {field}\"})\n",
    "            \n",
    "    def _process_special_case(self,url):\n",
    "        if self.url == 'https://www.judiciary.uk/publications/roadsafety/':\n",
    "            fields = self.information[0].find_all('strong')\n",
    "            heads = ['date of report',\n",
    "                     'ref',\n",
    "                     'deceased name',\n",
    "                     'coroner name',\n",
    "                     'coroner area',\n",
    "                     'category']\n",
    "            for field, h in zip(fields,heads):\n",
    "                self.extracted[h] = field.next_sibling.replace(':','').replace('Ref','').strip()\n",
    "        elif url == 'https://www.judiciary.uk/publications/helen-sheath/':\n",
    "            fields = self.information[0].text.split('\\n')\n",
    "            vals = [field.split(\":\") for field in fields]\n",
    "            for v in vals:\n",
    "                if v[0] == \"Coroners name\":\n",
    "                    alt = \"coroner_name\"\n",
    "                elif v[0] == \"Coroners Area\":\n",
    "                    alt = \"coroner_area\"\n",
    "                else:\n",
    "                    alt = v[0].strip().lower()\n",
    "                self.extracted[alt] = v[1].strip().replace('\\n','')\n",
    "        elif url == \"https://www.judiciary.uk/publications/rebecca-evans/\":\n",
    "            for field in self.information:\n",
    "                if \"Rebecca-EvansR\" in field.text:\n",
    "                    self.extracted[\"category\"] = field.text.split(':')[1].strip().replace('\\n','')\n",
    "                else:\n",
    "                    self.strip_field(field, url)\n",
    "\n",
    "        else:\n",
    "            raise SpecialCaseUnaccountedForError\n",
    "\n",
    "            \n",
    "            \n",
    "    class FieldStripper(object):\n",
    "        def __init__(self, field, url):\n",
    "            try:\n",
    "                self.error = None\n",
    "                self.url = url\n",
    "                self.field_text = field.text.strip()\n",
    "                self.text = \"\"\n",
    "\n",
    "                if self.field_text.replace('\\xa0','').strip() == \"\": raise MissingFieldError\n",
    "\n",
    "                    \n",
    "                if \":\" in self.field_text:\n",
    "                    self.pre_colon, self.post_colon = self.field_text.split(\":\", 1) # split by first colon\n",
    "                else:\n",
    "                    self.pre_colon = self.field_text\n",
    "                    self.post_colon = \"\"\n",
    "                \n",
    "                \n",
    "                self.header = self.pre_colon.lower()\n",
    "                \n",
    "                if self.header in columns: # Normal case: colon separates text\n",
    "                    self.text = self.post_colon.strip().replace('\\n','').replace('\\xa0','')\n",
    "                elif self.post_colon.strip() == \"\": # no colon separator\n",
    "                    self.header, self.text = self._no_colon_separator()          \n",
    "                elif self.field_text.count(\":\") == 2: # two colons\n",
    "                    self.header, self.text = self._two_colons()\n",
    "                elif ':' in self.field_text and self.header not in columns: # plurals and possessives\n",
    "                    self.header, self.text = self._plurals_and_possessives()\n",
    "                else:\n",
    "                    print(self.field_text)\n",
    "                \n",
    "            except Exception as e:\n",
    "                details = str(e)\n",
    "                if isinstance(e, UnreadableFieldError):\n",
    "                    details = f\"Unreadable field; text read: {field.text}\"              \n",
    "                if isinstance(e, MissingFieldError):\n",
    "                    details = f\"Unreadable field; text read: {field.text}\"              \n",
    "                self.error = {\"url\": self.url, \"reason\": details}\n",
    "                raise FieldError\n",
    "\n",
    "        def _no_colon_separator(self):\n",
    "            column_found = False\n",
    "            for column in columns:\n",
    "                if self.pre_colon.startswith(column):\n",
    "                    header = column\n",
    "                    text = pre_colon[len(column)+1] \\\n",
    "                            .replace('\\n','') \\\n",
    "                            .replace('\\xa0','')\n",
    "                    column_found = True\n",
    "                    break\n",
    "            if not column_found:\n",
    "                raise UnreadableFieldError\n",
    "            return (header, text)\n",
    "\n",
    "        def _two_colons(self):\n",
    "            split_by_colon = self.field_text.split(':')\n",
    "            header = re.sub(plurals_possessives,\n",
    "                             ' ',\n",
    "                             split_by_colon[0]+split_by_colon[1]\n",
    "                            ) \\\n",
    "                            .strip() \\\n",
    "                            .lower()\n",
    "            text = split_by_colon[2] \\\n",
    "                        .strip() \\\n",
    "                        .replace('\\n','') \\\n",
    "                        .replace('\\xa0','')\n",
    "            return (header, text)\n",
    "\n",
    "        def _plurals_and_possessives(self):\n",
    "            if 'Name of' in self.field_text:\n",
    "                header = self.pre_colon.split(' ')[2] + \" name\"\n",
    "                text = self.field_text[-1].strip().replace('\\n','').replace('\\xa0','')\n",
    "            else:     \n",
    "                header = re.sub(plurals_possessives, ' ', self.pre_colon).strip().lower()\n",
    "                text = self.post_colon.strip().replace('\\n','').replace('\\xa0','')\n",
    "            return (header, text)\n",
    "\n",
    "def page_scrape(raw_with_url):\n",
    "    scraper = Extractor(raw_with_url)\n",
    "    return scraper.extracted"
   ]
  },
  {
   "cell_type": "code",
   "execution_count": null,
   "metadata": {
    "scrolled": false
   },
   "outputs": [
    {
     "data": {
      "application/vnd.jupyter.widget-view+json": {
       "model_id": "07bebafd37054131b7d44e368d459d12",
       "version_major": 2,
       "version_minor": 0
      },
      "text/plain": [
       "  0%|          | 0/3708 [00:00<?, ?it/s]"
      ]
     },
     "metadata": {},
     "output_type": "display_data"
    },
    {
     "name": "stdout",
     "output_type": "stream",
     "text": [
      "At https://www.judiciary.uk/publications/john-long/, Missing download box.\n",
      "At https://www.judiciary.uk/publications/patricia-parker/, Missing download box.\n"
     ]
    }
   ],
   "source": [
    "records = [page_scrape(page) for page in tzip(record_urls, raw)]\n",
    "errors = [record[\"errors\"] for record in records if record[\"errors\"] != []]"
   ]
  },
  {
   "cell_type": "markdown",
   "metadata": {},
   "source": [
    "We place `records` into a data frame and merge different labels for the same field."
   ]
  },
  {
   "cell_type": "code",
   "execution_count": 516,
   "metadata": {},
   "outputs": [],
   "source": [
    "df = pd.DataFrame(records)\n",
    "df[\"coroner area\"] = df[\"coroner area\"].fillna(df[\"coroners area\"])\n",
    "df[\"date of report\"] = df[\"date of report\"].fillna(df[\"date of reports\"])"
   ]
  },
  {
   "cell_type": "markdown",
   "metadata": {},
   "source": [
    "Here we plot the number of reports every month."
   ]
  },
  {
   "cell_type": "code",
   "execution_count": 517,
   "metadata": {
    "scrolled": true
   },
   "outputs": [
    {
     "data": {
      "image/png": "[encoded data removed]",
      "text/plain": [
       "<Figure size 432x288 with 1 Axes>"
      ]
     },
     "metadata": {
      "needs_background": "light"
     },
     "output_type": "display_data"
    }
   ],
   "source": [
    "df[\"date of report\"] = pd.to_datetime(df[\"date of report\"], errors = 'coerce')\n",
    "df[\"year-month\"] = df[\"date of report\"].dropna().apply(lambda dmy: dmy.strftime('%Y-%m'))\n",
    "date_counts = df[\"year-month\"].dropna().value_counts().sort_index()\n",
    "date_counts.plot.line()\n",
    "\n",
    "plt.show()"
   ]
  },
  {
   "cell_type": "markdown",
   "metadata": {},
   "source": [
    "It is slightly more involved to do so, but here we plot the response rate. We categorise the response rate into threee categories—\n",
    "1. where no response is received,\n",
    "2. where fewer responses are received than the number of bodies to which the report was sent, and\n",
    "3. when the number of responses received is equal to or greater than the number of bodies to which the report was sent.\n",
    "\n",
    "We adopt this rather convoluted scheme because in certain cases multiple responses are received even though the report was only sent to one body (for example, a CCG may respond in addition to someone from a particular hospital)."
   ]
  },
  {
   "cell_type": "code",
   "execution_count": 448,
   "metadata": {
    "scrolled": true
   },
   "outputs": [
    {
     "data": {
      "image/png": "[encoded data removed]",
      "text/plain": [
       "<Figure size 432x288 with 1 Axes>"
      ]
     },
     "metadata": {
      "needs_background": "light"
     },
     "output_type": "display_data"
    }
   ],
   "source": [
    "def get_response_rate(row):\n",
    "    if row[\"number of responses\"] == 0:\n",
    "        return \"no response received\"\n",
    "    elif row[\"number of responses\"] < row[\"number of recipients\"]:\n",
    "        return \"fewer responses than expected received\"\n",
    "    else:\n",
    "        return \"expected or greater number of responses received\"\n",
    "\n",
    "response_rates = df.loc[:,[\"year-month\", \"number of responses\", \"number of recipients\"]]\n",
    "response_rates[\"response\"] = response_rates.apply(get_response_rate, axis=1)\n",
    "response_rates = response_rates \\\n",
    "        .groupby([\"year-month\"])[\"response\"] \\\n",
    "        .value_counts() \\\n",
    "        .to_frame() \\\n",
    "        .unstack() \\\n",
    "        .fillna(0)\n",
    "\n",
    "proportions = response_rates.div(response_rates.sum(axis=1), axis=0)\n",
    "\n",
    "proportions.plot.barh(stacked=True)\n",
    "plt.tick_params(axis='both', which='both', labelsize=7)\n",
    "\n",
    "plt.yticks(plt.yticks()[0][1::3], \n",
    "           plt.yticks()[1][1::3])\n",
    "\n",
    "plt.tight_layout()\n",
    "plt.show()"
   ]
  },
  {
   "cell_type": "markdown",
   "metadata": {},
   "source": [
    "Here we redact the names for public display and then export the CSV file."
   ]
  },
  {
   "cell_type": "code",
   "execution_count": 507,
   "metadata": {},
   "outputs": [],
   "source": [
    "%%capture\n",
    "\n",
    "csv_output = df.loc[:,[\"date of report\", \"ref\", \"deceased name\", \"deceased names\", \"coroner name\", \"coroner area\", \"category\", \"this report is being sent to\", \"url\"]]\n",
    "\n",
    "def process_name(full_name):\n",
    "    if full_name == \"\": return \"\"\n",
    "    else: return \"\".join(name[0] for name in full_name.split(\" \"))\n",
    "\n",
    "def process_names(names):\n",
    "    output = []\n",
    "    and_split = names.split(\" and \", 1)\n",
    "    if len(and_split) > 1: output.append(and_split[1])\n",
    "    output += and_split[0].split(\", \")\n",
    "    print(output)\n",
    "    return \", \".join([process_name(name) for name in output])\n",
    "\n",
    "df[\"deceased names\"] = df[\"deceased names\"].fillna(df[\"deceased name\"])\n",
    "df[\"deceased names\"].fillna(\"\",inplace=True)\n",
    "df[\"deceased names\"].apply(process_names)"
   ]
  },
  {
   "cell_type": "code",
   "execution_count": null,
   "metadata": {},
   "outputs": [],
   "source": [
    "csv_output.columns = csv_output.columns.str.replace(' ','_')\n",
    "\n",
    "csv_output[map(lambda x: x.replace(' ', '_'), [\"date of report\", \"ref\", \"deceased names\", \"coroner name\", \"coroner area\", \"category\", \"this report is being sent to\", \"url\"])].to_csv(f\"death_info_{str(date.today())}_processed.csv\")\n",
    "\n",
    "csv_output[map(lambda x: x.replace(' ', '_'), [\"date of report\", \"ref\", \"deceased names\", \"coroner name\", \"coroner area\", \"category\", \"this report is being sent to\", \"url\"])].to_csv(f\"death_info_latest.csv\")"
   ]
  },
  {
   "cell_type": "markdown",
   "metadata": {},
   "source": [
    "We save the file twice, possibly overwriting `death_info_latest.csv` so that `index.html` can point to the same location and it doesn’t need to be changed."
   ]
  },
  {
   "cell_type": "code",
   "execution_count": null,
   "metadata": {},
   "outputs": [],
   "source": []
  }
 ],
 "metadata": {
  "kernelspec": {
   "display_name": "Python 3",
   "language": "python",
   "name": "python3"
  },
  "language_info": {
   "codemirror_mode": {
    "name": "ipython",
    "version": 3
   },
   "file_extension": ".py",
   "mimetype": "text/x-python",
   "name": "python",
   "nbconvert_exporter": "python",
   "pygments_lexer": "ipython3",
   "version": "3.8.8"
  }
 },
 "nbformat": 4,
 "nbformat_minor": 2
}
