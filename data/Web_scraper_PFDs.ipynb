{
 "cells": [
  {
   "cell_type": "markdown",
   "metadata": {},
   "source": [
    "# Scraping the Courts and Tribunals Judiciary Website to collect Prevent Future Death (PFD) reports "
   ]
  },
  {
   "cell_type": "code",
   "execution_count": 62,
   "metadata": {},
   "outputs": [],
   "source": [
    "from requests import get\n",
    "from requests import ConnectionError\n",
    "from bs4 import BeautifulSoup\n",
    "import re\n",
    "from time import sleep\n",
    "from time import time\n",
    "import csv\n",
    "import pandas as pd\n",
    "\n",
    "from tqdm.auto import tqdm\n",
    "from tqdm.contrib import tzip\n",
    "\n",
    "import urllib3\n",
    "urllib3.disable_warnings(urllib3.exceptions.InsecureRequestWarning)\n",
    "\n",
    "import concurrent\n",
    "\n",
    "from time import sleep, time\n",
    "\n",
    "def get_url(url):\n",
    "    return BeautifulSoup(get(url, verify = False).content, \"html.parser\")\n",
    "\n",
    "def retries(record_url, tries=3):\n",
    "    for i in range(tries):\n",
    "        try:\n",
    "            soup = get_url(record_url)\n",
    "            return soup\n",
    "        except (ConnectionError, SSLError):\n",
    "            sleep(2)\n",
    "            continue\n",
    "    raise ConnectionError(f\"Exceeded {tries} tries\")"
   ]
  },
  {
   "cell_type": "markdown",
   "metadata": {},
   "source": [
    "# Scraper starts here - last run on Monday, 06 Sept 2021, 9.06 am."
   ]
  },
  {
   "cell_type": "markdown",
   "metadata": {},
   "source": [
    "Here we find the number of pages containing PFD reports."
   ]
  },
  {
   "cell_type": "code",
   "execution_count": 2,
   "metadata": {},
   "outputs": [],
   "source": [
    "prefix = \"https://www.judiciary.uk/subject/prevention-of-future-deaths/\"\n",
    "number_of_pages = int(get_url(prefix) \\\n",
    "                    .find(\"div\", \"pagination\") \\\n",
    "                    .find_all(\"li\")[-1] \\\n",
    "                    .find(\"a\")[\"href\"] \\\n",
    "                    .split(\"/\")[-2])"
   ]
  },
  {
   "cell_type": "code",
   "execution_count": 3,
   "metadata": {},
   "outputs": [],
   "source": [
    "def fetch_urls(page):\n",
    "    soup = retries(prefix+\"/page/{}\".format(str(page+1)))\n",
    "    h5s = soup.find_all('h5', {'class': 'entry-title'})\n",
    "    return [h5.a.get('href') for h5 in h5s]"
   ]
  },
  {
   "cell_type": "code",
   "execution_count": 4,
   "metadata": {},
   "outputs": [
    {
     "data": {
      "application/vnd.jupyter.widget-view+json": {
       "model_id": "187c1ab1731e437f8340265bcacea5c2",
       "version_major": 2,
       "version_minor": 0
      },
      "text/plain": [
       "  0%|          | 0/371 [00:00<?, ?it/s]"
      ]
     },
     "metadata": {},
     "output_type": "display_data"
    }
   ],
   "source": [
    "record_urls = []\n",
    "with tqdm(total = number_of_pages) as pbar:\n",
    "    with concurrent.futures.ProcessPoolExecutor(max_workers=16) as executor:\n",
    "        record_urls = [executor.submit(fetch_urls, i)\n",
    "                       for i in range(number_of_pages)]\n",
    "        for future in concurrent.futures.as_completed(record_urls):\n",
    "            pbar.update(1)\n",
    "record_urls = [link for links in # flatten the list\n",
    "                   [urls.result() for urls in record_urls]\n",
    "                   for link in links]"
   ]
  },
  {
   "cell_type": "markdown",
   "metadata": {},
   "source": [
    "Some technical remarks: we make all our web requests here to avoid repeatedly making requests to the judiciary’s website. Since `concurrent` must pickle the object we can’t nicely handle exceptions so just have to check the output of `download_html` later for strings beginning `Error: ` (on the assumption that most pages won’t start `Error: `.)\n",
    "\n",
    "Only the download part is parallelised, on the assumption that downloads are slow but relatively simple to parallelise, and all other operations are finicky but are fast even on a single thread.\n",
    "\n",
    "It is envisaged that there should be no need to refresh these cells so as to save time."
   ]
  },
  {
   "cell_type": "code",
   "execution_count": 52,
   "metadata": {},
   "outputs": [],
   "source": [
    "def download_html(url, tries=5):\n",
    "    try:\n",
    "        for i in range(tries):\n",
    "            try:\n",
    "                return get(url)\n",
    "            except (ConnectionError, SSLError):\n",
    "                sleep(2)\n",
    "                continue\n",
    "    except Exception as e:\n",
    "        if isinstance(e, ConnectionError):\n",
    "            return \"Error: Connection error\"\n",
    "        else:\n",
    "            return f\"Error: {str(e)}\""
   ]
  },
  {
   "cell_type": "code",
   "execution_count": 53,
   "metadata": {},
   "outputs": [
    {
     "data": {
      "application/vnd.jupyter.widget-view+json": {
       "model_id": "291fe3ff4125468bb283088f1e530d99",
       "version_major": 2,
       "version_minor": 0
      },
      "text/plain": [
       "  0%|          | 0/3708 [00:00<?, ?it/s]"
      ]
     },
     "metadata": {},
     "output_type": "display_data"
    }
   ],
   "source": [
    "with tqdm(total = len(record_urls)) as pbar:\n",
    "    with concurrent.futures.ProcessPoolExecutor(max_workers=16) as executor:\n",
    "        raw = [executor.submit(download_html, url) for url in record_urls]\n",
    "        for future in concurrent.futures.as_completed(raw):\n",
    "            pbar.update(1)"
   ]
  },
  {
   "cell_type": "code",
   "execution_count": 197,
   "metadata": {},
   "outputs": [],
   "source": [
    "class MissingRecordsError(Exception): pass\n",
    "class MissingFieldError(Exception): pass\n",
    "class UnreadableFieldError(Exception): pass\n",
    "class FieldError(Exception): pass\n",
    "class SpecialCaseUnaccountedForError(Exception): pass\n",
    "class TooManyTriesError(Exception): pass\n",
    "class MissingDownloadBoxError(Exception): pass\n",
    "\n",
    "special_cases = [\n",
    "    \"https://www.judiciary.uk/publications/roadsafety/\",\n",
    "    \"https://www.judiciary.uk/publications/helen-sheath/\",\n",
    "    \"https://www.judiciary.uk/publications/rebecca-evans/\"\n",
    "]\n",
    "\n",
    "columns = list(map(lambda x: x.lower(), [\n",
    "    'Date of report',\n",
    "    'Ref',\n",
    "    'Deceased name',\n",
    "    'Coroner name',\n",
    "    'Coroner Area',\n",
    "    'Coroners Area', #NB to be merged later; if both come up there'll be trouble\n",
    "    'Category',\n",
    "    \"This report is being sent to\"\n",
    "]))\n",
    "\n",
    "records, refs, pdflinks = [], [], []\n",
    "\n",
    "plurals_possessives = re.compile(r\"’s\\s|s\\s|'s\\s\")"
   ]
  },
  {
   "cell_type": "code",
   "execution_count": 200,
   "metadata": {},
   "outputs": [],
   "source": [
    "class Extractor(object):\n",
    "    def __init__(self, raw_with_url):\n",
    "        try:\n",
    "            self.url = raw_with_url[0]\n",
    "            url = self.url\n",
    "            self.extracted = {\"url\": url, \"errors\": []}\n",
    "\n",
    "            self.result = raw_with_url[1].result()\n",
    "            \n",
    "            if isinstance(self.result, str):\n",
    "                if self.result.startswith(\"Error:\"):\n",
    "                    raise ConnectionError\n",
    "            \n",
    "            self.soup = BeautifulSoup(self.result.content)\n",
    "            \n",
    "            self.information_area = self.soup.find(\"div\", {\"class\": \"entry-content\"})\n",
    "            \n",
    "            if not self.information_area:\n",
    "                raise MissingRecordsError         \n",
    "            \n",
    "            self.information = self.information_area.find_all(\"p\")\n",
    "\n",
    "            # nothing between <p> to process\n",
    "            if not self.information:\n",
    "                raise MissingRecordsError         \n",
    "\n",
    "            if url in special_cases:\n",
    "                self._process_special_case(url)\n",
    "            else:\n",
    "                 for field in self.information:\n",
    "                    self.strip_field(field, url)\n",
    "\n",
    "            download_box = self.soup.find(\"div\", \"download-box\")\n",
    "            \n",
    "            if download_box:\n",
    "                links = download_box.find_all('a', href=True)\n",
    "                responses = len([s for s in links if \"response\" in s.text.lower()])\n",
    "            else:\n",
    "                raise MissingDownloadBoxError\n",
    "                \n",
    "            pdflinks.append([link.href for link in links])\n",
    "\n",
    "            self.extracted[\"number of links\"] = len(links)\n",
    "            self.extracted[\"number of responses\"] = responses\n",
    "\n",
    "            try:\n",
    "                self.extracted[\"number of recipients\"] = self.extracted[\"this report is being sent to\"].count(\";\") + 1\n",
    "            except:\n",
    "                pass\n",
    "\n",
    "            try:\n",
    "                if self.extracted[\"ref\"] in refs: # deduplication of references\n",
    "                    self.extracted[\"ref\"] += \"-bis\"\n",
    "                refs.append(self.extracted[\"ref\"])\n",
    "            except KeyError:\n",
    "                self.extracted[\"ref\"] = \"autogenerated-ref\" # no reference found\n",
    "\n",
    "        except Exception as e:\n",
    "            details = str(e)\n",
    "\n",
    "            if isinstance(e, ConnectionError):\n",
    "                details = \"Could not connect\"\n",
    "\n",
    "            if isinstance(e, MissingRecordsError):\n",
    "                details = \"No records found\"\n",
    "\n",
    "            if isinstance(e, SpecialCaseUnaccountedForError):\n",
    "                details = \"Special case unaccounted for\"\n",
    "            \n",
    "            if isinstance(e, MissingFieldError):\n",
    "                details = f\"Missing header: {e}\"\n",
    "            \n",
    "            if isinstance(e, AttributeError):\n",
    "                details = f\"Attribute error: {e}\"\n",
    "                \n",
    "            if isinstance(e, MissingDownloadBoxError):\n",
    "                details = f\"Missing download box.\"\n",
    "\n",
    "            print(f\"At {url}, {details}\")\n",
    "                \n",
    "            self.extracted[\"errors\"].append({\"url\": self.url, \"reason\": details})\n",
    "\n",
    "    def strip_field(self, field, url):\n",
    "        try:\n",
    "            extraction = self.FieldStripper(field, url)\n",
    "            self.extracted[extraction.header] = extraction.text\n",
    "            if extraction.error is not None:\n",
    "                self.extracted[\"errors\"].append(extraction.error)\n",
    "        except FieldError:\n",
    "            self.extracted[\"errors\"].append({\"url\": self.url, \"reason\": f\"Field error: {field}\"})\n",
    "            \n",
    "    def _process_special_case(self,url):\n",
    "        if self.url == 'https://www.judiciary.uk/publications/roadsafety/':\n",
    "            fields = self.information[0].find_all('strong')\n",
    "            heads = ['date of report',\n",
    "                     'ref',\n",
    "                     'deceased name',\n",
    "                     'coroner name',\n",
    "                     'coroner area',\n",
    "                     'category']\n",
    "            for field, h in zip(fields,heads):\n",
    "                self.extracted[h] = field.next_sibling.replace(':','').replace('Ref','').strip()\n",
    "        elif url == 'https://www.judiciary.uk/publications/helen-sheath/':\n",
    "            fields = self.information[0].text.split('\\n')\n",
    "            vals = [field.split(\":\") for field in fields]\n",
    "            for v in vals:\n",
    "                if v[0] == \"Coroners name\":\n",
    "                    alt = \"coroner_name\"\n",
    "                elif v[0] == \"Coroners Area\":\n",
    "                    alt = \"coroner_area\"\n",
    "                else:\n",
    "                    alt = v[0].strip().lower()\n",
    "                self.extracted[alt] = v[1].strip().replace('\\n','')\n",
    "        elif url == \"https://www.judiciary.uk/publications/rebecca-evans/\":\n",
    "            for field in self.information:\n",
    "                if \"Rebecca-EvansR\" in field.text:\n",
    "                    self.extracted[\"category\"] = field.text.split(':')[1].strip().replace('\\n','')\n",
    "                else:\n",
    "                    self.strip_field(field, url)\n",
    "\n",
    "        else:\n",
    "            raise SpecialCaseUnaccountedForError\n",
    "\n",
    "            \n",
    "            \n",
    "    class FieldStripper(object):\n",
    "        def __init__(self, field, url):\n",
    "            try:\n",
    "                self.error = None\n",
    "                self.url = url\n",
    "                self.field_text = field.text.strip()\n",
    "                self.text = \"\"\n",
    "\n",
    "                if self.field_text.replace('\\xa0','').strip() == \"\": raise MissingFieldError\n",
    "\n",
    "                    \n",
    "                if \":\" in self.field_text:\n",
    "                    self.pre_colon, self.post_colon = self.field_text.split(\":\", 1) # split by first colon\n",
    "                else:\n",
    "                    self.pre_colon = self.field_text\n",
    "                    self.post_colon = \"\"\n",
    "                \n",
    "                \n",
    "                self.header = self.pre_colon.lower()\n",
    "                \n",
    "    #             print(self.field_text)\n",
    "    #             print(self.pre_colon)\n",
    "    #             print(self.post_colon)\n",
    "    #             print(self.header)\n",
    "\n",
    "                if self.header in columns: # Normal case: colon separates text\n",
    "                    self.text = self.post_colon.strip().replace('\\n','').replace('\\xa0','')\n",
    "    #                 print(\"Normal case\")\n",
    "    #                 print(self.header)\n",
    "    #                 print(self.text)\n",
    "\n",
    "                elif self.post_colon.strip() == \"\": # no colon separator\n",
    "                    self.header, self.text = self._no_colon_separator()          \n",
    "    #                 print(\"No colon case\")\n",
    "    #                 print(self.header)\n",
    "    #                 print(self.text)\n",
    "                elif self.field_text.count(\":\") == 2: # two colons\n",
    "                    self.header, self.text = self._two_colons()\n",
    "    #                 print(\"Two colons case\")\n",
    "    #                 print(self.header)\n",
    "    #                 print(self.text)\n",
    "                elif ':' in self.field_text and self.header not in columns: # plurals and possessives\n",
    "                    self.header, self.text = self._plurals_and_possessives()\n",
    "                else:\n",
    "                    print(self.field_text)\n",
    "                \n",
    "            except Exception as e:\n",
    "                details = str(e)\n",
    "\n",
    "                if isinstance(e, UnreadableFieldError):\n",
    "                    details = f\"Unreadable field; text read: {field.text}\"\n",
    "                    \n",
    "                if isinstance(e, MissingFieldError):\n",
    "                    details = f\"Unreadable field; text read: {field.text}\"\n",
    "                \n",
    "                self.error = {\"url\": self.url, \"reason\": details}\n",
    "                \n",
    "                raise FieldError\n",
    "\n",
    "        def _no_colon_separator(self):\n",
    "            column_found = False\n",
    "            for column in columns:\n",
    "                if self.pre_colon.startswith(column):\n",
    "                    header = column\n",
    "                    text = pre_colon[len(column)+1] \\\n",
    "                            .replace('\\n','') \\\n",
    "                            .replace('\\xa0','')\n",
    "                    column_found = True\n",
    "                    break\n",
    "            if not column_found:\n",
    "                raise UnreadableFieldError\n",
    "            return (header, text)\n",
    "\n",
    "        def _two_colons(self):\n",
    "            split_by_colon = self.field_text.split(':')\n",
    "            header = re.sub(plurals_possessives,\n",
    "                             ' ',\n",
    "                             split_by_colon[0]+split_by_colon[1]\n",
    "                            ) \\\n",
    "                            .strip() \\\n",
    "                            .lower()\n",
    "            text = split_by_colon[2] \\\n",
    "                        .strip() \\\n",
    "                        .replace('\\n','') \\\n",
    "                        .replace('\\xa0','')\n",
    "            return (header, text)\n",
    "\n",
    "        def _plurals_and_possessives(self):\n",
    "            if 'Name of' in self.field_text:\n",
    "                header = self.pre_colon.split(' ')[2] + \" name\"\n",
    "                text = self.field_text[-1].strip().replace('\\n','').replace('\\xa0','')\n",
    "            else:     \n",
    "                header = re.sub(plurals_possessives, ' ', self.pre_colon).strip().lower()\n",
    "                text = self.post_colon.strip().replace('\\n','').replace('\\xa0','')\n",
    "            return (header, text)\n",
    "\n",
    "def page_scrape(raw_with_url):\n",
    "    scraper = Extractor(raw_with_url)\n",
    "    return scraper.extracted"
   ]
  },
  {
   "cell_type": "markdown",
   "metadata": {},
   "source": [
    "Here is the third loop to save the PDFs using the deceased Ref as the file name"
   ]
  },
  {
   "cell_type": "code",
   "execution_count": 199,
   "metadata": {
    "scrolled": false
   },
   "outputs": [
    {
     "data": {
      "application/vnd.jupyter.widget-view+json": {
       "model_id": "5e1bbac1cd554556a3bc96a3a9586e77",
       "version_major": 2,
       "version_minor": 0
      },
      "text/plain": [
       "  0%|          | 0/3708 [00:00<?, ?it/s]"
      ]
     },
     "metadata": {},
     "output_type": "display_data"
    },
    {
     "name": "stdout",
     "output_type": "stream",
     "text": [
      "Missing download box.\n",
      "Missing download box.\n",
      "No records found\n",
      "No records found\n",
      "No records found\n",
      "No records found\n",
      "No records found\n",
      "No records found\n",
      "No records found\n",
      "No records found\n",
      "No records found\n"
     ]
    }
   ],
   "source": [
    "records = [page_scrape(page) for page in tzip(record_urls, raw)]\n",
    "errors = [record[\"errors\"] for record in records if record[\"errors\"] != []]"
   ]
  },
  {
   "cell_type": "code",
   "execution_count": 232,
   "metadata": {},
   "outputs": [
    {
     "name": "stdout",
     "output_type": "stream",
     "text": [
      "category\n",
      "coroner area\n",
      "coroner name\n",
      "coroners area\n",
      "date of report\n",
      "date of reports\n",
      "deceased name\n",
      "deceased names\n",
      "errors\n",
      "number of links\n",
      "number of recipients\n",
      "number of responses\n",
      "ref\n",
      "these report are being sent to\n",
      "this report is being sent to\n",
      "url\n"
     ]
    }
   ],
   "source": [
    "df = pd.DataFrame(records)\n",
    "print(\"\\n\".join(sorted(df.columns)))"
   ]
  },
  {
   "cell_type": "code",
   "execution_count": 247,
   "metadata": {},
   "outputs": [],
   "source": [
    "df[\"coroner area\"] = df[\"coroner area\"].fillna(df[\"coroners area\"])\n",
    "df[\"date of report\"] = df[\"date of report\"].fillna(df[\"date of reports\"])"
   ]
  },
  {
   "cell_type": "code",
   "execution_count": 248,
   "metadata": {
    "scrolled": true
   },
   "outputs": [
    {
     "name": "stdout",
     "output_type": "stream",
     "text": [
      "['Birmingham and Solihull' 'Greater Manchester South'\n",
      " 'Leicester City and South Leicestershire' 'City of Brighton and Hove'\n",
      " 'South Yorkshire East' 'South Yorkshire (East)' 'Surrey'\n",
      " 'West Yorkshire (East)' 'Suffolk' 'Essex' 'West London' 'East London'\n",
      " 'North East Kent' 'West Sussex'\n",
      " 'Stoke-on-Trent and North Staffordshire Coroner’s Court'\n",
      " 'Inner West London' 'Mid Kent and Medway' 'Norfolk'\n",
      " 'Stoke-on-Trent & North Staffordshire Coroner’s Court'\n",
      " 'London Inner South' 'Black Country' 'Staffordshire South'\n",
      " 'Cambridgeshire and Peterborough' 'Nottinghamshire' 'Northamptonshire'\n",
      " 'Brighton & Hove' 'Exeter and Greater Devon' 'Inner North London'\n",
      " 'North Wales (East & Central)' 'County of Dorset' 'City of Sunderland'\n",
      " 'Swansea and Neath Port Talbot' 'Liverpool and Wirral'\n",
      " 'West Yorkshire (Eastern)' 'Swansea, Neath & Port Talbot'\n",
      " 'North Wales (East and Central)' 'Gwent' 'Cambridgeshire & Peterborough'\n",
      " 'Newcastle Upon Tyne and North Tyneside' 'Avon' 'Lincolnshire'\n",
      " 'Warwickshire' 'South Yorkshire (West District)'\n",
      " 'Newcastle and North Tyneside' 'Inner London North'\n",
      " 'Plymouth Torbay and South Devon' 'Hertfordshire' 'Derby and Derbyshire'\n",
      " 'West Yorkshire Eastern' 'Manchester West' 'Manchester North'\n",
      " 'West Yorkshire Western Division' 'East Sussex' 'Manchester South'\n",
      " 'City of London' 'Hampshire, Portsmouth and Southhampton'\n",
      " 'Worcestershire' 'Milton Keynes' 'Hampshire, Portsmouth and Southampton'\n",
      " 'North West Kent' 'Cornwall and the Isles of Scilly' 'Oxfordshire'\n",
      " 'Manchester City' 'Sunderland' 'Nottingham City and Nottinghamshire'\n",
      " 'Blackpool and Fylde'\n",
      " 'County of the East Riding of Yorkshire and City of Kingston-Upon-Hull'\n",
      " 'Shropshire, Telford and Wrekin' 'Greater Manchester (South)'\n",
      " 'Cornwall and Isles of Scilly' 'Inner South London'\n",
      " 'County of Ceredigion' 'West Yorkshire (Western)'\n",
      " 'City of Brighton & Hove' 'County of Surrey'\n",
      " 'County Durham and Darlington' 'London (West)'\n",
      " 'Sefton, St. Helens and Knowsley' 'Lancashire and Blackburn with Darwen'\n",
      " 'North Yorkshire, Western District' 'Buckinghamshire' 'Dorset'\n",
      " 'West Yorkshire, Western Division' 'Isle of Wight'\n",
      " 'Bedfordshire and Luton' 'South Wales Central' 'Brighton and Hove'\n",
      " 'West Yorkshire (E)' 'Nottingham and Nottinghamshire'\n",
      " 'Lancashire & Blackburn with Darwen' 'South Manchester'\n",
      " 'Manchester City Area' 'South Yorkshire West' 'South Yorkshire (West)'\n",
      " 'Coventry and Warwickshire' 'Inner London South' 'County of Cumbria'\n",
      " 'Coventry' 'Northampton' 'Shropshire, Telford & Wrekin' 'North London'\n",
      " 'Stoke-on-Trent & North Staffordshire' 'Cumbria' 'Manchester (West)'\n",
      " 'Staffordshire (South)' 'Newcastle upon Tyne and North Tyneside'\n",
      " 'West Yorkshire' 'Plymouth, Torbay and South Devon' 'Blackpool & Fylde'\n",
      " 'Nottinghamshire and Nottingham' 'Central and South East Kent'\n",
      " 'County Durham & Darlington' 'Nottinghamshire & Nottingham'\n",
      " 'Birmingham & Solihull' 'Cornwall & Isles of Scilly'\n",
      " 'Hampshire (Central)' 'Wiltshire and Swindon' 'Liverpool and the Wirral'\n",
      " 'Bedfordshire and Luton Coroner' 'Bedfordshire and Luton Coroner Service'\n",
      " 'London; Inner North London' 'London; London Inner South'\n",
      " 'Manchester; Greater Manchester South' nan\n",
      " 'Lancashire and Blackburn with Darwin' 'London (South)'\n",
      " 'West Yorkshire (west)' 'Herefordshire' 'Cornwall and the Isle of Scilly'\n",
      " 'London (North)' 'London Inner North' 'London South' 'London East'\n",
      " 'Staffordshire (south)' 'London Inner (West)' 'London Inner (North)'\n",
      " 'Manchester (South)' 'Berkshire' 'Rutland and North Leicestershire'\n",
      " 'Manchester (North)' 'West Yorkshire (West)' 'Manchester (City)'\n",
      " 'Derby & Derbyshire' 'Hampshire' 'London (East)'\n",
      " 'Kent (Central and South East)' 'Gateshead & South Tyneside'\n",
      " 'Birmimgham and Solihull' 'London Innner (North)' 'Cheshire'\n",
      " 'Swansea Neath & Port Talbot' 'Newcastle upon Tyne'\n",
      " 'London Inner (South)' 'Durham and Darlington' 'Bedfordshire & Luton'\n",
      " 'Warwicjshire' 'Chesshire' 'Oxford' 'Plymouth, Torbay and South Devom'\n",
      " 'Leicester City and Leicestershire' 'Gloucestershire'\n",
      " 'Portsmouth and South East Hampshire' 'Berkside' 'Liverpool'\n",
      " 'Newcastle Upon Tyne' 'Leicester City and Leicestershire South'\n",
      " 'Teesside and Hartlepool' 'Camarthenshire and Pembrokeshire'\n",
      " 'Lancaster & Blackburn with Darwen' 'Kent (North-East)'\n",
      " 'North Northumberland' 'Kent (North-West)' 'West Yorjshire (West)'\n",
      " 'Wilshire and Swindon' 'East Riding and Hull'\n",
      " 'Southampton and New Forest' 'Birmingham an Solihull'\n",
      " 'Cornwall & the Isles of Scilly' 'SouthWales Central'\n",
      " 'Liverpool & Wirral' 'North Yorkshire' 'Pembrokeshire & Camarthenshire'\n",
      " 'Berskhire' 'East Riding and Kingston-upon-Hull' 'North West Wales'\n",
      " 'Isles of Scilly' 'Stoke-on-Trent and North Staffordshire'\n",
      " 'London (Inner) North' 'London (Inner) West' 'Mid Kent & Medway'\n",
      " 'Carmarthenshire and Pembrokeshire' 'Southampton & New Forrest'\n",
      " 'Birmingham' 'Shropshire Telford & Wrekin'\n",
      " 'Cornwall& the Isles of Scilly' 'Somerset'\n",
      " 'East Riding and Kingston upon Hull' 'Blackpool & the Fylde'\n",
      " 'Leicester (City & South)' 'Lancashire' 'Preston and West Lancashire'\n",
      " 'Portsmouth & South East Hampshire' 'Carmarthenshire & Pembrokeshire'\n",
      " 'Kent (Central & South East)' 'Northumberland (North)'\n",
      " 'East Riding and Kingston Upon Hull' 'Wiltshire & Swindon'\n",
      " 'Exeter & Greater Devon' 'York' 'Blackburn, Hyndburn and Ribble Valley'\n",
      " 'Swansea, Neath and Port Talbot' 'Exeter and Great Devon District'\n",
      " 'Swansea Neath and Port Talbot' 'Blackpool and The Fylde'\n",
      " 'South Lincolnshire' 'London (City)' 'Nottingham' 'London(East)'\n",
      " 'North Lincolnshire and Grimsby' 'Preston and East Lancashire'\n",
      " 'North Yorkshire (West)' 'East Riding and Kingston -upon-Hull'\n",
      " 'Cornwall and Isle of Scilly' 'Leicestershire (South)'\n",
      " 'South Yorkshire(West)' 'North Wales (Eastern and Central)'\n",
      " 'Hampshire (North East)' 'Leicester (City and South)'\n",
      " 'North Yorkshire (East)' 'Blackburn, Hyndham and Ribble Valley'\n",
      " 'Lincolnshire (Central)' 'Greater Manchester (North)'\n",
      " 'Yorkshire West (East)' 'London Greater (East)' 'Lincolnshire (South)'\n",
      " 'Cornwall' 'Hampshire Central' 'Yorkshire West Western'\n",
      " 'London Greater North' 'Kent Central and South East' 'London Inner West'\n",
      " 'London Greater Inner South' 'Yorkshire West (Eastern)'\n",
      " 'Yorkshire South (East District)' 'Teesside' 'Derbyshire'\n",
      " 'London North (Inner)' 'Central Hampshire' 'Teeside'\n",
      " 'Stoke on Trent and North Staffordshire' 'Swansea'\n",
      " 'Leicestershire City and South Leicestershire' 'Central Lincolnshire'\n",
      " 'County Durham' 'Powys, Bridgend and Glamorgan Valleys'\n",
      " 'North East and North Central Wales'\n",
      " 'Blackburn, Hyndburn & Ribble Valley' 'Cardiff and the Vale of Glamorgan'\n",
      " 'Powys' 'Exeter and Great Devon' 'East Riding and Kingston Upon-Hull'\n",
      " 'Powys, Bridgend and Glamorgan' 'Cardiff & the Vale of Glamorgan'\n",
      " 'Powys, Bridgend & Glamorgan Valleys' 'Peterborough'\n",
      " 'Cardiff & Vale of Glamorgan' 'Cambridgeshire (North & East)'\n",
      " 'North Lincolnshire & Grimsby' 'Lancashire (East)' 'Somerset (West)'\n",
      " 'Southampton and the New Forest' 'Hartlepool'\n",
      " 'Swansea & Neath Port Talbot' 'Leicester City & South Leicestershire'\n",
      " 'Rutland & North Leicestershire' 'Cumbria (North & West)'\n",
      " 'Preston & West Lancashire' 'Exeter & Great Devon'\n",
      " 'Kent (South East & Central)' 'Plymouth, Torbay & South Devon'\n",
      " 'Northumberland (South)' 'Mancester (South)' 'Manchester (South'\n",
      " 'Cambridgeshire (South & West)' 'South Yorkshire ( West)'\n",
      " 'Portsmouth & South East Hanpshire' 'London South (Inner)'\n",
      " 'South Leicestershire' 'Portsmouth & South East Hampsshire'\n",
      " 'London North' 'Cumbria (South & East)' 'Wirral'\n",
      " 'Kingston upon Hull & the East Riding of Yorkshire' 'Rotherham'\n",
      " ': London Inner (West)' 'North and West Cumbria'\n",
      " 'Eastern District of London' 'North Northhumberland'\n",
      " 'Carmarthenshire & Prembrokeshire' 'Cumbria (North and West)'\n",
      " 'London Eastern' 'North Central & North East Wales' 'Mancshester (South)'\n",
      " 'Cambridgeshire (South and West)' 'London (Inner South)' 'London'\n",
      " 'Powys Bridgend and Glamorgan Valleys' 'South London'\n",
      " 'Central & South East Kent' 'Cambridgeshire' 'West Somerset'\n",
      " 'Blackpool and Flyde' 'London (Inner North)'\n",
      " 'Bridgend, Glamorgan Valleys & Powys' 'South Staffordshire']\n"
     ]
    }
   ],
   "source": [
    "areas = df[\"coroner area\"].unique()\n",
    "print(areas)"
   ]
  },
  {
   "cell_type": "code",
   "execution_count": 271,
   "metadata": {},
   "outputs": [
    {
     "data": {
      "text/plain": [
       "<AxesSubplot:>"
      ]
     },
     "execution_count": 271,
     "metadata": {},
     "output_type": "execute_result"
    },
    {
     "data": {
      "image/png": "[encoded data removed]",
      "text/plain": [
       "<Figure size 432x288 with 1 Axes>"
      ]
     },
     "metadata": {
      "needs_background": "light"
     },
     "output_type": "display_data"
    }
   ],
   "source": [
    "date_counts = pd.to_datetime(df[\"date of report\"], errors = 'coerce').dropna().apply(lambda dmy: dmy.strftime('%Y-%m')).value_counts().sort_index()\n",
    "date_counts.plot.line()"
   ]
  },
  {
   "cell_type": "markdown",
   "metadata": {},
   "source": [
    "This is my final step that puts the text data (info on the deceased/case) into a csv file & adds the date it was pulled"
   ]
  },
  {
   "cell_type": "code",
   "execution_count": null,
   "metadata": {},
   "outputs": [],
   "source": []
  },
  {
   "cell_type": "code",
   "execution_count": null,
   "metadata": {},
   "outputs": [],
   "source": [
    "from datetime import date\n",
    "\n",
    "headers = ['date_of_report', 'date_of_reports', 'ref', 'deceased_name', 'deceased_names', 'coroner_name', 'coroner_area', 'category', 'this_report_is_being_sent_to', 'these_report_are_being_sent_to', 'url']\n",
    "\n",
    "with open('death_info_{}.csv'.format(date.today()), 'w', newline='', encoding='utf-8') as deaths_csv:\n",
    "    writer = csv.DictWriter(deaths_csv, fieldnames=headers)\n",
    "    writer.writeheader()\n",
    "    for record in record_text:\n",
    "        if record == {}:\n",
    "            pass\n",
    "        else:\n",
    "            writer.writerow(record)"
   ]
  },
  {
   "cell_type": "markdown",
   "metadata": {},
   "source": [
    "This is an addition few steps to check what differences there are from the June 2021 records "
   ]
  },
  {
   "cell_type": "markdown",
   "metadata": {},
   "source": [
    "Data processing for website "
   ]
  },
  {
   "cell_type": "code",
   "execution_count": null,
   "metadata": {},
   "outputs": [],
   "source": [
    "sep_names = pd.read_csv('death_info_2021-09-07.csv')\n",
    "sep_names.head()"
   ]
  },
  {
   "cell_type": "code",
   "execution_count": null,
   "metadata": {},
   "outputs": [],
   "source": [
    "sep_names['deceased_name'] = sep_names['deceased_name'].fillna(\"\")"
   ]
  },
  {
   "cell_type": "code",
   "execution_count": null,
   "metadata": {
    "scrolled": true
   },
   "outputs": [],
   "source": [
    "sep_names['deceased_name'] = sep_names['deceased_name'].apply(lambda x: ''.join(i[0] for i in x.split()))"
   ]
  },
  {
   "cell_type": "code",
   "execution_count": null,
   "metadata": {},
   "outputs": [],
   "source": [
    "sep_names['deceased_name'] = sep_names['deceased_name'].str.replace('\\W', '')"
   ]
  },
  {
   "cell_type": "code",
   "execution_count": null,
   "metadata": {},
   "outputs": [],
   "source": [
    "sep_names.head()"
   ]
  },
  {
   "cell_type": "code",
   "execution_count": null,
   "metadata": {},
   "outputs": [],
   "source": [
    "sep_names.to_csv('death_info_2021-09-07_processed.csv')"
   ]
  },
  {
   "cell_type": "code",
   "execution_count": null,
   "metadata": {},
   "outputs": [],
   "source": []
  }
 ],
 "metadata": {
  "kernelspec": {
   "display_name": "Python 3",
   "language": "python",
   "name": "python3"
  },
  "language_info": {
   "codemirror_mode": {
    "name": "ipython",
    "version": 3
   },
   "file_extension": ".py",
   "mimetype": "text/x-python",
   "name": "python",
   "nbconvert_exporter": "python",
   "pygments_lexer": "ipython3",
   "version": "3.8.8"
  }
 },
 "nbformat": 4,
 "nbformat_minor": 2
}
