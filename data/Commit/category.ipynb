{
  "nbformat": 4,
  "nbformat_minor": 0,
  "metadata": {
    "colab": {
      "name": "category.ipynb",
      "provenance": []
    },
    "kernelspec": {
      "name": "python3",
      "display_name": "Python 3"
    },
    "language_info": {
      "name": "python"
    }
  },
  "cells": [
    {
      "cell_type": "markdown",
      "source": [
        "# Most common categories of PFDs"
      ],
      "metadata": {
        "id": "t293OuAFG6Ep"
      }
    },
    {
      "cell_type": "markdown",
      "source": [
        "Strategy: split \"category\" by \";\" and \"|\", then groupby and count the frequency of categories. Select the top 10 categories. \n",
        "\n",
        "Total percentage will add up to more than 100%, as one PFD can belong to multiple category "
      ],
      "metadata": {
        "id": "XE7PzDCOOHwS"
      }
    },
    {
      "cell_type": "markdown",
      "source": [
        "# Category count for each individual year"
      ],
      "metadata": {
        "id": "DmnedLQLb0Ys"
      }
    },
    {
      "cell_type": "code",
      "source": [
        "import pandas as pd\n",
        "import numpy as np\n",
        "import matplotlib.pyplot as plt\n",
        "names_processed_year = pd.read_csv('death_info_2022-06-23_processed_year.csv')\n",
        "year_category = names_processed_year[['category', 'year']]\n",
        "display(year_category.head())\n",
        "display(year_category.shape)"
      ],
      "metadata": {
        "id": "sHSFpJXURhst"
      },
      "execution_count": null,
      "outputs": []
    },
    {
      "cell_type": "code",
      "source": [
        "import re"
      ],
      "metadata": {
        "id": "_sflks7nXZaL"
      },
      "execution_count": null,
      "outputs": []
    },
    {
      "cell_type": "markdown",
      "source": [
        "And also for individual years (i.e. what are the most common categories of PFDs in 2013, 2014...2022? )"
      ],
      "metadata": {
        "id": "sHY2kcV1UNLh"
      }
    },
    {
      "cell_type": "markdown",
      "source": [
        "Idea: make a stacked bar chart of hospitalised vs non-hospitalised: https://pythonguides.com/stacked-bar-chart-matplotlib/\n",
        "\n",
        "\n",
        "How to make bars stack on top of each other: https://github.com/minillinim/stackedBarGraph. https://stackoverflow.com/questions/19060144/more-efficient-matplotlib-stacked-bar-chart-how-to-calculate-bottom-values\n",
        "\n",
        "\n"
      ],
      "metadata": {
        "id": "OgSWvf9fO8r8"
      }
    },
    {
      "cell_type": "code",
      "source": [
        "raw_list = []\n",
        "# raw_list gets 10 dataframes: 2013, 2014, ....2022\n",
        "\n",
        "for i in range(10): \n",
        "  raw_list.append(year_category[year_category['year']== 2013+i])\n",
        "display(raw_list[0].head())"
      ],
      "metadata": {
        "id": "h37lc4HcrHz2"
      },
      "execution_count": null,
      "outputs": []
    },
    {
      "cell_type": "code",
      "source": [
        "print(raw_list[1]['category'].unique())"
      ],
      "metadata": {
        "id": "EvXUoaq-MhpM"
      },
      "execution_count": null,
      "outputs": []
    },
    {
      "cell_type": "code",
      "source": [
        "year_list = []\n",
        "for i in range(10): # in the range of 10 years\n",
        "  category_list = raw_list[i]['category'].to_numpy() # category_list is a list\n",
        "  category_separated = []\n",
        "  for item in category_list: # item is a string\n",
        "  \n",
        "    item_separated = str(item).strip().replace(';', '|').replace('road', 'road safety').replace('hospital community health care', 'hospital | community health care').replace('hospital management', 'hospital').replace('community health care, hospital', 'community health care | hospital').replace('suicide, alcohol', 'suicide | alcohol').replace('road , community health care emergency service', 'road | community health care').replace('suicide , alcohol, drug and medication', 'suicide | alcohol, drug and medication').split('|') # item_separated is a list\n",
        "    category_separated.append(item_separated) # turn rows of categories into a list [[item_separated, , ,  ], [], []]\n",
        "  category_dict = {}\n",
        "  for category in category_separated: # category_separated is a list of a list, category is a list\n",
        "    for item in category: # item is a string, a phrase\n",
        "      if item.strip()=='': \n",
        "        pass\n",
        "      elif 'social care' in item: \n",
        "        pass\n",
        "      elif 'service personnel' in item: \n",
        "        pass\n",
        "      else:   \n",
        "        item = item.strip()\n",
        "        item = item.lower().replace('&', 'and').replace('child (from 2015', 'child').replace('suicide (from 2015', 'suicide').replace('suicide)', 'suicide').replace(' related', '')\n",
        "        item = item.replace(' deaths', '').replace(' death', '').replace('healthcare', 'health care').replace('care home health', 'care home').replace('alcohol, drugs and medication', 'alcohol, drug and medication').replace('emergency services related', 'emergency services').replace('state custody related', 'state custody').strip() # get rid of trailing and leading spaces \n",
        "        item = item.replace('community health care services', 'community health care').replace('community health care and', 'community health care').replace('wales prevention of future', 'wales prevention of future report').replace('report report', 'report')\n",
        "        item = item.replace('tate custody', 'state custody').replace('sstate custody', 'state custody').replace('hospital management', 'hospital').replace('road safety', 'road')\n",
        "        item = item.replace('hospital (clinical procedures and medical', 'hospital').replace('hospital)', 'hospital').replace('hospital management)', 'hospital')\n",
        "        item = item.replace('child (from 2015', 'child').replace('child)', 'child').replace('reports', 'report').replace('community health', 'community health care').replace('community health care care', 'community health care')\n",
        "        item = item.replace('health and safety', 'accident at work and health and safety').replace('accident at work and accident at work and health and safety', 'accident at work and health and safety')\n",
        "        item=re.sub(\"\\(.*?\\)\",\"\",item).strip()\n",
        "        # some categories have \"related\" and some don't. I'm trying to strip \"related\" but without much success. \n",
        "        # For some reason python doesn't like \".strip\", .replace(' related ', ' ')\n",
        "        if item in category_dict: \n",
        "          category_dict[item] = category_dict[item] + 1\n",
        "        elif item.strip()!= '': \n",
        "          category_dict[item] = 1\n",
        "  df = pd.DataFrame()\n",
        "  df['category'] = category_dict.keys()\n",
        "  df['count'] = category_dict.values()\n",
        "  df = df[df['category']!= 'nan']\n",
        "\n",
        "  df.sort_values(by=['count'], ascending = False, inplace=True)  \n",
        "  df.dropna(how = 'any') \n",
        "  year_list.append(df)\n"
      ],
      "metadata": {
        "id": "iTlZD7q9sBHx"
      },
      "execution_count": null,
      "outputs": []
    },
    {
      "cell_type": "code",
      "source": [
        "#2013\n",
        "#community health and emergency\n",
        "year_list[0].loc[4, 'count'] = year_list[0].loc[4, 'count'] + 3\n",
        "year_list[0].drop(index = 9, inplace = True)\n",
        "# 2014\n",
        "# drop service personnel\n",
        "year_list[1].drop(index = 5, inplace = True)\n",
        "\n",
        "#2015\n",
        "# drop service personnel\n",
        "year_list[2].drop(index = 13, inplace = True)\n",
        "#community health and emergency\n",
        "year_list[2].loc[2, 'count'] = year_list[2].loc[2, 'count'] + 1\n",
        "year_list[2].drop(index = 0, inplace = True)\n",
        "\n",
        "# 2016\n",
        "year_list[3].loc[6, 'count'] = year_list[3].loc[6, 'count'] + 1\n",
        "year_list[3].drop(index = 0, inplace = True)\n",
        "\n",
        "#2017\n",
        "#drop service personnel\n",
        "year_list[4].drop(index = 13, inplace = True)\n",
        "\n",
        "# 2018\n",
        "#drop service personnel\n",
        "year_list[5].drop(index = 15, inplace = True)\n",
        "#drop dept of social care\n",
        "year_list[5].drop(index = 18, inplace = True)\n",
        "# community health care\n",
        "year_list[5].loc[5, 'count'] = year_list[5].loc[5, 'count']+1\n",
        "year_list[5].drop(index = 0, inplace = True)\n",
        "# alcohol and suicide\n",
        "year_list[5].loc[1, 'count'] = year_list[5].loc[1, 'count']+1\n",
        "year_list[5].loc[7, 'count'] = year_list[5].loc[7, 'count']+1\n",
        "year_list[5].drop(index = 10, inplace = True)\n",
        "\n",
        "#2019\n",
        "# service personnel\n",
        "year_list[6].drop(index = 13, inplace = True)\n",
        "year_list[6].loc[3, 'category'] = 'community health care emergency services'\n"
      ],
      "metadata": {
        "id": "1ebi6J-3iLej"
      },
      "execution_count": null,
      "outputs": []
    },
    {
      "cell_type": "code",
      "source": [
        "#2020\n",
        "#service personnel\n",
        "year_list[7].drop(index = 19, inplace = True)\n",
        "\n",
        "#hospital management\n",
        "year_list[7].loc[2, 'count'] = year_list[7].loc[2, 'count'] + 1\n",
        "year_list[7].drop(index = 23, inplace = True)\n",
        "\n",
        "# road community health care, other \n",
        "year_list[7].loc[12, 'count'] = year_list[7].loc[12, 'count'] + 1\n",
        "year_list[7].loc[14, 'count'] = year_list[7].loc[14, 'count'] + 1\n",
        "year_list[7].loc[0, 'count'] = year_list[7].loc[0, 'count'] + 1\n",
        "year_list[7].drop(index = 16, inplace = True)\n",
        "\n",
        "# road safety\n",
        "year_list[7].loc[12, 'count'] = year_list[7].loc[12, 'count'] + 1\n",
        "year_list[7].drop(index = 21, inplace = True)\n",
        "\n",
        "# community health care, hospital\n",
        "year_list[7].loc[2, 'count'] = year_list[7].loc[2, 'count'] + 2\n",
        "year_list[7].loc[14, 'count'] = year_list[7].loc[14, 'count'] + 2\n",
        "year_list[7].loc[14, 'count'] = year_list[7].loc[14, 'count'] + 55\n",
        "year_list[7].drop(index = 3, inplace = True)\n",
        "year_list[7].drop(index = 22, inplace = True)\n",
        "year_list[7].drop(index = 9, inplace = True)\n",
        "\n",
        "# 2021\n",
        "# community health care\n",
        "year_list[8].loc[16, 'count'] = year_list[8].loc[16, 'count'] + 78\n",
        "year_list[8].drop(index = 2, inplace = True)\n",
        "# drop service personnel\n",
        "year_list[8].drop(index = 15, inplace = True)\n",
        "\n",
        "# 2022\n",
        "year_list[9].loc[10, 'category'] = 'community health care emergency services'"
      ],
      "metadata": {
        "id": "KZTbESUf6Thw"
      },
      "execution_count": null,
      "outputs": []
    },
    {
      "cell_type": "markdown",
      "source": [
        "# Check totals\n",
        "\n",
        "Total across 10 years should be more, but not much more than 5429"
      ],
      "metadata": {
        "id": "IlZ8DoK5vrH5"
      }
    },
    {
      "cell_type": "code",
      "source": [
        "total = 0\n",
        "for year in year_list: \n",
        "  total = total + year['count'].sum()\n",
        "print(total)"
      ],
      "metadata": {
        "id": "XuXIg8x2vslx"
      },
      "execution_count": null,
      "outputs": []
    },
    {
      "cell_type": "markdown",
      "source": [
        "# Stacked bar chart"
      ],
      "metadata": {
        "id": "LFS4nluvTD9x"
      }
    },
    {
      "cell_type": "markdown",
      "source": [
        "1. Scale the hospital deaths down by a factor n\n",
        "2. Plot more categories by a for loop"
      ],
      "metadata": {
        "id": "K2QSsCvlTWxw"
      }
    },
    {
      "cell_type": "code",
      "source": [
        "n = 4\n",
        "for year in year_list: \n",
        "  year['scaled count'] = year['count']\n",
        "  year.loc[year['category']=='hospital', 'scaled count' ]= year.loc[year['category']=='hospital', 'count'].values[0]/n"
      ],
      "metadata": {
        "id": "zYgxCcPNWPlr"
      },
      "execution_count": null,
      "outputs": []
    },
    {
      "cell_type": "markdown",
      "source": [
        "Year-total Used to check whether the graph is plotted correctly later when plotting the stacked bar graph"
      ],
      "metadata": {
        "id": "3E3Mg3FWW0L5"
      }
    },
    {
      "cell_type": "code",
      "source": [
        "year_total = []\n",
        "for year in year_list: \n",
        "  year_total.append(year['count'].sum())\n",
        "print(year_total)"
      ],
      "metadata": {
        "id": "pmtYWpL6VapZ"
      },
      "execution_count": null,
      "outputs": []
    },
    {
      "cell_type": "code",
      "source": [
        "print(sum(year_total))\n",
        "# get 5431. Agrees! "
      ],
      "metadata": {
        "id": "0OqS9yba-VMa"
      },
      "execution_count": null,
      "outputs": []
    },
    {
      "cell_type": "code",
      "source": [
        "zero_list = [0, 0, 0, 0, 0,0, 0, 0, 0, 0]"
      ],
      "metadata": {
        "id": "X_bF5QvY_9rc"
      },
      "execution_count": null,
      "outputs": []
    },
    {
      "cell_type": "markdown",
      "source": [
        "To plot the graph, need dict of categories, corresponding to a list of PFD report numbers in 10 years"
      ],
      "metadata": {
        "id": "rgkcxHsMPR9_"
      }
    },
    {
      "cell_type": "code",
      "source": [
        "category_dict = {'hospital':zero_list, \"community health care emergency services\": zero_list, \n",
        "                 'other': zero_list, 'road': zero_list, 'state custody': zero_list,  \n",
        "                 'suicide': zero_list, 'wales prevention of future report': zero_list, \n",
        "                 'mental health': zero_list, 'emergency services': zero_list, \n",
        "                 'alcohol, drug and medication': zero_list, 'police': zero_list, \n",
        "                 'accident at work and health and safety':zero_list, 'child': zero_list, \n",
        "                  'care home': zero_list, 'product': zero_list, 'railway': zero_list}"
      ],
      "metadata": {
        "id": "C1u0X8wUBz5a"
      },
      "execution_count": null,
      "outputs": []
    },
    {
      "cell_type": "code",
      "source": [
        "category_np = np.zeros((10, 16))\n",
        "for category in category_dict.keys(): \n",
        "  index = list(category_dict.keys()).index(category)\n",
        "  for i in range(10): #loop through the years\n",
        "    year = year_list[i]\n",
        "    category_year = [0, 0, 0, 0, 0, 0, 0, 0, 0, 0]\n",
        "    if (year['category'].eq(category)).any(): \n",
        "      # The way I append is problematic. It makes it end up with the same distribution for every single category. \n",
        "      # Everything is the same as \"Accident\"\n",
        "      value = year.loc[year['category']==category, 'scaled count'].values[0]\n",
        "      category_dict[category][i] = value\n",
        "      # Try numpy way again\n",
        "      \n",
        "      category_np[i, index] = value\n",
        "  category_dict[category] = category_np[:, index]"
      ],
      "metadata": {
        "id": "0EhzgwlxDpj7"
      },
      "execution_count": null,
      "outputs": []
    },
    {
      "cell_type": "code",
      "source": [
        "print(len(category_dict.keys()))"
      ],
      "metadata": {
        "id": "GchVLZ0P-3oa"
      },
      "execution_count": null,
      "outputs": []
    },
    {
      "cell_type": "code",
      "source": [
        "category_df = pd.DataFrame(category_dict)"
      ],
      "metadata": {
        "id": "m-8vNxOrCqvx"
      },
      "execution_count": null,
      "outputs": []
    },
    {
      "cell_type": "code",
      "source": [
        "display(category_df)"
      ],
      "metadata": {
        "id": "u8aOMtceSIXS"
      },
      "execution_count": null,
      "outputs": []
    },
    {
      "cell_type": "code",
      "source": [
        "category_df.rename(columns = {'suicide': 'suicide (2015 onwards)', 'community health care emergency services': 'community health & emergency services', 'child': 'child (2015 onwards)','emergency services': 'emergency services (2019 onwards)', 'wales prevention of future report': 'Wales (2019 onwards)', 'accident at work and health and safety': 'accident at work, health & safety', 'alcohol, drug and medication': 'alcohol, drug & medication' }, inplace = True)"
      ],
      "metadata": {
        "id": "rlncsOsoSMcD"
      },
      "execution_count": null,
      "outputs": []
    },
    {
      "cell_type": "code",
      "source": [
        "fig, ax = plt.subplots(1, 1, figsize = (10, 10))\n",
        "colors = plt.cm.Spectral(np.linspace(0, 1, 16))\n",
        "years = range(2013, 2023)\n",
        "category_df.plot(kind='bar', stacked=True, figsize=(10, 10), color=colors, edgecolor='black', ax = ax)\n",
        "ax.legend(bbox_to_anchor =(-0.10, 1)) # try to put legend outside\n",
        "plt.xlabel('Years (2013-2022)')\n",
        "plt.ylabel('Number of PFD reports')\n",
        "plt.xticks(ticks =range(10), labels = years, rotation=0) # try to label x axis\n",
        "plt.savefig('category_stacked.png', bbox_inches = 'tight')\n",
        "plt.show()"
      ],
      "metadata": {
        "id": "2AlWbMkjClCO"
      },
      "execution_count": null,
      "outputs": []
    },
    {
      "cell_type": "code",
      "source": [
        "display(year_list[0])"
      ],
      "metadata": {
        "id": "mEvJXdslA-IR"
      },
      "execution_count": null,
      "outputs": []
    },
    {
      "cell_type": "code",
      "source": [
        "display(category_df)"
      ],
      "metadata": {
        "id": "CFoLPKeiBkET"
      },
      "execution_count": null,
      "outputs": []
    },
    {
      "cell_type": "markdown",
      "source": [
        "now I plot the horizontal bar graph"
      ],
      "metadata": {
        "id": "bZ88-T0ZB_Db"
      }
    },
    {
      "cell_type": "code",
      "source": [
        "category = category_df.sum(axis=0)\n",
        "display(category)"
      ],
      "metadata": {
        "id": "uvBo2chlCTno"
      },
      "execution_count": null,
      "outputs": []
    },
    {
      "cell_type": "code",
      "source": [
        "category = pd.DataFrame(category, columns = ['count'])"
      ],
      "metadata": {
        "id": "M28EiWtmCtps"
      },
      "execution_count": null,
      "outputs": []
    },
    {
      "cell_type": "code",
      "source": [
        "category.reset_index(inplace = True)\n",
        "category.rename(columns = {'index': 'category'} , inplace = True)"
      ],
      "metadata": {
        "id": "CZnVDt3iC_WY"
      },
      "execution_count": null,
      "outputs": []
    },
    {
      "cell_type": "code",
      "source": [
        "category.loc[category['category']=='hospital', 'count'] = category.loc[category['category']=='hospital', 'count']*4"
      ],
      "metadata": {
        "id": "o34mKp0rDyoe"
      },
      "execution_count": null,
      "outputs": []
    },
    {
      "cell_type": "code",
      "source": [
        "display(category)"
      ],
      "metadata": {
        "id": "K8aZbqw4ETyZ"
      },
      "execution_count": null,
      "outputs": []
    },
    {
      "cell_type": "markdown",
      "source": [
        "Rename columns so they look nice"
      ],
      "metadata": {
        "id": "lB7mhtlqEg7U"
      }
    },
    {
      "cell_type": "code",
      "source": [
        "category.loc[category['category']=='Wales (2019 onwards)', 'category'] = 'Wales prevention of future deaths report (2019 onwards)'"
      ],
      "metadata": {
        "id": "73ejTMTpIhI4"
      },
      "execution_count": null,
      "outputs": []
    },
    {
      "cell_type": "code",
      "source": [
        "category.sort_values(by = 'count', ascending = False, inplace = True)\n",
        "category['count'] = category['count'].astype(int)\n",
        "display(category)"
      ],
      "metadata": {
        "id": "eumzLri3DZKV"
      },
      "execution_count": null,
      "outputs": []
    },
    {
      "cell_type": "code",
      "source": [
        "category.to_csv('PFDs_by_category_16.csv')"
      ],
      "metadata": {
        "id": "QnLguFGHH0sm"
      },
      "execution_count": null,
      "outputs": []
    },
    {
      "cell_type": "code",
      "source": [
        "category.loc[category['category']=='community health & emergency services', 'category'] = 'community health & emergency'\n",
        "category.loc[category['category']=='Wales prevention of future deaths report (2019 onwards)', 'category'] = 'Wales (2019 onwards)'"
      ],
      "metadata": {
        "id": "SO0vTtcfEk-B"
      },
      "execution_count": null,
      "outputs": []
    },
    {
      "cell_type": "code",
      "source": [
        "category.sort_values(by = 'count', ascending = True, inplace = True)"
      ],
      "metadata": {
        "id": "smDv2zNODQOC"
      },
      "execution_count": null,
      "outputs": []
    },
    {
      "cell_type": "code",
      "source": [
        "plt.figure(figsize=(10, 6))\n",
        "plt.barh(category['category'], category['count'])\n",
        "plt.xlabel('Number of related PFDs (2013-2022)')\n",
        "plt.ylabel('Death category')\n",
        "plt.savefig('PFDs_by_category_2022-06-22.png', bbox_inches = 'tight')\n",
        "plt.show()"
      ],
      "metadata": {
        "id": "Y5t_Wyz1DVwn"
      },
      "execution_count": null,
      "outputs": []
    },
    {
      "cell_type": "markdown",
      "source": [
        "#Make stacked bar chart for new categories"
      ],
      "metadata": {
        "id": "gwxAMTtXJmwz"
      }
    },
    {
      "cell_type": "code",
      "source": [
        "category_new_df = category_df[['suicide (2015 onwards)', 'Wales (2019 onwards)', 'emergency services (2019 onwards)', 'child (2015 onwards)']]\n",
        "category_new_df = category_new_df[2:]\n",
        "display(category_new_df)"
      ],
      "metadata": {
        "id": "krYJi34GK-fs"
      },
      "execution_count": null,
      "outputs": []
    },
    {
      "cell_type": "code",
      "source": [
        "years = range(2015, 2023)\n",
        "category_new_df.plot(kind='bar', stacked=True, figsize=(10, 10),  edgecolor='black')\n",
        "plt.legend(bbox_to_anchor =(0.45, 1)) # try to put legend outside\n",
        "plt.xlabel('Years (2015-2022)')\n",
        "plt.ylabel('Number of PFD reports')\n",
        "plt.xticks(ticks = range(8), labels = range(2015, 2023), rotation = 0) # try to label x axis\n",
        "plt.savefig('new_category_stacked.png', bbox_inches = 'tight')\n",
        "plt.show()"
      ],
      "metadata": {
        "id": "svoqj-5cLijr"
      },
      "execution_count": null,
      "outputs": []
    },
    {
      "cell_type": "markdown",
      "source": [
        "#Make bar chart of persistent categories"
      ],
      "metadata": {
        "id": "T2v-goDnOP0S"
      }
    },
    {
      "cell_type": "code",
      "source": [
        "print(category_df.columns)"
      ],
      "metadata": {
        "id": "EMQMqGc3OZDM"
      },
      "execution_count": null,
      "outputs": []
    },
    {
      "cell_type": "code",
      "source": [
        "category_old_df = category_df[['hospital', 'community health & emergency services', 'other', 'road',\n",
        "       'state custody', 'mental health', \n",
        "       'alcohol, drug & medication', 'police',\n",
        "       'accident at work, health & safety', \n",
        "       'care home', 'product', 'railway']]\n",
        "display(category_old_df)"
      ],
      "metadata": {
        "id": "KyrlohpwORiF"
      },
      "execution_count": null,
      "outputs": []
    },
    {
      "cell_type": "code",
      "source": [
        "years = range(2013, 2023)\n",
        "colors = plt.cm.Spectral(np.linspace(0, 1, 16))\n",
        "category_old_df.plot(kind='bar', stacked=True, figsize=(10, 10),  color = colors, edgecolor='black')\n",
        "plt.legend(bbox_to_anchor =(-0.10, 1)) # try to put legend outside\n",
        "plt.xlabel('Years (2013-2022)')\n",
        "plt.ylabel('Number of PFD reports')\n",
        "plt.xticks(ticks = range(10), labels = range(2013, 2023), rotation = 0) # try to label x axis\n",
        "plt.savefig('persistent_category_stacked.png', bbox_inches = 'tight')\n",
        "plt.show()"
      ],
      "metadata": {
        "id": "Hf0VljxlOqAU"
      },
      "execution_count": null,
      "outputs": []
    },
    {
      "cell_type": "markdown",
      "source": [
        "# Turn category_df into a table to show on website"
      ],
      "metadata": {
        "id": "HMYCChc5S83O"
      }
    },
    {
      "cell_type": "code",
      "source": [
        "display(category_df)"
      ],
      "metadata": {
        "id": "PfIQfOvCTN-P"
      },
      "execution_count": null,
      "outputs": []
    },
    {
      "cell_type": "code",
      "source": [
        "category_csv = category_df\n",
        "category_csv['hospital'] = category_csv['hospital']*4"
      ],
      "metadata": {
        "id": "1XxR63EKZLbo"
      },
      "execution_count": null,
      "outputs": []
    },
    {
      "cell_type": "code",
      "source": [
        "display(category_csv)"
      ],
      "metadata": {
        "id": "MxuCa539ZaEA"
      },
      "execution_count": null,
      "outputs": []
    },
    {
      "cell_type": "code",
      "source": [
        "category_csv.loc[10, :] = category_csv.sum(axis = 0)"
      ],
      "metadata": {
        "id": "8vYrHbWvZlSa"
      },
      "execution_count": null,
      "outputs": []
    },
    {
      "cell_type": "code",
      "source": [
        "category_csv['year totals'] = category_csv.sum(axis = 1)"
      ],
      "metadata": {
        "id": "rbYzct70aGTL"
      },
      "execution_count": null,
      "outputs": []
    },
    {
      "cell_type": "code",
      "source": [
        "display(category_csv)"
      ],
      "metadata": {
        "id": "ugnsA1k-aN2a"
      },
      "execution_count": null,
      "outputs": []
    },
    {
      "cell_type": "code",
      "source": [
        "category_csv['Year'] = [2013, 2014, 2015, 2016, 2017, 2018, 2019, 2020, 2021, 2022, 'Category totals']\n",
        "temp_cols=category_csv.columns.tolist()\n",
        "new_cols=temp_cols[-1:] + temp_cols[:-1]\n",
        "category_csv=category_csv[new_cols]"
      ],
      "metadata": {
        "id": "KdCHIPV7aV6j"
      },
      "execution_count": null,
      "outputs": []
    },
    {
      "cell_type": "code",
      "source": [
        "for col in category_csv.columns[1:]: \n",
        "  category_csv[col] = category_csv[col].astype(int)"
      ],
      "metadata": {
        "id": "n8huF_uMbkrf"
      },
      "execution_count": null,
      "outputs": []
    },
    {
      "cell_type": "code",
      "source": [
        "category_csv.to_csv('category_year.csv')"
      ],
      "metadata": {
        "id": "sOG10DTbbco0"
      },
      "execution_count": null,
      "outputs": []
    },
    {
      "cell_type": "markdown",
      "source": [
        "# Plot individual categories"
      ],
      "metadata": {
        "id": "RphHtHoVCQiK"
      }
    },
    {
      "cell_type": "code",
      "source": [
        "import pandas as pd\n",
        "import numpy as np\n",
        "import matplotlib.pyplot as plt"
      ],
      "metadata": {
        "id": "wTsJfnUvCSEW"
      },
      "execution_count": null,
      "outputs": []
    },
    {
      "cell_type": "code",
      "source": [
        "category = pd.read_csv('/content/category_year.csv')"
      ],
      "metadata": {
        "id": "hGeklixLCWNM"
      },
      "execution_count": null,
      "outputs": []
    },
    {
      "cell_type": "code",
      "source": [
        "display(category)"
      ],
      "metadata": {
        "id": "DMa8kAJBCpC0"
      },
      "execution_count": null,
      "outputs": []
    },
    {
      "cell_type": "code",
      "source": [
        "category_list = category.columns[2:len(category.columns)-1]"
      ],
      "metadata": {
        "id": "wK30RVshCtBH"
      },
      "execution_count": null,
      "outputs": []
    },
    {
      "cell_type": "code",
      "source": [
        "for cat in category_list: \n",
        "  plt.figure(figsize=(10, 6))\n",
        "  plt.bar(category['Year'][:10], category[cat][:10])\n",
        "  plt.xlabel('Years (2013-2022)')\n",
        "  plt.ylabel('Number of PFDs in {}'.format(str(cat)))\n",
        "  plt.savefig('pfd_{}.png'.format(str(cat)), bbox_inches = 'tight')\n",
        "  plt.show()"
      ],
      "metadata": {
        "id": "LUTvgy5MC29W"
      },
      "execution_count": null,
      "outputs": []
    }
  ]
}