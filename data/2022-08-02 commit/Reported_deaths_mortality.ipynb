{
  "nbformat": 4,
  "nbformat_minor": 0,
  "metadata": {
    "colab": {
      "name": "Reported deaths/mortality.ipynb",
      "provenance": []
    },
    "kernelspec": {
      "name": "python3",
      "display_name": "Python 3"
    },
    "language_info": {
      "name": "python"
    }
  },
  "cells": [
    {
      "cell_type": "markdown",
      "source": [
        "#It's better to run this ipynb file after \"report to PFD.ipynb\", because a lot of files are from there"
      ],
      "metadata": {
        "id": "r6Ed16jqgO2c"
      }
    },
    {
      "cell_type": "code",
      "execution_count": null,
      "metadata": {
        "id": "U8wCHNGINGv7"
      },
      "outputs": [],
      "source": [
        "import pandas as pd\n",
        "import numpy as np\n",
        "import matplotlib.pyplot as plt"
      ]
    },
    {
      "cell_type": "code",
      "source": [
        "mortality = pd.read_csv('/content/en_wa_pfd_pop.csv')"
      ],
      "metadata": {
        "id": "Jmfl8x4KNZom"
      },
      "execution_count": null,
      "outputs": []
    },
    {
      "cell_type": "code",
      "source": [
        "mortality['England PFD/population (100,000)'] = mortality['England PFD']/mortality['England population']*100000\n",
        "mortality['Wales PFD/population (100,000)'] = mortality['Wales PFD']/mortality['Wales population']*100000"
      ],
      "metadata": {
        "id": "zyi8-6mFcA_E"
      },
      "execution_count": null,
      "outputs": []
    },
    {
      "cell_type": "code",
      "source": [
        "print(mortality['England PFD/population (100,000)'].mean())"
      ],
      "metadata": {
        "colab": {
          "base_uri": "https://localhost:8080/"
        },
        "id": "YDqrGPTCcYZL",
        "outputId": "b4100e79-399e-4b7a-a081-675cea992b02"
      },
      "execution_count": null,
      "outputs": [
        {
          "output_type": "stream",
          "name": "stdout",
          "text": [
            "0.7707498263890803\n"
          ]
        }
      ]
    },
    {
      "cell_type": "code",
      "source": [
        "print(mortality['Wales PFD/population (100,000)'].mean())"
      ],
      "metadata": {
        "id": "jgXBSmJEcdNX",
        "outputId": "281a1dc1-e426-4ae1-f7fe-30a530f75a14",
        "colab": {
          "base_uri": "https://localhost:8080/"
        }
      },
      "execution_count": null,
      "outputs": [
        {
          "output_type": "stream",
          "name": "stdout",
          "text": [
            "0.6634169226694278\n"
          ]
        }
      ]
    },
    {
      "cell_type": "code",
      "source": [
        "display(mortality)"
      ],
      "metadata": {
        "colab": {
          "base_uri": "https://localhost:8080/",
          "height": 352
        },
        "id": "tWonfrUwN1rz",
        "outputId": "afec8a2c-061f-43f1-fc55-1b11e8635d50"
      },
      "execution_count": null,
      "outputs": [
        {
          "output_type": "display_data",
          "data": {
            "text/plain": [
              "   Unnamed: 0  Years  England PFD  England population  Wales PFD  \\\n",
              "0           0   2014          542            54316600         25   \n",
              "1           1   2015          408            54786300         26   \n",
              "2           2   2016          450            55268100         22   \n",
              "3           3   2017          417            55619400         23   \n",
              "4           4   2018          375            55977200         12   \n",
              "5           5   2019          501            56287000         25   \n",
              "6           6   2020          299            56550000         12   \n",
              "\n",
              "   Wales population  England preventable mortality  \\\n",
              "0           3092000                          147.6   \n",
              "1           3099100                          146.7   \n",
              "2           3113200                          145.8   \n",
              "3           3125200                          142.7   \n",
              "4           3138600                          143.5   \n",
              "5           3152900                          140.6   \n",
              "6           3170000                          175.4   \n",
              "\n",
              "   Wales preventable mortality  England preventable deaths  \\\n",
              "0                        162.0                  80171.3016   \n",
              "1                        169.7                  80371.5021   \n",
              "2                        173.5                  80580.8898   \n",
              "3                        167.5                  79368.8838   \n",
              "4                        168.7                  80327.2820   \n",
              "5                        162.7                  79139.5220   \n",
              "6                        189.8                  99188.7000   \n",
              "\n",
              "   Wales preventable deaths  England PFD ratio  Wales PFD ratio  \\\n",
              "0                 5009.0400           6.760524         4.990976   \n",
              "1                 5259.1727           5.076426         4.943743   \n",
              "2                 5401.4020           5.584451         4.073017   \n",
              "3                 5234.7100           5.253948         4.393749   \n",
              "4                 5294.8182           4.668401         2.266367   \n",
              "5                 5129.7683           6.330592         4.873514   \n",
              "6                 6016.6600           3.014456         1.994462   \n",
              "\n",
              "   England PFD/population (100,000)  Wales PFD/population (100,000)  \n",
              "0                          0.997853                        0.808538  \n",
              "1                          0.744712                        0.838953  \n",
              "2                          0.814213                        0.706668  \n",
              "3                          0.749738                        0.735953  \n",
              "4                          0.669916                        0.382336  \n",
              "5                          0.890081                        0.792921  \n",
              "6                          0.528736                        0.378549  "
            ],
            "text/html": [
              "\n",
              "  <div id=\"df-27649af8-05a8-4eab-9fc2-a5d1fa4b673a\">\n",
              "    <div class=\"colab-df-container\">\n",
              "      <div>\n",
              "<style scoped>\n",
              "    .dataframe tbody tr th:only-of-type {\n",
              "        vertical-align: middle;\n",
              "    }\n",
              "\n",
              "    .dataframe tbody tr th {\n",
              "        vertical-align: top;\n",
              "    }\n",
              "\n",
              "    .dataframe thead th {\n",
              "        text-align: right;\n",
              "    }\n",
              "</style>\n",
              "<table border=\"1\" class=\"dataframe\">\n",
              "  <thead>\n",
              "    <tr style=\"text-align: right;\">\n",
              "      <th></th>\n",
              "      <th>Unnamed: 0</th>\n",
              "      <th>Years</th>\n",
              "      <th>England PFD</th>\n",
              "      <th>England population</th>\n",
              "      <th>Wales PFD</th>\n",
              "      <th>Wales population</th>\n",
              "      <th>England preventable mortality</th>\n",
              "      <th>Wales preventable mortality</th>\n",
              "      <th>England preventable deaths</th>\n",
              "      <th>Wales preventable deaths</th>\n",
              "      <th>England PFD ratio</th>\n",
              "      <th>Wales PFD ratio</th>\n",
              "      <th>England PFD/population (100,000)</th>\n",
              "      <th>Wales PFD/population (100,000)</th>\n",
              "    </tr>\n",
              "  </thead>\n",
              "  <tbody>\n",
              "    <tr>\n",
              "      <th>0</th>\n",
              "      <td>0</td>\n",
              "      <td>2014</td>\n",
              "      <td>542</td>\n",
              "      <td>54316600</td>\n",
              "      <td>25</td>\n",
              "      <td>3092000</td>\n",
              "      <td>147.6</td>\n",
              "      <td>162.0</td>\n",
              "      <td>80171.3016</td>\n",
              "      <td>5009.0400</td>\n",
              "      <td>6.760524</td>\n",
              "      <td>4.990976</td>\n",
              "      <td>0.997853</td>\n",
              "      <td>0.808538</td>\n",
              "    </tr>\n",
              "    <tr>\n",
              "      <th>1</th>\n",
              "      <td>1</td>\n",
              "      <td>2015</td>\n",
              "      <td>408</td>\n",
              "      <td>54786300</td>\n",
              "      <td>26</td>\n",
              "      <td>3099100</td>\n",
              "      <td>146.7</td>\n",
              "      <td>169.7</td>\n",
              "      <td>80371.5021</td>\n",
              "      <td>5259.1727</td>\n",
              "      <td>5.076426</td>\n",
              "      <td>4.943743</td>\n",
              "      <td>0.744712</td>\n",
              "      <td>0.838953</td>\n",
              "    </tr>\n",
              "    <tr>\n",
              "      <th>2</th>\n",
              "      <td>2</td>\n",
              "      <td>2016</td>\n",
              "      <td>450</td>\n",
              "      <td>55268100</td>\n",
              "      <td>22</td>\n",
              "      <td>3113200</td>\n",
              "      <td>145.8</td>\n",
              "      <td>173.5</td>\n",
              "      <td>80580.8898</td>\n",
              "      <td>5401.4020</td>\n",
              "      <td>5.584451</td>\n",
              "      <td>4.073017</td>\n",
              "      <td>0.814213</td>\n",
              "      <td>0.706668</td>\n",
              "    </tr>\n",
              "    <tr>\n",
              "      <th>3</th>\n",
              "      <td>3</td>\n",
              "      <td>2017</td>\n",
              "      <td>417</td>\n",
              "      <td>55619400</td>\n",
              "      <td>23</td>\n",
              "      <td>3125200</td>\n",
              "      <td>142.7</td>\n",
              "      <td>167.5</td>\n",
              "      <td>79368.8838</td>\n",
              "      <td>5234.7100</td>\n",
              "      <td>5.253948</td>\n",
              "      <td>4.393749</td>\n",
              "      <td>0.749738</td>\n",
              "      <td>0.735953</td>\n",
              "    </tr>\n",
              "    <tr>\n",
              "      <th>4</th>\n",
              "      <td>4</td>\n",
              "      <td>2018</td>\n",
              "      <td>375</td>\n",
              "      <td>55977200</td>\n",
              "      <td>12</td>\n",
              "      <td>3138600</td>\n",
              "      <td>143.5</td>\n",
              "      <td>168.7</td>\n",
              "      <td>80327.2820</td>\n",
              "      <td>5294.8182</td>\n",
              "      <td>4.668401</td>\n",
              "      <td>2.266367</td>\n",
              "      <td>0.669916</td>\n",
              "      <td>0.382336</td>\n",
              "    </tr>\n",
              "    <tr>\n",
              "      <th>5</th>\n",
              "      <td>5</td>\n",
              "      <td>2019</td>\n",
              "      <td>501</td>\n",
              "      <td>56287000</td>\n",
              "      <td>25</td>\n",
              "      <td>3152900</td>\n",
              "      <td>140.6</td>\n",
              "      <td>162.7</td>\n",
              "      <td>79139.5220</td>\n",
              "      <td>5129.7683</td>\n",
              "      <td>6.330592</td>\n",
              "      <td>4.873514</td>\n",
              "      <td>0.890081</td>\n",
              "      <td>0.792921</td>\n",
              "    </tr>\n",
              "    <tr>\n",
              "      <th>6</th>\n",
              "      <td>6</td>\n",
              "      <td>2020</td>\n",
              "      <td>299</td>\n",
              "      <td>56550000</td>\n",
              "      <td>12</td>\n",
              "      <td>3170000</td>\n",
              "      <td>175.4</td>\n",
              "      <td>189.8</td>\n",
              "      <td>99188.7000</td>\n",
              "      <td>6016.6600</td>\n",
              "      <td>3.014456</td>\n",
              "      <td>1.994462</td>\n",
              "      <td>0.528736</td>\n",
              "      <td>0.378549</td>\n",
              "    </tr>\n",
              "  </tbody>\n",
              "</table>\n",
              "</div>\n",
              "      <button class=\"colab-df-convert\" onclick=\"convertToInteractive('df-27649af8-05a8-4eab-9fc2-a5d1fa4b673a')\"\n",
              "              title=\"Convert this dataframe to an interactive table.\"\n",
              "              style=\"display:none;\">\n",
              "        \n",
              "  <svg xmlns=\"http://www.w3.org/2000/svg\" height=\"24px\"viewBox=\"0 0 24 24\"\n",
              "       width=\"24px\">\n",
              "    <path d=\"M0 0h24v24H0V0z\" fill=\"none\"/>\n",
              "    <path d=\"M18.56 5.44l.94 2.06.94-2.06 2.06-.94-2.06-.94-.94-2.06-.94 2.06-2.06.94zm-11 1L8.5 8.5l.94-2.06 2.06-.94-2.06-.94L8.5 2.5l-.94 2.06-2.06.94zm10 10l.94 2.06.94-2.06 2.06-.94-2.06-.94-.94-2.06-.94 2.06-2.06.94z\"/><path d=\"M17.41 7.96l-1.37-1.37c-.4-.4-.92-.59-1.43-.59-.52 0-1.04.2-1.43.59L10.3 9.45l-7.72 7.72c-.78.78-.78 2.05 0 2.83L4 21.41c.39.39.9.59 1.41.59.51 0 1.02-.2 1.41-.59l7.78-7.78 2.81-2.81c.8-.78.8-2.07 0-2.86zM5.41 20L4 18.59l7.72-7.72 1.47 1.35L5.41 20z\"/>\n",
              "  </svg>\n",
              "      </button>\n",
              "      \n",
              "  <style>\n",
              "    .colab-df-container {\n",
              "      display:flex;\n",
              "      flex-wrap:wrap;\n",
              "      gap: 12px;\n",
              "    }\n",
              "\n",
              "    .colab-df-convert {\n",
              "      background-color: #E8F0FE;\n",
              "      border: none;\n",
              "      border-radius: 50%;\n",
              "      cursor: pointer;\n",
              "      display: none;\n",
              "      fill: #1967D2;\n",
              "      height: 32px;\n",
              "      padding: 0 0 0 0;\n",
              "      width: 32px;\n",
              "    }\n",
              "\n",
              "    .colab-df-convert:hover {\n",
              "      background-color: #E2EBFA;\n",
              "      box-shadow: 0px 1px 2px rgba(60, 64, 67, 0.3), 0px 1px 3px 1px rgba(60, 64, 67, 0.15);\n",
              "      fill: #174EA6;\n",
              "    }\n",
              "\n",
              "    [theme=dark] .colab-df-convert {\n",
              "      background-color: #3B4455;\n",
              "      fill: #D2E3FC;\n",
              "    }\n",
              "\n",
              "    [theme=dark] .colab-df-convert:hover {\n",
              "      background-color: #434B5C;\n",
              "      box-shadow: 0px 1px 3px 1px rgba(0, 0, 0, 0.15);\n",
              "      filter: drop-shadow(0px 1px 2px rgba(0, 0, 0, 0.3));\n",
              "      fill: #FFFFFF;\n",
              "    }\n",
              "  </style>\n",
              "\n",
              "      <script>\n",
              "        const buttonEl =\n",
              "          document.querySelector('#df-27649af8-05a8-4eab-9fc2-a5d1fa4b673a button.colab-df-convert');\n",
              "        buttonEl.style.display =\n",
              "          google.colab.kernel.accessAllowed ? 'block' : 'none';\n",
              "\n",
              "        async function convertToInteractive(key) {\n",
              "          const element = document.querySelector('#df-27649af8-05a8-4eab-9fc2-a5d1fa4b673a');\n",
              "          const dataTable =\n",
              "            await google.colab.kernel.invokeFunction('convertToInteractive',\n",
              "                                                     [key], {});\n",
              "          if (!dataTable) return;\n",
              "\n",
              "          const docLinkHtml = 'Like what you see? Visit the ' +\n",
              "            '<a target=\"_blank\" href=https://colab.research.google.com/notebooks/data_table.ipynb>data table notebook</a>'\n",
              "            + ' to learn more about interactive tables.';\n",
              "          element.innerHTML = '';\n",
              "          dataTable['output_type'] = 'display_data';\n",
              "          await google.colab.output.renderOutput(dataTable, element);\n",
              "          const docLink = document.createElement('div');\n",
              "          docLink.innerHTML = docLinkHtml;\n",
              "          element.appendChild(docLink);\n",
              "        }\n",
              "      </script>\n",
              "    </div>\n",
              "  </div>\n",
              "  "
            ]
          },
          "metadata": {}
        }
      ]
    },
    {
      "cell_type": "code",
      "source": [
        "mor = mortality[['England preventable deaths', 'Wales preventable deaths']]"
      ],
      "metadata": {
        "id": "gbarnJcMPCK0"
      },
      "execution_count": null,
      "outputs": []
    },
    {
      "cell_type": "code",
      "source": [
        "report = pd.read_csv('/content/report_per_deaths_eng_wa.csv')"
      ],
      "metadata": {
        "id": "CimVU42iPaYB"
      },
      "execution_count": null,
      "outputs": []
    },
    {
      "cell_type": "code",
      "source": [
        "display(report)"
      ],
      "metadata": {
        "colab": {
          "base_uri": "https://localhost:8080/",
          "height": 352
        },
        "id": "3DkOOINQPudc",
        "outputId": "c06323b6-b1f1-4c99-f42a-a7bc995a0583"
      },
      "execution_count": null,
      "outputs": [
        {
          "output_type": "display_data",
          "data": {
            "text/plain": [
              "   Unnamed: 0  Year  Wales Population  Wales reported deaths  \\\n",
              "0           0  2014           3092000                  14200   \n",
              "1           1  2015           3099100                  14232   \n",
              "2           2  2016           3113200                  14302   \n",
              "3           3  2017           3125200                  14317   \n",
              "4           4  2018           3138600                  13891   \n",
              "5           5  2019           3152900                  13306   \n",
              "6           6  2020           3170000                  13422   \n",
              "\n",
              "   England Population  England reported deaths  Wales report/1000  \\\n",
              "0            54316600                   209641           4.592497   \n",
              "1            54786300                   222174           4.592301   \n",
              "2            55268100                   226909           4.593987   \n",
              "3            55619400                   215469           4.581147   \n",
              "4            55977200                   206757           4.425859   \n",
              "5            56287000                   197606           4.220242   \n",
              "6            56550000                   192016           4.234069   \n",
              "\n",
              "   England report/1000  \n",
              "0             3.859612  \n",
              "1             4.055284  \n",
              "2             4.105605  \n",
              "3             3.873990  \n",
              "4             3.693593  \n",
              "5             3.510686  \n",
              "6             3.395508  "
            ],
            "text/html": [
              "\n",
              "  <div id=\"df-a75c7d23-33b2-4fb5-b81b-cb21d6661a7e\">\n",
              "    <div class=\"colab-df-container\">\n",
              "      <div>\n",
              "<style scoped>\n",
              "    .dataframe tbody tr th:only-of-type {\n",
              "        vertical-align: middle;\n",
              "    }\n",
              "\n",
              "    .dataframe tbody tr th {\n",
              "        vertical-align: top;\n",
              "    }\n",
              "\n",
              "    .dataframe thead th {\n",
              "        text-align: right;\n",
              "    }\n",
              "</style>\n",
              "<table border=\"1\" class=\"dataframe\">\n",
              "  <thead>\n",
              "    <tr style=\"text-align: right;\">\n",
              "      <th></th>\n",
              "      <th>Unnamed: 0</th>\n",
              "      <th>Year</th>\n",
              "      <th>Wales Population</th>\n",
              "      <th>Wales reported deaths</th>\n",
              "      <th>England Population</th>\n",
              "      <th>England reported deaths</th>\n",
              "      <th>Wales report/1000</th>\n",
              "      <th>England report/1000</th>\n",
              "    </tr>\n",
              "  </thead>\n",
              "  <tbody>\n",
              "    <tr>\n",
              "      <th>0</th>\n",
              "      <td>0</td>\n",
              "      <td>2014</td>\n",
              "      <td>3092000</td>\n",
              "      <td>14200</td>\n",
              "      <td>54316600</td>\n",
              "      <td>209641</td>\n",
              "      <td>4.592497</td>\n",
              "      <td>3.859612</td>\n",
              "    </tr>\n",
              "    <tr>\n",
              "      <th>1</th>\n",
              "      <td>1</td>\n",
              "      <td>2015</td>\n",
              "      <td>3099100</td>\n",
              "      <td>14232</td>\n",
              "      <td>54786300</td>\n",
              "      <td>222174</td>\n",
              "      <td>4.592301</td>\n",
              "      <td>4.055284</td>\n",
              "    </tr>\n",
              "    <tr>\n",
              "      <th>2</th>\n",
              "      <td>2</td>\n",
              "      <td>2016</td>\n",
              "      <td>3113200</td>\n",
              "      <td>14302</td>\n",
              "      <td>55268100</td>\n",
              "      <td>226909</td>\n",
              "      <td>4.593987</td>\n",
              "      <td>4.105605</td>\n",
              "    </tr>\n",
              "    <tr>\n",
              "      <th>3</th>\n",
              "      <td>3</td>\n",
              "      <td>2017</td>\n",
              "      <td>3125200</td>\n",
              "      <td>14317</td>\n",
              "      <td>55619400</td>\n",
              "      <td>215469</td>\n",
              "      <td>4.581147</td>\n",
              "      <td>3.873990</td>\n",
              "    </tr>\n",
              "    <tr>\n",
              "      <th>4</th>\n",
              "      <td>4</td>\n",
              "      <td>2018</td>\n",
              "      <td>3138600</td>\n",
              "      <td>13891</td>\n",
              "      <td>55977200</td>\n",
              "      <td>206757</td>\n",
              "      <td>4.425859</td>\n",
              "      <td>3.693593</td>\n",
              "    </tr>\n",
              "    <tr>\n",
              "      <th>5</th>\n",
              "      <td>5</td>\n",
              "      <td>2019</td>\n",
              "      <td>3152900</td>\n",
              "      <td>13306</td>\n",
              "      <td>56287000</td>\n",
              "      <td>197606</td>\n",
              "      <td>4.220242</td>\n",
              "      <td>3.510686</td>\n",
              "    </tr>\n",
              "    <tr>\n",
              "      <th>6</th>\n",
              "      <td>6</td>\n",
              "      <td>2020</td>\n",
              "      <td>3170000</td>\n",
              "      <td>13422</td>\n",
              "      <td>56550000</td>\n",
              "      <td>192016</td>\n",
              "      <td>4.234069</td>\n",
              "      <td>3.395508</td>\n",
              "    </tr>\n",
              "  </tbody>\n",
              "</table>\n",
              "</div>\n",
              "      <button class=\"colab-df-convert\" onclick=\"convertToInteractive('df-a75c7d23-33b2-4fb5-b81b-cb21d6661a7e')\"\n",
              "              title=\"Convert this dataframe to an interactive table.\"\n",
              "              style=\"display:none;\">\n",
              "        \n",
              "  <svg xmlns=\"http://www.w3.org/2000/svg\" height=\"24px\"viewBox=\"0 0 24 24\"\n",
              "       width=\"24px\">\n",
              "    <path d=\"M0 0h24v24H0V0z\" fill=\"none\"/>\n",
              "    <path d=\"M18.56 5.44l.94 2.06.94-2.06 2.06-.94-2.06-.94-.94-2.06-.94 2.06-2.06.94zm-11 1L8.5 8.5l.94-2.06 2.06-.94-2.06-.94L8.5 2.5l-.94 2.06-2.06.94zm10 10l.94 2.06.94-2.06 2.06-.94-2.06-.94-.94-2.06-.94 2.06-2.06.94z\"/><path d=\"M17.41 7.96l-1.37-1.37c-.4-.4-.92-.59-1.43-.59-.52 0-1.04.2-1.43.59L10.3 9.45l-7.72 7.72c-.78.78-.78 2.05 0 2.83L4 21.41c.39.39.9.59 1.41.59.51 0 1.02-.2 1.41-.59l7.78-7.78 2.81-2.81c.8-.78.8-2.07 0-2.86zM5.41 20L4 18.59l7.72-7.72 1.47 1.35L5.41 20z\"/>\n",
              "  </svg>\n",
              "      </button>\n",
              "      \n",
              "  <style>\n",
              "    .colab-df-container {\n",
              "      display:flex;\n",
              "      flex-wrap:wrap;\n",
              "      gap: 12px;\n",
              "    }\n",
              "\n",
              "    .colab-df-convert {\n",
              "      background-color: #E8F0FE;\n",
              "      border: none;\n",
              "      border-radius: 50%;\n",
              "      cursor: pointer;\n",
              "      display: none;\n",
              "      fill: #1967D2;\n",
              "      height: 32px;\n",
              "      padding: 0 0 0 0;\n",
              "      width: 32px;\n",
              "    }\n",
              "\n",
              "    .colab-df-convert:hover {\n",
              "      background-color: #E2EBFA;\n",
              "      box-shadow: 0px 1px 2px rgba(60, 64, 67, 0.3), 0px 1px 3px 1px rgba(60, 64, 67, 0.15);\n",
              "      fill: #174EA6;\n",
              "    }\n",
              "\n",
              "    [theme=dark] .colab-df-convert {\n",
              "      background-color: #3B4455;\n",
              "      fill: #D2E3FC;\n",
              "    }\n",
              "\n",
              "    [theme=dark] .colab-df-convert:hover {\n",
              "      background-color: #434B5C;\n",
              "      box-shadow: 0px 1px 3px 1px rgba(0, 0, 0, 0.15);\n",
              "      filter: drop-shadow(0px 1px 2px rgba(0, 0, 0, 0.3));\n",
              "      fill: #FFFFFF;\n",
              "    }\n",
              "  </style>\n",
              "\n",
              "      <script>\n",
              "        const buttonEl =\n",
              "          document.querySelector('#df-a75c7d23-33b2-4fb5-b81b-cb21d6661a7e button.colab-df-convert');\n",
              "        buttonEl.style.display =\n",
              "          google.colab.kernel.accessAllowed ? 'block' : 'none';\n",
              "\n",
              "        async function convertToInteractive(key) {\n",
              "          const element = document.querySelector('#df-a75c7d23-33b2-4fb5-b81b-cb21d6661a7e');\n",
              "          const dataTable =\n",
              "            await google.colab.kernel.invokeFunction('convertToInteractive',\n",
              "                                                     [key], {});\n",
              "          if (!dataTable) return;\n",
              "\n",
              "          const docLinkHtml = 'Like what you see? Visit the ' +\n",
              "            '<a target=\"_blank\" href=https://colab.research.google.com/notebooks/data_table.ipynb>data table notebook</a>'\n",
              "            + ' to learn more about interactive tables.';\n",
              "          element.innerHTML = '';\n",
              "          dataTable['output_type'] = 'display_data';\n",
              "          await google.colab.output.renderOutput(dataTable, element);\n",
              "          const docLink = document.createElement('div');\n",
              "          docLink.innerHTML = docLinkHtml;\n",
              "          element.appendChild(docLink);\n",
              "        }\n",
              "      </script>\n",
              "    </div>\n",
              "  </div>\n",
              "  "
            ]
          },
          "metadata": {}
        }
      ]
    },
    {
      "cell_type": "code",
      "source": [
        "mor['Wales reported deaths'] = report['Wales reported deaths']\n",
        "mor['England reported deaths'] = report['England reported deaths']"
      ],
      "metadata": {
        "colab": {
          "base_uri": "https://localhost:8080/"
        },
        "id": "WJJ_eYkJPyRX",
        "outputId": "4f0d2bdc-eea8-4a03-bfcc-2a3a510f200e"
      },
      "execution_count": null,
      "outputs": [
        {
          "output_type": "stream",
          "name": "stderr",
          "text": [
            "/usr/local/lib/python3.7/dist-packages/ipykernel_launcher.py:1: SettingWithCopyWarning: \n",
            "A value is trying to be set on a copy of a slice from a DataFrame.\n",
            "Try using .loc[row_indexer,col_indexer] = value instead\n",
            "\n",
            "See the caveats in the documentation: https://pandas.pydata.org/pandas-docs/stable/user_guide/indexing.html#returning-a-view-versus-a-copy\n",
            "  \"\"\"Entry point for launching an IPython kernel.\n",
            "/usr/local/lib/python3.7/dist-packages/ipykernel_launcher.py:2: SettingWithCopyWarning: \n",
            "A value is trying to be set on a copy of a slice from a DataFrame.\n",
            "Try using .loc[row_indexer,col_indexer] = value instead\n",
            "\n",
            "See the caveats in the documentation: https://pandas.pydata.org/pandas-docs/stable/user_guide/indexing.html#returning-a-view-versus-a-copy\n",
            "  \n"
          ]
        }
      ]
    },
    {
      "cell_type": "code",
      "source": [
        "mor['Wales reported/deaths'] = mor['Wales reported deaths']/mor['Wales preventable deaths']\n"
      ],
      "metadata": {
        "id": "vjF0HgO6QUjr",
        "colab": {
          "base_uri": "https://localhost:8080/"
        },
        "outputId": "5a05b1b7-48ef-4e5f-e78b-5e99658c19bb"
      },
      "execution_count": null,
      "outputs": [
        {
          "output_type": "stream",
          "name": "stderr",
          "text": [
            "/usr/local/lib/python3.7/dist-packages/ipykernel_launcher.py:1: SettingWithCopyWarning: \n",
            "A value is trying to be set on a copy of a slice from a DataFrame.\n",
            "Try using .loc[row_indexer,col_indexer] = value instead\n",
            "\n",
            "See the caveats in the documentation: https://pandas.pydata.org/pandas-docs/stable/user_guide/indexing.html#returning-a-view-versus-a-copy\n",
            "  \"\"\"Entry point for launching an IPython kernel.\n"
          ]
        }
      ]
    },
    {
      "cell_type": "markdown",
      "source": [
        "#ONS publish this data year by year. Fastest method is actually just to open up the 7 years of data and copy-paste"
      ],
      "metadata": {
        "id": "n1FG9wcg45WD"
      }
    },
    {
      "cell_type": "code",
      "source": [
        "deaths = pd.read_excel('/content/England and Wales mortality.xlsx', index_col = 0)"
      ],
      "metadata": {
        "id": "IxrTUjLz4gdx"
      },
      "execution_count": null,
      "outputs": []
    },
    {
      "cell_type": "code",
      "source": [
        "england = pd.DataFrame()\n",
        "england_wales = pd.DataFrame()\n",
        "for i in deaths.index: \n",
        "  if round(i) != i: \n",
        "    england_wales = england_wales.append(deaths.loc[i, :])\n",
        "  else: \n",
        "    england = england.append(deaths.loc[i, :])"
      ],
      "metadata": {
        "id": "7clVfCEI77ok"
      },
      "execution_count": null,
      "outputs": []
    },
    {
      "cell_type": "code",
      "source": [
        "years = {}\n",
        "for i in range(2020, 2013, -1): \n",
        "  years[i+0.5]=i"
      ],
      "metadata": {
        "id": "QNyhdq0l_xwu"
      },
      "execution_count": null,
      "outputs": []
    },
    {
      "cell_type": "code",
      "source": [
        "england_wales.rename(index = years, inplace = True)"
      ],
      "metadata": {
        "id": "fTlmNloiBrlU"
      },
      "execution_count": null,
      "outputs": []
    },
    {
      "cell_type": "code",
      "source": [
        "england = england.astype(int)\n",
        "england_wales = england_wales.astype(int)"
      ],
      "metadata": {
        "id": "KEAmCdjNAgk5"
      },
      "execution_count": null,
      "outputs": []
    },
    {
      "cell_type": "code",
      "source": [
        "england['England mortality'] = england.sum(axis = 1)\n",
        "england_wales['England Wales mortality'] = england_wales.sum(axis = 1)"
      ],
      "metadata": {
        "id": "u8fY6CC_AHl0"
      },
      "execution_count": null,
      "outputs": []
    },
    {
      "cell_type": "code",
      "source": [
        "england.reset_index(inplace = True)\n",
        "england_wales.reset_index(inplace = True)\n",
        "england.rename(columns = {'index': 'Year'}, inplace = True)\n",
        "england_wales.rename(columns = {'index': 'Year'}, inplace = True)"
      ],
      "metadata": {
        "id": "mFDGMP1UBG24"
      },
      "execution_count": null,
      "outputs": []
    },
    {
      "cell_type": "code",
      "source": [
        "england = england[['Year', 'England mortality']]\n",
        "england_wales = england_wales[['Year', 'England Wales mortality']]"
      ],
      "metadata": {
        "id": "iwZNyMg3Bbd6"
      },
      "execution_count": null,
      "outputs": []
    },
    {
      "cell_type": "code",
      "source": [
        "england['Year'] = england['Year'].astype(int)"
      ],
      "metadata": {
        "id": "DafdHCF5B40K"
      },
      "execution_count": null,
      "outputs": []
    },
    {
      "cell_type": "code",
      "source": [
        "england_wales['England mortality'] = england['England mortality']\n",
        "england_wales['Wales mortality'] = england_wales['England Wales mortality'] - england_wales['England mortality']"
      ],
      "metadata": {
        "id": "FE414d6QB-gd"
      },
      "execution_count": null,
      "outputs": []
    },
    {
      "cell_type": "code",
      "source": [
        "england_wales.sort_values(ascending = True, by = 'Year', inplace = True)"
      ],
      "metadata": {
        "id": "PTjzpEAFCOOs"
      },
      "execution_count": null,
      "outputs": []
    },
    {
      "cell_type": "code",
      "source": [
        "england_wales['England reported deaths'] = mor['England reported deaths']\n",
        "england_wales['Wales reported deaths'] = mor['Wales reported deaths']"
      ],
      "metadata": {
        "id": "fzlQ2UaCCU1P"
      },
      "execution_count": null,
      "outputs": []
    },
    {
      "cell_type": "code",
      "source": [
        "england_wales['England report/mortality'] = england_wales['England reported deaths']/england_wales['England mortality']\n",
        "england_wales['Wales report/mortality'] = england_wales['Wales reported deaths']/england_wales['Wales mortality']"
      ],
      "metadata": {
        "id": "VqOrnBgyAD9X"
      },
      "execution_count": null,
      "outputs": []
    },
    {
      "cell_type": "code",
      "source": [
        "england_wales['Wales Population'] = report['Wales Population']\n",
        "england_wales['England Population'] = report['England Population']"
      ],
      "metadata": {
        "id": "50GTliIIGEjs"
      },
      "execution_count": null,
      "outputs": []
    },
    {
      "cell_type": "code",
      "source": [
        "england_wales['England mortality rate'] = england_wales['England mortality']/england_wales['England Population']\n",
        "england_wales['Wales mortality rate'] = england_wales['Wales mortality']/england_wales['Wales Population']"
      ],
      "metadata": {
        "id": "kmG61nDCGTcS"
      },
      "execution_count": null,
      "outputs": []
    },
    {
      "cell_type": "markdown",
      "source": [
        "# Preventable deaths/reported deaths"
      ],
      "metadata": {
        "id": "kx70S_T6GwXE"
      }
    },
    {
      "cell_type": "code",
      "source": [
        "print(mortality.columns)"
      ],
      "metadata": {
        "colab": {
          "base_uri": "https://localhost:8080/"
        },
        "id": "BPxVB8MjHO10",
        "outputId": "4ae822a6-5190-4a94-b41b-cdd395191962"
      },
      "execution_count": null,
      "outputs": [
        {
          "output_type": "stream",
          "name": "stdout",
          "text": [
            "Index(['Unnamed: 0', 'Years', 'England PFD', 'England population', 'Wales PFD',\n",
            "       'Wales population', 'England preventable mortality',\n",
            "       'Wales preventable mortality', 'England preventable deaths',\n",
            "       'Wales preventable deaths', 'England PFD ratio', 'Wales PFD ratio',\n",
            "       'England PFD/population (100,000)', 'Wales PFD/population (100,000)'],\n",
            "      dtype='object')\n"
          ]
        }
      ]
    },
    {
      "cell_type": "code",
      "source": [
        "england_wales['England preventable deaths'] = mortality['England preventable deaths']\n",
        "england_wales['Wales preventable deaths'] = mortality['Wales preventable deaths']"
      ],
      "metadata": {
        "id": "MdBDfHTWGyB_"
      },
      "execution_count": null,
      "outputs": []
    },
    {
      "cell_type": "code",
      "source": [
        "england_wales['England preventable/deaths'] =england_wales['England preventable deaths']/england_wales['England mortality']\n",
        "england_wales['Wales preventable/deaths'] =england_wales['Wales preventable deaths']/england_wales['Wales mortality']"
      ],
      "metadata": {
        "id": "KTswNQxnHkxT"
      },
      "execution_count": null,
      "outputs": []
    },
    {
      "cell_type": "code",
      "source": [
        "england_wales.rename(columns = {'England Wales mortality': 'England Wales deaths', 'England mortality': 'England deaths', 'Wales mortality': 'Wales deaths'}, inplace = True)"
      ],
      "metadata": {
        "id": "GrcgX0XZIRaU"
      },
      "execution_count": null,
      "outputs": []
    },
    {
      "cell_type": "code",
      "source": [
        "display(england_wales)"
      ],
      "metadata": {
        "colab": {
          "base_uri": "https://localhost:8080/",
          "height": 352
        },
        "id": "qlBbB6mB9HQ5",
        "outputId": "aebcda51-d2f6-4a26-a40e-de1248d7ead1"
      },
      "execution_count": null,
      "outputs": [
        {
          "output_type": "display_data",
          "data": {
            "text/plain": [
              "   Year  England Wales deaths  England deaths  Wales deaths  \\\n",
              "6  2014                500314          468875         31439   \n",
              "5  2015                528507          495309         33198   \n",
              "4  2016                523857          490791         33066   \n",
              "3  2017                532130          498882         33248   \n",
              "2  2018                540265          505859         34406   \n",
              "1  2019                529553          496370         33183   \n",
              "0  2020                607099          569700         37399   \n",
              "\n",
              "   England reported deaths  Wales reported deaths  England report/mortality  \\\n",
              "6                   192016                  13422                  0.409525   \n",
              "5                   197606                  13306                  0.398955   \n",
              "4                   206757                  13891                  0.421273   \n",
              "3                   215469                  14317                  0.431904   \n",
              "2                   226909                  14302                  0.448562   \n",
              "1                   222174                  14232                  0.447598   \n",
              "0                   209641                  14200                  0.367985   \n",
              "\n",
              "   Wales report/mortality  Wales Population  England Population  \\\n",
              "6                0.426922           3170000            56550000   \n",
              "5                0.400807           3152900            56287000   \n",
              "4                0.420099           3138600            55977200   \n",
              "3                0.430612           3125200            55619400   \n",
              "2                0.415683           3113200            55268100   \n",
              "1                0.428894           3099100            54786300   \n",
              "0                0.379689           3092000            54316600   \n",
              "\n",
              "   England mortality rate  Wales mortality rate  England preventable deaths  \\\n",
              "6                0.008291              0.009918                  99188.7000   \n",
              "5                0.008800              0.010529                  79139.5220   \n",
              "4                0.008768              0.010535                  80327.2820   \n",
              "3                0.008970              0.010639                  79368.8838   \n",
              "2                0.009153              0.011052                  80580.8898   \n",
              "1                0.009060              0.010707                  80371.5021   \n",
              "0                0.010489              0.012095                  80171.3016   \n",
              "\n",
              "   Wales preventable deaths  England preventable/deaths  \\\n",
              "6                 6016.6600                    0.211546   \n",
              "5                 5129.7683                    0.159778   \n",
              "4                 5294.8182                    0.163669   \n",
              "3                 5234.7100                    0.159094   \n",
              "2                 5401.4020                    0.159295   \n",
              "1                 5259.1727                    0.161919   \n",
              "0                 5009.0400                    0.140725   \n",
              "\n",
              "   Wales preventable/deaths  \n",
              "6                  0.191376  \n",
              "5                  0.154520  \n",
              "4                  0.160129  \n",
              "3                  0.157444  \n",
              "2                  0.156990  \n",
              "1                  0.158490  \n",
              "0                  0.133935  "
            ],
            "text/html": [
              "\n",
              "  <div id=\"df-9f270ce7-9c32-47c4-a7e9-bda951d39708\">\n",
              "    <div class=\"colab-df-container\">\n",
              "      <div>\n",
              "<style scoped>\n",
              "    .dataframe tbody tr th:only-of-type {\n",
              "        vertical-align: middle;\n",
              "    }\n",
              "\n",
              "    .dataframe tbody tr th {\n",
              "        vertical-align: top;\n",
              "    }\n",
              "\n",
              "    .dataframe thead th {\n",
              "        text-align: right;\n",
              "    }\n",
              "</style>\n",
              "<table border=\"1\" class=\"dataframe\">\n",
              "  <thead>\n",
              "    <tr style=\"text-align: right;\">\n",
              "      <th></th>\n",
              "      <th>Year</th>\n",
              "      <th>England Wales deaths</th>\n",
              "      <th>England deaths</th>\n",
              "      <th>Wales deaths</th>\n",
              "      <th>England reported deaths</th>\n",
              "      <th>Wales reported deaths</th>\n",
              "      <th>England report/mortality</th>\n",
              "      <th>Wales report/mortality</th>\n",
              "      <th>Wales Population</th>\n",
              "      <th>England Population</th>\n",
              "      <th>England mortality rate</th>\n",
              "      <th>Wales mortality rate</th>\n",
              "      <th>England preventable deaths</th>\n",
              "      <th>Wales preventable deaths</th>\n",
              "      <th>England preventable/deaths</th>\n",
              "      <th>Wales preventable/deaths</th>\n",
              "    </tr>\n",
              "  </thead>\n",
              "  <tbody>\n",
              "    <tr>\n",
              "      <th>6</th>\n",
              "      <td>2014</td>\n",
              "      <td>500314</td>\n",
              "      <td>468875</td>\n",
              "      <td>31439</td>\n",
              "      <td>192016</td>\n",
              "      <td>13422</td>\n",
              "      <td>0.409525</td>\n",
              "      <td>0.426922</td>\n",
              "      <td>3170000</td>\n",
              "      <td>56550000</td>\n",
              "      <td>0.008291</td>\n",
              "      <td>0.009918</td>\n",
              "      <td>99188.7000</td>\n",
              "      <td>6016.6600</td>\n",
              "      <td>0.211546</td>\n",
              "      <td>0.191376</td>\n",
              "    </tr>\n",
              "    <tr>\n",
              "      <th>5</th>\n",
              "      <td>2015</td>\n",
              "      <td>528507</td>\n",
              "      <td>495309</td>\n",
              "      <td>33198</td>\n",
              "      <td>197606</td>\n",
              "      <td>13306</td>\n",
              "      <td>0.398955</td>\n",
              "      <td>0.400807</td>\n",
              "      <td>3152900</td>\n",
              "      <td>56287000</td>\n",
              "      <td>0.008800</td>\n",
              "      <td>0.010529</td>\n",
              "      <td>79139.5220</td>\n",
              "      <td>5129.7683</td>\n",
              "      <td>0.159778</td>\n",
              "      <td>0.154520</td>\n",
              "    </tr>\n",
              "    <tr>\n",
              "      <th>4</th>\n",
              "      <td>2016</td>\n",
              "      <td>523857</td>\n",
              "      <td>490791</td>\n",
              "      <td>33066</td>\n",
              "      <td>206757</td>\n",
              "      <td>13891</td>\n",
              "      <td>0.421273</td>\n",
              "      <td>0.420099</td>\n",
              "      <td>3138600</td>\n",
              "      <td>55977200</td>\n",
              "      <td>0.008768</td>\n",
              "      <td>0.010535</td>\n",
              "      <td>80327.2820</td>\n",
              "      <td>5294.8182</td>\n",
              "      <td>0.163669</td>\n",
              "      <td>0.160129</td>\n",
              "    </tr>\n",
              "    <tr>\n",
              "      <th>3</th>\n",
              "      <td>2017</td>\n",
              "      <td>532130</td>\n",
              "      <td>498882</td>\n",
              "      <td>33248</td>\n",
              "      <td>215469</td>\n",
              "      <td>14317</td>\n",
              "      <td>0.431904</td>\n",
              "      <td>0.430612</td>\n",
              "      <td>3125200</td>\n",
              "      <td>55619400</td>\n",
              "      <td>0.008970</td>\n",
              "      <td>0.010639</td>\n",
              "      <td>79368.8838</td>\n",
              "      <td>5234.7100</td>\n",
              "      <td>0.159094</td>\n",
              "      <td>0.157444</td>\n",
              "    </tr>\n",
              "    <tr>\n",
              "      <th>2</th>\n",
              "      <td>2018</td>\n",
              "      <td>540265</td>\n",
              "      <td>505859</td>\n",
              "      <td>34406</td>\n",
              "      <td>226909</td>\n",
              "      <td>14302</td>\n",
              "      <td>0.448562</td>\n",
              "      <td>0.415683</td>\n",
              "      <td>3113200</td>\n",
              "      <td>55268100</td>\n",
              "      <td>0.009153</td>\n",
              "      <td>0.011052</td>\n",
              "      <td>80580.8898</td>\n",
              "      <td>5401.4020</td>\n",
              "      <td>0.159295</td>\n",
              "      <td>0.156990</td>\n",
              "    </tr>\n",
              "    <tr>\n",
              "      <th>1</th>\n",
              "      <td>2019</td>\n",
              "      <td>529553</td>\n",
              "      <td>496370</td>\n",
              "      <td>33183</td>\n",
              "      <td>222174</td>\n",
              "      <td>14232</td>\n",
              "      <td>0.447598</td>\n",
              "      <td>0.428894</td>\n",
              "      <td>3099100</td>\n",
              "      <td>54786300</td>\n",
              "      <td>0.009060</td>\n",
              "      <td>0.010707</td>\n",
              "      <td>80371.5021</td>\n",
              "      <td>5259.1727</td>\n",
              "      <td>0.161919</td>\n",
              "      <td>0.158490</td>\n",
              "    </tr>\n",
              "    <tr>\n",
              "      <th>0</th>\n",
              "      <td>2020</td>\n",
              "      <td>607099</td>\n",
              "      <td>569700</td>\n",
              "      <td>37399</td>\n",
              "      <td>209641</td>\n",
              "      <td>14200</td>\n",
              "      <td>0.367985</td>\n",
              "      <td>0.379689</td>\n",
              "      <td>3092000</td>\n",
              "      <td>54316600</td>\n",
              "      <td>0.010489</td>\n",
              "      <td>0.012095</td>\n",
              "      <td>80171.3016</td>\n",
              "      <td>5009.0400</td>\n",
              "      <td>0.140725</td>\n",
              "      <td>0.133935</td>\n",
              "    </tr>\n",
              "  </tbody>\n",
              "</table>\n",
              "</div>\n",
              "      <button class=\"colab-df-convert\" onclick=\"convertToInteractive('df-9f270ce7-9c32-47c4-a7e9-bda951d39708')\"\n",
              "              title=\"Convert this dataframe to an interactive table.\"\n",
              "              style=\"display:none;\">\n",
              "        \n",
              "  <svg xmlns=\"http://www.w3.org/2000/svg\" height=\"24px\"viewBox=\"0 0 24 24\"\n",
              "       width=\"24px\">\n",
              "    <path d=\"M0 0h24v24H0V0z\" fill=\"none\"/>\n",
              "    <path d=\"M18.56 5.44l.94 2.06.94-2.06 2.06-.94-2.06-.94-.94-2.06-.94 2.06-2.06.94zm-11 1L8.5 8.5l.94-2.06 2.06-.94-2.06-.94L8.5 2.5l-.94 2.06-2.06.94zm10 10l.94 2.06.94-2.06 2.06-.94-2.06-.94-.94-2.06-.94 2.06-2.06.94z\"/><path d=\"M17.41 7.96l-1.37-1.37c-.4-.4-.92-.59-1.43-.59-.52 0-1.04.2-1.43.59L10.3 9.45l-7.72 7.72c-.78.78-.78 2.05 0 2.83L4 21.41c.39.39.9.59 1.41.59.51 0 1.02-.2 1.41-.59l7.78-7.78 2.81-2.81c.8-.78.8-2.07 0-2.86zM5.41 20L4 18.59l7.72-7.72 1.47 1.35L5.41 20z\"/>\n",
              "  </svg>\n",
              "      </button>\n",
              "      \n",
              "  <style>\n",
              "    .colab-df-container {\n",
              "      display:flex;\n",
              "      flex-wrap:wrap;\n",
              "      gap: 12px;\n",
              "    }\n",
              "\n",
              "    .colab-df-convert {\n",
              "      background-color: #E8F0FE;\n",
              "      border: none;\n",
              "      border-radius: 50%;\n",
              "      cursor: pointer;\n",
              "      display: none;\n",
              "      fill: #1967D2;\n",
              "      height: 32px;\n",
              "      padding: 0 0 0 0;\n",
              "      width: 32px;\n",
              "    }\n",
              "\n",
              "    .colab-df-convert:hover {\n",
              "      background-color: #E2EBFA;\n",
              "      box-shadow: 0px 1px 2px rgba(60, 64, 67, 0.3), 0px 1px 3px 1px rgba(60, 64, 67, 0.15);\n",
              "      fill: #174EA6;\n",
              "    }\n",
              "\n",
              "    [theme=dark] .colab-df-convert {\n",
              "      background-color: #3B4455;\n",
              "      fill: #D2E3FC;\n",
              "    }\n",
              "\n",
              "    [theme=dark] .colab-df-convert:hover {\n",
              "      background-color: #434B5C;\n",
              "      box-shadow: 0px 1px 3px 1px rgba(0, 0, 0, 0.15);\n",
              "      filter: drop-shadow(0px 1px 2px rgba(0, 0, 0, 0.3));\n",
              "      fill: #FFFFFF;\n",
              "    }\n",
              "  </style>\n",
              "\n",
              "      <script>\n",
              "        const buttonEl =\n",
              "          document.querySelector('#df-9f270ce7-9c32-47c4-a7e9-bda951d39708 button.colab-df-convert');\n",
              "        buttonEl.style.display =\n",
              "          google.colab.kernel.accessAllowed ? 'block' : 'none';\n",
              "\n",
              "        async function convertToInteractive(key) {\n",
              "          const element = document.querySelector('#df-9f270ce7-9c32-47c4-a7e9-bda951d39708');\n",
              "          const dataTable =\n",
              "            await google.colab.kernel.invokeFunction('convertToInteractive',\n",
              "                                                     [key], {});\n",
              "          if (!dataTable) return;\n",
              "\n",
              "          const docLinkHtml = 'Like what you see? Visit the ' +\n",
              "            '<a target=\"_blank\" href=https://colab.research.google.com/notebooks/data_table.ipynb>data table notebook</a>'\n",
              "            + ' to learn more about interactive tables.';\n",
              "          element.innerHTML = '';\n",
              "          dataTable['output_type'] = 'display_data';\n",
              "          await google.colab.output.renderOutput(dataTable, element);\n",
              "          const docLink = document.createElement('div');\n",
              "          docLink.innerHTML = docLinkHtml;\n",
              "          element.appendChild(docLink);\n",
              "        }\n",
              "      </script>\n",
              "    </div>\n",
              "  </div>\n",
              "  "
            ]
          },
          "metadata": {}
        }
      ]
    },
    {
      "cell_type": "code",
      "source": [
        "england_wales['England Wales reported deaths'] = england_wales['England reported deaths'] + england_wales['Wales reported deaths']"
      ],
      "metadata": {
        "id": "GfOTpfwWMWxW"
      },
      "execution_count": null,
      "outputs": []
    },
    {
      "cell_type": "code",
      "source": [
        "print(england_wales['England Wales reported deaths'].sum()/england_wales['England Wales deaths'].sum())"
      ],
      "metadata": {
        "colab": {
          "base_uri": "https://localhost:8080/"
        },
        "id": "NXvkcB0CMse_",
        "outputId": "e33d2adc-73dd-4aaf-9eca-708aed219c33"
      },
      "execution_count": null,
      "outputs": [
        {
          "output_type": "stream",
          "name": "stdout",
          "text": [
            "0.41689437691484627\n"
          ]
        }
      ]
    },
    {
      "cell_type": "code",
      "source": [
        "print(england_wales['England report/mortality'].mean())\n",
        "print(england_wales['Wales report/mortality'].mean())"
      ],
      "metadata": {
        "colab": {
          "base_uri": "https://localhost:8080/"
        },
        "id": "gDvJ0zP-EcQK",
        "outputId": "f079da62-7e0b-45ea-fed0-6dd79c3d1c8c"
      },
      "execution_count": null,
      "outputs": [
        {
          "output_type": "stream",
          "name": "stdout",
          "text": [
            "0.41797155448904016\n",
            "0.4146725339364349\n"
          ]
        }
      ]
    },
    {
      "cell_type": "code",
      "source": [
        "print(england_wales['England mortality rate'].mean())\n",
        "print(england_wales['Wales mortality rate'].mean())"
      ],
      "metadata": {
        "colab": {
          "base_uri": "https://localhost:8080/"
        },
        "id": "fs9vqqiJGlk-",
        "outputId": "4f95f491-f4bf-46ff-d4b6-6c4208dc864d"
      },
      "execution_count": null,
      "outputs": [
        {
          "output_type": "stream",
          "name": "stdout",
          "text": [
            "0.009075677372067572\n",
            "0.010782189975441368\n"
          ]
        }
      ]
    },
    {
      "cell_type": "code",
      "source": [
        "england_wales['England Wales population'] = england_wales['England Population'] + england_wales['Wales Population']"
      ],
      "metadata": {
        "id": "nlT8zVufN_jh"
      },
      "execution_count": null,
      "outputs": []
    },
    {
      "cell_type": "code",
      "source": [
        "print(england_wales['England Wales deaths'].sum()/england_wales['England Wales population'].sum())"
      ],
      "metadata": {
        "colab": {
          "base_uri": "https://localhost:8080/"
        },
        "id": "Sqd0ZiWZNkUv",
        "outputId": "b5342c1f-3769-4a08-89ca-b8c8b5e9ec54"
      },
      "execution_count": null,
      "outputs": [
        {
          "output_type": "stream",
          "name": "stdout",
          "text": [
            "0.009159399321541308\n"
          ]
        }
      ]
    },
    {
      "cell_type": "code",
      "source": [
        "print(england_wales['England preventable/deaths'].mean())\n",
        "print(england_wales['Wales preventable/deaths'].mean())"
      ],
      "metadata": {
        "colab": {
          "base_uri": "https://localhost:8080/"
        },
        "id": "w-lMBhkbHXFd",
        "outputId": "f1c7a6ee-f97f-4497-e81c-4a4b981104ca"
      },
      "execution_count": null,
      "outputs": [
        {
          "output_type": "stream",
          "name": "stdout",
          "text": [
            "0.16514655919518503\n",
            "0.15898349125815386\n"
          ]
        }
      ]
    },
    {
      "cell_type": "code",
      "source": [
        "england_wales['England Wales preventable deaths'] = england_wales['England preventable deaths'] + england_wales['Wales preventable deaths']"
      ],
      "metadata": {
        "id": "w6VYE2fdOTUn"
      },
      "execution_count": null,
      "outputs": []
    },
    {
      "cell_type": "code",
      "source": [
        "print(england_wales['England Wales preventable deaths'].sum()/england_wales['England Wales deaths'].sum())"
      ],
      "metadata": {
        "colab": {
          "base_uri": "https://localhost:8080/"
        },
        "id": "-tzYL7tUOapT",
        "outputId": "6dbb6c10-3285-4f5c-8fcc-bcbeaa92a0e6"
      },
      "execution_count": null,
      "outputs": [
        {
          "output_type": "stream",
          "name": "stdout",
          "text": [
            "0.1638858907814899\n"
          ]
        }
      ]
    },
    {
      "cell_type": "code",
      "source": [
        "england_wales['England preventable/population'] = england_wales['England preventable deaths']/england_wales['England Population']\n",
        "england_wales['Wales preventable/population'] = england_wales['Wales preventable deaths']/england_wales['Wales Population']"
      ],
      "metadata": {
        "id": "Yx1T6rZWQXcZ"
      },
      "execution_count": null,
      "outputs": []
    },
    {
      "cell_type": "code",
      "source": [
        "print(england_wales['England preventable/population'].mean())\n",
        "print(england_wales['Wales preventable/population'].mean())"
      ],
      "metadata": {
        "colab": {
          "base_uri": "https://localhost:8080/"
        },
        "id": "2TO9KvIHRKz6",
        "outputId": "33b1c1d2-c93a-4d99-dbc2-29d4c4c80946"
      },
      "execution_count": null,
      "outputs": [
        {
          "output_type": "stream",
          "name": "stdout",
          "text": [
            "0.001489\n",
            "0.001705571428571429\n"
          ]
        }
      ]
    },
    {
      "cell_type": "code",
      "source": [
        "england_wales['preventable'] = england_wales['England preventable deaths'] + england_wales['Wales preventable deaths']\n",
        "print(england_wales['preventable'].mean()/england_wales['England Wales population'].mean())"
      ],
      "metadata": {
        "colab": {
          "base_uri": "https://localhost:8080/"
        },
        "id": "UaBN5XlwRx0M",
        "outputId": "139b168d-aabe-42f1-aae0-976a997c232d"
      },
      "execution_count": null,
      "outputs": [
        {
          "output_type": "stream",
          "name": "stdout",
          "text": [
            "0.0015010963168341713\n"
          ]
        }
      ]
    },
    {
      "cell_type": "code",
      "source": [
        "display(england_wales)"
      ],
      "metadata": {
        "colab": {
          "base_uri": "https://localhost:8080/",
          "height": 398
        },
        "id": "vJ7LuC1GQv1u",
        "outputId": "f681f026-93d9-4fd0-f645-cf4be38d309a"
      },
      "execution_count": null,
      "outputs": [
        {
          "output_type": "display_data",
          "data": {
            "text/plain": [
              "   Year  England Wales deaths  England deaths  Wales deaths  \\\n",
              "6  2014                500314          468875         31439   \n",
              "5  2015                528507          495309         33198   \n",
              "4  2016                523857          490791         33066   \n",
              "3  2017                532130          498882         33248   \n",
              "2  2018                540265          505859         34406   \n",
              "1  2019                529553          496370         33183   \n",
              "0  2020                607099          569700         37399   \n",
              "\n",
              "   England reported deaths  Wales reported deaths  England report/mortality  \\\n",
              "6                   192016                  13422                  0.409525   \n",
              "5                   197606                  13306                  0.398955   \n",
              "4                   206757                  13891                  0.421273   \n",
              "3                   215469                  14317                  0.431904   \n",
              "2                   226909                  14302                  0.448562   \n",
              "1                   222174                  14232                  0.447598   \n",
              "0                   209641                  14200                  0.367985   \n",
              "\n",
              "   Wales report/mortality  Wales Population  England Population  ...  \\\n",
              "6                0.426922           3170000            56550000  ...   \n",
              "5                0.400807           3152900            56287000  ...   \n",
              "4                0.420099           3138600            55977200  ...   \n",
              "3                0.430612           3125200            55619400  ...   \n",
              "2                0.415683           3113200            55268100  ...   \n",
              "1                0.428894           3099100            54786300  ...   \n",
              "0                0.379689           3092000            54316600  ...   \n",
              "\n",
              "   England preventable/deaths  Wales preventable/deaths  \\\n",
              "6                    0.211546                  0.191376   \n",
              "5                    0.159778                  0.154520   \n",
              "4                    0.163669                  0.160129   \n",
              "3                    0.159094                  0.157444   \n",
              "2                    0.159295                  0.156990   \n",
              "1                    0.161919                  0.158490   \n",
              "0                    0.140725                  0.133935   \n",
              "\n",
              "   England Wales reported deaths  England Wales population  \\\n",
              "6                         205438                  59720000   \n",
              "5                         210912                  59439900   \n",
              "4                         220648                  59115800   \n",
              "3                         229786                  58744600   \n",
              "2                         241211                  58381300   \n",
              "1                         236406                  57885400   \n",
              "0                         223841                  57408600   \n",
              "\n",
              "   England Wales preventable deaths  England preventable/population  \\\n",
              "6                       105205.3600                        0.001754   \n",
              "5                        84269.2903                        0.001406   \n",
              "4                        85622.1002                        0.001435   \n",
              "3                        84603.5938                        0.001427   \n",
              "2                        85982.2918                        0.001458   \n",
              "1                        85630.6748                        0.001467   \n",
              "0                        85180.3416                        0.001476   \n",
              "\n",
              "   Wales preventable/population  preventable  England report/preventable  \\\n",
              "6                      0.001898  105205.3600                    1.935866   \n",
              "5                      0.001627   84269.2903                    2.496932   \n",
              "4                      0.001687   85622.1002                    2.573932   \n",
              "3                      0.001675   84603.5938                    2.714779   \n",
              "2                      0.001735   85982.2918                    2.815916   \n",
              "1                      0.001697   85630.6748                    2.764338   \n",
              "0                      0.001620   85180.3416                    2.614913   \n",
              "\n",
              "   Wales report/preventable  \n",
              "6                  2.230806  \n",
              "5                  2.593879  \n",
              "4                  2.623508  \n",
              "3                  2.735013  \n",
              "2                  2.647831  \n",
              "1                  2.706129  \n",
              "0                  2.834875  \n",
              "\n",
              "[7 rows x 24 columns]"
            ],
            "text/html": [
              "\n",
              "  <div id=\"df-b06b1df3-57e9-4054-9bb1-0a3390fc0761\">\n",
              "    <div class=\"colab-df-container\">\n",
              "      <div>\n",
              "<style scoped>\n",
              "    .dataframe tbody tr th:only-of-type {\n",
              "        vertical-align: middle;\n",
              "    }\n",
              "\n",
              "    .dataframe tbody tr th {\n",
              "        vertical-align: top;\n",
              "    }\n",
              "\n",
              "    .dataframe thead th {\n",
              "        text-align: right;\n",
              "    }\n",
              "</style>\n",
              "<table border=\"1\" class=\"dataframe\">\n",
              "  <thead>\n",
              "    <tr style=\"text-align: right;\">\n",
              "      <th></th>\n",
              "      <th>Year</th>\n",
              "      <th>England Wales deaths</th>\n",
              "      <th>England deaths</th>\n",
              "      <th>Wales deaths</th>\n",
              "      <th>England reported deaths</th>\n",
              "      <th>Wales reported deaths</th>\n",
              "      <th>England report/mortality</th>\n",
              "      <th>Wales report/mortality</th>\n",
              "      <th>Wales Population</th>\n",
              "      <th>England Population</th>\n",
              "      <th>...</th>\n",
              "      <th>England preventable/deaths</th>\n",
              "      <th>Wales preventable/deaths</th>\n",
              "      <th>England Wales reported deaths</th>\n",
              "      <th>England Wales population</th>\n",
              "      <th>England Wales preventable deaths</th>\n",
              "      <th>England preventable/population</th>\n",
              "      <th>Wales preventable/population</th>\n",
              "      <th>preventable</th>\n",
              "      <th>England report/preventable</th>\n",
              "      <th>Wales report/preventable</th>\n",
              "    </tr>\n",
              "  </thead>\n",
              "  <tbody>\n",
              "    <tr>\n",
              "      <th>6</th>\n",
              "      <td>2014</td>\n",
              "      <td>500314</td>\n",
              "      <td>468875</td>\n",
              "      <td>31439</td>\n",
              "      <td>192016</td>\n",
              "      <td>13422</td>\n",
              "      <td>0.409525</td>\n",
              "      <td>0.426922</td>\n",
              "      <td>3170000</td>\n",
              "      <td>56550000</td>\n",
              "      <td>...</td>\n",
              "      <td>0.211546</td>\n",
              "      <td>0.191376</td>\n",
              "      <td>205438</td>\n",
              "      <td>59720000</td>\n",
              "      <td>105205.3600</td>\n",
              "      <td>0.001754</td>\n",
              "      <td>0.001898</td>\n",
              "      <td>105205.3600</td>\n",
              "      <td>1.935866</td>\n",
              "      <td>2.230806</td>\n",
              "    </tr>\n",
              "    <tr>\n",
              "      <th>5</th>\n",
              "      <td>2015</td>\n",
              "      <td>528507</td>\n",
              "      <td>495309</td>\n",
              "      <td>33198</td>\n",
              "      <td>197606</td>\n",
              "      <td>13306</td>\n",
              "      <td>0.398955</td>\n",
              "      <td>0.400807</td>\n",
              "      <td>3152900</td>\n",
              "      <td>56287000</td>\n",
              "      <td>...</td>\n",
              "      <td>0.159778</td>\n",
              "      <td>0.154520</td>\n",
              "      <td>210912</td>\n",
              "      <td>59439900</td>\n",
              "      <td>84269.2903</td>\n",
              "      <td>0.001406</td>\n",
              "      <td>0.001627</td>\n",
              "      <td>84269.2903</td>\n",
              "      <td>2.496932</td>\n",
              "      <td>2.593879</td>\n",
              "    </tr>\n",
              "    <tr>\n",
              "      <th>4</th>\n",
              "      <td>2016</td>\n",
              "      <td>523857</td>\n",
              "      <td>490791</td>\n",
              "      <td>33066</td>\n",
              "      <td>206757</td>\n",
              "      <td>13891</td>\n",
              "      <td>0.421273</td>\n",
              "      <td>0.420099</td>\n",
              "      <td>3138600</td>\n",
              "      <td>55977200</td>\n",
              "      <td>...</td>\n",
              "      <td>0.163669</td>\n",
              "      <td>0.160129</td>\n",
              "      <td>220648</td>\n",
              "      <td>59115800</td>\n",
              "      <td>85622.1002</td>\n",
              "      <td>0.001435</td>\n",
              "      <td>0.001687</td>\n",
              "      <td>85622.1002</td>\n",
              "      <td>2.573932</td>\n",
              "      <td>2.623508</td>\n",
              "    </tr>\n",
              "    <tr>\n",
              "      <th>3</th>\n",
              "      <td>2017</td>\n",
              "      <td>532130</td>\n",
              "      <td>498882</td>\n",
              "      <td>33248</td>\n",
              "      <td>215469</td>\n",
              "      <td>14317</td>\n",
              "      <td>0.431904</td>\n",
              "      <td>0.430612</td>\n",
              "      <td>3125200</td>\n",
              "      <td>55619400</td>\n",
              "      <td>...</td>\n",
              "      <td>0.159094</td>\n",
              "      <td>0.157444</td>\n",
              "      <td>229786</td>\n",
              "      <td>58744600</td>\n",
              "      <td>84603.5938</td>\n",
              "      <td>0.001427</td>\n",
              "      <td>0.001675</td>\n",
              "      <td>84603.5938</td>\n",
              "      <td>2.714779</td>\n",
              "      <td>2.735013</td>\n",
              "    </tr>\n",
              "    <tr>\n",
              "      <th>2</th>\n",
              "      <td>2018</td>\n",
              "      <td>540265</td>\n",
              "      <td>505859</td>\n",
              "      <td>34406</td>\n",
              "      <td>226909</td>\n",
              "      <td>14302</td>\n",
              "      <td>0.448562</td>\n",
              "      <td>0.415683</td>\n",
              "      <td>3113200</td>\n",
              "      <td>55268100</td>\n",
              "      <td>...</td>\n",
              "      <td>0.159295</td>\n",
              "      <td>0.156990</td>\n",
              "      <td>241211</td>\n",
              "      <td>58381300</td>\n",
              "      <td>85982.2918</td>\n",
              "      <td>0.001458</td>\n",
              "      <td>0.001735</td>\n",
              "      <td>85982.2918</td>\n",
              "      <td>2.815916</td>\n",
              "      <td>2.647831</td>\n",
              "    </tr>\n",
              "    <tr>\n",
              "      <th>1</th>\n",
              "      <td>2019</td>\n",
              "      <td>529553</td>\n",
              "      <td>496370</td>\n",
              "      <td>33183</td>\n",
              "      <td>222174</td>\n",
              "      <td>14232</td>\n",
              "      <td>0.447598</td>\n",
              "      <td>0.428894</td>\n",
              "      <td>3099100</td>\n",
              "      <td>54786300</td>\n",
              "      <td>...</td>\n",
              "      <td>0.161919</td>\n",
              "      <td>0.158490</td>\n",
              "      <td>236406</td>\n",
              "      <td>57885400</td>\n",
              "      <td>85630.6748</td>\n",
              "      <td>0.001467</td>\n",
              "      <td>0.001697</td>\n",
              "      <td>85630.6748</td>\n",
              "      <td>2.764338</td>\n",
              "      <td>2.706129</td>\n",
              "    </tr>\n",
              "    <tr>\n",
              "      <th>0</th>\n",
              "      <td>2020</td>\n",
              "      <td>607099</td>\n",
              "      <td>569700</td>\n",
              "      <td>37399</td>\n",
              "      <td>209641</td>\n",
              "      <td>14200</td>\n",
              "      <td>0.367985</td>\n",
              "      <td>0.379689</td>\n",
              "      <td>3092000</td>\n",
              "      <td>54316600</td>\n",
              "      <td>...</td>\n",
              "      <td>0.140725</td>\n",
              "      <td>0.133935</td>\n",
              "      <td>223841</td>\n",
              "      <td>57408600</td>\n",
              "      <td>85180.3416</td>\n",
              "      <td>0.001476</td>\n",
              "      <td>0.001620</td>\n",
              "      <td>85180.3416</td>\n",
              "      <td>2.614913</td>\n",
              "      <td>2.834875</td>\n",
              "    </tr>\n",
              "  </tbody>\n",
              "</table>\n",
              "<p>7 rows × 24 columns</p>\n",
              "</div>\n",
              "      <button class=\"colab-df-convert\" onclick=\"convertToInteractive('df-b06b1df3-57e9-4054-9bb1-0a3390fc0761')\"\n",
              "              title=\"Convert this dataframe to an interactive table.\"\n",
              "              style=\"display:none;\">\n",
              "        \n",
              "  <svg xmlns=\"http://www.w3.org/2000/svg\" height=\"24px\"viewBox=\"0 0 24 24\"\n",
              "       width=\"24px\">\n",
              "    <path d=\"M0 0h24v24H0V0z\" fill=\"none\"/>\n",
              "    <path d=\"M18.56 5.44l.94 2.06.94-2.06 2.06-.94-2.06-.94-.94-2.06-.94 2.06-2.06.94zm-11 1L8.5 8.5l.94-2.06 2.06-.94-2.06-.94L8.5 2.5l-.94 2.06-2.06.94zm10 10l.94 2.06.94-2.06 2.06-.94-2.06-.94-.94-2.06-.94 2.06-2.06.94z\"/><path d=\"M17.41 7.96l-1.37-1.37c-.4-.4-.92-.59-1.43-.59-.52 0-1.04.2-1.43.59L10.3 9.45l-7.72 7.72c-.78.78-.78 2.05 0 2.83L4 21.41c.39.39.9.59 1.41.59.51 0 1.02-.2 1.41-.59l7.78-7.78 2.81-2.81c.8-.78.8-2.07 0-2.86zM5.41 20L4 18.59l7.72-7.72 1.47 1.35L5.41 20z\"/>\n",
              "  </svg>\n",
              "      </button>\n",
              "      \n",
              "  <style>\n",
              "    .colab-df-container {\n",
              "      display:flex;\n",
              "      flex-wrap:wrap;\n",
              "      gap: 12px;\n",
              "    }\n",
              "\n",
              "    .colab-df-convert {\n",
              "      background-color: #E8F0FE;\n",
              "      border: none;\n",
              "      border-radius: 50%;\n",
              "      cursor: pointer;\n",
              "      display: none;\n",
              "      fill: #1967D2;\n",
              "      height: 32px;\n",
              "      padding: 0 0 0 0;\n",
              "      width: 32px;\n",
              "    }\n",
              "\n",
              "    .colab-df-convert:hover {\n",
              "      background-color: #E2EBFA;\n",
              "      box-shadow: 0px 1px 2px rgba(60, 64, 67, 0.3), 0px 1px 3px 1px rgba(60, 64, 67, 0.15);\n",
              "      fill: #174EA6;\n",
              "    }\n",
              "\n",
              "    [theme=dark] .colab-df-convert {\n",
              "      background-color: #3B4455;\n",
              "      fill: #D2E3FC;\n",
              "    }\n",
              "\n",
              "    [theme=dark] .colab-df-convert:hover {\n",
              "      background-color: #434B5C;\n",
              "      box-shadow: 0px 1px 3px 1px rgba(0, 0, 0, 0.15);\n",
              "      filter: drop-shadow(0px 1px 2px rgba(0, 0, 0, 0.3));\n",
              "      fill: #FFFFFF;\n",
              "    }\n",
              "  </style>\n",
              "\n",
              "      <script>\n",
              "        const buttonEl =\n",
              "          document.querySelector('#df-b06b1df3-57e9-4054-9bb1-0a3390fc0761 button.colab-df-convert');\n",
              "        buttonEl.style.display =\n",
              "          google.colab.kernel.accessAllowed ? 'block' : 'none';\n",
              "\n",
              "        async function convertToInteractive(key) {\n",
              "          const element = document.querySelector('#df-b06b1df3-57e9-4054-9bb1-0a3390fc0761');\n",
              "          const dataTable =\n",
              "            await google.colab.kernel.invokeFunction('convertToInteractive',\n",
              "                                                     [key], {});\n",
              "          if (!dataTable) return;\n",
              "\n",
              "          const docLinkHtml = 'Like what you see? Visit the ' +\n",
              "            '<a target=\"_blank\" href=https://colab.research.google.com/notebooks/data_table.ipynb>data table notebook</a>'\n",
              "            + ' to learn more about interactive tables.';\n",
              "          element.innerHTML = '';\n",
              "          dataTable['output_type'] = 'display_data';\n",
              "          await google.colab.output.renderOutput(dataTable, element);\n",
              "          const docLink = document.createElement('div');\n",
              "          docLink.innerHTML = docLinkHtml;\n",
              "          element.appendChild(docLink);\n",
              "        }\n",
              "      </script>\n",
              "    </div>\n",
              "  </div>\n",
              "  "
            ]
          },
          "metadata": {}
        }
      ]
    },
    {
      "cell_type": "code",
      "source": [
        "england_wales['England report/preventable'] = england_wales['England report/mortality']/england_wales['England preventable/deaths']\n",
        "england_wales['Wales report/preventable'] = england_wales['Wales report/mortality']/england_wales['Wales preventable/deaths']"
      ],
      "metadata": {
        "id": "RRymNjHXdaw9"
      },
      "execution_count": null,
      "outputs": []
    },
    {
      "cell_type": "code",
      "source": [
        "print(england_wales['England report/preventable'].mean())\n",
        "print(england_wales['Wales report/preventable'].mean())"
      ],
      "metadata": {
        "colab": {
          "base_uri": "https://localhost:8080/"
        },
        "id": "Gz5Bn1pAd5-3",
        "outputId": "cf7af15d-6607-48b9-b22b-3034f2c8f2cd"
      },
      "execution_count": null,
      "outputs": [
        {
          "output_type": "stream",
          "name": "stdout",
          "text": [
            "2.5595252065945298\n",
            "2.6245773147820164\n"
          ]
        }
      ]
    },
    {
      "cell_type": "code",
      "source": [
        "display(england_wales.columns)"
      ],
      "metadata": {
        "colab": {
          "base_uri": "https://localhost:8080/",
          "height": 221
        },
        "id": "yCBWIJzbdUm8",
        "outputId": "524bf150-3908-49e1-9fbb-c2bcabf85949"
      },
      "execution_count": null,
      "outputs": [
        {
          "output_type": "display_data",
          "data": {
            "text/plain": [
              "Index(['Year', 'England Wales deaths', 'England deaths', 'Wales deaths',\n",
              "       'England reported deaths', 'Wales reported deaths',\n",
              "       'England report/mortality', 'Wales report/mortality',\n",
              "       'Wales Population', 'England Population', 'England mortality rate',\n",
              "       'Wales mortality rate', 'England preventable deaths',\n",
              "       'Wales preventable deaths', 'England preventable/deaths',\n",
              "       'Wales preventable/deaths', 'England Wales reported deaths',\n",
              "       'England Wales population', 'England Wales preventable deaths',\n",
              "       'England preventable/population', 'Wales preventable/population',\n",
              "       'preventable', 'England report/preventable',\n",
              "       'Wales report/preventable'],\n",
              "      dtype='object')"
            ]
          },
          "metadata": {}
        }
      ]
    },
    {
      "cell_type": "code",
      "source": [
        "england_wales.to_csv('deaths_preventable_report.csv')"
      ],
      "metadata": {
        "id": "bYSjrCIZJ0KV"
      },
      "execution_count": null,
      "outputs": []
    }
  ]
}