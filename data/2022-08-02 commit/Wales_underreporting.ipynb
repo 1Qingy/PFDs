{
  "nbformat": 4,
  "nbformat_minor": 0,
  "metadata": {
    "colab": {
      "name": "Wales underreporting.ipynb",
      "provenance": []
    },
    "kernelspec": {
      "name": "python3",
      "display_name": "Python 3"
    },
    "language_info": {
      "name": "python"
    }
  },
  "cells": [
    {
      "cell_type": "markdown",
      "source": [
        "# Wales"
      ],
      "metadata": {
        "id": "UQ3GN2IuJeRt"
      }
    },
    {
      "cell_type": "code",
      "source": [
        "import pandas as pd\n",
        "import numpy as np\n",
        "import matplotlib.pyplot as plt"
      ],
      "metadata": {
        "id": "wkFOJSlcMWqN"
      },
      "execution_count": null,
      "outputs": []
    },
    {
      "cell_type": "code",
      "source": [
        "deaths = pd.read_csv('sent_and_response_4001_corrected_area.csv')"
      ],
      "metadata": {
        "id": "tg7g_xHxMl7E"
      },
      "execution_count": null,
      "outputs": []
    },
    {
      "cell_type": "code",
      "source": [
        "display(deaths.columns)"
      ],
      "metadata": {
        "colab": {
          "base_uri": "https://localhost:8080/",
          "height": 119
        },
        "id": "WaIzPTwgMqgw",
        "outputId": "04b0f5ff-51cf-4f55-ae41-acd755cb268c"
      },
      "execution_count": null,
      "outputs": [
        {
          "output_type": "display_data",
          "data": {
            "text/plain": [
              "Index(['Unnamed: 0', 'date_of_report', 'ref', 'deceased_name', 'coroner_name',\n",
              "       'coroner_area', 'category', 'this_report_is_being_sent_to', 'url',\n",
              "       'sent_count', 'pdf_count', 'responses', 'yet_to_receive',\n",
              "       'response_rate', 'date_time', 'late_time', 'at_least_one_response',\n",
              "       'late', 'expected_number_bool', 'corrected_area'],\n",
              "      dtype='object')"
            ]
          },
          "metadata": {}
        }
      ]
    },
    {
      "cell_type": "code",
      "source": [
        "deaths = deaths[['date_time', 'ref', 'corrected_area']]"
      ],
      "metadata": {
        "id": "Ib9mqdClMs1c"
      },
      "execution_count": null,
      "outputs": []
    },
    {
      "cell_type": "code",
      "source": [
        "\n",
        "deaths['year'] = deaths['date_time'].str[:4]"
      ],
      "metadata": {
        "id": "q9UQ0Po5NIEk"
      },
      "execution_count": null,
      "outputs": []
    },
    {
      "cell_type": "code",
      "source": [
        "print(deaths[deaths['year'].isna()].shape)"
      ],
      "metadata": {
        "colab": {
          "base_uri": "https://localhost:8080/"
        },
        "id": "PtRSzTAnNgO4",
        "outputId": "5bca986a-5ad6-449b-b48f-5c5a76aa3abc"
      },
      "execution_count": null,
      "outputs": [
        {
          "output_type": "stream",
          "name": "stdout",
          "text": [
            "(3, 4)\n"
          ]
        }
      ]
    },
    {
      "cell_type": "markdown",
      "source": [
        "3 NaNs"
      ],
      "metadata": {
        "id": "JeYnWgm2No5T"
      }
    },
    {
      "cell_type": "code",
      "source": [
        "deaths = deaths[deaths['year'].notna()]"
      ],
      "metadata": {
        "id": "7ZpoRXfRNnKE"
      },
      "execution_count": null,
      "outputs": []
    },
    {
      "cell_type": "code",
      "source": [
        "display(deaths.head())\n",
        "print(deaths.shape)"
      ],
      "metadata": {
        "colab": {
          "base_uri": "https://localhost:8080/",
          "height": 221
        },
        "id": "oTYrbL66NV6J",
        "outputId": "fcf62885-5c13-494d-dc9f-e476878d84b4"
      },
      "execution_count": null,
      "outputs": [
        {
          "output_type": "display_data",
          "data": {
            "text/plain": [
              "    date_time         ref            corrected_area  year\n",
              "0  2022-03-18   2022-0089                    Dorset  2022\n",
              "1  2020-01-27   2020-0124        Inner North London  2020\n",
              "2  2021-12-17   2021-0433          Manchester North  2021\n",
              "3  2021-11-03   2021-0362                      Avon  2021\n",
              "4  2017-07-21  2017-0330A  West Yorkshire (Western)  2017"
            ],
            "text/html": [
              "\n",
              "  <div id=\"df-2a885587-73c6-48ee-8202-bd09814c0d60\">\n",
              "    <div class=\"colab-df-container\">\n",
              "      <div>\n",
              "<style scoped>\n",
              "    .dataframe tbody tr th:only-of-type {\n",
              "        vertical-align: middle;\n",
              "    }\n",
              "\n",
              "    .dataframe tbody tr th {\n",
              "        vertical-align: top;\n",
              "    }\n",
              "\n",
              "    .dataframe thead th {\n",
              "        text-align: right;\n",
              "    }\n",
              "</style>\n",
              "<table border=\"1\" class=\"dataframe\">\n",
              "  <thead>\n",
              "    <tr style=\"text-align: right;\">\n",
              "      <th></th>\n",
              "      <th>date_time</th>\n",
              "      <th>ref</th>\n",
              "      <th>corrected_area</th>\n",
              "      <th>year</th>\n",
              "    </tr>\n",
              "  </thead>\n",
              "  <tbody>\n",
              "    <tr>\n",
              "      <th>0</th>\n",
              "      <td>2022-03-18</td>\n",
              "      <td>2022-0089</td>\n",
              "      <td>Dorset</td>\n",
              "      <td>2022</td>\n",
              "    </tr>\n",
              "    <tr>\n",
              "      <th>1</th>\n",
              "      <td>2020-01-27</td>\n",
              "      <td>2020-0124</td>\n",
              "      <td>Inner North London</td>\n",
              "      <td>2020</td>\n",
              "    </tr>\n",
              "    <tr>\n",
              "      <th>2</th>\n",
              "      <td>2021-12-17</td>\n",
              "      <td>2021-0433</td>\n",
              "      <td>Manchester North</td>\n",
              "      <td>2021</td>\n",
              "    </tr>\n",
              "    <tr>\n",
              "      <th>3</th>\n",
              "      <td>2021-11-03</td>\n",
              "      <td>2021-0362</td>\n",
              "      <td>Avon</td>\n",
              "      <td>2021</td>\n",
              "    </tr>\n",
              "    <tr>\n",
              "      <th>4</th>\n",
              "      <td>2017-07-21</td>\n",
              "      <td>2017-0330A</td>\n",
              "      <td>West Yorkshire (Western)</td>\n",
              "      <td>2017</td>\n",
              "    </tr>\n",
              "  </tbody>\n",
              "</table>\n",
              "</div>\n",
              "      <button class=\"colab-df-convert\" onclick=\"convertToInteractive('df-2a885587-73c6-48ee-8202-bd09814c0d60')\"\n",
              "              title=\"Convert this dataframe to an interactive table.\"\n",
              "              style=\"display:none;\">\n",
              "        \n",
              "  <svg xmlns=\"http://www.w3.org/2000/svg\" height=\"24px\"viewBox=\"0 0 24 24\"\n",
              "       width=\"24px\">\n",
              "    <path d=\"M0 0h24v24H0V0z\" fill=\"none\"/>\n",
              "    <path d=\"M18.56 5.44l.94 2.06.94-2.06 2.06-.94-2.06-.94-.94-2.06-.94 2.06-2.06.94zm-11 1L8.5 8.5l.94-2.06 2.06-.94-2.06-.94L8.5 2.5l-.94 2.06-2.06.94zm10 10l.94 2.06.94-2.06 2.06-.94-2.06-.94-.94-2.06-.94 2.06-2.06.94z\"/><path d=\"M17.41 7.96l-1.37-1.37c-.4-.4-.92-.59-1.43-.59-.52 0-1.04.2-1.43.59L10.3 9.45l-7.72 7.72c-.78.78-.78 2.05 0 2.83L4 21.41c.39.39.9.59 1.41.59.51 0 1.02-.2 1.41-.59l7.78-7.78 2.81-2.81c.8-.78.8-2.07 0-2.86zM5.41 20L4 18.59l7.72-7.72 1.47 1.35L5.41 20z\"/>\n",
              "  </svg>\n",
              "      </button>\n",
              "      \n",
              "  <style>\n",
              "    .colab-df-container {\n",
              "      display:flex;\n",
              "      flex-wrap:wrap;\n",
              "      gap: 12px;\n",
              "    }\n",
              "\n",
              "    .colab-df-convert {\n",
              "      background-color: #E8F0FE;\n",
              "      border: none;\n",
              "      border-radius: 50%;\n",
              "      cursor: pointer;\n",
              "      display: none;\n",
              "      fill: #1967D2;\n",
              "      height: 32px;\n",
              "      padding: 0 0 0 0;\n",
              "      width: 32px;\n",
              "    }\n",
              "\n",
              "    .colab-df-convert:hover {\n",
              "      background-color: #E2EBFA;\n",
              "      box-shadow: 0px 1px 2px rgba(60, 64, 67, 0.3), 0px 1px 3px 1px rgba(60, 64, 67, 0.15);\n",
              "      fill: #174EA6;\n",
              "    }\n",
              "\n",
              "    [theme=dark] .colab-df-convert {\n",
              "      background-color: #3B4455;\n",
              "      fill: #D2E3FC;\n",
              "    }\n",
              "\n",
              "    [theme=dark] .colab-df-convert:hover {\n",
              "      background-color: #434B5C;\n",
              "      box-shadow: 0px 1px 3px 1px rgba(0, 0, 0, 0.15);\n",
              "      filter: drop-shadow(0px 1px 2px rgba(0, 0, 0, 0.3));\n",
              "      fill: #FFFFFF;\n",
              "    }\n",
              "  </style>\n",
              "\n",
              "      <script>\n",
              "        const buttonEl =\n",
              "          document.querySelector('#df-2a885587-73c6-48ee-8202-bd09814c0d60 button.colab-df-convert');\n",
              "        buttonEl.style.display =\n",
              "          google.colab.kernel.accessAllowed ? 'block' : 'none';\n",
              "\n",
              "        async function convertToInteractive(key) {\n",
              "          const element = document.querySelector('#df-2a885587-73c6-48ee-8202-bd09814c0d60');\n",
              "          const dataTable =\n",
              "            await google.colab.kernel.invokeFunction('convertToInteractive',\n",
              "                                                     [key], {});\n",
              "          if (!dataTable) return;\n",
              "\n",
              "          const docLinkHtml = 'Like what you see? Visit the ' +\n",
              "            '<a target=\"_blank\" href=https://colab.research.google.com/notebooks/data_table.ipynb>data table notebook</a>'\n",
              "            + ' to learn more about interactive tables.';\n",
              "          element.innerHTML = '';\n",
              "          dataTable['output_type'] = 'display_data';\n",
              "          await google.colab.output.renderOutput(dataTable, element);\n",
              "          const docLink = document.createElement('div');\n",
              "          docLink.innerHTML = docLinkHtml;\n",
              "          element.appendChild(docLink);\n",
              "        }\n",
              "      </script>\n",
              "    </div>\n",
              "  </div>\n",
              "  "
            ]
          },
          "metadata": {}
        },
        {
          "output_type": "stream",
          "name": "stdout",
          "text": [
            "(3998, 4)\n"
          ]
        }
      ]
    },
    {
      "cell_type": "code",
      "source": [
        "wales = ['North West Wales', 'Ceredigion', 'Carmarthenshire and Pembrokeshire', 'Swansea and Neath Port Talbot', 'South Wales Central', 'North Wales (East & Central)', 'Gwent']"
      ],
      "metadata": {
        "id": "T5YmW26LNZ2I"
      },
      "execution_count": null,
      "outputs": []
    },
    {
      "cell_type": "code",
      "source": [
        "wales_death = pd.DataFrame()\n",
        "for area in wales: \n",
        "  wales_death = wales_death.append(deaths[deaths['corrected_area']==area], ignore_index = True)\n",
        "england_death = deaths.merge(wales_death, on='corrected_area', \n",
        "                   how='left', indicator=True)\n",
        "england_death = england_death[england_death['_merge']=='left_only']\n",
        "england_death.drop(['date_time_y', 'ref_y', 'year_y',\t'_merge'], axis = 1, inplace = True)\n",
        "england_death.rename(columns = {'date_time_x':'date_time', 'ref_x':'ref', 'year_x':'year'}, inplace = True)"
      ],
      "metadata": {
        "id": "LYK5BWwiPzn-"
      },
      "execution_count": null,
      "outputs": []
    },
    {
      "cell_type": "code",
      "source": [
        "display(wales_death)"
      ],
      "metadata": {
        "colab": {
          "base_uri": "https://localhost:8080/",
          "height": 419
        },
        "id": "z0ttdLGlQPEY",
        "outputId": "58263d48-836b-4452-96d5-509c0e82c101"
      },
      "execution_count": null,
      "outputs": [
        {
          "output_type": "display_data",
          "data": {
            "text/plain": [
              "      date_time        ref    corrected_area  year\n",
              "0    2016-01-15  2016-0022  North West Wales  2016\n",
              "1    2017-10-05  2017-0280  North West Wales  2017\n",
              "2    2015-11-11  2015-0433  North West Wales  2015\n",
              "3    2021-11-10  2021-0378  North West Wales  2021\n",
              "4    2021-12-07  2021-0413  North West Wales  2021\n",
              "..          ...        ...               ...   ...\n",
              "175  2014-02-20  2014-0068             Gwent  2014\n",
              "176  2014-01-23  2014-0032             Gwent  2014\n",
              "177  2022-01-14  2022-0010             Gwent  2022\n",
              "178  2022-01-05  2022-0001             Gwent  2022\n",
              "179  2021-11-03  2021-0372             Gwent  2021\n",
              "\n",
              "[180 rows x 4 columns]"
            ],
            "text/html": [
              "\n",
              "  <div id=\"df-0c2862ad-cccd-4dd3-8cdd-c7545243007d\">\n",
              "    <div class=\"colab-df-container\">\n",
              "      <div>\n",
              "<style scoped>\n",
              "    .dataframe tbody tr th:only-of-type {\n",
              "        vertical-align: middle;\n",
              "    }\n",
              "\n",
              "    .dataframe tbody tr th {\n",
              "        vertical-align: top;\n",
              "    }\n",
              "\n",
              "    .dataframe thead th {\n",
              "        text-align: right;\n",
              "    }\n",
              "</style>\n",
              "<table border=\"1\" class=\"dataframe\">\n",
              "  <thead>\n",
              "    <tr style=\"text-align: right;\">\n",
              "      <th></th>\n",
              "      <th>date_time</th>\n",
              "      <th>ref</th>\n",
              "      <th>corrected_area</th>\n",
              "      <th>year</th>\n",
              "    </tr>\n",
              "  </thead>\n",
              "  <tbody>\n",
              "    <tr>\n",
              "      <th>0</th>\n",
              "      <td>2016-01-15</td>\n",
              "      <td>2016-0022</td>\n",
              "      <td>North West Wales</td>\n",
              "      <td>2016</td>\n",
              "    </tr>\n",
              "    <tr>\n",
              "      <th>1</th>\n",
              "      <td>2017-10-05</td>\n",
              "      <td>2017-0280</td>\n",
              "      <td>North West Wales</td>\n",
              "      <td>2017</td>\n",
              "    </tr>\n",
              "    <tr>\n",
              "      <th>2</th>\n",
              "      <td>2015-11-11</td>\n",
              "      <td>2015-0433</td>\n",
              "      <td>North West Wales</td>\n",
              "      <td>2015</td>\n",
              "    </tr>\n",
              "    <tr>\n",
              "      <th>3</th>\n",
              "      <td>2021-11-10</td>\n",
              "      <td>2021-0378</td>\n",
              "      <td>North West Wales</td>\n",
              "      <td>2021</td>\n",
              "    </tr>\n",
              "    <tr>\n",
              "      <th>4</th>\n",
              "      <td>2021-12-07</td>\n",
              "      <td>2021-0413</td>\n",
              "      <td>North West Wales</td>\n",
              "      <td>2021</td>\n",
              "    </tr>\n",
              "    <tr>\n",
              "      <th>...</th>\n",
              "      <td>...</td>\n",
              "      <td>...</td>\n",
              "      <td>...</td>\n",
              "      <td>...</td>\n",
              "    </tr>\n",
              "    <tr>\n",
              "      <th>175</th>\n",
              "      <td>2014-02-20</td>\n",
              "      <td>2014-0068</td>\n",
              "      <td>Gwent</td>\n",
              "      <td>2014</td>\n",
              "    </tr>\n",
              "    <tr>\n",
              "      <th>176</th>\n",
              "      <td>2014-01-23</td>\n",
              "      <td>2014-0032</td>\n",
              "      <td>Gwent</td>\n",
              "      <td>2014</td>\n",
              "    </tr>\n",
              "    <tr>\n",
              "      <th>177</th>\n",
              "      <td>2022-01-14</td>\n",
              "      <td>2022-0010</td>\n",
              "      <td>Gwent</td>\n",
              "      <td>2022</td>\n",
              "    </tr>\n",
              "    <tr>\n",
              "      <th>178</th>\n",
              "      <td>2022-01-05</td>\n",
              "      <td>2022-0001</td>\n",
              "      <td>Gwent</td>\n",
              "      <td>2022</td>\n",
              "    </tr>\n",
              "    <tr>\n",
              "      <th>179</th>\n",
              "      <td>2021-11-03</td>\n",
              "      <td>2021-0372</td>\n",
              "      <td>Gwent</td>\n",
              "      <td>2021</td>\n",
              "    </tr>\n",
              "  </tbody>\n",
              "</table>\n",
              "<p>180 rows × 4 columns</p>\n",
              "</div>\n",
              "      <button class=\"colab-df-convert\" onclick=\"convertToInteractive('df-0c2862ad-cccd-4dd3-8cdd-c7545243007d')\"\n",
              "              title=\"Convert this dataframe to an interactive table.\"\n",
              "              style=\"display:none;\">\n",
              "        \n",
              "  <svg xmlns=\"http://www.w3.org/2000/svg\" height=\"24px\"viewBox=\"0 0 24 24\"\n",
              "       width=\"24px\">\n",
              "    <path d=\"M0 0h24v24H0V0z\" fill=\"none\"/>\n",
              "    <path d=\"M18.56 5.44l.94 2.06.94-2.06 2.06-.94-2.06-.94-.94-2.06-.94 2.06-2.06.94zm-11 1L8.5 8.5l.94-2.06 2.06-.94-2.06-.94L8.5 2.5l-.94 2.06-2.06.94zm10 10l.94 2.06.94-2.06 2.06-.94-2.06-.94-.94-2.06-.94 2.06-2.06.94z\"/><path d=\"M17.41 7.96l-1.37-1.37c-.4-.4-.92-.59-1.43-.59-.52 0-1.04.2-1.43.59L10.3 9.45l-7.72 7.72c-.78.78-.78 2.05 0 2.83L4 21.41c.39.39.9.59 1.41.59.51 0 1.02-.2 1.41-.59l7.78-7.78 2.81-2.81c.8-.78.8-2.07 0-2.86zM5.41 20L4 18.59l7.72-7.72 1.47 1.35L5.41 20z\"/>\n",
              "  </svg>\n",
              "      </button>\n",
              "      \n",
              "  <style>\n",
              "    .colab-df-container {\n",
              "      display:flex;\n",
              "      flex-wrap:wrap;\n",
              "      gap: 12px;\n",
              "    }\n",
              "\n",
              "    .colab-df-convert {\n",
              "      background-color: #E8F0FE;\n",
              "      border: none;\n",
              "      border-radius: 50%;\n",
              "      cursor: pointer;\n",
              "      display: none;\n",
              "      fill: #1967D2;\n",
              "      height: 32px;\n",
              "      padding: 0 0 0 0;\n",
              "      width: 32px;\n",
              "    }\n",
              "\n",
              "    .colab-df-convert:hover {\n",
              "      background-color: #E2EBFA;\n",
              "      box-shadow: 0px 1px 2px rgba(60, 64, 67, 0.3), 0px 1px 3px 1px rgba(60, 64, 67, 0.15);\n",
              "      fill: #174EA6;\n",
              "    }\n",
              "\n",
              "    [theme=dark] .colab-df-convert {\n",
              "      background-color: #3B4455;\n",
              "      fill: #D2E3FC;\n",
              "    }\n",
              "\n",
              "    [theme=dark] .colab-df-convert:hover {\n",
              "      background-color: #434B5C;\n",
              "      box-shadow: 0px 1px 3px 1px rgba(0, 0, 0, 0.15);\n",
              "      filter: drop-shadow(0px 1px 2px rgba(0, 0, 0, 0.3));\n",
              "      fill: #FFFFFF;\n",
              "    }\n",
              "  </style>\n",
              "\n",
              "      <script>\n",
              "        const buttonEl =\n",
              "          document.querySelector('#df-0c2862ad-cccd-4dd3-8cdd-c7545243007d button.colab-df-convert');\n",
              "        buttonEl.style.display =\n",
              "          google.colab.kernel.accessAllowed ? 'block' : 'none';\n",
              "\n",
              "        async function convertToInteractive(key) {\n",
              "          const element = document.querySelector('#df-0c2862ad-cccd-4dd3-8cdd-c7545243007d');\n",
              "          const dataTable =\n",
              "            await google.colab.kernel.invokeFunction('convertToInteractive',\n",
              "                                                     [key], {});\n",
              "          if (!dataTable) return;\n",
              "\n",
              "          const docLinkHtml = 'Like what you see? Visit the ' +\n",
              "            '<a target=\"_blank\" href=https://colab.research.google.com/notebooks/data_table.ipynb>data table notebook</a>'\n",
              "            + ' to learn more about interactive tables.';\n",
              "          element.innerHTML = '';\n",
              "          dataTable['output_type'] = 'display_data';\n",
              "          await google.colab.output.renderOutput(dataTable, element);\n",
              "          const docLink = document.createElement('div');\n",
              "          docLink.innerHTML = docLinkHtml;\n",
              "          element.appendChild(docLink);\n",
              "        }\n",
              "      </script>\n",
              "    </div>\n",
              "  </div>\n",
              "  "
            ]
          },
          "metadata": {}
        }
      ]
    },
    {
      "cell_type": "code",
      "source": [
        "year_england = england_death.groupby(['year']).count()\n",
        "year_england.reset_index(inplace = True)\n",
        "year_england = year_england[['year', 'ref']]\n",
        "year_england.rename(columns = {'ref': 'count'}, inplace = True)\n",
        "year_england['year'] = year_england['year'].astype(int)"
      ],
      "metadata": {
        "id": "IORyEz3D_Vsg"
      },
      "execution_count": null,
      "outputs": []
    },
    {
      "cell_type": "code",
      "source": [
        "display(year_england)"
      ],
      "metadata": {
        "colab": {
          "base_uri": "https://localhost:8080/",
          "height": 359
        },
        "id": "tU10_jfnPhXH",
        "outputId": "89c8ac5f-3cde-4203-a470-daf31b27216c"
      },
      "execution_count": null,
      "outputs": [
        {
          "output_type": "display_data",
          "data": {
            "text/plain": [
              "   year  count\n",
              "0  2013    174\n",
              "1  2014    542\n",
              "2  2015    408\n",
              "3  2016    450\n",
              "4  2017    417\n",
              "5  2018    375\n",
              "6  2019    501\n",
              "7  2020    299\n",
              "8  2021    415\n",
              "9  2022    137"
            ],
            "text/html": [
              "\n",
              "  <div id=\"df-2354b48e-ce86-4f21-b1a0-650615dbaadf\">\n",
              "    <div class=\"colab-df-container\">\n",
              "      <div>\n",
              "<style scoped>\n",
              "    .dataframe tbody tr th:only-of-type {\n",
              "        vertical-align: middle;\n",
              "    }\n",
              "\n",
              "    .dataframe tbody tr th {\n",
              "        vertical-align: top;\n",
              "    }\n",
              "\n",
              "    .dataframe thead th {\n",
              "        text-align: right;\n",
              "    }\n",
              "</style>\n",
              "<table border=\"1\" class=\"dataframe\">\n",
              "  <thead>\n",
              "    <tr style=\"text-align: right;\">\n",
              "      <th></th>\n",
              "      <th>year</th>\n",
              "      <th>count</th>\n",
              "    </tr>\n",
              "  </thead>\n",
              "  <tbody>\n",
              "    <tr>\n",
              "      <th>0</th>\n",
              "      <td>2013</td>\n",
              "      <td>174</td>\n",
              "    </tr>\n",
              "    <tr>\n",
              "      <th>1</th>\n",
              "      <td>2014</td>\n",
              "      <td>542</td>\n",
              "    </tr>\n",
              "    <tr>\n",
              "      <th>2</th>\n",
              "      <td>2015</td>\n",
              "      <td>408</td>\n",
              "    </tr>\n",
              "    <tr>\n",
              "      <th>3</th>\n",
              "      <td>2016</td>\n",
              "      <td>450</td>\n",
              "    </tr>\n",
              "    <tr>\n",
              "      <th>4</th>\n",
              "      <td>2017</td>\n",
              "      <td>417</td>\n",
              "    </tr>\n",
              "    <tr>\n",
              "      <th>5</th>\n",
              "      <td>2018</td>\n",
              "      <td>375</td>\n",
              "    </tr>\n",
              "    <tr>\n",
              "      <th>6</th>\n",
              "      <td>2019</td>\n",
              "      <td>501</td>\n",
              "    </tr>\n",
              "    <tr>\n",
              "      <th>7</th>\n",
              "      <td>2020</td>\n",
              "      <td>299</td>\n",
              "    </tr>\n",
              "    <tr>\n",
              "      <th>8</th>\n",
              "      <td>2021</td>\n",
              "      <td>415</td>\n",
              "    </tr>\n",
              "    <tr>\n",
              "      <th>9</th>\n",
              "      <td>2022</td>\n",
              "      <td>137</td>\n",
              "    </tr>\n",
              "  </tbody>\n",
              "</table>\n",
              "</div>\n",
              "      <button class=\"colab-df-convert\" onclick=\"convertToInteractive('df-2354b48e-ce86-4f21-b1a0-650615dbaadf')\"\n",
              "              title=\"Convert this dataframe to an interactive table.\"\n",
              "              style=\"display:none;\">\n",
              "        \n",
              "  <svg xmlns=\"http://www.w3.org/2000/svg\" height=\"24px\"viewBox=\"0 0 24 24\"\n",
              "       width=\"24px\">\n",
              "    <path d=\"M0 0h24v24H0V0z\" fill=\"none\"/>\n",
              "    <path d=\"M18.56 5.44l.94 2.06.94-2.06 2.06-.94-2.06-.94-.94-2.06-.94 2.06-2.06.94zm-11 1L8.5 8.5l.94-2.06 2.06-.94-2.06-.94L8.5 2.5l-.94 2.06-2.06.94zm10 10l.94 2.06.94-2.06 2.06-.94-2.06-.94-.94-2.06-.94 2.06-2.06.94z\"/><path d=\"M17.41 7.96l-1.37-1.37c-.4-.4-.92-.59-1.43-.59-.52 0-1.04.2-1.43.59L10.3 9.45l-7.72 7.72c-.78.78-.78 2.05 0 2.83L4 21.41c.39.39.9.59 1.41.59.51 0 1.02-.2 1.41-.59l7.78-7.78 2.81-2.81c.8-.78.8-2.07 0-2.86zM5.41 20L4 18.59l7.72-7.72 1.47 1.35L5.41 20z\"/>\n",
              "  </svg>\n",
              "      </button>\n",
              "      \n",
              "  <style>\n",
              "    .colab-df-container {\n",
              "      display:flex;\n",
              "      flex-wrap:wrap;\n",
              "      gap: 12px;\n",
              "    }\n",
              "\n",
              "    .colab-df-convert {\n",
              "      background-color: #E8F0FE;\n",
              "      border: none;\n",
              "      border-radius: 50%;\n",
              "      cursor: pointer;\n",
              "      display: none;\n",
              "      fill: #1967D2;\n",
              "      height: 32px;\n",
              "      padding: 0 0 0 0;\n",
              "      width: 32px;\n",
              "    }\n",
              "\n",
              "    .colab-df-convert:hover {\n",
              "      background-color: #E2EBFA;\n",
              "      box-shadow: 0px 1px 2px rgba(60, 64, 67, 0.3), 0px 1px 3px 1px rgba(60, 64, 67, 0.15);\n",
              "      fill: #174EA6;\n",
              "    }\n",
              "\n",
              "    [theme=dark] .colab-df-convert {\n",
              "      background-color: #3B4455;\n",
              "      fill: #D2E3FC;\n",
              "    }\n",
              "\n",
              "    [theme=dark] .colab-df-convert:hover {\n",
              "      background-color: #434B5C;\n",
              "      box-shadow: 0px 1px 3px 1px rgba(0, 0, 0, 0.15);\n",
              "      filter: drop-shadow(0px 1px 2px rgba(0, 0, 0, 0.3));\n",
              "      fill: #FFFFFF;\n",
              "    }\n",
              "  </style>\n",
              "\n",
              "      <script>\n",
              "        const buttonEl =\n",
              "          document.querySelector('#df-2354b48e-ce86-4f21-b1a0-650615dbaadf button.colab-df-convert');\n",
              "        buttonEl.style.display =\n",
              "          google.colab.kernel.accessAllowed ? 'block' : 'none';\n",
              "\n",
              "        async function convertToInteractive(key) {\n",
              "          const element = document.querySelector('#df-2354b48e-ce86-4f21-b1a0-650615dbaadf');\n",
              "          const dataTable =\n",
              "            await google.colab.kernel.invokeFunction('convertToInteractive',\n",
              "                                                     [key], {});\n",
              "          if (!dataTable) return;\n",
              "\n",
              "          const docLinkHtml = 'Like what you see? Visit the ' +\n",
              "            '<a target=\"_blank\" href=https://colab.research.google.com/notebooks/data_table.ipynb>data table notebook</a>'\n",
              "            + ' to learn more about interactive tables.';\n",
              "          element.innerHTML = '';\n",
              "          dataTable['output_type'] = 'display_data';\n",
              "          await google.colab.output.renderOutput(dataTable, element);\n",
              "          const docLink = document.createElement('div');\n",
              "          docLink.innerHTML = docLinkHtml;\n",
              "          element.appendChild(docLink);\n",
              "        }\n",
              "      </script>\n",
              "    </div>\n",
              "  </div>\n",
              "  "
            ]
          },
          "metadata": {}
        }
      ]
    },
    {
      "cell_type": "code",
      "source": [
        "year_wales = wales_death.groupby(['year']).count()"
      ],
      "metadata": {
        "id": "HL4CQJyIQ58K"
      },
      "execution_count": null,
      "outputs": []
    },
    {
      "cell_type": "code",
      "source": [
        "year_wales.reset_index(inplace = True)\n",
        "year_wales = year_wales[['year', 'ref']]\n",
        "year_wales.rename(columns = {'ref': 'count'}, inplace = True)"
      ],
      "metadata": {
        "id": "8KD9LQpNRCxV",
        "colab": {
          "base_uri": "https://localhost:8080/"
        },
        "outputId": "b07282f8-88a3-4db5-cd43-f7124e21e3e5"
      },
      "execution_count": null,
      "outputs": [
        {
          "output_type": "stream",
          "name": "stderr",
          "text": [
            "/usr/local/lib/python3.7/dist-packages/pandas/core/frame.py:5047: SettingWithCopyWarning: \n",
            "A value is trying to be set on a copy of a slice from a DataFrame\n",
            "\n",
            "See the caveats in the documentation: https://pandas.pydata.org/pandas-docs/stable/user_guide/indexing.html#returning-a-view-versus-a-copy\n",
            "  errors=errors,\n"
          ]
        }
      ]
    },
    {
      "cell_type": "code",
      "source": [
        "display(year_wales)"
      ],
      "metadata": {
        "colab": {
          "base_uri": "https://localhost:8080/",
          "height": 359
        },
        "id": "jV9NF_hrQ-jE",
        "outputId": "c89fd8cd-5c36-4845-c353-6d2518247f0a"
      },
      "execution_count": null,
      "outputs": [
        {
          "output_type": "display_data",
          "data": {
            "text/plain": [
              "   year  count\n",
              "0  2013      6\n",
              "1  2014     25\n",
              "2  2015     26\n",
              "3  2016     22\n",
              "4  2017     23\n",
              "5  2018     12\n",
              "6  2019     25\n",
              "7  2020     12\n",
              "8  2021     18\n",
              "9  2022      8"
            ],
            "text/html": [
              "\n",
              "  <div id=\"df-5950914b-0f5a-4d51-a485-6651d6233d84\">\n",
              "    <div class=\"colab-df-container\">\n",
              "      <div>\n",
              "<style scoped>\n",
              "    .dataframe tbody tr th:only-of-type {\n",
              "        vertical-align: middle;\n",
              "    }\n",
              "\n",
              "    .dataframe tbody tr th {\n",
              "        vertical-align: top;\n",
              "    }\n",
              "\n",
              "    .dataframe thead th {\n",
              "        text-align: right;\n",
              "    }\n",
              "</style>\n",
              "<table border=\"1\" class=\"dataframe\">\n",
              "  <thead>\n",
              "    <tr style=\"text-align: right;\">\n",
              "      <th></th>\n",
              "      <th>year</th>\n",
              "      <th>count</th>\n",
              "    </tr>\n",
              "  </thead>\n",
              "  <tbody>\n",
              "    <tr>\n",
              "      <th>0</th>\n",
              "      <td>2013</td>\n",
              "      <td>6</td>\n",
              "    </tr>\n",
              "    <tr>\n",
              "      <th>1</th>\n",
              "      <td>2014</td>\n",
              "      <td>25</td>\n",
              "    </tr>\n",
              "    <tr>\n",
              "      <th>2</th>\n",
              "      <td>2015</td>\n",
              "      <td>26</td>\n",
              "    </tr>\n",
              "    <tr>\n",
              "      <th>3</th>\n",
              "      <td>2016</td>\n",
              "      <td>22</td>\n",
              "    </tr>\n",
              "    <tr>\n",
              "      <th>4</th>\n",
              "      <td>2017</td>\n",
              "      <td>23</td>\n",
              "    </tr>\n",
              "    <tr>\n",
              "      <th>5</th>\n",
              "      <td>2018</td>\n",
              "      <td>12</td>\n",
              "    </tr>\n",
              "    <tr>\n",
              "      <th>6</th>\n",
              "      <td>2019</td>\n",
              "      <td>25</td>\n",
              "    </tr>\n",
              "    <tr>\n",
              "      <th>7</th>\n",
              "      <td>2020</td>\n",
              "      <td>12</td>\n",
              "    </tr>\n",
              "    <tr>\n",
              "      <th>8</th>\n",
              "      <td>2021</td>\n",
              "      <td>18</td>\n",
              "    </tr>\n",
              "    <tr>\n",
              "      <th>9</th>\n",
              "      <td>2022</td>\n",
              "      <td>8</td>\n",
              "    </tr>\n",
              "  </tbody>\n",
              "</table>\n",
              "</div>\n",
              "      <button class=\"colab-df-convert\" onclick=\"convertToInteractive('df-5950914b-0f5a-4d51-a485-6651d6233d84')\"\n",
              "              title=\"Convert this dataframe to an interactive table.\"\n",
              "              style=\"display:none;\">\n",
              "        \n",
              "  <svg xmlns=\"http://www.w3.org/2000/svg\" height=\"24px\"viewBox=\"0 0 24 24\"\n",
              "       width=\"24px\">\n",
              "    <path d=\"M0 0h24v24H0V0z\" fill=\"none\"/>\n",
              "    <path d=\"M18.56 5.44l.94 2.06.94-2.06 2.06-.94-2.06-.94-.94-2.06-.94 2.06-2.06.94zm-11 1L8.5 8.5l.94-2.06 2.06-.94-2.06-.94L8.5 2.5l-.94 2.06-2.06.94zm10 10l.94 2.06.94-2.06 2.06-.94-2.06-.94-.94-2.06-.94 2.06-2.06.94z\"/><path d=\"M17.41 7.96l-1.37-1.37c-.4-.4-.92-.59-1.43-.59-.52 0-1.04.2-1.43.59L10.3 9.45l-7.72 7.72c-.78.78-.78 2.05 0 2.83L4 21.41c.39.39.9.59 1.41.59.51 0 1.02-.2 1.41-.59l7.78-7.78 2.81-2.81c.8-.78.8-2.07 0-2.86zM5.41 20L4 18.59l7.72-7.72 1.47 1.35L5.41 20z\"/>\n",
              "  </svg>\n",
              "      </button>\n",
              "      \n",
              "  <style>\n",
              "    .colab-df-container {\n",
              "      display:flex;\n",
              "      flex-wrap:wrap;\n",
              "      gap: 12px;\n",
              "    }\n",
              "\n",
              "    .colab-df-convert {\n",
              "      background-color: #E8F0FE;\n",
              "      border: none;\n",
              "      border-radius: 50%;\n",
              "      cursor: pointer;\n",
              "      display: none;\n",
              "      fill: #1967D2;\n",
              "      height: 32px;\n",
              "      padding: 0 0 0 0;\n",
              "      width: 32px;\n",
              "    }\n",
              "\n",
              "    .colab-df-convert:hover {\n",
              "      background-color: #E2EBFA;\n",
              "      box-shadow: 0px 1px 2px rgba(60, 64, 67, 0.3), 0px 1px 3px 1px rgba(60, 64, 67, 0.15);\n",
              "      fill: #174EA6;\n",
              "    }\n",
              "\n",
              "    [theme=dark] .colab-df-convert {\n",
              "      background-color: #3B4455;\n",
              "      fill: #D2E3FC;\n",
              "    }\n",
              "\n",
              "    [theme=dark] .colab-df-convert:hover {\n",
              "      background-color: #434B5C;\n",
              "      box-shadow: 0px 1px 3px 1px rgba(0, 0, 0, 0.15);\n",
              "      filter: drop-shadow(0px 1px 2px rgba(0, 0, 0, 0.3));\n",
              "      fill: #FFFFFF;\n",
              "    }\n",
              "  </style>\n",
              "\n",
              "      <script>\n",
              "        const buttonEl =\n",
              "          document.querySelector('#df-5950914b-0f5a-4d51-a485-6651d6233d84 button.colab-df-convert');\n",
              "        buttonEl.style.display =\n",
              "          google.colab.kernel.accessAllowed ? 'block' : 'none';\n",
              "\n",
              "        async function convertToInteractive(key) {\n",
              "          const element = document.querySelector('#df-5950914b-0f5a-4d51-a485-6651d6233d84');\n",
              "          const dataTable =\n",
              "            await google.colab.kernel.invokeFunction('convertToInteractive',\n",
              "                                                     [key], {});\n",
              "          if (!dataTable) return;\n",
              "\n",
              "          const docLinkHtml = 'Like what you see? Visit the ' +\n",
              "            '<a target=\"_blank\" href=https://colab.research.google.com/notebooks/data_table.ipynb>data table notebook</a>'\n",
              "            + ' to learn more about interactive tables.';\n",
              "          element.innerHTML = '';\n",
              "          dataTable['output_type'] = 'display_data';\n",
              "          await google.colab.output.renderOutput(dataTable, element);\n",
              "          const docLink = document.createElement('div');\n",
              "          docLink.innerHTML = docLinkHtml;\n",
              "          element.appendChild(docLink);\n",
              "        }\n",
              "      </script>\n",
              "    </div>\n",
              "  </div>\n",
              "  "
            ]
          },
          "metadata": {}
        }
      ]
    },
    {
      "cell_type": "code",
      "source": [
        "year_wales['year'] = year_wales['year'].astype(int)"
      ],
      "metadata": {
        "id": "tiI8bLu4RTOo",
        "colab": {
          "base_uri": "https://localhost:8080/"
        },
        "outputId": "1d29388e-aebf-42b9-d2f7-81ff3f8494bf"
      },
      "execution_count": null,
      "outputs": [
        {
          "output_type": "stream",
          "name": "stderr",
          "text": [
            "/usr/local/lib/python3.7/dist-packages/ipykernel_launcher.py:1: SettingWithCopyWarning: \n",
            "A value is trying to be set on a copy of a slice from a DataFrame.\n",
            "Try using .loc[row_indexer,col_indexer] = value instead\n",
            "\n",
            "See the caveats in the documentation: https://pandas.pydata.org/pandas-docs/stable/user_guide/indexing.html#returning-a-view-versus-a-copy\n",
            "  \"\"\"Entry point for launching an IPython kernel.\n"
          ]
        }
      ]
    },
    {
      "cell_type": "markdown",
      "source": [
        "# Plot England and Wales together to see if Wales is underreported"
      ],
      "metadata": {
        "id": "EgpeiyP0mMyn"
      }
    },
    {
      "cell_type": "code",
      "source": [
        "plt.figure(figsize=(10, 6))\n",
        "plt.plot(range(10), year_wales['count'], label = 'Wales')\n",
        "plt.plot(range(10), year_england['count'], label = 'England')\n",
        "plt.legend()"
      ],
      "metadata": {
        "colab": {
          "base_uri": "https://localhost:8080/",
          "height": 391
        },
        "id": "oHJ8EUsM_cAR",
        "outputId": "efb4c908-fd61-4d8e-fa2d-eff1778ac609"
      },
      "execution_count": null,
      "outputs": [
        {
          "output_type": "execute_result",
          "data": {
            "text/plain": [
              "<matplotlib.legend.Legend at 0x7fc5d87880d0>"
            ]
          },
          "metadata": {},
          "execution_count": 52
        },
        {
          "output_type": "display_data",
          "data": {
            "text/plain": [
              "<Figure size 720x432 with 1 Axes>"
            ],
            "image/png": "[encoded data removed]"
          },
          "metadata": {
            "needs_background": "light"
          }
        }
      ]
    },
    {
      "cell_type": "markdown",
      "source": [
        "#Need to scale Wales and England by their population to obtain PFDs per \n",
        "#100,000 "
      ],
      "metadata": {
        "id": "_VEXifH3B_BR"
      }
    },
    {
      "cell_type": "markdown",
      "source": [
        "Download ONS population data from \n",
        "\n",
        "https://www.ons.gov.uk/peoplepopulationandcommunity/populationandmigration/populationestimates/timeseries/wapop/pop\n",
        "\n",
        "https://www.ons.gov.uk/peoplepopulationandcommunity/populationandmigration/populationestimates/timeseries/enpop/pop"
      ],
      "metadata": {
        "id": "4D2hhYw8CX-m"
      }
    },
    {
      "cell_type": "code",
      "source": [
        "en_pop = pd.read_csv('England_pop.csv')\n",
        "wa_pop = pd.read_csv('Wales_pop.csv')\n",
        "en_pop = en_pop.loc[49:]\n",
        "wa_pop = wa_pop.loc[49:]"
      ],
      "metadata": {
        "id": "KMKV5RG_Ce5n",
        "colab": {
          "base_uri": "https://localhost:8080/",
          "height": 375
        },
        "outputId": "b7807552-45a7-4ade-9fc9-175d9547e037"
      },
      "execution_count": null,
      "outputs": [
        {
          "output_type": "error",
          "ename": "FileNotFoundError",
          "evalue": "ignored",
          "traceback": [
            "\u001b[0;31m---------------------------------------------------------------------------\u001b[0m",
            "\u001b[0;31mFileNotFoundError\u001b[0m                         Traceback (most recent call last)",
            "\u001b[0;32m<ipython-input-53-15acdcb3158f>\u001b[0m in \u001b[0;36m<module>\u001b[0;34m()\u001b[0m\n\u001b[0;32m----> 1\u001b[0;31m \u001b[0men_pop\u001b[0m \u001b[0;34m=\u001b[0m \u001b[0mpd\u001b[0m\u001b[0;34m.\u001b[0m\u001b[0mread_csv\u001b[0m\u001b[0;34m(\u001b[0m\u001b[0;34m'England_pop.csv'\u001b[0m\u001b[0;34m)\u001b[0m\u001b[0;34m\u001b[0m\u001b[0;34m\u001b[0m\u001b[0m\n\u001b[0m\u001b[1;32m      2\u001b[0m \u001b[0mwa_pop\u001b[0m \u001b[0;34m=\u001b[0m \u001b[0mpd\u001b[0m\u001b[0;34m.\u001b[0m\u001b[0mread_csv\u001b[0m\u001b[0;34m(\u001b[0m\u001b[0;34m'Wales_pop.csv'\u001b[0m\u001b[0;34m)\u001b[0m\u001b[0;34m\u001b[0m\u001b[0;34m\u001b[0m\u001b[0m\n\u001b[1;32m      3\u001b[0m \u001b[0men_pop\u001b[0m \u001b[0;34m=\u001b[0m \u001b[0men_pop\u001b[0m\u001b[0;34m.\u001b[0m\u001b[0mloc\u001b[0m\u001b[0;34m[\u001b[0m\u001b[0;36m49\u001b[0m\u001b[0;34m:\u001b[0m\u001b[0;34m]\u001b[0m\u001b[0;34m\u001b[0m\u001b[0;34m\u001b[0m\u001b[0m\n\u001b[1;32m      4\u001b[0m \u001b[0mwa_pop\u001b[0m \u001b[0;34m=\u001b[0m \u001b[0mwa_pop\u001b[0m\u001b[0;34m.\u001b[0m\u001b[0mloc\u001b[0m\u001b[0;34m[\u001b[0m\u001b[0;36m49\u001b[0m\u001b[0;34m:\u001b[0m\u001b[0;34m]\u001b[0m\u001b[0;34m\u001b[0m\u001b[0;34m\u001b[0m\u001b[0m\n",
            "\u001b[0;32m/usr/local/lib/python3.7/dist-packages/pandas/util/_decorators.py\u001b[0m in \u001b[0;36mwrapper\u001b[0;34m(*args, **kwargs)\u001b[0m\n\u001b[1;32m    309\u001b[0m                     \u001b[0mstacklevel\u001b[0m\u001b[0;34m=\u001b[0m\u001b[0mstacklevel\u001b[0m\u001b[0;34m,\u001b[0m\u001b[0;34m\u001b[0m\u001b[0;34m\u001b[0m\u001b[0m\n\u001b[1;32m    310\u001b[0m                 )\n\u001b[0;32m--> 311\u001b[0;31m             \u001b[0;32mreturn\u001b[0m \u001b[0mfunc\u001b[0m\u001b[0;34m(\u001b[0m\u001b[0;34m*\u001b[0m\u001b[0margs\u001b[0m\u001b[0;34m,\u001b[0m \u001b[0;34m**\u001b[0m\u001b[0mkwargs\u001b[0m\u001b[0;34m)\u001b[0m\u001b[0;34m\u001b[0m\u001b[0;34m\u001b[0m\u001b[0m\n\u001b[0m\u001b[1;32m    312\u001b[0m \u001b[0;34m\u001b[0m\u001b[0m\n\u001b[1;32m    313\u001b[0m         \u001b[0;32mreturn\u001b[0m \u001b[0mwrapper\u001b[0m\u001b[0;34m\u001b[0m\u001b[0;34m\u001b[0m\u001b[0m\n",
            "\u001b[0;32m/usr/local/lib/python3.7/dist-packages/pandas/io/parsers/readers.py\u001b[0m in \u001b[0;36mread_csv\u001b[0;34m(filepath_or_buffer, sep, delimiter, header, names, index_col, usecols, squeeze, prefix, mangle_dupe_cols, dtype, engine, converters, true_values, false_values, skipinitialspace, skiprows, skipfooter, nrows, na_values, keep_default_na, na_filter, verbose, skip_blank_lines, parse_dates, infer_datetime_format, keep_date_col, date_parser, dayfirst, cache_dates, iterator, chunksize, compression, thousands, decimal, lineterminator, quotechar, quoting, doublequote, escapechar, comment, encoding, encoding_errors, dialect, error_bad_lines, warn_bad_lines, on_bad_lines, delim_whitespace, low_memory, memory_map, float_precision, storage_options)\u001b[0m\n\u001b[1;32m    584\u001b[0m     \u001b[0mkwds\u001b[0m\u001b[0;34m.\u001b[0m\u001b[0mupdate\u001b[0m\u001b[0;34m(\u001b[0m\u001b[0mkwds_defaults\u001b[0m\u001b[0;34m)\u001b[0m\u001b[0;34m\u001b[0m\u001b[0;34m\u001b[0m\u001b[0m\n\u001b[1;32m    585\u001b[0m \u001b[0;34m\u001b[0m\u001b[0m\n\u001b[0;32m--> 586\u001b[0;31m     \u001b[0;32mreturn\u001b[0m \u001b[0m_read\u001b[0m\u001b[0;34m(\u001b[0m\u001b[0mfilepath_or_buffer\u001b[0m\u001b[0;34m,\u001b[0m \u001b[0mkwds\u001b[0m\u001b[0;34m)\u001b[0m\u001b[0;34m\u001b[0m\u001b[0;34m\u001b[0m\u001b[0m\n\u001b[0m\u001b[1;32m    587\u001b[0m \u001b[0;34m\u001b[0m\u001b[0m\n\u001b[1;32m    588\u001b[0m \u001b[0;34m\u001b[0m\u001b[0m\n",
            "\u001b[0;32m/usr/local/lib/python3.7/dist-packages/pandas/io/parsers/readers.py\u001b[0m in \u001b[0;36m_read\u001b[0;34m(filepath_or_buffer, kwds)\u001b[0m\n\u001b[1;32m    480\u001b[0m \u001b[0;34m\u001b[0m\u001b[0m\n\u001b[1;32m    481\u001b[0m     \u001b[0;31m# Create the parser.\u001b[0m\u001b[0;34m\u001b[0m\u001b[0;34m\u001b[0m\u001b[0;34m\u001b[0m\u001b[0m\n\u001b[0;32m--> 482\u001b[0;31m     \u001b[0mparser\u001b[0m \u001b[0;34m=\u001b[0m \u001b[0mTextFileReader\u001b[0m\u001b[0;34m(\u001b[0m\u001b[0mfilepath_or_buffer\u001b[0m\u001b[0;34m,\u001b[0m \u001b[0;34m**\u001b[0m\u001b[0mkwds\u001b[0m\u001b[0;34m)\u001b[0m\u001b[0;34m\u001b[0m\u001b[0;34m\u001b[0m\u001b[0m\n\u001b[0m\u001b[1;32m    483\u001b[0m \u001b[0;34m\u001b[0m\u001b[0m\n\u001b[1;32m    484\u001b[0m     \u001b[0;32mif\u001b[0m \u001b[0mchunksize\u001b[0m \u001b[0;32mor\u001b[0m \u001b[0miterator\u001b[0m\u001b[0;34m:\u001b[0m\u001b[0;34m\u001b[0m\u001b[0;34m\u001b[0m\u001b[0m\n",
            "\u001b[0;32m/usr/local/lib/python3.7/dist-packages/pandas/io/parsers/readers.py\u001b[0m in \u001b[0;36m__init__\u001b[0;34m(self, f, engine, **kwds)\u001b[0m\n\u001b[1;32m    809\u001b[0m             \u001b[0mself\u001b[0m\u001b[0;34m.\u001b[0m\u001b[0moptions\u001b[0m\u001b[0;34m[\u001b[0m\u001b[0;34m\"has_index_names\"\u001b[0m\u001b[0;34m]\u001b[0m \u001b[0;34m=\u001b[0m \u001b[0mkwds\u001b[0m\u001b[0;34m[\u001b[0m\u001b[0;34m\"has_index_names\"\u001b[0m\u001b[0;34m]\u001b[0m\u001b[0;34m\u001b[0m\u001b[0;34m\u001b[0m\u001b[0m\n\u001b[1;32m    810\u001b[0m \u001b[0;34m\u001b[0m\u001b[0m\n\u001b[0;32m--> 811\u001b[0;31m         \u001b[0mself\u001b[0m\u001b[0;34m.\u001b[0m\u001b[0m_engine\u001b[0m \u001b[0;34m=\u001b[0m \u001b[0mself\u001b[0m\u001b[0;34m.\u001b[0m\u001b[0m_make_engine\u001b[0m\u001b[0;34m(\u001b[0m\u001b[0mself\u001b[0m\u001b[0;34m.\u001b[0m\u001b[0mengine\u001b[0m\u001b[0;34m)\u001b[0m\u001b[0;34m\u001b[0m\u001b[0;34m\u001b[0m\u001b[0m\n\u001b[0m\u001b[1;32m    812\u001b[0m \u001b[0;34m\u001b[0m\u001b[0m\n\u001b[1;32m    813\u001b[0m     \u001b[0;32mdef\u001b[0m \u001b[0mclose\u001b[0m\u001b[0;34m(\u001b[0m\u001b[0mself\u001b[0m\u001b[0;34m)\u001b[0m\u001b[0;34m:\u001b[0m\u001b[0;34m\u001b[0m\u001b[0;34m\u001b[0m\u001b[0m\n",
            "\u001b[0;32m/usr/local/lib/python3.7/dist-packages/pandas/io/parsers/readers.py\u001b[0m in \u001b[0;36m_make_engine\u001b[0;34m(self, engine)\u001b[0m\n\u001b[1;32m   1038\u001b[0m             )\n\u001b[1;32m   1039\u001b[0m         \u001b[0;31m# error: Too many arguments for \"ParserBase\"\u001b[0m\u001b[0;34m\u001b[0m\u001b[0;34m\u001b[0m\u001b[0;34m\u001b[0m\u001b[0m\n\u001b[0;32m-> 1040\u001b[0;31m         \u001b[0;32mreturn\u001b[0m \u001b[0mmapping\u001b[0m\u001b[0;34m[\u001b[0m\u001b[0mengine\u001b[0m\u001b[0;34m]\u001b[0m\u001b[0;34m(\u001b[0m\u001b[0mself\u001b[0m\u001b[0;34m.\u001b[0m\u001b[0mf\u001b[0m\u001b[0;34m,\u001b[0m \u001b[0;34m**\u001b[0m\u001b[0mself\u001b[0m\u001b[0;34m.\u001b[0m\u001b[0moptions\u001b[0m\u001b[0;34m)\u001b[0m  \u001b[0;31m# type: ignore[call-arg]\u001b[0m\u001b[0;34m\u001b[0m\u001b[0;34m\u001b[0m\u001b[0m\n\u001b[0m\u001b[1;32m   1041\u001b[0m \u001b[0;34m\u001b[0m\u001b[0m\n\u001b[1;32m   1042\u001b[0m     \u001b[0;32mdef\u001b[0m \u001b[0m_failover_to_python\u001b[0m\u001b[0;34m(\u001b[0m\u001b[0mself\u001b[0m\u001b[0;34m)\u001b[0m\u001b[0;34m:\u001b[0m\u001b[0;34m\u001b[0m\u001b[0;34m\u001b[0m\u001b[0m\n",
            "\u001b[0;32m/usr/local/lib/python3.7/dist-packages/pandas/io/parsers/c_parser_wrapper.py\u001b[0m in \u001b[0;36m__init__\u001b[0;34m(self, src, **kwds)\u001b[0m\n\u001b[1;32m     49\u001b[0m \u001b[0;34m\u001b[0m\u001b[0m\n\u001b[1;32m     50\u001b[0m         \u001b[0;31m# open handles\u001b[0m\u001b[0;34m\u001b[0m\u001b[0;34m\u001b[0m\u001b[0;34m\u001b[0m\u001b[0m\n\u001b[0;32m---> 51\u001b[0;31m         \u001b[0mself\u001b[0m\u001b[0;34m.\u001b[0m\u001b[0m_open_handles\u001b[0m\u001b[0;34m(\u001b[0m\u001b[0msrc\u001b[0m\u001b[0;34m,\u001b[0m \u001b[0mkwds\u001b[0m\u001b[0;34m)\u001b[0m\u001b[0;34m\u001b[0m\u001b[0;34m\u001b[0m\u001b[0m\n\u001b[0m\u001b[1;32m     52\u001b[0m         \u001b[0;32massert\u001b[0m \u001b[0mself\u001b[0m\u001b[0;34m.\u001b[0m\u001b[0mhandles\u001b[0m \u001b[0;32mis\u001b[0m \u001b[0;32mnot\u001b[0m \u001b[0;32mNone\u001b[0m\u001b[0;34m\u001b[0m\u001b[0;34m\u001b[0m\u001b[0m\n\u001b[1;32m     53\u001b[0m \u001b[0;34m\u001b[0m\u001b[0m\n",
            "\u001b[0;32m/usr/local/lib/python3.7/dist-packages/pandas/io/parsers/base_parser.py\u001b[0m in \u001b[0;36m_open_handles\u001b[0;34m(self, src, kwds)\u001b[0m\n\u001b[1;32m    227\u001b[0m             \u001b[0mmemory_map\u001b[0m\u001b[0;34m=\u001b[0m\u001b[0mkwds\u001b[0m\u001b[0;34m.\u001b[0m\u001b[0mget\u001b[0m\u001b[0;34m(\u001b[0m\u001b[0;34m\"memory_map\"\u001b[0m\u001b[0;34m,\u001b[0m \u001b[0;32mFalse\u001b[0m\u001b[0;34m)\u001b[0m\u001b[0;34m,\u001b[0m\u001b[0;34m\u001b[0m\u001b[0;34m\u001b[0m\u001b[0m\n\u001b[1;32m    228\u001b[0m             \u001b[0mstorage_options\u001b[0m\u001b[0;34m=\u001b[0m\u001b[0mkwds\u001b[0m\u001b[0;34m.\u001b[0m\u001b[0mget\u001b[0m\u001b[0;34m(\u001b[0m\u001b[0;34m\"storage_options\"\u001b[0m\u001b[0;34m,\u001b[0m \u001b[0;32mNone\u001b[0m\u001b[0;34m)\u001b[0m\u001b[0;34m,\u001b[0m\u001b[0;34m\u001b[0m\u001b[0;34m\u001b[0m\u001b[0m\n\u001b[0;32m--> 229\u001b[0;31m             \u001b[0merrors\u001b[0m\u001b[0;34m=\u001b[0m\u001b[0mkwds\u001b[0m\u001b[0;34m.\u001b[0m\u001b[0mget\u001b[0m\u001b[0;34m(\u001b[0m\u001b[0;34m\"encoding_errors\"\u001b[0m\u001b[0;34m,\u001b[0m \u001b[0;34m\"strict\"\u001b[0m\u001b[0;34m)\u001b[0m\u001b[0;34m,\u001b[0m\u001b[0;34m\u001b[0m\u001b[0;34m\u001b[0m\u001b[0m\n\u001b[0m\u001b[1;32m    230\u001b[0m         )\n\u001b[1;32m    231\u001b[0m \u001b[0;34m\u001b[0m\u001b[0m\n",
            "\u001b[0;32m/usr/local/lib/python3.7/dist-packages/pandas/io/common.py\u001b[0m in \u001b[0;36mget_handle\u001b[0;34m(path_or_buf, mode, encoding, compression, memory_map, is_text, errors, storage_options)\u001b[0m\n\u001b[1;32m    705\u001b[0m                 \u001b[0mencoding\u001b[0m\u001b[0;34m=\u001b[0m\u001b[0mioargs\u001b[0m\u001b[0;34m.\u001b[0m\u001b[0mencoding\u001b[0m\u001b[0;34m,\u001b[0m\u001b[0;34m\u001b[0m\u001b[0;34m\u001b[0m\u001b[0m\n\u001b[1;32m    706\u001b[0m                 \u001b[0merrors\u001b[0m\u001b[0;34m=\u001b[0m\u001b[0merrors\u001b[0m\u001b[0;34m,\u001b[0m\u001b[0;34m\u001b[0m\u001b[0;34m\u001b[0m\u001b[0m\n\u001b[0;32m--> 707\u001b[0;31m                 \u001b[0mnewline\u001b[0m\u001b[0;34m=\u001b[0m\u001b[0;34m\"\"\u001b[0m\u001b[0;34m,\u001b[0m\u001b[0;34m\u001b[0m\u001b[0;34m\u001b[0m\u001b[0m\n\u001b[0m\u001b[1;32m    708\u001b[0m             )\n\u001b[1;32m    709\u001b[0m         \u001b[0;32melse\u001b[0m\u001b[0;34m:\u001b[0m\u001b[0;34m\u001b[0m\u001b[0;34m\u001b[0m\u001b[0m\n",
            "\u001b[0;31mFileNotFoundError\u001b[0m: [Errno 2] No such file or directory: 'England_pop.csv'"
          ]
        }
      ]
    },
    {
      "cell_type": "markdown",
      "source": [
        "Add census data from 2021 and guess 2022 population by the trend\n",
        "\n",
        "https://www.ons.gov.uk/peoplepopulationandcommunity/populationandmigration/populationestimates/bulletins/populationandhouseholdestimatesenglandandwales/census2021"
      ],
      "metadata": {
        "id": "dQ3d9d2NFK02"
      }
    },
    {
      "cell_type": "code",
      "source": [
        "print(type(wa_pop.loc[56, 'Wales population mid-year estimate']))"
      ],
      "metadata": {
        "id": "pXokcRELHEaG"
      },
      "execution_count": null,
      "outputs": []
    },
    {
      "cell_type": "code",
      "source": [
        "en_pop.loc[len(en_pop.index)] = ['2021', '56489800']\n",
        "wa_pop.loc[len(wa_pop.index)] = ['2021', '3107500']\n",
        "en_pop.loc[len(en_pop.index)] = ['2022', '56489800']\n",
        "wa_pop.loc[len(wa_pop.index)] = ['2022', '3107500']\n",
        "en_pop['England population mid-year estimate'] = en_pop['England population mid-year estimate'].astype(int)\n",
        "en_pop['Title'] = en_pop['Title'].astype(int)\n",
        "wa_pop['Wales population mid-year estimate'] = wa_pop['Wales population mid-year estimate'].astype(int)\n",
        "wa_pop['Title'] = wa_pop['Title'].astype(int)"
      ],
      "metadata": {
        "id": "iBL3NG-kIWSM"
      },
      "execution_count": null,
      "outputs": []
    },
    {
      "cell_type": "code",
      "source": [
        "year_wales.loc[:8, 'Wales population mid-year estimate'] = year_wales.loc[9:, 'Wales population mid-year estimate']"
      ],
      "metadata": {
        "id": "uUE0XQ01N99v"
      },
      "execution_count": null,
      "outputs": []
    },
    {
      "cell_type": "markdown",
      "source": [
        "# Start from here with PFD and ONS dataframe"
      ],
      "metadata": {
        "id": "qg8VyiO0GFjx"
      }
    },
    {
      "cell_type": "code",
      "source": [
        "import pandas as pd\n",
        "import numpy as np\n",
        "import matplotlib.pyplot as plt"
      ],
      "metadata": {
        "id": "qYVSeJZiGKru"
      },
      "execution_count": null,
      "outputs": []
    },
    {
      "cell_type": "code",
      "source": [
        "year_wales = pd.DataFrame({'year': range(2013, 2023), 'count': [6, 25, 26, 22, 23, 12, 25, 12, 18, 8], 'Wales pop': [3082400, 3092000, 3099100, 3113200, 3125200, 3138600, 3152900, 3170000, 3107500, 3107500]})"
      ],
      "metadata": {
        "id": "KLYrwrTSOghQ"
      },
      "execution_count": null,
      "outputs": []
    },
    {
      "cell_type": "code",
      "source": [
        "year_en = pd.DataFrame({'year': range(2013, 2023), 'count': [174, 542, 408, 450, 417, 375, 501, 299, 415, 137], 'England pop': [53865800, 54316600, 54786300, 55268100, 55619400, 55977200, 56287000, 56550000, 56489800, 56489800]})"
      ],
      "metadata": {
        "id": "u8RXjFIoPO5x"
      },
      "execution_count": null,
      "outputs": []
    },
    {
      "cell_type": "code",
      "source": [
        "display(year_wales)\n",
        "display(year_en)"
      ],
      "metadata": {
        "colab": {
          "base_uri": "https://localhost:8080/",
          "height": 701
        },
        "id": "ADJPMQF2Qa78",
        "outputId": "5a0f9afc-fc1a-4eae-d37a-11b437d59078"
      },
      "execution_count": null,
      "outputs": [
        {
          "output_type": "display_data",
          "data": {
            "text/plain": [
              "   year  count  Wales pop\n",
              "0  2013      6    3082400\n",
              "1  2014     25    3092000\n",
              "2  2015     26    3099100\n",
              "3  2016     22    3113200\n",
              "4  2017     23    3125200\n",
              "5  2018     12    3138600\n",
              "6  2019     25    3152900\n",
              "7  2020     12    3170000\n",
              "8  2021     18    3107500\n",
              "9  2022      8    3107500"
            ],
            "text/html": [
              "\n",
              "  <div id=\"df-b3ee4298-183b-40ca-8423-23c47bfcf6f0\">\n",
              "    <div class=\"colab-df-container\">\n",
              "      <div>\n",
              "<style scoped>\n",
              "    .dataframe tbody tr th:only-of-type {\n",
              "        vertical-align: middle;\n",
              "    }\n",
              "\n",
              "    .dataframe tbody tr th {\n",
              "        vertical-align: top;\n",
              "    }\n",
              "\n",
              "    .dataframe thead th {\n",
              "        text-align: right;\n",
              "    }\n",
              "</style>\n",
              "<table border=\"1\" class=\"dataframe\">\n",
              "  <thead>\n",
              "    <tr style=\"text-align: right;\">\n",
              "      <th></th>\n",
              "      <th>year</th>\n",
              "      <th>count</th>\n",
              "      <th>Wales pop</th>\n",
              "    </tr>\n",
              "  </thead>\n",
              "  <tbody>\n",
              "    <tr>\n",
              "      <th>0</th>\n",
              "      <td>2013</td>\n",
              "      <td>6</td>\n",
              "      <td>3082400</td>\n",
              "    </tr>\n",
              "    <tr>\n",
              "      <th>1</th>\n",
              "      <td>2014</td>\n",
              "      <td>25</td>\n",
              "      <td>3092000</td>\n",
              "    </tr>\n",
              "    <tr>\n",
              "      <th>2</th>\n",
              "      <td>2015</td>\n",
              "      <td>26</td>\n",
              "      <td>3099100</td>\n",
              "    </tr>\n",
              "    <tr>\n",
              "      <th>3</th>\n",
              "      <td>2016</td>\n",
              "      <td>22</td>\n",
              "      <td>3113200</td>\n",
              "    </tr>\n",
              "    <tr>\n",
              "      <th>4</th>\n",
              "      <td>2017</td>\n",
              "      <td>23</td>\n",
              "      <td>3125200</td>\n",
              "    </tr>\n",
              "    <tr>\n",
              "      <th>5</th>\n",
              "      <td>2018</td>\n",
              "      <td>12</td>\n",
              "      <td>3138600</td>\n",
              "    </tr>\n",
              "    <tr>\n",
              "      <th>6</th>\n",
              "      <td>2019</td>\n",
              "      <td>25</td>\n",
              "      <td>3152900</td>\n",
              "    </tr>\n",
              "    <tr>\n",
              "      <th>7</th>\n",
              "      <td>2020</td>\n",
              "      <td>12</td>\n",
              "      <td>3170000</td>\n",
              "    </tr>\n",
              "    <tr>\n",
              "      <th>8</th>\n",
              "      <td>2021</td>\n",
              "      <td>18</td>\n",
              "      <td>3107500</td>\n",
              "    </tr>\n",
              "    <tr>\n",
              "      <th>9</th>\n",
              "      <td>2022</td>\n",
              "      <td>8</td>\n",
              "      <td>3107500</td>\n",
              "    </tr>\n",
              "  </tbody>\n",
              "</table>\n",
              "</div>\n",
              "      <button class=\"colab-df-convert\" onclick=\"convertToInteractive('df-b3ee4298-183b-40ca-8423-23c47bfcf6f0')\"\n",
              "              title=\"Convert this dataframe to an interactive table.\"\n",
              "              style=\"display:none;\">\n",
              "        \n",
              "  <svg xmlns=\"http://www.w3.org/2000/svg\" height=\"24px\"viewBox=\"0 0 24 24\"\n",
              "       width=\"24px\">\n",
              "    <path d=\"M0 0h24v24H0V0z\" fill=\"none\"/>\n",
              "    <path d=\"M18.56 5.44l.94 2.06.94-2.06 2.06-.94-2.06-.94-.94-2.06-.94 2.06-2.06.94zm-11 1L8.5 8.5l.94-2.06 2.06-.94-2.06-.94L8.5 2.5l-.94 2.06-2.06.94zm10 10l.94 2.06.94-2.06 2.06-.94-2.06-.94-.94-2.06-.94 2.06-2.06.94z\"/><path d=\"M17.41 7.96l-1.37-1.37c-.4-.4-.92-.59-1.43-.59-.52 0-1.04.2-1.43.59L10.3 9.45l-7.72 7.72c-.78.78-.78 2.05 0 2.83L4 21.41c.39.39.9.59 1.41.59.51 0 1.02-.2 1.41-.59l7.78-7.78 2.81-2.81c.8-.78.8-2.07 0-2.86zM5.41 20L4 18.59l7.72-7.72 1.47 1.35L5.41 20z\"/>\n",
              "  </svg>\n",
              "      </button>\n",
              "      \n",
              "  <style>\n",
              "    .colab-df-container {\n",
              "      display:flex;\n",
              "      flex-wrap:wrap;\n",
              "      gap: 12px;\n",
              "    }\n",
              "\n",
              "    .colab-df-convert {\n",
              "      background-color: #E8F0FE;\n",
              "      border: none;\n",
              "      border-radius: 50%;\n",
              "      cursor: pointer;\n",
              "      display: none;\n",
              "      fill: #1967D2;\n",
              "      height: 32px;\n",
              "      padding: 0 0 0 0;\n",
              "      width: 32px;\n",
              "    }\n",
              "\n",
              "    .colab-df-convert:hover {\n",
              "      background-color: #E2EBFA;\n",
              "      box-shadow: 0px 1px 2px rgba(60, 64, 67, 0.3), 0px 1px 3px 1px rgba(60, 64, 67, 0.15);\n",
              "      fill: #174EA6;\n",
              "    }\n",
              "\n",
              "    [theme=dark] .colab-df-convert {\n",
              "      background-color: #3B4455;\n",
              "      fill: #D2E3FC;\n",
              "    }\n",
              "\n",
              "    [theme=dark] .colab-df-convert:hover {\n",
              "      background-color: #434B5C;\n",
              "      box-shadow: 0px 1px 3px 1px rgba(0, 0, 0, 0.15);\n",
              "      filter: drop-shadow(0px 1px 2px rgba(0, 0, 0, 0.3));\n",
              "      fill: #FFFFFF;\n",
              "    }\n",
              "  </style>\n",
              "\n",
              "      <script>\n",
              "        const buttonEl =\n",
              "          document.querySelector('#df-b3ee4298-183b-40ca-8423-23c47bfcf6f0 button.colab-df-convert');\n",
              "        buttonEl.style.display =\n",
              "          google.colab.kernel.accessAllowed ? 'block' : 'none';\n",
              "\n",
              "        async function convertToInteractive(key) {\n",
              "          const element = document.querySelector('#df-b3ee4298-183b-40ca-8423-23c47bfcf6f0');\n",
              "          const dataTable =\n",
              "            await google.colab.kernel.invokeFunction('convertToInteractive',\n",
              "                                                     [key], {});\n",
              "          if (!dataTable) return;\n",
              "\n",
              "          const docLinkHtml = 'Like what you see? Visit the ' +\n",
              "            '<a target=\"_blank\" href=https://colab.research.google.com/notebooks/data_table.ipynb>data table notebook</a>'\n",
              "            + ' to learn more about interactive tables.';\n",
              "          element.innerHTML = '';\n",
              "          dataTable['output_type'] = 'display_data';\n",
              "          await google.colab.output.renderOutput(dataTable, element);\n",
              "          const docLink = document.createElement('div');\n",
              "          docLink.innerHTML = docLinkHtml;\n",
              "          element.appendChild(docLink);\n",
              "        }\n",
              "      </script>\n",
              "    </div>\n",
              "  </div>\n",
              "  "
            ]
          },
          "metadata": {}
        },
        {
          "output_type": "display_data",
          "data": {
            "text/plain": [
              "   year  count  England pop\n",
              "0  2013    174     53865800\n",
              "1  2014    542     54316600\n",
              "2  2015    408     54786300\n",
              "3  2016    450     55268100\n",
              "4  2017    417     55619400\n",
              "5  2018    375     55977200\n",
              "6  2019    501     56287000\n",
              "7  2020    299     56550000\n",
              "8  2021    415     56489800\n",
              "9  2022    137     56489800"
            ],
            "text/html": [
              "\n",
              "  <div id=\"df-fd3d6d26-440c-49da-80ae-150aa550d59c\">\n",
              "    <div class=\"colab-df-container\">\n",
              "      <div>\n",
              "<style scoped>\n",
              "    .dataframe tbody tr th:only-of-type {\n",
              "        vertical-align: middle;\n",
              "    }\n",
              "\n",
              "    .dataframe tbody tr th {\n",
              "        vertical-align: top;\n",
              "    }\n",
              "\n",
              "    .dataframe thead th {\n",
              "        text-align: right;\n",
              "    }\n",
              "</style>\n",
              "<table border=\"1\" class=\"dataframe\">\n",
              "  <thead>\n",
              "    <tr style=\"text-align: right;\">\n",
              "      <th></th>\n",
              "      <th>year</th>\n",
              "      <th>count</th>\n",
              "      <th>England pop</th>\n",
              "    </tr>\n",
              "  </thead>\n",
              "  <tbody>\n",
              "    <tr>\n",
              "      <th>0</th>\n",
              "      <td>2013</td>\n",
              "      <td>174</td>\n",
              "      <td>53865800</td>\n",
              "    </tr>\n",
              "    <tr>\n",
              "      <th>1</th>\n",
              "      <td>2014</td>\n",
              "      <td>542</td>\n",
              "      <td>54316600</td>\n",
              "    </tr>\n",
              "    <tr>\n",
              "      <th>2</th>\n",
              "      <td>2015</td>\n",
              "      <td>408</td>\n",
              "      <td>54786300</td>\n",
              "    </tr>\n",
              "    <tr>\n",
              "      <th>3</th>\n",
              "      <td>2016</td>\n",
              "      <td>450</td>\n",
              "      <td>55268100</td>\n",
              "    </tr>\n",
              "    <tr>\n",
              "      <th>4</th>\n",
              "      <td>2017</td>\n",
              "      <td>417</td>\n",
              "      <td>55619400</td>\n",
              "    </tr>\n",
              "    <tr>\n",
              "      <th>5</th>\n",
              "      <td>2018</td>\n",
              "      <td>375</td>\n",
              "      <td>55977200</td>\n",
              "    </tr>\n",
              "    <tr>\n",
              "      <th>6</th>\n",
              "      <td>2019</td>\n",
              "      <td>501</td>\n",
              "      <td>56287000</td>\n",
              "    </tr>\n",
              "    <tr>\n",
              "      <th>7</th>\n",
              "      <td>2020</td>\n",
              "      <td>299</td>\n",
              "      <td>56550000</td>\n",
              "    </tr>\n",
              "    <tr>\n",
              "      <th>8</th>\n",
              "      <td>2021</td>\n",
              "      <td>415</td>\n",
              "      <td>56489800</td>\n",
              "    </tr>\n",
              "    <tr>\n",
              "      <th>9</th>\n",
              "      <td>2022</td>\n",
              "      <td>137</td>\n",
              "      <td>56489800</td>\n",
              "    </tr>\n",
              "  </tbody>\n",
              "</table>\n",
              "</div>\n",
              "      <button class=\"colab-df-convert\" onclick=\"convertToInteractive('df-fd3d6d26-440c-49da-80ae-150aa550d59c')\"\n",
              "              title=\"Convert this dataframe to an interactive table.\"\n",
              "              style=\"display:none;\">\n",
              "        \n",
              "  <svg xmlns=\"http://www.w3.org/2000/svg\" height=\"24px\"viewBox=\"0 0 24 24\"\n",
              "       width=\"24px\">\n",
              "    <path d=\"M0 0h24v24H0V0z\" fill=\"none\"/>\n",
              "    <path d=\"M18.56 5.44l.94 2.06.94-2.06 2.06-.94-2.06-.94-.94-2.06-.94 2.06-2.06.94zm-11 1L8.5 8.5l.94-2.06 2.06-.94-2.06-.94L8.5 2.5l-.94 2.06-2.06.94zm10 10l.94 2.06.94-2.06 2.06-.94-2.06-.94-.94-2.06-.94 2.06-2.06.94z\"/><path d=\"M17.41 7.96l-1.37-1.37c-.4-.4-.92-.59-1.43-.59-.52 0-1.04.2-1.43.59L10.3 9.45l-7.72 7.72c-.78.78-.78 2.05 0 2.83L4 21.41c.39.39.9.59 1.41.59.51 0 1.02-.2 1.41-.59l7.78-7.78 2.81-2.81c.8-.78.8-2.07 0-2.86zM5.41 20L4 18.59l7.72-7.72 1.47 1.35L5.41 20z\"/>\n",
              "  </svg>\n",
              "      </button>\n",
              "      \n",
              "  <style>\n",
              "    .colab-df-container {\n",
              "      display:flex;\n",
              "      flex-wrap:wrap;\n",
              "      gap: 12px;\n",
              "    }\n",
              "\n",
              "    .colab-df-convert {\n",
              "      background-color: #E8F0FE;\n",
              "      border: none;\n",
              "      border-radius: 50%;\n",
              "      cursor: pointer;\n",
              "      display: none;\n",
              "      fill: #1967D2;\n",
              "      height: 32px;\n",
              "      padding: 0 0 0 0;\n",
              "      width: 32px;\n",
              "    }\n",
              "\n",
              "    .colab-df-convert:hover {\n",
              "      background-color: #E2EBFA;\n",
              "      box-shadow: 0px 1px 2px rgba(60, 64, 67, 0.3), 0px 1px 3px 1px rgba(60, 64, 67, 0.15);\n",
              "      fill: #174EA6;\n",
              "    }\n",
              "\n",
              "    [theme=dark] .colab-df-convert {\n",
              "      background-color: #3B4455;\n",
              "      fill: #D2E3FC;\n",
              "    }\n",
              "\n",
              "    [theme=dark] .colab-df-convert:hover {\n",
              "      background-color: #434B5C;\n",
              "      box-shadow: 0px 1px 3px 1px rgba(0, 0, 0, 0.15);\n",
              "      filter: drop-shadow(0px 1px 2px rgba(0, 0, 0, 0.3));\n",
              "      fill: #FFFFFF;\n",
              "    }\n",
              "  </style>\n",
              "\n",
              "      <script>\n",
              "        const buttonEl =\n",
              "          document.querySelector('#df-fd3d6d26-440c-49da-80ae-150aa550d59c button.colab-df-convert');\n",
              "        buttonEl.style.display =\n",
              "          google.colab.kernel.accessAllowed ? 'block' : 'none';\n",
              "\n",
              "        async function convertToInteractive(key) {\n",
              "          const element = document.querySelector('#df-fd3d6d26-440c-49da-80ae-150aa550d59c');\n",
              "          const dataTable =\n",
              "            await google.colab.kernel.invokeFunction('convertToInteractive',\n",
              "                                                     [key], {});\n",
              "          if (!dataTable) return;\n",
              "\n",
              "          const docLinkHtml = 'Like what you see? Visit the ' +\n",
              "            '<a target=\"_blank\" href=https://colab.research.google.com/notebooks/data_table.ipynb>data table notebook</a>'\n",
              "            + ' to learn more about interactive tables.';\n",
              "          element.innerHTML = '';\n",
              "          dataTable['output_type'] = 'display_data';\n",
              "          await google.colab.output.renderOutput(dataTable, element);\n",
              "          const docLink = document.createElement('div');\n",
              "          docLink.innerHTML = docLinkHtml;\n",
              "          element.appendChild(docLink);\n",
              "        }\n",
              "      </script>\n",
              "    </div>\n",
              "  </div>\n",
              "  "
            ]
          },
          "metadata": {}
        }
      ]
    },
    {
      "cell_type": "code",
      "source": [
        "year_wales['scaled count'] = year_wales['count']/year_wales['Wales pop']*100000"
      ],
      "metadata": {
        "id": "6yhbJInuQqoQ"
      },
      "execution_count": null,
      "outputs": []
    },
    {
      "cell_type": "code",
      "source": [
        "year_en['scaled count'] = year_en['count']/year_en['England pop']*100000"
      ],
      "metadata": {
        "id": "cdsHKRgpQ4lB"
      },
      "execution_count": null,
      "outputs": []
    },
    {
      "cell_type": "code",
      "source": [
        "print(year_wales['scaled count'].mean())\n",
        "print(year_en['scaled count'].mean())"
      ],
      "metadata": {
        "id": "mR4F2FlYXNb7"
      },
      "execution_count": null,
      "outputs": []
    },
    {
      "cell_type": "code",
      "source": [
        "plt.figure(figsize = (10, 6))\n",
        "plt.plot(range(2013, 2023), year_wales['scaled count'], label = 'Wales')\n",
        "plt.plot(range(2013, 2023), year_en['scaled count'], label = 'England')\n",
        "plt.legend()\n",
        "plt.xlabel('Years (2013-2022)')\n",
        "plt.ylabel('Number of PFDs per 100,000')\n",
        "plt.savefig('PFD_england_wales.png')\n",
        "plt.show()"
      ],
      "metadata": {
        "id": "SHc5YV6aRGj3"
      },
      "execution_count": null,
      "outputs": []
    },
    {
      "cell_type": "markdown",
      "source": [
        "Assume 2022 population is the same as 2021. Conclusion: Wales deaths are underreported"
      ],
      "metadata": {
        "id": "zv2hNKeLRsvu"
      }
    },
    {
      "cell_type": "markdown",
      "source": [
        "Save csv of scaled_count"
      ],
      "metadata": {
        "id": "wWucV7U4AKsD"
      }
    },
    {
      "cell_type": "code",
      "source": [
        "en_wa_scaled_pfd = pd.DataFrame({'Years': range(2013, 2023), 'England PFD':year_en['count'], 'England population':year_en['England pop'], 'England PFD (per 100,000)': year_en['scaled count'], 'Wales PFD': year_wales['count'], 'Wales population':year_wales['Wales pop'], 'Wale PFD (per 100,000)': year_wales['scaled count']})"
      ],
      "metadata": {
        "id": "YgsZHDPgAM2y"
      },
      "execution_count": null,
      "outputs": []
    },
    {
      "cell_type": "code",
      "source": [
        "display(en_wa_scaled_pfd)"
      ],
      "metadata": {
        "colab": {
          "base_uri": "https://localhost:8080/",
          "height": 408
        },
        "id": "bZOD-dKSAzeJ",
        "outputId": "6cd22ec5-97a1-4019-e600-f26622746b19"
      },
      "execution_count": null,
      "outputs": [
        {
          "output_type": "display_data",
          "data": {
            "text/plain": [
              "   Years  England PFD  England population  England PFD (per 100,000)  \\\n",
              "0   2013          174            53865800                   0.323025   \n",
              "1   2014          542            54316600                   0.997853   \n",
              "2   2015          408            54786300                   0.744712   \n",
              "3   2016          450            55268100                   0.814213   \n",
              "4   2017          417            55619400                   0.749738   \n",
              "5   2018          375            55977200                   0.669916   \n",
              "6   2019          501            56287000                   0.890081   \n",
              "7   2020          299            56550000                   0.528736   \n",
              "8   2021          415            56489800                   0.734646   \n",
              "9   2022          137            56489800                   0.242522   \n",
              "\n",
              "   Wales PFD  Wales population  Wale PFD (per 100,000)  \n",
              "0          6           3082400                0.194654  \n",
              "1         25           3092000                0.808538  \n",
              "2         26           3099100                0.838953  \n",
              "3         22           3113200                0.706668  \n",
              "4         23           3125200                0.735953  \n",
              "5         12           3138600                0.382336  \n",
              "6         25           3152900                0.792921  \n",
              "7         12           3170000                0.378549  \n",
              "8         18           3107500                0.579244  \n",
              "9          8           3107500                0.257442  "
            ],
            "text/html": [
              "\n",
              "  <div id=\"df-ad42e943-a43a-426b-9970-7fdb275a247f\">\n",
              "    <div class=\"colab-df-container\">\n",
              "      <div>\n",
              "<style scoped>\n",
              "    .dataframe tbody tr th:only-of-type {\n",
              "        vertical-align: middle;\n",
              "    }\n",
              "\n",
              "    .dataframe tbody tr th {\n",
              "        vertical-align: top;\n",
              "    }\n",
              "\n",
              "    .dataframe thead th {\n",
              "        text-align: right;\n",
              "    }\n",
              "</style>\n",
              "<table border=\"1\" class=\"dataframe\">\n",
              "  <thead>\n",
              "    <tr style=\"text-align: right;\">\n",
              "      <th></th>\n",
              "      <th>Years</th>\n",
              "      <th>England PFD</th>\n",
              "      <th>England population</th>\n",
              "      <th>England PFD (per 100,000)</th>\n",
              "      <th>Wales PFD</th>\n",
              "      <th>Wales population</th>\n",
              "      <th>Wale PFD (per 100,000)</th>\n",
              "    </tr>\n",
              "  </thead>\n",
              "  <tbody>\n",
              "    <tr>\n",
              "      <th>0</th>\n",
              "      <td>2013</td>\n",
              "      <td>174</td>\n",
              "      <td>53865800</td>\n",
              "      <td>0.323025</td>\n",
              "      <td>6</td>\n",
              "      <td>3082400</td>\n",
              "      <td>0.194654</td>\n",
              "    </tr>\n",
              "    <tr>\n",
              "      <th>1</th>\n",
              "      <td>2014</td>\n",
              "      <td>542</td>\n",
              "      <td>54316600</td>\n",
              "      <td>0.997853</td>\n",
              "      <td>25</td>\n",
              "      <td>3092000</td>\n",
              "      <td>0.808538</td>\n",
              "    </tr>\n",
              "    <tr>\n",
              "      <th>2</th>\n",
              "      <td>2015</td>\n",
              "      <td>408</td>\n",
              "      <td>54786300</td>\n",
              "      <td>0.744712</td>\n",
              "      <td>26</td>\n",
              "      <td>3099100</td>\n",
              "      <td>0.838953</td>\n",
              "    </tr>\n",
              "    <tr>\n",
              "      <th>3</th>\n",
              "      <td>2016</td>\n",
              "      <td>450</td>\n",
              "      <td>55268100</td>\n",
              "      <td>0.814213</td>\n",
              "      <td>22</td>\n",
              "      <td>3113200</td>\n",
              "      <td>0.706668</td>\n",
              "    </tr>\n",
              "    <tr>\n",
              "      <th>4</th>\n",
              "      <td>2017</td>\n",
              "      <td>417</td>\n",
              "      <td>55619400</td>\n",
              "      <td>0.749738</td>\n",
              "      <td>23</td>\n",
              "      <td>3125200</td>\n",
              "      <td>0.735953</td>\n",
              "    </tr>\n",
              "    <tr>\n",
              "      <th>5</th>\n",
              "      <td>2018</td>\n",
              "      <td>375</td>\n",
              "      <td>55977200</td>\n",
              "      <td>0.669916</td>\n",
              "      <td>12</td>\n",
              "      <td>3138600</td>\n",
              "      <td>0.382336</td>\n",
              "    </tr>\n",
              "    <tr>\n",
              "      <th>6</th>\n",
              "      <td>2019</td>\n",
              "      <td>501</td>\n",
              "      <td>56287000</td>\n",
              "      <td>0.890081</td>\n",
              "      <td>25</td>\n",
              "      <td>3152900</td>\n",
              "      <td>0.792921</td>\n",
              "    </tr>\n",
              "    <tr>\n",
              "      <th>7</th>\n",
              "      <td>2020</td>\n",
              "      <td>299</td>\n",
              "      <td>56550000</td>\n",
              "      <td>0.528736</td>\n",
              "      <td>12</td>\n",
              "      <td>3170000</td>\n",
              "      <td>0.378549</td>\n",
              "    </tr>\n",
              "    <tr>\n",
              "      <th>8</th>\n",
              "      <td>2021</td>\n",
              "      <td>415</td>\n",
              "      <td>56489800</td>\n",
              "      <td>0.734646</td>\n",
              "      <td>18</td>\n",
              "      <td>3107500</td>\n",
              "      <td>0.579244</td>\n",
              "    </tr>\n",
              "    <tr>\n",
              "      <th>9</th>\n",
              "      <td>2022</td>\n",
              "      <td>137</td>\n",
              "      <td>56489800</td>\n",
              "      <td>0.242522</td>\n",
              "      <td>8</td>\n",
              "      <td>3107500</td>\n",
              "      <td>0.257442</td>\n",
              "    </tr>\n",
              "  </tbody>\n",
              "</table>\n",
              "</div>\n",
              "      <button class=\"colab-df-convert\" onclick=\"convertToInteractive('df-ad42e943-a43a-426b-9970-7fdb275a247f')\"\n",
              "              title=\"Convert this dataframe to an interactive table.\"\n",
              "              style=\"display:none;\">\n",
              "        \n",
              "  <svg xmlns=\"http://www.w3.org/2000/svg\" height=\"24px\"viewBox=\"0 0 24 24\"\n",
              "       width=\"24px\">\n",
              "    <path d=\"M0 0h24v24H0V0z\" fill=\"none\"/>\n",
              "    <path d=\"M18.56 5.44l.94 2.06.94-2.06 2.06-.94-2.06-.94-.94-2.06-.94 2.06-2.06.94zm-11 1L8.5 8.5l.94-2.06 2.06-.94-2.06-.94L8.5 2.5l-.94 2.06-2.06.94zm10 10l.94 2.06.94-2.06 2.06-.94-2.06-.94-.94-2.06-.94 2.06-2.06.94z\"/><path d=\"M17.41 7.96l-1.37-1.37c-.4-.4-.92-.59-1.43-.59-.52 0-1.04.2-1.43.59L10.3 9.45l-7.72 7.72c-.78.78-.78 2.05 0 2.83L4 21.41c.39.39.9.59 1.41.59.51 0 1.02-.2 1.41-.59l7.78-7.78 2.81-2.81c.8-.78.8-2.07 0-2.86zM5.41 20L4 18.59l7.72-7.72 1.47 1.35L5.41 20z\"/>\n",
              "  </svg>\n",
              "      </button>\n",
              "      \n",
              "  <style>\n",
              "    .colab-df-container {\n",
              "      display:flex;\n",
              "      flex-wrap:wrap;\n",
              "      gap: 12px;\n",
              "    }\n",
              "\n",
              "    .colab-df-convert {\n",
              "      background-color: #E8F0FE;\n",
              "      border: none;\n",
              "      border-radius: 50%;\n",
              "      cursor: pointer;\n",
              "      display: none;\n",
              "      fill: #1967D2;\n",
              "      height: 32px;\n",
              "      padding: 0 0 0 0;\n",
              "      width: 32px;\n",
              "    }\n",
              "\n",
              "    .colab-df-convert:hover {\n",
              "      background-color: #E2EBFA;\n",
              "      box-shadow: 0px 1px 2px rgba(60, 64, 67, 0.3), 0px 1px 3px 1px rgba(60, 64, 67, 0.15);\n",
              "      fill: #174EA6;\n",
              "    }\n",
              "\n",
              "    [theme=dark] .colab-df-convert {\n",
              "      background-color: #3B4455;\n",
              "      fill: #D2E3FC;\n",
              "    }\n",
              "\n",
              "    [theme=dark] .colab-df-convert:hover {\n",
              "      background-color: #434B5C;\n",
              "      box-shadow: 0px 1px 3px 1px rgba(0, 0, 0, 0.15);\n",
              "      filter: drop-shadow(0px 1px 2px rgba(0, 0, 0, 0.3));\n",
              "      fill: #FFFFFF;\n",
              "    }\n",
              "  </style>\n",
              "\n",
              "      <script>\n",
              "        const buttonEl =\n",
              "          document.querySelector('#df-ad42e943-a43a-426b-9970-7fdb275a247f button.colab-df-convert');\n",
              "        buttonEl.style.display =\n",
              "          google.colab.kernel.accessAllowed ? 'block' : 'none';\n",
              "\n",
              "        async function convertToInteractive(key) {\n",
              "          const element = document.querySelector('#df-ad42e943-a43a-426b-9970-7fdb275a247f');\n",
              "          const dataTable =\n",
              "            await google.colab.kernel.invokeFunction('convertToInteractive',\n",
              "                                                     [key], {});\n",
              "          if (!dataTable) return;\n",
              "\n",
              "          const docLinkHtml = 'Like what you see? Visit the ' +\n",
              "            '<a target=\"_blank\" href=https://colab.research.google.com/notebooks/data_table.ipynb>data table notebook</a>'\n",
              "            + ' to learn more about interactive tables.';\n",
              "          element.innerHTML = '';\n",
              "          dataTable['output_type'] = 'display_data';\n",
              "          await google.colab.output.renderOutput(dataTable, element);\n",
              "          const docLink = document.createElement('div');\n",
              "          docLink.innerHTML = docLinkHtml;\n",
              "          element.appendChild(docLink);\n",
              "        }\n",
              "      </script>\n",
              "    </div>\n",
              "  </div>\n",
              "  "
            ]
          },
          "metadata": {}
        }
      ]
    },
    {
      "cell_type": "code",
      "source": [
        "en_wa_scaled_pfd.to_csv('en_wa_pfd_pop.csv')"
      ],
      "metadata": {
        "id": "U_fYvuS6BgGY"
      },
      "execution_count": null,
      "outputs": []
    },
    {
      "cell_type": "markdown",
      "source": [
        "Find the ratio between Wales and England PFDs"
      ],
      "metadata": {
        "id": "hPFoBInFSJo_"
      }
    },
    {
      "cell_type": "code",
      "source": [
        "ratio = year_wales['scaled count']/year_en['scaled count']\n",
        "plt.figure(figsize = (10, 6))\n",
        "plt.plot(range(2013, 2023), ratio)"
      ],
      "metadata": {
        "id": "iIktkDARSHAU"
      },
      "execution_count": null,
      "outputs": []
    },
    {
      "cell_type": "markdown",
      "source": [
        "Find the average ratio"
      ],
      "metadata": {
        "id": "0gexGl0MTYpM"
      }
    },
    {
      "cell_type": "code",
      "source": [
        "average_ratio = ratio.mean()\n",
        "print(average_ratio)\n",
        "# Wales/England"
      ],
      "metadata": {
        "id": "iJCIBnuBTq6C"
      },
      "execution_count": null,
      "outputs": []
    },
    {
      "cell_type": "markdown",
      "source": [
        "#Simple plot of Wales death"
      ],
      "metadata": {
        "id": "o8geQFITDzMw"
      }
    },
    {
      "cell_type": "code",
      "source": [
        "plt.figure(figsize = (10, 6))\n",
        "plt.bar(range(10), year_wales['count'])\n",
        "plt.xlabel('Years (2013-2022)')\n",
        "plt.ylabel('Number of PFDs')\n",
        "plt.xticks(ticks = range(10), labels=range(2013, 2023))\n",
        "plt.axvline(x=5.5, color = 'r')\n",
        "plt.savefig('wales_new_category.png')\n",
        "plt.show()"
      ],
      "metadata": {
        "id": "aqVjHkJTRYdm"
      },
      "execution_count": null,
      "outputs": []
    },
    {
      "cell_type": "markdown",
      "source": [
        "# Look at England and Wales data from ONS\n",
        "\n",
        "https://www.ons.gov.uk/peoplepopulationandcommunity/healthandsocialcare/causesofdeath/datasets/avoidablemortalityintheuk"
      ],
      "metadata": {
        "id": "nB_rpyaXZoVM"
      }
    },
    {
      "cell_type": "markdown",
      "source": [
        "Looking at ONS: https://www.ons.gov.uk/peoplepopulationandcommunity/healthandsocialcare/causesofdeath/bulletins/avoidablemortalityinenglandandwales/2019\n",
        "\n",
        "There were no significant increase in avoidable mortality (though avoidable mortality != preventable mortality). This suggests that maybe introducing a new category influences report quantity by a lot. \n",
        "\n",
        "1. Need to look at ONS stats in detail to find out how many is preventable\n",
        "2. What about quality of report? "
      ],
      "metadata": {
        "id": "Tfl14eSeScmJ"
      }
    },
    {
      "cell_type": "code",
      "source": [
        "import pandas as pd\n",
        "import numpy as np\n",
        "import matplotlib.pyplot as plt"
      ],
      "metadata": {
        "id": "AyNsaMEVG8CF"
      },
      "execution_count": null,
      "outputs": []
    },
    {
      "cell_type": "code",
      "source": [
        "preventable = pd.DataFrame(pd.read_excel(\"ons_avoidable_2020.xlsx\"))"
      ],
      "metadata": {
        "id": "c-u0jrXrZuuK"
      },
      "execution_count": null,
      "outputs": []
    },
    {
      "cell_type": "markdown",
      "source": [
        "Unnamed: 55 - 2014"
      ],
      "metadata": {
        "id": "vNLfWxk-UaNg"
      }
    },
    {
      "cell_type": "code",
      "source": [
        "display(preventable['Unnamed: 79'])"
      ],
      "metadata": {
        "colab": {
          "base_uri": "https://localhost:8080/",
          "height": 221
        },
        "id": "NgjUfOhFTk0L",
        "outputId": "9bbc7dae-86d2-4c61-ff58-ff5cce8bb67a"
      },
      "execution_count": null,
      "outputs": [
        {
          "output_type": "display_data",
          "data": {
            "text/plain": [
              "4      175.4\n",
              "5      204.4\n",
              "6        NaN\n",
              "7      230.8\n",
              "8      222.1\n",
              "       ...  \n",
              "491    113.3\n",
              "492    153.3\n",
              "493    163.8\n",
              "494    148.2\n",
              "495    126.6\n",
              "Name: Unnamed: 79, Length: 492, dtype: object"
            ]
          },
          "metadata": {}
        }
      ]
    },
    {
      "cell_type": "code",
      "source": [
        "preventable = preventable.loc[4:, :]"
      ],
      "metadata": {
        "id": "WKxBme-Lc1Eh"
      },
      "execution_count": null,
      "outputs": []
    },
    {
      "cell_type": "code",
      "source": [
        "preventable_df = preventable[preventable['Unnamed: 2']=='England']\n",
        "preventable_df = preventable_df.append(preventable[preventable['Unnamed: 2']=='Wales'], ignore_index = True)"
      ],
      "metadata": {
        "id": "CJi9mR1CdEb6"
      },
      "execution_count": null,
      "outputs": []
    },
    {
      "cell_type": "code",
      "source": [
        "preventable_df.rename(columns = {'Table 3: Age-standardised preventable mortality rates by Clinical Commissioning Groups (CCGs) in England and Health Boards in Wales by sex, 2001 to 2020 [note 1],[note 2],[note 3],[note 4],[note 5],[note 6]': 'Sex'}, inplace = True)"
      ],
      "metadata": {
        "id": "td3W-Gb4fH6W"
      },
      "execution_count": null,
      "outputs": []
    },
    {
      "cell_type": "code",
      "source": [
        "column_dict = {}\n",
        "for i in range(7): \n",
        "  column_dict['Unnamed: {}'.format(4*i+3+13*4)] = i + 2014\n",
        "print(column_dict)"
      ],
      "metadata": {
        "colab": {
          "base_uri": "https://localhost:8080/"
        },
        "id": "fI8xKgHjfQAb",
        "outputId": "876a297e-adb7-4fc9-d7ae-5ea7340d3bde"
      },
      "execution_count": null,
      "outputs": [
        {
          "output_type": "stream",
          "name": "stdout",
          "text": [
            "{'Unnamed: 55': 2014, 'Unnamed: 59': 2015, 'Unnamed: 63': 2016, 'Unnamed: 67': 2017, 'Unnamed: 71': 2018, 'Unnamed: 75': 2019, 'Unnamed: 79': 2020}\n"
          ]
        }
      ]
    },
    {
      "cell_type": "code",
      "source": [
        "preventable_df.rename(columns=column_dict, inplace = True)"
      ],
      "metadata": {
        "id": "dPyzjt3BYpiG"
      },
      "execution_count": null,
      "outputs": []
    },
    {
      "cell_type": "code",
      "source": [
        "preventable_df = preventable_df[range(2014, 2021)]\n",
        "preventable_df.drop([1, 2, 4, 5], inplace = True)\n",
        "preventable_df = preventable_df.transpose()\n",
        "\n",
        "preventable_df.rename(columns = {0: 'England', 3: 'Wales'}, inplace = True)\n",
        "preventable_df.reset_index(inplace = True)\n",
        "preventable_df.rename(columns = {'index': 'Year'}, inplace = True)"
      ],
      "metadata": {
        "id": "d3mN6Y5qf5J6",
        "colab": {
          "base_uri": "https://localhost:8080/",
          "height": 418
        },
        "outputId": "5fe9360f-9723-4c8b-9194-e64408f2419c"
      },
      "execution_count": null,
      "outputs": [
        {
          "output_type": "display_data",
          "data": {
            "text/plain": [
              "       Sex Unnamed: 1 Unnamed: 2 Unnamed: 3 Unnamed: 4 Unnamed: 5 Unnamed: 6  \\\n",
              "0  Persons  E92000001    England        200      198.5      201.4      76546   \n",
              "1    Males  E92000001    England      277.4        275      279.9    51186.5   \n",
              "2  Females  E92000001    England      128.3      126.7      129.9    25359.5   \n",
              "3  Persons  W92000004      Wales      223.1      217.1      229.1     5330.5   \n",
              "4    Males  W92000004      Wales      302.5      292.4      312.6     3468.5   \n",
              "5  Females  W92000004      Wales        150      143.2      156.8       1862   \n",
              "\n",
              "  Unnamed: 7 Unnamed: 8 Unnamed: 9  ... Unnamed: 73 Unnamed: 74   2019  \\\n",
              "0      194.5      193.1      195.9  ...       144.6     69728.5  140.6   \n",
              "1      269.5      267.1      271.9  ...       192.3     45219.5  185.8   \n",
              "2      124.8      123.2      126.3  ...        99.7       24509   97.4   \n",
              "3      217.2      211.3      223.1  ...       173.4        4975  162.7   \n",
              "4      297.1      287.1        307  ...       227.6      3147.5  215.1   \n",
              "5      143.2      136.6      149.9  ...       125.3      1827.5  112.7   \n",
              "\n",
              "  Unnamed: 76 Unnamed: 77 Unnamed: 78   2020 Unnamed: 80 Unnamed: 81  \\\n",
              "0       139.6       141.7       68961  175.4       174.3       176.6   \n",
              "1       184.1       187.6     44494.5  233.8       231.8       235.7   \n",
              "2        96.2        98.6     24466.5  119.8       118.5       121.2   \n",
              "3       158.1       167.3      4855.5  189.8       184.9       194.8   \n",
              "4       207.5       222.7      3121.5  246.5       238.4       254.6   \n",
              "5       107.4       118.1        1734  135.9       130.1       141.8   \n",
              "\n",
              "  Unnamed: 82  \n",
              "0     86668.5  \n",
              "1       56288  \n",
              "2     30380.5  \n",
              "3      5709.5  \n",
              "4        3602  \n",
              "5      2107.5  \n",
              "\n",
              "[6 rows x 83 columns]"
            ],
            "text/html": [
              "\n",
              "  <div id=\"df-0e5a9156-ff31-4dd4-917d-a6a40d3fd029\">\n",
              "    <div class=\"colab-df-container\">\n",
              "      <div>\n",
              "<style scoped>\n",
              "    .dataframe tbody tr th:only-of-type {\n",
              "        vertical-align: middle;\n",
              "    }\n",
              "\n",
              "    .dataframe tbody tr th {\n",
              "        vertical-align: top;\n",
              "    }\n",
              "\n",
              "    .dataframe thead th {\n",
              "        text-align: right;\n",
              "    }\n",
              "</style>\n",
              "<table border=\"1\" class=\"dataframe\">\n",
              "  <thead>\n",
              "    <tr style=\"text-align: right;\">\n",
              "      <th></th>\n",
              "      <th>Sex</th>\n",
              "      <th>Unnamed: 1</th>\n",
              "      <th>Unnamed: 2</th>\n",
              "      <th>Unnamed: 3</th>\n",
              "      <th>Unnamed: 4</th>\n",
              "      <th>Unnamed: 5</th>\n",
              "      <th>Unnamed: 6</th>\n",
              "      <th>Unnamed: 7</th>\n",
              "      <th>Unnamed: 8</th>\n",
              "      <th>Unnamed: 9</th>\n",
              "      <th>...</th>\n",
              "      <th>Unnamed: 73</th>\n",
              "      <th>Unnamed: 74</th>\n",
              "      <th>2019</th>\n",
              "      <th>Unnamed: 76</th>\n",
              "      <th>Unnamed: 77</th>\n",
              "      <th>Unnamed: 78</th>\n",
              "      <th>2020</th>\n",
              "      <th>Unnamed: 80</th>\n",
              "      <th>Unnamed: 81</th>\n",
              "      <th>Unnamed: 82</th>\n",
              "    </tr>\n",
              "  </thead>\n",
              "  <tbody>\n",
              "    <tr>\n",
              "      <th>0</th>\n",
              "      <td>Persons</td>\n",
              "      <td>E92000001</td>\n",
              "      <td>England</td>\n",
              "      <td>200</td>\n",
              "      <td>198.5</td>\n",
              "      <td>201.4</td>\n",
              "      <td>76546</td>\n",
              "      <td>194.5</td>\n",
              "      <td>193.1</td>\n",
              "      <td>195.9</td>\n",
              "      <td>...</td>\n",
              "      <td>144.6</td>\n",
              "      <td>69728.5</td>\n",
              "      <td>140.6</td>\n",
              "      <td>139.6</td>\n",
              "      <td>141.7</td>\n",
              "      <td>68961</td>\n",
              "      <td>175.4</td>\n",
              "      <td>174.3</td>\n",
              "      <td>176.6</td>\n",
              "      <td>86668.5</td>\n",
              "    </tr>\n",
              "    <tr>\n",
              "      <th>1</th>\n",
              "      <td>Males</td>\n",
              "      <td>E92000001</td>\n",
              "      <td>England</td>\n",
              "      <td>277.4</td>\n",
              "      <td>275</td>\n",
              "      <td>279.9</td>\n",
              "      <td>51186.5</td>\n",
              "      <td>269.5</td>\n",
              "      <td>267.1</td>\n",
              "      <td>271.9</td>\n",
              "      <td>...</td>\n",
              "      <td>192.3</td>\n",
              "      <td>45219.5</td>\n",
              "      <td>185.8</td>\n",
              "      <td>184.1</td>\n",
              "      <td>187.6</td>\n",
              "      <td>44494.5</td>\n",
              "      <td>233.8</td>\n",
              "      <td>231.8</td>\n",
              "      <td>235.7</td>\n",
              "      <td>56288</td>\n",
              "    </tr>\n",
              "    <tr>\n",
              "      <th>2</th>\n",
              "      <td>Females</td>\n",
              "      <td>E92000001</td>\n",
              "      <td>England</td>\n",
              "      <td>128.3</td>\n",
              "      <td>126.7</td>\n",
              "      <td>129.9</td>\n",
              "      <td>25359.5</td>\n",
              "      <td>124.8</td>\n",
              "      <td>123.2</td>\n",
              "      <td>126.3</td>\n",
              "      <td>...</td>\n",
              "      <td>99.7</td>\n",
              "      <td>24509</td>\n",
              "      <td>97.4</td>\n",
              "      <td>96.2</td>\n",
              "      <td>98.6</td>\n",
              "      <td>24466.5</td>\n",
              "      <td>119.8</td>\n",
              "      <td>118.5</td>\n",
              "      <td>121.2</td>\n",
              "      <td>30380.5</td>\n",
              "    </tr>\n",
              "    <tr>\n",
              "      <th>3</th>\n",
              "      <td>Persons</td>\n",
              "      <td>W92000004</td>\n",
              "      <td>Wales</td>\n",
              "      <td>223.1</td>\n",
              "      <td>217.1</td>\n",
              "      <td>229.1</td>\n",
              "      <td>5330.5</td>\n",
              "      <td>217.2</td>\n",
              "      <td>211.3</td>\n",
              "      <td>223.1</td>\n",
              "      <td>...</td>\n",
              "      <td>173.4</td>\n",
              "      <td>4975</td>\n",
              "      <td>162.7</td>\n",
              "      <td>158.1</td>\n",
              "      <td>167.3</td>\n",
              "      <td>4855.5</td>\n",
              "      <td>189.8</td>\n",
              "      <td>184.9</td>\n",
              "      <td>194.8</td>\n",
              "      <td>5709.5</td>\n",
              "    </tr>\n",
              "    <tr>\n",
              "      <th>4</th>\n",
              "      <td>Males</td>\n",
              "      <td>W92000004</td>\n",
              "      <td>Wales</td>\n",
              "      <td>302.5</td>\n",
              "      <td>292.4</td>\n",
              "      <td>312.6</td>\n",
              "      <td>3468.5</td>\n",
              "      <td>297.1</td>\n",
              "      <td>287.1</td>\n",
              "      <td>307</td>\n",
              "      <td>...</td>\n",
              "      <td>227.6</td>\n",
              "      <td>3147.5</td>\n",
              "      <td>215.1</td>\n",
              "      <td>207.5</td>\n",
              "      <td>222.7</td>\n",
              "      <td>3121.5</td>\n",
              "      <td>246.5</td>\n",
              "      <td>238.4</td>\n",
              "      <td>254.6</td>\n",
              "      <td>3602</td>\n",
              "    </tr>\n",
              "    <tr>\n",
              "      <th>5</th>\n",
              "      <td>Females</td>\n",
              "      <td>W92000004</td>\n",
              "      <td>Wales</td>\n",
              "      <td>150</td>\n",
              "      <td>143.2</td>\n",
              "      <td>156.8</td>\n",
              "      <td>1862</td>\n",
              "      <td>143.2</td>\n",
              "      <td>136.6</td>\n",
              "      <td>149.9</td>\n",
              "      <td>...</td>\n",
              "      <td>125.3</td>\n",
              "      <td>1827.5</td>\n",
              "      <td>112.7</td>\n",
              "      <td>107.4</td>\n",
              "      <td>118.1</td>\n",
              "      <td>1734</td>\n",
              "      <td>135.9</td>\n",
              "      <td>130.1</td>\n",
              "      <td>141.8</td>\n",
              "      <td>2107.5</td>\n",
              "    </tr>\n",
              "  </tbody>\n",
              "</table>\n",
              "<p>6 rows × 83 columns</p>\n",
              "</div>\n",
              "      <button class=\"colab-df-convert\" onclick=\"convertToInteractive('df-0e5a9156-ff31-4dd4-917d-a6a40d3fd029')\"\n",
              "              title=\"Convert this dataframe to an interactive table.\"\n",
              "              style=\"display:none;\">\n",
              "        \n",
              "  <svg xmlns=\"http://www.w3.org/2000/svg\" height=\"24px\"viewBox=\"0 0 24 24\"\n",
              "       width=\"24px\">\n",
              "    <path d=\"M0 0h24v24H0V0z\" fill=\"none\"/>\n",
              "    <path d=\"M18.56 5.44l.94 2.06.94-2.06 2.06-.94-2.06-.94-.94-2.06-.94 2.06-2.06.94zm-11 1L8.5 8.5l.94-2.06 2.06-.94-2.06-.94L8.5 2.5l-.94 2.06-2.06.94zm10 10l.94 2.06.94-2.06 2.06-.94-2.06-.94-.94-2.06-.94 2.06-2.06.94z\"/><path d=\"M17.41 7.96l-1.37-1.37c-.4-.4-.92-.59-1.43-.59-.52 0-1.04.2-1.43.59L10.3 9.45l-7.72 7.72c-.78.78-.78 2.05 0 2.83L4 21.41c.39.39.9.59 1.41.59.51 0 1.02-.2 1.41-.59l7.78-7.78 2.81-2.81c.8-.78.8-2.07 0-2.86zM5.41 20L4 18.59l7.72-7.72 1.47 1.35L5.41 20z\"/>\n",
              "  </svg>\n",
              "      </button>\n",
              "      \n",
              "  <style>\n",
              "    .colab-df-container {\n",
              "      display:flex;\n",
              "      flex-wrap:wrap;\n",
              "      gap: 12px;\n",
              "    }\n",
              "\n",
              "    .colab-df-convert {\n",
              "      background-color: #E8F0FE;\n",
              "      border: none;\n",
              "      border-radius: 50%;\n",
              "      cursor: pointer;\n",
              "      display: none;\n",
              "      fill: #1967D2;\n",
              "      height: 32px;\n",
              "      padding: 0 0 0 0;\n",
              "      width: 32px;\n",
              "    }\n",
              "\n",
              "    .colab-df-convert:hover {\n",
              "      background-color: #E2EBFA;\n",
              "      box-shadow: 0px 1px 2px rgba(60, 64, 67, 0.3), 0px 1px 3px 1px rgba(60, 64, 67, 0.15);\n",
              "      fill: #174EA6;\n",
              "    }\n",
              "\n",
              "    [theme=dark] .colab-df-convert {\n",
              "      background-color: #3B4455;\n",
              "      fill: #D2E3FC;\n",
              "    }\n",
              "\n",
              "    [theme=dark] .colab-df-convert:hover {\n",
              "      background-color: #434B5C;\n",
              "      box-shadow: 0px 1px 3px 1px rgba(0, 0, 0, 0.15);\n",
              "      filter: drop-shadow(0px 1px 2px rgba(0, 0, 0, 0.3));\n",
              "      fill: #FFFFFF;\n",
              "    }\n",
              "  </style>\n",
              "\n",
              "      <script>\n",
              "        const buttonEl =\n",
              "          document.querySelector('#df-0e5a9156-ff31-4dd4-917d-a6a40d3fd029 button.colab-df-convert');\n",
              "        buttonEl.style.display =\n",
              "          google.colab.kernel.accessAllowed ? 'block' : 'none';\n",
              "\n",
              "        async function convertToInteractive(key) {\n",
              "          const element = document.querySelector('#df-0e5a9156-ff31-4dd4-917d-a6a40d3fd029');\n",
              "          const dataTable =\n",
              "            await google.colab.kernel.invokeFunction('convertToInteractive',\n",
              "                                                     [key], {});\n",
              "          if (!dataTable) return;\n",
              "\n",
              "          const docLinkHtml = 'Like what you see? Visit the ' +\n",
              "            '<a target=\"_blank\" href=https://colab.research.google.com/notebooks/data_table.ipynb>data table notebook</a>'\n",
              "            + ' to learn more about interactive tables.';\n",
              "          element.innerHTML = '';\n",
              "          dataTable['output_type'] = 'display_data';\n",
              "          await google.colab.output.renderOutput(dataTable, element);\n",
              "          const docLink = document.createElement('div');\n",
              "          docLink.innerHTML = docLinkHtml;\n",
              "          element.appendChild(docLink);\n",
              "        }\n",
              "      </script>\n",
              "    </div>\n",
              "  </div>\n",
              "  "
            ]
          },
          "metadata": {}
        },
        {
          "output_type": "stream",
          "name": "stderr",
          "text": [
            "/usr/local/lib/python3.7/dist-packages/pandas/core/frame.py:4913: SettingWithCopyWarning: \n",
            "A value is trying to be set on a copy of a slice from a DataFrame\n",
            "\n",
            "See the caveats in the documentation: https://pandas.pydata.org/pandas-docs/stable/user_guide/indexing.html#returning-a-view-versus-a-copy\n",
            "  errors=errors,\n"
          ]
        }
      ]
    },
    {
      "cell_type": "code",
      "source": [
        "display(preventable_df)"
      ],
      "metadata": {
        "colab": {
          "base_uri": "https://localhost:8080/",
          "height": 266
        },
        "id": "O1nG51e6Mg4k",
        "outputId": "13700e8f-0d69-4841-fc55-12135ae71599"
      },
      "execution_count": null,
      "outputs": [
        {
          "output_type": "display_data",
          "data": {
            "text/plain": [
              "   Year England  Wales\n",
              "0  2014   147.6    162\n",
              "1  2015   146.7  169.7\n",
              "2  2016   145.8  173.5\n",
              "3  2017   142.7  167.5\n",
              "4  2018   143.5  168.7\n",
              "5  2019   140.6  162.7\n",
              "6  2020   175.4  189.8"
            ],
            "text/html": [
              "\n",
              "  <div id=\"df-1f803ab0-65c9-4bb0-b92c-abd83bbf9f7b\">\n",
              "    <div class=\"colab-df-container\">\n",
              "      <div>\n",
              "<style scoped>\n",
              "    .dataframe tbody tr th:only-of-type {\n",
              "        vertical-align: middle;\n",
              "    }\n",
              "\n",
              "    .dataframe tbody tr th {\n",
              "        vertical-align: top;\n",
              "    }\n",
              "\n",
              "    .dataframe thead th {\n",
              "        text-align: right;\n",
              "    }\n",
              "</style>\n",
              "<table border=\"1\" class=\"dataframe\">\n",
              "  <thead>\n",
              "    <tr style=\"text-align: right;\">\n",
              "      <th></th>\n",
              "      <th>Year</th>\n",
              "      <th>England</th>\n",
              "      <th>Wales</th>\n",
              "    </tr>\n",
              "  </thead>\n",
              "  <tbody>\n",
              "    <tr>\n",
              "      <th>0</th>\n",
              "      <td>2014</td>\n",
              "      <td>147.6</td>\n",
              "      <td>162</td>\n",
              "    </tr>\n",
              "    <tr>\n",
              "      <th>1</th>\n",
              "      <td>2015</td>\n",
              "      <td>146.7</td>\n",
              "      <td>169.7</td>\n",
              "    </tr>\n",
              "    <tr>\n",
              "      <th>2</th>\n",
              "      <td>2016</td>\n",
              "      <td>145.8</td>\n",
              "      <td>173.5</td>\n",
              "    </tr>\n",
              "    <tr>\n",
              "      <th>3</th>\n",
              "      <td>2017</td>\n",
              "      <td>142.7</td>\n",
              "      <td>167.5</td>\n",
              "    </tr>\n",
              "    <tr>\n",
              "      <th>4</th>\n",
              "      <td>2018</td>\n",
              "      <td>143.5</td>\n",
              "      <td>168.7</td>\n",
              "    </tr>\n",
              "    <tr>\n",
              "      <th>5</th>\n",
              "      <td>2019</td>\n",
              "      <td>140.6</td>\n",
              "      <td>162.7</td>\n",
              "    </tr>\n",
              "    <tr>\n",
              "      <th>6</th>\n",
              "      <td>2020</td>\n",
              "      <td>175.4</td>\n",
              "      <td>189.8</td>\n",
              "    </tr>\n",
              "  </tbody>\n",
              "</table>\n",
              "</div>\n",
              "      <button class=\"colab-df-convert\" onclick=\"convertToInteractive('df-1f803ab0-65c9-4bb0-b92c-abd83bbf9f7b')\"\n",
              "              title=\"Convert this dataframe to an interactive table.\"\n",
              "              style=\"display:none;\">\n",
              "        \n",
              "  <svg xmlns=\"http://www.w3.org/2000/svg\" height=\"24px\"viewBox=\"0 0 24 24\"\n",
              "       width=\"24px\">\n",
              "    <path d=\"M0 0h24v24H0V0z\" fill=\"none\"/>\n",
              "    <path d=\"M18.56 5.44l.94 2.06.94-2.06 2.06-.94-2.06-.94-.94-2.06-.94 2.06-2.06.94zm-11 1L8.5 8.5l.94-2.06 2.06-.94-2.06-.94L8.5 2.5l-.94 2.06-2.06.94zm10 10l.94 2.06.94-2.06 2.06-.94-2.06-.94-.94-2.06-.94 2.06-2.06.94z\"/><path d=\"M17.41 7.96l-1.37-1.37c-.4-.4-.92-.59-1.43-.59-.52 0-1.04.2-1.43.59L10.3 9.45l-7.72 7.72c-.78.78-.78 2.05 0 2.83L4 21.41c.39.39.9.59 1.41.59.51 0 1.02-.2 1.41-.59l7.78-7.78 2.81-2.81c.8-.78.8-2.07 0-2.86zM5.41 20L4 18.59l7.72-7.72 1.47 1.35L5.41 20z\"/>\n",
              "  </svg>\n",
              "      </button>\n",
              "      \n",
              "  <style>\n",
              "    .colab-df-container {\n",
              "      display:flex;\n",
              "      flex-wrap:wrap;\n",
              "      gap: 12px;\n",
              "    }\n",
              "\n",
              "    .colab-df-convert {\n",
              "      background-color: #E8F0FE;\n",
              "      border: none;\n",
              "      border-radius: 50%;\n",
              "      cursor: pointer;\n",
              "      display: none;\n",
              "      fill: #1967D2;\n",
              "      height: 32px;\n",
              "      padding: 0 0 0 0;\n",
              "      width: 32px;\n",
              "    }\n",
              "\n",
              "    .colab-df-convert:hover {\n",
              "      background-color: #E2EBFA;\n",
              "      box-shadow: 0px 1px 2px rgba(60, 64, 67, 0.3), 0px 1px 3px 1px rgba(60, 64, 67, 0.15);\n",
              "      fill: #174EA6;\n",
              "    }\n",
              "\n",
              "    [theme=dark] .colab-df-convert {\n",
              "      background-color: #3B4455;\n",
              "      fill: #D2E3FC;\n",
              "    }\n",
              "\n",
              "    [theme=dark] .colab-df-convert:hover {\n",
              "      background-color: #434B5C;\n",
              "      box-shadow: 0px 1px 3px 1px rgba(0, 0, 0, 0.15);\n",
              "      filter: drop-shadow(0px 1px 2px rgba(0, 0, 0, 0.3));\n",
              "      fill: #FFFFFF;\n",
              "    }\n",
              "  </style>\n",
              "\n",
              "      <script>\n",
              "        const buttonEl =\n",
              "          document.querySelector('#df-1f803ab0-65c9-4bb0-b92c-abd83bbf9f7b button.colab-df-convert');\n",
              "        buttonEl.style.display =\n",
              "          google.colab.kernel.accessAllowed ? 'block' : 'none';\n",
              "\n",
              "        async function convertToInteractive(key) {\n",
              "          const element = document.querySelector('#df-1f803ab0-65c9-4bb0-b92c-abd83bbf9f7b');\n",
              "          const dataTable =\n",
              "            await google.colab.kernel.invokeFunction('convertToInteractive',\n",
              "                                                     [key], {});\n",
              "          if (!dataTable) return;\n",
              "\n",
              "          const docLinkHtml = 'Like what you see? Visit the ' +\n",
              "            '<a target=\"_blank\" href=https://colab.research.google.com/notebooks/data_table.ipynb>data table notebook</a>'\n",
              "            + ' to learn more about interactive tables.';\n",
              "          element.innerHTML = '';\n",
              "          dataTable['output_type'] = 'display_data';\n",
              "          await google.colab.output.renderOutput(dataTable, element);\n",
              "          const docLink = document.createElement('div');\n",
              "          docLink.innerHTML = docLinkHtml;\n",
              "          element.appendChild(docLink);\n",
              "        }\n",
              "      </script>\n",
              "    </div>\n",
              "  </div>\n",
              "  "
            ]
          },
          "metadata": {}
        }
      ]
    },
    {
      "cell_type": "code",
      "source": [
        "en_wa_scaled_pfd = pd.read_csv('en_wa_pfd_pop.csv')\n",
        "\n",
        "en_wa = en_wa_scaled_pfd.drop(columns = ['Unnamed: 0', 'England PFD (per 100,000)', 'Wale PFD (per 100,000)'])\n",
        "en_wa = en_wa.drop([0, 8, 9])\n",
        "en_wa.reset_index(inplace = True)\n",
        "en_wa.drop(columns = ['index'], inplace = True)"
      ],
      "metadata": {
        "id": "Oq3UytG2I3hO"
      },
      "execution_count": null,
      "outputs": []
    },
    {
      "cell_type": "code",
      "source": [
        "display(en_wa)"
      ],
      "metadata": {
        "colab": {
          "base_uri": "https://localhost:8080/",
          "height": 266
        },
        "id": "gf78pd9NZfyX",
        "outputId": "1639c582-2b27-441d-abc7-d9f27164e346"
      },
      "execution_count": null,
      "outputs": [
        {
          "output_type": "display_data",
          "data": {
            "text/plain": [
              "   Years  England PFD  England population  Wales PFD  Wales population\n",
              "0   2014          542            54316600         25           3092000\n",
              "1   2015          408            54786300         26           3099100\n",
              "2   2016          450            55268100         22           3113200\n",
              "3   2017          417            55619400         23           3125200\n",
              "4   2018          375            55977200         12           3138600\n",
              "5   2019          501            56287000         25           3152900\n",
              "6   2020          299            56550000         12           3170000"
            ],
            "text/html": [
              "\n",
              "  <div id=\"df-88b34a93-ff97-4aed-9218-1a5e99b06c77\">\n",
              "    <div class=\"colab-df-container\">\n",
              "      <div>\n",
              "<style scoped>\n",
              "    .dataframe tbody tr th:only-of-type {\n",
              "        vertical-align: middle;\n",
              "    }\n",
              "\n",
              "    .dataframe tbody tr th {\n",
              "        vertical-align: top;\n",
              "    }\n",
              "\n",
              "    .dataframe thead th {\n",
              "        text-align: right;\n",
              "    }\n",
              "</style>\n",
              "<table border=\"1\" class=\"dataframe\">\n",
              "  <thead>\n",
              "    <tr style=\"text-align: right;\">\n",
              "      <th></th>\n",
              "      <th>Years</th>\n",
              "      <th>England PFD</th>\n",
              "      <th>England population</th>\n",
              "      <th>Wales PFD</th>\n",
              "      <th>Wales population</th>\n",
              "    </tr>\n",
              "  </thead>\n",
              "  <tbody>\n",
              "    <tr>\n",
              "      <th>0</th>\n",
              "      <td>2014</td>\n",
              "      <td>542</td>\n",
              "      <td>54316600</td>\n",
              "      <td>25</td>\n",
              "      <td>3092000</td>\n",
              "    </tr>\n",
              "    <tr>\n",
              "      <th>1</th>\n",
              "      <td>2015</td>\n",
              "      <td>408</td>\n",
              "      <td>54786300</td>\n",
              "      <td>26</td>\n",
              "      <td>3099100</td>\n",
              "    </tr>\n",
              "    <tr>\n",
              "      <th>2</th>\n",
              "      <td>2016</td>\n",
              "      <td>450</td>\n",
              "      <td>55268100</td>\n",
              "      <td>22</td>\n",
              "      <td>3113200</td>\n",
              "    </tr>\n",
              "    <tr>\n",
              "      <th>3</th>\n",
              "      <td>2017</td>\n",
              "      <td>417</td>\n",
              "      <td>55619400</td>\n",
              "      <td>23</td>\n",
              "      <td>3125200</td>\n",
              "    </tr>\n",
              "    <tr>\n",
              "      <th>4</th>\n",
              "      <td>2018</td>\n",
              "      <td>375</td>\n",
              "      <td>55977200</td>\n",
              "      <td>12</td>\n",
              "      <td>3138600</td>\n",
              "    </tr>\n",
              "    <tr>\n",
              "      <th>5</th>\n",
              "      <td>2019</td>\n",
              "      <td>501</td>\n",
              "      <td>56287000</td>\n",
              "      <td>25</td>\n",
              "      <td>3152900</td>\n",
              "    </tr>\n",
              "    <tr>\n",
              "      <th>6</th>\n",
              "      <td>2020</td>\n",
              "      <td>299</td>\n",
              "      <td>56550000</td>\n",
              "      <td>12</td>\n",
              "      <td>3170000</td>\n",
              "    </tr>\n",
              "  </tbody>\n",
              "</table>\n",
              "</div>\n",
              "      <button class=\"colab-df-convert\" onclick=\"convertToInteractive('df-88b34a93-ff97-4aed-9218-1a5e99b06c77')\"\n",
              "              title=\"Convert this dataframe to an interactive table.\"\n",
              "              style=\"display:none;\">\n",
              "        \n",
              "  <svg xmlns=\"http://www.w3.org/2000/svg\" height=\"24px\"viewBox=\"0 0 24 24\"\n",
              "       width=\"24px\">\n",
              "    <path d=\"M0 0h24v24H0V0z\" fill=\"none\"/>\n",
              "    <path d=\"M18.56 5.44l.94 2.06.94-2.06 2.06-.94-2.06-.94-.94-2.06-.94 2.06-2.06.94zm-11 1L8.5 8.5l.94-2.06 2.06-.94-2.06-.94L8.5 2.5l-.94 2.06-2.06.94zm10 10l.94 2.06.94-2.06 2.06-.94-2.06-.94-.94-2.06-.94 2.06-2.06.94z\"/><path d=\"M17.41 7.96l-1.37-1.37c-.4-.4-.92-.59-1.43-.59-.52 0-1.04.2-1.43.59L10.3 9.45l-7.72 7.72c-.78.78-.78 2.05 0 2.83L4 21.41c.39.39.9.59 1.41.59.51 0 1.02-.2 1.41-.59l7.78-7.78 2.81-2.81c.8-.78.8-2.07 0-2.86zM5.41 20L4 18.59l7.72-7.72 1.47 1.35L5.41 20z\"/>\n",
              "  </svg>\n",
              "      </button>\n",
              "      \n",
              "  <style>\n",
              "    .colab-df-container {\n",
              "      display:flex;\n",
              "      flex-wrap:wrap;\n",
              "      gap: 12px;\n",
              "    }\n",
              "\n",
              "    .colab-df-convert {\n",
              "      background-color: #E8F0FE;\n",
              "      border: none;\n",
              "      border-radius: 50%;\n",
              "      cursor: pointer;\n",
              "      display: none;\n",
              "      fill: #1967D2;\n",
              "      height: 32px;\n",
              "      padding: 0 0 0 0;\n",
              "      width: 32px;\n",
              "    }\n",
              "\n",
              "    .colab-df-convert:hover {\n",
              "      background-color: #E2EBFA;\n",
              "      box-shadow: 0px 1px 2px rgba(60, 64, 67, 0.3), 0px 1px 3px 1px rgba(60, 64, 67, 0.15);\n",
              "      fill: #174EA6;\n",
              "    }\n",
              "\n",
              "    [theme=dark] .colab-df-convert {\n",
              "      background-color: #3B4455;\n",
              "      fill: #D2E3FC;\n",
              "    }\n",
              "\n",
              "    [theme=dark] .colab-df-convert:hover {\n",
              "      background-color: #434B5C;\n",
              "      box-shadow: 0px 1px 3px 1px rgba(0, 0, 0, 0.15);\n",
              "      filter: drop-shadow(0px 1px 2px rgba(0, 0, 0, 0.3));\n",
              "      fill: #FFFFFF;\n",
              "    }\n",
              "  </style>\n",
              "\n",
              "      <script>\n",
              "        const buttonEl =\n",
              "          document.querySelector('#df-88b34a93-ff97-4aed-9218-1a5e99b06c77 button.colab-df-convert');\n",
              "        buttonEl.style.display =\n",
              "          google.colab.kernel.accessAllowed ? 'block' : 'none';\n",
              "\n",
              "        async function convertToInteractive(key) {\n",
              "          const element = document.querySelector('#df-88b34a93-ff97-4aed-9218-1a5e99b06c77');\n",
              "          const dataTable =\n",
              "            await google.colab.kernel.invokeFunction('convertToInteractive',\n",
              "                                                     [key], {});\n",
              "          if (!dataTable) return;\n",
              "\n",
              "          const docLinkHtml = 'Like what you see? Visit the ' +\n",
              "            '<a target=\"_blank\" href=https://colab.research.google.com/notebooks/data_table.ipynb>data table notebook</a>'\n",
              "            + ' to learn more about interactive tables.';\n",
              "          element.innerHTML = '';\n",
              "          dataTable['output_type'] = 'display_data';\n",
              "          await google.colab.output.renderOutput(dataTable, element);\n",
              "          const docLink = document.createElement('div');\n",
              "          docLink.innerHTML = docLinkHtml;\n",
              "          element.appendChild(docLink);\n",
              "        }\n",
              "      </script>\n",
              "    </div>\n",
              "  </div>\n",
              "  "
            ]
          },
          "metadata": {}
        }
      ]
    },
    {
      "cell_type": "code",
      "source": [
        "en_wa['England preventable mortality'] = preventable_df['England']\n",
        "en_wa['Wales preventable mortality'] = preventable_df['Wales']"
      ],
      "metadata": {
        "id": "eg3gVdR1KZ7u"
      },
      "execution_count": null,
      "outputs": []
    },
    {
      "cell_type": "code",
      "source": [
        "display(en_wa)"
      ],
      "metadata": {
        "colab": {
          "base_uri": "https://localhost:8080/",
          "height": 315
        },
        "id": "N00dHKYSJ8Zk",
        "outputId": "2c02e163-4c43-462f-ef55-900b86b4e9da"
      },
      "execution_count": null,
      "outputs": [
        {
          "output_type": "display_data",
          "data": {
            "text/plain": [
              "   Years  England PFD  England population  Wales PFD  Wales population  \\\n",
              "0   2014          542            54316600         25           3092000   \n",
              "1   2015          408            54786300         26           3099100   \n",
              "2   2016          450            55268100         22           3113200   \n",
              "3   2017          417            55619400         23           3125200   \n",
              "4   2018          375            55977200         12           3138600   \n",
              "5   2019          501            56287000         25           3152900   \n",
              "6   2020          299            56550000         12           3170000   \n",
              "\n",
              "  England preventable mortality Wales preventable mortality  \n",
              "0                         147.6                         162  \n",
              "1                         146.7                       169.7  \n",
              "2                         145.8                       173.5  \n",
              "3                         142.7                       167.5  \n",
              "4                         143.5                       168.7  \n",
              "5                         140.6                       162.7  \n",
              "6                         175.4                       189.8  "
            ],
            "text/html": [
              "\n",
              "  <div id=\"df-a1ed80b5-ab81-4c31-8144-501f2fa63bdc\">\n",
              "    <div class=\"colab-df-container\">\n",
              "      <div>\n",
              "<style scoped>\n",
              "    .dataframe tbody tr th:only-of-type {\n",
              "        vertical-align: middle;\n",
              "    }\n",
              "\n",
              "    .dataframe tbody tr th {\n",
              "        vertical-align: top;\n",
              "    }\n",
              "\n",
              "    .dataframe thead th {\n",
              "        text-align: right;\n",
              "    }\n",
              "</style>\n",
              "<table border=\"1\" class=\"dataframe\">\n",
              "  <thead>\n",
              "    <tr style=\"text-align: right;\">\n",
              "      <th></th>\n",
              "      <th>Years</th>\n",
              "      <th>England PFD</th>\n",
              "      <th>England population</th>\n",
              "      <th>Wales PFD</th>\n",
              "      <th>Wales population</th>\n",
              "      <th>England preventable mortality</th>\n",
              "      <th>Wales preventable mortality</th>\n",
              "    </tr>\n",
              "  </thead>\n",
              "  <tbody>\n",
              "    <tr>\n",
              "      <th>0</th>\n",
              "      <td>2014</td>\n",
              "      <td>542</td>\n",
              "      <td>54316600</td>\n",
              "      <td>25</td>\n",
              "      <td>3092000</td>\n",
              "      <td>147.6</td>\n",
              "      <td>162</td>\n",
              "    </tr>\n",
              "    <tr>\n",
              "      <th>1</th>\n",
              "      <td>2015</td>\n",
              "      <td>408</td>\n",
              "      <td>54786300</td>\n",
              "      <td>26</td>\n",
              "      <td>3099100</td>\n",
              "      <td>146.7</td>\n",
              "      <td>169.7</td>\n",
              "    </tr>\n",
              "    <tr>\n",
              "      <th>2</th>\n",
              "      <td>2016</td>\n",
              "      <td>450</td>\n",
              "      <td>55268100</td>\n",
              "      <td>22</td>\n",
              "      <td>3113200</td>\n",
              "      <td>145.8</td>\n",
              "      <td>173.5</td>\n",
              "    </tr>\n",
              "    <tr>\n",
              "      <th>3</th>\n",
              "      <td>2017</td>\n",
              "      <td>417</td>\n",
              "      <td>55619400</td>\n",
              "      <td>23</td>\n",
              "      <td>3125200</td>\n",
              "      <td>142.7</td>\n",
              "      <td>167.5</td>\n",
              "    </tr>\n",
              "    <tr>\n",
              "      <th>4</th>\n",
              "      <td>2018</td>\n",
              "      <td>375</td>\n",
              "      <td>55977200</td>\n",
              "      <td>12</td>\n",
              "      <td>3138600</td>\n",
              "      <td>143.5</td>\n",
              "      <td>168.7</td>\n",
              "    </tr>\n",
              "    <tr>\n",
              "      <th>5</th>\n",
              "      <td>2019</td>\n",
              "      <td>501</td>\n",
              "      <td>56287000</td>\n",
              "      <td>25</td>\n",
              "      <td>3152900</td>\n",
              "      <td>140.6</td>\n",
              "      <td>162.7</td>\n",
              "    </tr>\n",
              "    <tr>\n",
              "      <th>6</th>\n",
              "      <td>2020</td>\n",
              "      <td>299</td>\n",
              "      <td>56550000</td>\n",
              "      <td>12</td>\n",
              "      <td>3170000</td>\n",
              "      <td>175.4</td>\n",
              "      <td>189.8</td>\n",
              "    </tr>\n",
              "  </tbody>\n",
              "</table>\n",
              "</div>\n",
              "      <button class=\"colab-df-convert\" onclick=\"convertToInteractive('df-a1ed80b5-ab81-4c31-8144-501f2fa63bdc')\"\n",
              "              title=\"Convert this dataframe to an interactive table.\"\n",
              "              style=\"display:none;\">\n",
              "        \n",
              "  <svg xmlns=\"http://www.w3.org/2000/svg\" height=\"24px\"viewBox=\"0 0 24 24\"\n",
              "       width=\"24px\">\n",
              "    <path d=\"M0 0h24v24H0V0z\" fill=\"none\"/>\n",
              "    <path d=\"M18.56 5.44l.94 2.06.94-2.06 2.06-.94-2.06-.94-.94-2.06-.94 2.06-2.06.94zm-11 1L8.5 8.5l.94-2.06 2.06-.94-2.06-.94L8.5 2.5l-.94 2.06-2.06.94zm10 10l.94 2.06.94-2.06 2.06-.94-2.06-.94-.94-2.06-.94 2.06-2.06.94z\"/><path d=\"M17.41 7.96l-1.37-1.37c-.4-.4-.92-.59-1.43-.59-.52 0-1.04.2-1.43.59L10.3 9.45l-7.72 7.72c-.78.78-.78 2.05 0 2.83L4 21.41c.39.39.9.59 1.41.59.51 0 1.02-.2 1.41-.59l7.78-7.78 2.81-2.81c.8-.78.8-2.07 0-2.86zM5.41 20L4 18.59l7.72-7.72 1.47 1.35L5.41 20z\"/>\n",
              "  </svg>\n",
              "      </button>\n",
              "      \n",
              "  <style>\n",
              "    .colab-df-container {\n",
              "      display:flex;\n",
              "      flex-wrap:wrap;\n",
              "      gap: 12px;\n",
              "    }\n",
              "\n",
              "    .colab-df-convert {\n",
              "      background-color: #E8F0FE;\n",
              "      border: none;\n",
              "      border-radius: 50%;\n",
              "      cursor: pointer;\n",
              "      display: none;\n",
              "      fill: #1967D2;\n",
              "      height: 32px;\n",
              "      padding: 0 0 0 0;\n",
              "      width: 32px;\n",
              "    }\n",
              "\n",
              "    .colab-df-convert:hover {\n",
              "      background-color: #E2EBFA;\n",
              "      box-shadow: 0px 1px 2px rgba(60, 64, 67, 0.3), 0px 1px 3px 1px rgba(60, 64, 67, 0.15);\n",
              "      fill: #174EA6;\n",
              "    }\n",
              "\n",
              "    [theme=dark] .colab-df-convert {\n",
              "      background-color: #3B4455;\n",
              "      fill: #D2E3FC;\n",
              "    }\n",
              "\n",
              "    [theme=dark] .colab-df-convert:hover {\n",
              "      background-color: #434B5C;\n",
              "      box-shadow: 0px 1px 3px 1px rgba(0, 0, 0, 0.15);\n",
              "      filter: drop-shadow(0px 1px 2px rgba(0, 0, 0, 0.3));\n",
              "      fill: #FFFFFF;\n",
              "    }\n",
              "  </style>\n",
              "\n",
              "      <script>\n",
              "        const buttonEl =\n",
              "          document.querySelector('#df-a1ed80b5-ab81-4c31-8144-501f2fa63bdc button.colab-df-convert');\n",
              "        buttonEl.style.display =\n",
              "          google.colab.kernel.accessAllowed ? 'block' : 'none';\n",
              "\n",
              "        async function convertToInteractive(key) {\n",
              "          const element = document.querySelector('#df-a1ed80b5-ab81-4c31-8144-501f2fa63bdc');\n",
              "          const dataTable =\n",
              "            await google.colab.kernel.invokeFunction('convertToInteractive',\n",
              "                                                     [key], {});\n",
              "          if (!dataTable) return;\n",
              "\n",
              "          const docLinkHtml = 'Like what you see? Visit the ' +\n",
              "            '<a target=\"_blank\" href=https://colab.research.google.com/notebooks/data_table.ipynb>data table notebook</a>'\n",
              "            + ' to learn more about interactive tables.';\n",
              "          element.innerHTML = '';\n",
              "          dataTable['output_type'] = 'display_data';\n",
              "          await google.colab.output.renderOutput(dataTable, element);\n",
              "          const docLink = document.createElement('div');\n",
              "          docLink.innerHTML = docLinkHtml;\n",
              "          element.appendChild(docLink);\n",
              "        }\n",
              "      </script>\n",
              "    </div>\n",
              "  </div>\n",
              "  "
            ]
          },
          "metadata": {}
        }
      ]
    },
    {
      "cell_type": "code",
      "source": [
        "en_wa.to_csv('en_wa_ons_pfd.csv')"
      ],
      "metadata": {
        "id": "a3MeCDGOKob4"
      },
      "execution_count": null,
      "outputs": []
    },
    {
      "cell_type": "markdown",
      "source": [
        "#Plot PFD/preventable deaths ratio over time"
      ],
      "metadata": {
        "id": "6751KX1gLfFu"
      }
    },
    {
      "cell_type": "code",
      "source": [
        "en_wa = pd.read_csv('en_wa_ons_pfd.csv')\n",
        "en_wa.drop(columns = ['Unnamed: 0'], inplace = True)"
      ],
      "metadata": {
        "id": "W2Mdinr_Ln06"
      },
      "execution_count": null,
      "outputs": []
    },
    {
      "cell_type": "code",
      "source": [
        "en_wa['England preventable deaths'] = en_wa['England preventable mortality']/100000*en_wa['England population']"
      ],
      "metadata": {
        "id": "uDI4Ta5ULua-"
      },
      "execution_count": null,
      "outputs": []
    },
    {
      "cell_type": "code",
      "source": [
        "en_wa['Wales preventable deaths'] = en_wa['Wales preventable mortality']/100000*en_wa['Wales population']"
      ],
      "metadata": {
        "id": "-CnYrElANDQZ"
      },
      "execution_count": null,
      "outputs": []
    },
    {
      "cell_type": "code",
      "source": [
        "en_wa['England ratio (/1000)'] = en_wa['England PFD']/en_wa['England preventable deaths']*1000\n",
        "en_wa['Wales ratio (/1000)'] = en_wa['Wales PFD']/en_wa['Wales preventable deaths']*1000"
      ],
      "metadata": {
        "id": "Cm4RrQ2CNXXD"
      },
      "execution_count": null,
      "outputs": []
    },
    {
      "cell_type": "code",
      "source": [
        "display(en_wa)"
      ],
      "metadata": {
        "colab": {
          "base_uri": "https://localhost:8080/",
          "height": 352
        },
        "id": "BzLvvrm-NNrA",
        "outputId": "1e35d42e-f313-4932-831d-734339606adc"
      },
      "execution_count": null,
      "outputs": [
        {
          "output_type": "display_data",
          "data": {
            "text/plain": [
              "   Years  England PFD  England population  Wales PFD  Wales population  \\\n",
              "0   2014          542            54316600         25           3092000   \n",
              "1   2015          408            54786300         26           3099100   \n",
              "2   2016          450            55268100         22           3113200   \n",
              "3   2017          417            55619400         23           3125200   \n",
              "4   2018          375            55977200         12           3138600   \n",
              "5   2019          501            56287000         25           3152900   \n",
              "6   2020          299            56550000         12           3170000   \n",
              "\n",
              "   England preventable mortality  Wales preventable mortality  \\\n",
              "0                          147.6                        162.0   \n",
              "1                          146.7                        169.7   \n",
              "2                          145.8                        173.5   \n",
              "3                          142.7                        167.5   \n",
              "4                          143.5                        168.7   \n",
              "5                          140.6                        162.7   \n",
              "6                          175.4                        189.8   \n",
              "\n",
              "   England preventable deaths  Wales preventable deaths  England PFD ratio  \\\n",
              "0                  80171.3016                 5009.0400           6.760524   \n",
              "1                  80371.5021                 5259.1727           5.076426   \n",
              "2                  80580.8898                 5401.4020           5.584451   \n",
              "3                  79368.8838                 5234.7100           5.253948   \n",
              "4                  80327.2820                 5294.8182           4.668401   \n",
              "5                  79139.5220                 5129.7683           6.330592   \n",
              "6                  99188.7000                 6016.6600           3.014456   \n",
              "\n",
              "   Wales PFD ratio  \n",
              "0         4.990976  \n",
              "1         4.943743  \n",
              "2         4.073017  \n",
              "3         4.393749  \n",
              "4         2.266367  \n",
              "5         4.873514  \n",
              "6         1.994462  "
            ],
            "text/html": [
              "\n",
              "  <div id=\"df-2b2f2ad8-2ed6-4047-a6cf-bf9d41adf431\">\n",
              "    <div class=\"colab-df-container\">\n",
              "      <div>\n",
              "<style scoped>\n",
              "    .dataframe tbody tr th:only-of-type {\n",
              "        vertical-align: middle;\n",
              "    }\n",
              "\n",
              "    .dataframe tbody tr th {\n",
              "        vertical-align: top;\n",
              "    }\n",
              "\n",
              "    .dataframe thead th {\n",
              "        text-align: right;\n",
              "    }\n",
              "</style>\n",
              "<table border=\"1\" class=\"dataframe\">\n",
              "  <thead>\n",
              "    <tr style=\"text-align: right;\">\n",
              "      <th></th>\n",
              "      <th>Years</th>\n",
              "      <th>England PFD</th>\n",
              "      <th>England population</th>\n",
              "      <th>Wales PFD</th>\n",
              "      <th>Wales population</th>\n",
              "      <th>England preventable mortality</th>\n",
              "      <th>Wales preventable mortality</th>\n",
              "      <th>England preventable deaths</th>\n",
              "      <th>Wales preventable deaths</th>\n",
              "      <th>England PFD ratio</th>\n",
              "      <th>Wales PFD ratio</th>\n",
              "    </tr>\n",
              "  </thead>\n",
              "  <tbody>\n",
              "    <tr>\n",
              "      <th>0</th>\n",
              "      <td>2014</td>\n",
              "      <td>542</td>\n",
              "      <td>54316600</td>\n",
              "      <td>25</td>\n",
              "      <td>3092000</td>\n",
              "      <td>147.6</td>\n",
              "      <td>162.0</td>\n",
              "      <td>80171.3016</td>\n",
              "      <td>5009.0400</td>\n",
              "      <td>6.760524</td>\n",
              "      <td>4.990976</td>\n",
              "    </tr>\n",
              "    <tr>\n",
              "      <th>1</th>\n",
              "      <td>2015</td>\n",
              "      <td>408</td>\n",
              "      <td>54786300</td>\n",
              "      <td>26</td>\n",
              "      <td>3099100</td>\n",
              "      <td>146.7</td>\n",
              "      <td>169.7</td>\n",
              "      <td>80371.5021</td>\n",
              "      <td>5259.1727</td>\n",
              "      <td>5.076426</td>\n",
              "      <td>4.943743</td>\n",
              "    </tr>\n",
              "    <tr>\n",
              "      <th>2</th>\n",
              "      <td>2016</td>\n",
              "      <td>450</td>\n",
              "      <td>55268100</td>\n",
              "      <td>22</td>\n",
              "      <td>3113200</td>\n",
              "      <td>145.8</td>\n",
              "      <td>173.5</td>\n",
              "      <td>80580.8898</td>\n",
              "      <td>5401.4020</td>\n",
              "      <td>5.584451</td>\n",
              "      <td>4.073017</td>\n",
              "    </tr>\n",
              "    <tr>\n",
              "      <th>3</th>\n",
              "      <td>2017</td>\n",
              "      <td>417</td>\n",
              "      <td>55619400</td>\n",
              "      <td>23</td>\n",
              "      <td>3125200</td>\n",
              "      <td>142.7</td>\n",
              "      <td>167.5</td>\n",
              "      <td>79368.8838</td>\n",
              "      <td>5234.7100</td>\n",
              "      <td>5.253948</td>\n",
              "      <td>4.393749</td>\n",
              "    </tr>\n",
              "    <tr>\n",
              "      <th>4</th>\n",
              "      <td>2018</td>\n",
              "      <td>375</td>\n",
              "      <td>55977200</td>\n",
              "      <td>12</td>\n",
              "      <td>3138600</td>\n",
              "      <td>143.5</td>\n",
              "      <td>168.7</td>\n",
              "      <td>80327.2820</td>\n",
              "      <td>5294.8182</td>\n",
              "      <td>4.668401</td>\n",
              "      <td>2.266367</td>\n",
              "    </tr>\n",
              "    <tr>\n",
              "      <th>5</th>\n",
              "      <td>2019</td>\n",
              "      <td>501</td>\n",
              "      <td>56287000</td>\n",
              "      <td>25</td>\n",
              "      <td>3152900</td>\n",
              "      <td>140.6</td>\n",
              "      <td>162.7</td>\n",
              "      <td>79139.5220</td>\n",
              "      <td>5129.7683</td>\n",
              "      <td>6.330592</td>\n",
              "      <td>4.873514</td>\n",
              "    </tr>\n",
              "    <tr>\n",
              "      <th>6</th>\n",
              "      <td>2020</td>\n",
              "      <td>299</td>\n",
              "      <td>56550000</td>\n",
              "      <td>12</td>\n",
              "      <td>3170000</td>\n",
              "      <td>175.4</td>\n",
              "      <td>189.8</td>\n",
              "      <td>99188.7000</td>\n",
              "      <td>6016.6600</td>\n",
              "      <td>3.014456</td>\n",
              "      <td>1.994462</td>\n",
              "    </tr>\n",
              "  </tbody>\n",
              "</table>\n",
              "</div>\n",
              "      <button class=\"colab-df-convert\" onclick=\"convertToInteractive('df-2b2f2ad8-2ed6-4047-a6cf-bf9d41adf431')\"\n",
              "              title=\"Convert this dataframe to an interactive table.\"\n",
              "              style=\"display:none;\">\n",
              "        \n",
              "  <svg xmlns=\"http://www.w3.org/2000/svg\" height=\"24px\"viewBox=\"0 0 24 24\"\n",
              "       width=\"24px\">\n",
              "    <path d=\"M0 0h24v24H0V0z\" fill=\"none\"/>\n",
              "    <path d=\"M18.56 5.44l.94 2.06.94-2.06 2.06-.94-2.06-.94-.94-2.06-.94 2.06-2.06.94zm-11 1L8.5 8.5l.94-2.06 2.06-.94-2.06-.94L8.5 2.5l-.94 2.06-2.06.94zm10 10l.94 2.06.94-2.06 2.06-.94-2.06-.94-.94-2.06-.94 2.06-2.06.94z\"/><path d=\"M17.41 7.96l-1.37-1.37c-.4-.4-.92-.59-1.43-.59-.52 0-1.04.2-1.43.59L10.3 9.45l-7.72 7.72c-.78.78-.78 2.05 0 2.83L4 21.41c.39.39.9.59 1.41.59.51 0 1.02-.2 1.41-.59l7.78-7.78 2.81-2.81c.8-.78.8-2.07 0-2.86zM5.41 20L4 18.59l7.72-7.72 1.47 1.35L5.41 20z\"/>\n",
              "  </svg>\n",
              "      </button>\n",
              "      \n",
              "  <style>\n",
              "    .colab-df-container {\n",
              "      display:flex;\n",
              "      flex-wrap:wrap;\n",
              "      gap: 12px;\n",
              "    }\n",
              "\n",
              "    .colab-df-convert {\n",
              "      background-color: #E8F0FE;\n",
              "      border: none;\n",
              "      border-radius: 50%;\n",
              "      cursor: pointer;\n",
              "      display: none;\n",
              "      fill: #1967D2;\n",
              "      height: 32px;\n",
              "      padding: 0 0 0 0;\n",
              "      width: 32px;\n",
              "    }\n",
              "\n",
              "    .colab-df-convert:hover {\n",
              "      background-color: #E2EBFA;\n",
              "      box-shadow: 0px 1px 2px rgba(60, 64, 67, 0.3), 0px 1px 3px 1px rgba(60, 64, 67, 0.15);\n",
              "      fill: #174EA6;\n",
              "    }\n",
              "\n",
              "    [theme=dark] .colab-df-convert {\n",
              "      background-color: #3B4455;\n",
              "      fill: #D2E3FC;\n",
              "    }\n",
              "\n",
              "    [theme=dark] .colab-df-convert:hover {\n",
              "      background-color: #434B5C;\n",
              "      box-shadow: 0px 1px 3px 1px rgba(0, 0, 0, 0.15);\n",
              "      filter: drop-shadow(0px 1px 2px rgba(0, 0, 0, 0.3));\n",
              "      fill: #FFFFFF;\n",
              "    }\n",
              "  </style>\n",
              "\n",
              "      <script>\n",
              "        const buttonEl =\n",
              "          document.querySelector('#df-2b2f2ad8-2ed6-4047-a6cf-bf9d41adf431 button.colab-df-convert');\n",
              "        buttonEl.style.display =\n",
              "          google.colab.kernel.accessAllowed ? 'block' : 'none';\n",
              "\n",
              "        async function convertToInteractive(key) {\n",
              "          const element = document.querySelector('#df-2b2f2ad8-2ed6-4047-a6cf-bf9d41adf431');\n",
              "          const dataTable =\n",
              "            await google.colab.kernel.invokeFunction('convertToInteractive',\n",
              "                                                     [key], {});\n",
              "          if (!dataTable) return;\n",
              "\n",
              "          const docLinkHtml = 'Like what you see? Visit the ' +\n",
              "            '<a target=\"_blank\" href=https://colab.research.google.com/notebooks/data_table.ipynb>data table notebook</a>'\n",
              "            + ' to learn more about interactive tables.';\n",
              "          element.innerHTML = '';\n",
              "          dataTable['output_type'] = 'display_data';\n",
              "          await google.colab.output.renderOutput(dataTable, element);\n",
              "          const docLink = document.createElement('div');\n",
              "          docLink.innerHTML = docLinkHtml;\n",
              "          element.appendChild(docLink);\n",
              "        }\n",
              "      </script>\n",
              "    </div>\n",
              "  </div>\n",
              "  "
            ]
          },
          "metadata": {}
        }
      ]
    },
    {
      "cell_type": "code",
      "source": [
        "en_wa['England PFD ratio'] = en_wa['England ratio (/1000)']\n",
        "en_wa['Wales PFD ratio'] = en_wa['Wales ratio (/1000)']\n",
        "en_wa.drop(columns = ['England ratio (/1000)', 'Wales ratio (/1000)'], inplace = True)"
      ],
      "metadata": {
        "id": "iCg9mCOBdpSU"
      },
      "execution_count": null,
      "outputs": []
    },
    {
      "cell_type": "code",
      "source": [
        "en_wa.to_csv('en_wa_pfd_pop.csv')"
      ],
      "metadata": {
        "id": "tE4jHUYKd9bs"
      },
      "execution_count": null,
      "outputs": []
    },
    {
      "cell_type": "markdown",
      "source": [
        "Average ratio for England and Wales"
      ],
      "metadata": {
        "id": "VI6xaqNoP37v"
      }
    },
    {
      "cell_type": "code",
      "source": [
        "england_ratio_average = en_wa['England ratio (/1000)'].mean()\n",
        "wales_ratio_average = en_wa['Wales ratio (/1000)'].mean()"
      ],
      "metadata": {
        "id": "45b8rjzNP5cA"
      },
      "execution_count": null,
      "outputs": []
    },
    {
      "cell_type": "code",
      "source": [
        "print(england_ratio_average)\n",
        "print(wales_ratio_average)"
      ],
      "metadata": {
        "colab": {
          "base_uri": "https://localhost:8080/"
        },
        "id": "Nn_TsnIZQT6f",
        "outputId": "c351be27-aeae-499e-d379-57be9148f6d8"
      },
      "execution_count": null,
      "outputs": [
        {
          "output_type": "stream",
          "name": "stdout",
          "text": [
            "5.241256899361997\n",
            "3.9336897391985337\n"
          ]
        }
      ]
    },
    {
      "cell_type": "code",
      "source": [
        "plt.figure(figsize=(10, 6))\n",
        "plt.plot(en_wa['Years'], en_wa['England ratio (/1000)'], label = 'England')\n",
        "plt.plot(en_wa['Years'], en_wa['Wales ratio (/1000)'], label = 'Wales')\n",
        "plt.legend()\n",
        "plt.xlabel('Years (2014-2021)')\n",
        "plt.ylabel('PFDs written / 1000 preventable deaths')\n",
        "plt.xticks(ticks = range(2014, 2022))\n",
        "plt.savefig('pfd_ons.png')\n",
        "plt.show()"
      ],
      "metadata": {
        "colab": {
          "base_uri": "https://localhost:8080/",
          "height": 388
        },
        "id": "H3AgtSofN3tu",
        "outputId": "d35f94fa-faf3-4b73-974f-c9d06d8541a7"
      },
      "execution_count": null,
      "outputs": [
        {
          "output_type": "display_data",
          "data": {
            "text/plain": [
              "<Figure size 720x432 with 1 Axes>"
            ],
            "image/png": "[encoded data removed]"
          },
          "metadata": {
            "needs_background": "light"
          }
        }
      ]
    },
    {
      "cell_type": "markdown",
      "source": [
        "#Plot ONS preventable deaths data in graph\n",
        "\n",
        "(rate of x/100,000 in population)"
      ],
      "metadata": {
        "id": "6tggds4QiKc0"
      }
    },
    {
      "cell_type": "code",
      "source": [
        "preventable_df = preventable_df.transpose()"
      ],
      "metadata": {
        "id": "yG1Qk-smi-x9"
      },
      "execution_count": null,
      "outputs": []
    },
    {
      "cell_type": "code",
      "source": [
        "plt.figure(figsize = (10, 6))\n",
        "plt.plot(range(10), preventable_df[0], label = 'England')\n",
        "plt.plot(range(10), preventable_df[3], label = 'Wales')\n",
        "plt.legend()\n",
        "plt.xlabel('Years (2013-2022)')\n",
        "plt.ylabel('Preventable deaths per 100,000')\n",
        "plt.xticks(ticks = range(10), labels=range(2013, 2023), rotation = 0)\n",
        "plt.savefig('Preventable_mortality_ons.png')\n",
        "plt.show()"
      ],
      "metadata": {
        "id": "IDBprNdhiTHN"
      },
      "execution_count": null,
      "outputs": []
    },
    {
      "cell_type": "markdown",
      "source": [
        "Find ratio"
      ],
      "metadata": {
        "id": "-rx0VZULULDD"
      }
    },
    {
      "cell_type": "code",
      "source": [
        "print(preventable_df[3].mean())\n",
        "print(preventable_df[0].mean())"
      ],
      "metadata": {
        "id": "2k-0avMfYK6e"
      },
      "execution_count": null,
      "outputs": []
    },
    {
      "cell_type": "code",
      "source": [
        "ratio_mortality = preventable_df[3]/preventable_df[0]"
      ],
      "metadata": {
        "id": "Fo5VJRpZUMYM"
      },
      "execution_count": null,
      "outputs": []
    },
    {
      "cell_type": "code",
      "source": [
        "plt.figure(figsize = (10, 6))\n",
        "plt.plot(range(2013, 2023), ratio_mortality)"
      ],
      "metadata": {
        "id": "GyafYyojUXQK"
      },
      "execution_count": null,
      "outputs": []
    },
    {
      "cell_type": "code",
      "source": [
        "average_ratio_pfd = ratio_mortality.mean()\n",
        "print(average_ratio_pfd)"
      ],
      "metadata": {
        "id": "WZz-t_cOUikp"
      },
      "execution_count": null,
      "outputs": []
    },
    {
      "cell_type": "markdown",
      "source": [
        "# Plot of ratios"
      ],
      "metadata": {
        "id": "Joe7lhfmYzcY"
      }
    },
    {
      "cell_type": "code",
      "source": [
        "plt.figure(figsize=(10, 6))\n",
        "plt.plot(range(2013, 2023), ratio, label = 'PFD Wales-England ratio')\n",
        "plt.plot(range(2013, 2023), ratio_mortality, label = 'preventable mortality Wales-England ratio')\n",
        "plt.legend()"
      ],
      "metadata": {
        "id": "SEJOpGsJY0jg"
      },
      "execution_count": null,
      "outputs": []
    },
    {
      "cell_type": "markdown",
      "source": [
        "# See if there are less coroners/100,000 population in Wales to see if understaffing is the cause of underreporting"
      ],
      "metadata": {
        "id": "g1q_G71Yo8Tl"
      }
    },
    {
      "cell_type": "code",
      "source": [
        "deaths = pd.read_csv('sent_and_response_4001_corrected_area.csv')\n",
        "deaths.drop(columns = ['Unnamed: 0'], inplace = True)"
      ],
      "metadata": {
        "id": "s9TwBHJspEtb"
      },
      "execution_count": null,
      "outputs": []
    },
    {
      "cell_type": "code",
      "source": [
        "replacements = [['2015-0301', 'Nicola Mundy'], \n",
        "                ['2018-0094', 'Rachel Galloway'], \n",
        "                ['Jame Bennett', 'James Bennett'], \n",
        "                ['Dr Jame Adeley', 'James Adeley'], \n",
        "                ['Derek Winters', 'Derek Winter'], \n",
        "                ['Dr Peter Dean', 'Peter Dean'], \n",
        "                ['Dr Peter dean', 'Peter Dean'], \n",
        "                ['ARW Forrest', 'Alexander Forrest'], \n",
        "                ['Alexander R W Forrest', 'Alexander Forrest'], \n",
        "                ['S Fox', 'Simon Fox'], \n",
        "                ['Veronia Hamilton-Deeley', 'Veronica Hamilton-Deeley'], \n",
        "                ['D L I Roberts', 'David Roberts'], \n",
        "                ['T G Moore', 'Terence Moore'], \n",
        "                ['Terence G. Moore', 'Terence Moore'], \n",
        "                ['D Hocking', 'Dianne Hocking'], \n",
        "                ['D Pritchard Jones', 'Pritchard Jones'], \n",
        "                ['L J Hashmi', 'L Hashmi'], \n",
        "                ['D Roberts', 'David Roberts'], \n",
        "                ['D.Ll. Roberts', 'David Roberts'], \n",
        "                ['G A Short', 'Grahame Short'], \n",
        "                ['G U Williams', 'Geraint Williams'], \n",
        "                ['R Brittain','Richard Brittain' ], \n",
        "                ['RN Palmer', 'Roy Palmer'], \n",
        "                ['R N Palmer', 'Roy Palmer'],\n",
        "                ['Jullian Fox', 'Julian Fox'],\n",
        "                ['S McGovern', 'Sean McGovern'],\n",
        "                ['S Ormond-Walshe', 'Sarah Ormond-Walshe'],\n",
        "                ['S P Fisher', 'Stuart Fisher'],\n",
        "                ['M E Hassell','Mary Hassell' ],\n",
        "                ['ME Hassell', 'Mary Hassell'],\n",
        "                ['M E Voisin', 'Maria Voisin'],\n",
        "                ['M Jennifer Leeming', 'Jennier Leeming'],\n",
        "                ['M Spittal', 'Murray Spittal'], \n",
        "                ['Nicola Jane Mundy','Nicola Mundy' ], \n",
        "                ['N J Mundy', 'Nicola Mundy'], \n",
        "                ['P Harrowing', 'Peter Harrowing'], \n",
        "                ['Jame Adeley', 'James Adeley'], \n",
        "                ['J Adeley', 'James Adeley'], \n",
        "                ['J Robertson', 'Julia Robertson'], \n",
        "                ['L Hashmi', 'Lisa Hashmi'], \n",
        "                ['L Tagliavini', 'Lorna Tagliavini'], \n",
        "                ['HG Mark Bricknell', 'Hugh Bricknell'], \n",
        "                ['PS Cooper', 'Paul Cooper'], \n",
        "                ['M A Beresford', 'Mark Beresford'], \n",
        "                ['Christopher Willilams', 'Christopher Williams'], \n",
        "                ['Rashid Sohall', 'Rashid Sohail'], \n",
        "                ['David Hinchcliff', 'David Hinchliff']\n",
        "                ]\n",
        "for replacement in replacements: \n",
        "  deaths.loc[deaths['coroner_name']==replacement[0], 'coroner_name'] = replacement[1]"
      ],
      "metadata": {
        "id": "QrXl0eUNqQoK"
      },
      "execution_count": null,
      "outputs": []
    },
    {
      "cell_type": "code",
      "source": [
        "display(deaths.head())"
      ],
      "metadata": {
        "id": "LUqfjFPaqbuV"
      },
      "execution_count": null,
      "outputs": []
    },
    {
      "cell_type": "markdown",
      "source": [
        "Make new column distinguishing if it's England or Wales"
      ],
      "metadata": {
        "id": "VP0f2ayGqeLJ"
      }
    },
    {
      "cell_type": "code",
      "source": [
        "wales = ['North West Wales', 'Ceredigion', 'Carmarthenshire and Pembrokeshire', 'Swansea and Neath Port Talbot', 'South Wales Central', 'North Wales (East & Central)', 'Gwent']"
      ],
      "metadata": {
        "id": "zWo5WZKXqiyH"
      },
      "execution_count": null,
      "outputs": []
    },
    {
      "cell_type": "code",
      "source": [
        "deaths['en_wa']=np.nan\n",
        "for i in deaths.index: \n",
        "  if deaths.loc[i, 'corrected_area'] in wales: \n",
        "    deaths.loc[i, 'en_wa']= 'Wales'\n",
        "  else: \n",
        "    deaths.loc[i, 'en_wa']= 'England'"
      ],
      "metadata": {
        "id": "TqDyGf4yqt99"
      },
      "execution_count": null,
      "outputs": []
    },
    {
      "cell_type": "code",
      "source": [
        "en = deaths[deaths['en_wa']=='England']\n",
        "wa = deaths[deaths['en_wa']=='Wales']"
      ],
      "metadata": {
        "id": "j-SMGHu7rFln"
      },
      "execution_count": null,
      "outputs": []
    },
    {
      "cell_type": "code",
      "source": [
        "coroner_en = en['coroner_name'].nunique()\n",
        "coroner_wa = wa['coroner_name'].nunique()"
      ],
      "metadata": {
        "id": "3rFCmZatrRAN"
      },
      "execution_count": null,
      "outputs": []
    },
    {
      "cell_type": "markdown",
      "source": [
        "433 + 33 > 455 because some coroners work across England and Wales"
      ],
      "metadata": {
        "id": "NkV8r1Fer8HL"
      }
    },
    {
      "cell_type": "code",
      "source": [
        "en_pop = 56489800 \n",
        "wa_pop = 3107500"
      ],
      "metadata": {
        "id": "K5uQG4mUr06S"
      },
      "execution_count": null,
      "outputs": []
    },
    {
      "cell_type": "markdown",
      "source": [
        "coroner number per 100,000"
      ],
      "metadata": {
        "id": "67ge1s0Ls58F"
      }
    },
    {
      "cell_type": "code",
      "source": [
        "en_scaled = coroner_en/en_pop*100000\n",
        "wa_scaled = coroner_wa/wa_pop*100000"
      ],
      "metadata": {
        "id": "xnj0r83Is46Y"
      },
      "execution_count": null,
      "outputs": []
    },
    {
      "cell_type": "code",
      "source": [
        "print(en_scaled)\n",
        "print(wa_scaled)"
      ],
      "metadata": {
        "id": "eWVBmRxHtX72"
      },
      "execution_count": null,
      "outputs": []
    },
    {
      "cell_type": "markdown",
      "source": [
        "# Hypothesis: coroner per area matters? "
      ],
      "metadata": {
        "id": "dsejGQR4rUkc"
      }
    },
    {
      "cell_type": "code",
      "source": [
        "wa_area = 20779\n",
        "en_area = 130279"
      ],
      "metadata": {
        "id": "jLdNfmxf40v9"
      },
      "execution_count": null,
      "outputs": []
    },
    {
      "cell_type": "code",
      "source": [
        "en_coroner_scaled = coroner_en/en_area\n",
        "wa_coroner_scaled = coroner_wa/wa_area"
      ],
      "metadata": {
        "id": "4ZDlbTt25HN0"
      },
      "execution_count": null,
      "outputs": []
    },
    {
      "cell_type": "code",
      "source": [
        "print(en_coroner_scaled)\n",
        "print(wa_coroner_scaled)"
      ],
      "metadata": {
        "id": "S0RiFOKX5TKY"
      },
      "execution_count": null,
      "outputs": []
    }
  ]
}