{
  "nbformat": 4,
  "nbformat_minor": 0,
  "metadata": {
    "colab": {
      "name": "coroner_name.ipynb",
      "provenance": []
    },
    "kernelspec": {
      "name": "python3",
      "display_name": "Python 3"
    },
    "language_info": {
      "name": "python"
    }
  },
  "cells": [
    {
      "cell_type": "code",
      "execution_count": null,
      "metadata": {
        "id": "OnjJs-KQUUfl"
      },
      "outputs": [],
      "source": [
        ""
      ]
    },
    {
      "cell_type": "markdown",
      "source": [
        "#Coroner name and reports"
      ],
      "metadata": {
        "id": "mIiQ8WPATQXV"
      }
    },
    {
      "cell_type": "code",
      "source": [
        "import pandas as pd\n",
        "import numpy as np"
      ],
      "metadata": {
        "id": "cfV8iq_UTSpv"
      },
      "execution_count": null,
      "outputs": []
    },
    {
      "cell_type": "code",
      "source": [
        "deaths = pd.read_csv('death_info_2022-06-23_processed.csv')\n",
        "display(deaths.head())"
      ],
      "metadata": {
        "id": "0giINVC-TZzy"
      },
      "execution_count": null,
      "outputs": []
    },
    {
      "cell_type": "code",
      "source": [
        "display(deaths.loc[4000, :])"
      ],
      "metadata": {
        "id": "IO35Wc-XlkeU"
      },
      "execution_count": null,
      "outputs": []
    },
    {
      "cell_type": "markdown",
      "source": [
        "I've seen before that \"James Bennett\" spelt his name wrong as \"Jame Bennett\" so I expect some typos"
      ],
      "metadata": {
        "id": "8duFyXkFT8ow"
      }
    },
    {
      "cell_type": "markdown",
      "source": [
        "Do a naive groupby, and then see how bad typos are"
      ],
      "metadata": {
        "id": "NJCas7gpUD84"
      }
    },
    {
      "cell_type": "markdown",
      "source": [
        "There are two entries where no coroner name is registered but instead are reference numbers\n",
        "\n",
        "There are 2 entries where there are no coroner names. \n",
        "\n",
        "There is 1 entry where our webscraper failed. Manually correct for it"
      ],
      "metadata": {
        "id": "bSln4yWTYJ8n"
      }
    },
    {
      "cell_type": "code",
      "source": [
        "display(deaths[deaths['coroner_name']=='2015-0301'])\n",
        "display(deaths[deaths['coroner_name']=='2018-0094'])"
      ],
      "metadata": {
        "id": "uCec-HqhXBaa"
      },
      "execution_count": null,
      "outputs": []
    },
    {
      "cell_type": "markdown",
      "source": [
        "Check for nans"
      ],
      "metadata": {
        "id": "tivQv2sNYZx7"
      }
    },
    {
      "cell_type": "code",
      "source": [
        "deaths[deaths['coroner_name'].isna()]"
      ],
      "metadata": {
        "id": "ykcG-rM-YxXG"
      },
      "execution_count": null,
      "outputs": []
    },
    {
      "cell_type": "code",
      "source": [
        "deaths.loc[deaths['ref']=='2020-0114', 'coroner_name'] = 'Andrew Harris'\n"
      ],
      "metadata": {
        "id": "XYXoKpL4Nk_j"
      },
      "execution_count": null,
      "outputs": []
    },
    {
      "cell_type": "code",
      "source": [
        "deaths = deaths[deaths['coroner_name'].notna()]"
      ],
      "metadata": {
        "id": "fO3OxsUqHcto"
      },
      "execution_count": null,
      "outputs": []
    },
    {
      "cell_type": "markdown",
      "source": [
        "There is one entry: https://www.judiciary.uk/publications/helen-sheath/ where the webscraper failed to pull data. I manually add it in, but I need to fix the webscraper at some point"
      ],
      "metadata": {
        "id": "88MXvg14d_nZ"
      }
    },
    {
      "cell_type": "code",
      "source": [
        "display(deaths.loc[deaths['url']=='https://www.judiciary.uk/publications/helen-sheath/'] )"
      ],
      "metadata": {
        "id": "8l_-j5CAOzrd"
      },
      "execution_count": null,
      "outputs": []
    },
    {
      "cell_type": "markdown",
      "source": [
        "With hindsight, there are two coroners who did not put their names, but reference down as \"coroner name\". Correct for those"
      ],
      "metadata": {
        "id": "bkW6S7Jifhmm"
      }
    },
    {
      "cell_type": "markdown",
      "source": [
        "Correct for all sorts of typos"
      ],
      "metadata": {
        "id": "eD9BBd7O_ZNC"
      }
    },
    {
      "cell_type": "code",
      "source": [
        "deaths.loc[deaths['ref']=='2015-0301', 'coroner_name'] = 'Nicola Mundy'\n",
        "deaths.loc[deaths['ref']=='2018-0094', 'coroner_name'] = 'Rachel Galloway'\n",
        "deaths.loc[deaths['coroner_name']=='Jame Bennett', 'coroner_name'] = 'James Bennett'\n",
        "deaths.loc[deaths['coroner_name']=='Dr Jame Adeley', 'coroner_name'] = 'James Adeley'\n",
        "deaths.loc[deaths['coroner_name']=='Derek Winters', 'coroner_name'] = 'Derek Winter'\n",
        "deaths.loc[deaths['coroner_name']=='Dr Peter Dean', 'coroner_name'] = 'Peter Dean'\n",
        "deaths.loc[deaths['coroner_name']=='Dr Peter dean', 'coroner_name'] = 'Peter Dean'\n",
        "deaths.loc[deaths['coroner_name']=='ARW Forrest', 'coroner_name'] = 'Alexander Forrest'\n",
        "deaths.loc[deaths['coroner_name']=='Alexander R W Forrest', 'coroner_name'] = 'Alexander Forrest'\n",
        "deaths.loc[deaths['coroner_name']=='S Fox', 'coroner_name'] = 'Simon Fox'\n",
        "deaths['coroner_name'] = deaths['coroner_name'].str.replace(' QC', '').str.replace(' Judge', '')\n",
        "deaths.loc[deaths['coroner_name']=='Veronia Hamilton-Deeley', 'coroner_name'] = 'Veronica Hamilton-Deeley'\n",
        "deaths.loc[deaths['coroner_name']=='D L I Roberts', 'coroner_name'] = 'D Roberts'\n",
        "deaths.loc[deaths['coroner_name']=='D LI Roberts', 'coroner_name'] = 'D Roberts'\n",
        "deaths.loc[deaths['coroner_name']=='T G Moore', 'coroner_name'] = 'Terence Moore'\n",
        "deaths.loc[deaths['coroner_name']=='T Moore', 'coroner_name'] = 'Terence Moore'\n",
        "deaths.loc[deaths['coroner_name']=='Terence G. Moore', 'coroner_name'] = 'Terence Moore'\n",
        "deaths.loc[deaths['coroner_name']=='D Hocking', 'coroner_name'] = 'Dianne Hocking'\n",
        "deaths.loc[deaths['coroner_name']=='D Pritchard Jones', 'coroner_name'] = 'Pritchard Jones'\n",
        "deaths.loc[deaths['coroner_name']=='L J Hashmi', 'coroner_name'] = 'L Hashmi'\n",
        "deaths.loc[deaths['coroner_name']=='D Roberts', 'coroner_name'] = 'David Roberts'\n",
        "deaths.loc[deaths['coroner_name']=='D.Ll. Roberts', 'coroner_name'] = 'David Roberts'\n",
        "deaths.loc[deaths['coroner_name']=='G A Short', 'coroner_name'] = 'Grahame Short'\n",
        "deaths.loc[deaths['coroner_name']=='G U Williams', 'coroner_name'] = 'Geraint Williams'\n",
        "deaths.loc[deaths['coroner_name']=='R Brittain', 'coroner_name'] = 'Richard Brittain'\n",
        "deaths.loc[deaths['coroner_name']=='RN Palmer', 'coroner_name'] = 'Roy Palmer'\n",
        "deaths.loc[deaths['coroner_name']=='R N Palmer', 'coroner_name'] = 'Roy Palmer'\n",
        "deaths.loc[deaths['coroner_name'].str.contains('R N Palmer'), 'coroner_name'] = 'Roy Palmer'\n",
        "deaths.loc[deaths['coroner_name']=='Jullian Fox', 'coroner_name'] = 'Julian Fox'\n",
        "deaths.loc[deaths['coroner_name']=='S McGovern', 'coroner_name'] = 'Sean McGovern'\n",
        "deaths.loc[deaths['coroner_name']=='S Ormond-Walshe', 'coroner_name'] = 'Sarah Ormond-Walshe'\n",
        "deaths.loc[deaths['coroner_name']=='S P Fisher', 'coroner_name'] = 'Stuart Fisher'\n",
        "deaths.loc[deaths['coroner_name']=='M E Hassell', 'coroner_name'] = 'Mary Hassell'\n",
        "deaths.loc[deaths['coroner_name']=='ME Hassell', 'coroner_name'] = 'Mary Hassell'\n",
        "deaths.loc[deaths['coroner_name']=='M E Voisin', 'coroner_name'] = 'Maria Voisin'\n",
        "deaths.loc[deaths['coroner_name']=='M Jennifer Leeming', 'coroner_name'] = 'Jennier Leeming'\n",
        "deaths.loc[deaths['coroner_name']=='M Spittal', 'coroner_name'] = 'Murray Spittal'\n",
        "deaths.loc[deaths['coroner_name']=='Nicola Jane Mundy', 'coroner_name'] = 'Nicola Mundy'\n",
        "deaths.loc[deaths['coroner_name']=='N J Mundy', 'coroner_name'] = 'Nicola Mundy'\n",
        "deaths.loc[deaths['coroner_name']=='P Harrowing', 'coroner_name'] = 'Peter Harrowing'\n",
        "deaths.loc[deaths['coroner_name']=='Jame Adeley', 'coroner_name'] = 'James Adeley'\n",
        "deaths.loc[deaths['coroner_name']=='J Adeley', 'coroner_name'] = 'James Adeley'\n",
        "deaths.loc[deaths['coroner_name']=='J Robertson', 'coroner_name'] = 'Julia Robertson'\n",
        "deaths.loc[deaths['coroner_name']=='L Hashmi', 'coroner_name'] = 'Lisa Hashmi'\n",
        "deaths.loc[deaths['coroner_name']=='L Tagliavini', 'coroner_name'] = 'Lorna Tagliavini'\n",
        "deaths.loc[deaths['coroner_name']=='HG Mark Bricknell', 'coroner_name'] = 'Hugh Bricknell'\n",
        "deaths.loc[deaths['coroner_name'].str.contains('HH Lucraft'), 'coroner_name'] = 'HHJ Mark Lucraft'\n",
        "deaths.loc[deaths['coroner_name']=='HH Mark Lucraft', 'coroner_name'] = 'HHJ Mark Lucraft'\n",
        "deaths.loc[deaths['coroner_name']=='PS Cooper', 'coroner_name'] = 'Paul Cooper'\n",
        "deaths.loc[deaths['coroner_name']=='M A Beresford', 'coroner_name'] = 'Mark Beresford'\n",
        "deaths.loc[deaths['coroner_name']=='Christopher Willilams', 'coroner_name'] = 'Christopher Williams'\n",
        "deaths.loc[deaths['coroner_name']=='Rashid Sohall', 'coroner_name'] = 'Rashid Sohail'\n",
        "deaths.loc[deaths['coroner_name']=='David Hinchcliff', 'coroner_name'] = 'David Hinchliff'"
      ],
      "metadata": {
        "id": "-KFPuYzuaAkD"
      },
      "execution_count": null,
      "outputs": []
    },
    {
      "cell_type": "markdown",
      "source": [
        "Remove Dr"
      ],
      "metadata": {
        "id": "nsQA-67wHnmW"
      }
    },
    {
      "cell_type": "code",
      "source": [
        "deaths['coroner_name'] = deaths['coroner_name'].str.replace(\"Dr \",\"\").str.replace('Dr. ', '').str.replace('dr. ', '').str.replace('dr ', '')"
      ],
      "metadata": {
        "id": "O0yE4uIHc4Yk"
      },
      "execution_count": null,
      "outputs": []
    },
    {
      "cell_type": "code",
      "source": [
        "deaths.loc[deaths['coroner_name']=='Derek Winters', 'coroner_name'] = 'Derek Winter'"
      ],
      "metadata": {
        "id": "TLV6TgS34A23"
      },
      "execution_count": null,
      "outputs": []
    },
    {
      "cell_type": "code",
      "source": [
        "one_letter = pd.DataFrame()\n",
        "for i in deaths.index: \n",
        "  name = str(deaths.loc[i, 'coroner_name'])\n",
        "  if name[1]==' ': \n",
        "    one_letter = one_letter.append(deaths[deaths['coroner_name']==name], ignore_index = True)\n",
        "one_letter_names = pd.DataFrame(one_letter.groupby(by = 'coroner_name')['Unnamed: 0'].count())\n",
        "one_letter_names.reset_index(inplace = True)\n",
        "one_letter_names.rename(columns = {'Unnamed: 0': 'count'}, inplace = True)"
      ],
      "metadata": {
        "id": "m14T55CTxFWW"
      },
      "execution_count": null,
      "outputs": []
    },
    {
      "cell_type": "markdown",
      "source": [
        "Try to match initialised names with uninitialised names"
      ],
      "metadata": {
        "id": "kDY2LVsC0Ca-"
      }
    },
    {
      "cell_type": "code",
      "source": [
        "one_letter_names['last_name'] = np.nan\n",
        "for i in one_letter_names.index: \n",
        "  one_letter_names.loc[i, 'last_name'] = one_letter_names.loc[i, 'coroner_name'].split()[len(one_letter_names.loc[i, 'coroner_name'].split())-1]"
      ],
      "metadata": {
        "id": "Gpb5buKQz75l"
      },
      "execution_count": null,
      "outputs": []
    },
    {
      "cell_type": "code",
      "source": [
        "one_letter_names['first_letter'] = np.nan\n",
        "for i in one_letter_names.index: \n",
        "  one_letter_names.loc[i, 'first_letter'] = one_letter_names.loc[i, 'coroner_name'][0]"
      ],
      "metadata": {
        "id": "8ZmU5H4QFCIL"
      },
      "execution_count": null,
      "outputs": []
    },
    {
      "cell_type": "code",
      "source": [
        "display(one_letter_names.head())"
      ],
      "metadata": {
        "id": "8r-PhvIAE9O7"
      },
      "execution_count": null,
      "outputs": []
    },
    {
      "cell_type": "code",
      "source": [
        "full = pd.DataFrame()\n",
        "for i in deaths.index: \n",
        "  name = str(deaths.loc[i, 'coroner_name'])\n",
        "  if name[1]!=' ': \n",
        "    full = full.append(deaths[deaths['coroner_name']==name], ignore_index = True)"
      ],
      "metadata": {
        "id": "mbMKCvjQAUUs"
      },
      "execution_count": null,
      "outputs": []
    },
    {
      "cell_type": "code",
      "source": [
        "full_count = pd.DataFrame(full.groupby(by = 'coroner_name')['Unnamed: 0'].count())\n",
        "full_count.reset_index(inplace = True)\n",
        "full_count.rename(columns = {'Unnamed: 0': 'count'}, inplace = True)"
      ],
      "metadata": {
        "id": "EHuiCcXoDaBY"
      },
      "execution_count": null,
      "outputs": []
    },
    {
      "cell_type": "code",
      "source": [
        "full_count['last_name'] = np.nan\n",
        "for i in full_count.index: \n",
        "  full_count.loc[i, 'last_name'] = full_count.loc[i, 'coroner_name'].split()[len(full_count.loc[i, 'coroner_name'].split())-1]"
      ],
      "metadata": {
        "id": "IOxhwdhCDumy"
      },
      "execution_count": null,
      "outputs": []
    },
    {
      "cell_type": "code",
      "source": [
        "full_count['first_letter'] = np.nan\n",
        "for i in full_count.index: \n",
        "  full_count.loc[i, 'first_letter'] = full_count.loc[i, 'coroner_name'][0]"
      ],
      "metadata": {
        "id": "02A7FK1sEgcN"
      },
      "execution_count": null,
      "outputs": []
    },
    {
      "cell_type": "code",
      "source": [
        "display(full_count.head())"
      ],
      "metadata": {
        "id": "3mr0kRWUEsgb"
      },
      "execution_count": null,
      "outputs": []
    },
    {
      "cell_type": "markdown",
      "source": [
        "Try to merge one_letter_names where the last name is the same"
      ],
      "metadata": {
        "id": "uiVy7xQQEY1O"
      }
    },
    {
      "cell_type": "code",
      "source": [
        "display(one_letter_names)"
      ],
      "metadata": {
        "id": "9OOlv-aTH6-h"
      },
      "execution_count": null,
      "outputs": []
    },
    {
      "cell_type": "code",
      "source": [
        "for i in one_letter_names.index: \n",
        "  print(i)\n",
        "  last = one_letter_names.loc[i, 'last_name']\n",
        "  display(full_count[full_count['last_name']==last])"
      ],
      "metadata": {
        "id": "GWZwEWIhIBUn"
      },
      "execution_count": null,
      "outputs": []
    },
    {
      "cell_type": "code",
      "source": [
        "for i in one_letter_names.index: \n",
        "  if one_letter_names.loc[i, 'last_name'] in full_count['last_name']: \n",
        "    print('Found last name')\n",
        "    if one_letter_names.loc[i, 'first_letter'] in full_count['first_letter']: \n",
        "      print('Found first letter')\n",
        "      last = one_letter_names.loc[i, 'last_name']\n",
        "      first = one_letter_names.loc[i, 'first_letter']\n",
        "      df1 = full_count[full_count[\"last_name\"].str.contains(last)]\n",
        "      df2 = df1[df1['first_letter'].str.contains(first)]\n",
        "      if df2.shape[0]==1: \n",
        "        index = df2.index[0]\n",
        "        full_count.loc[index, 'count'] = full_count.loc[index, 'count'] + one_letter_names.loc[i, 'count']\n",
        "        one_letter_names.drop([i], inplace= True)\n",
        "        print(\"dropped\")"
      ],
      "metadata": {
        "id": "zdf0qqW9EXnY"
      },
      "execution_count": null,
      "outputs": []
    },
    {
      "cell_type": "markdown",
      "source": [
        "#Two letter"
      ],
      "metadata": {
        "id": "Ql0E-6gMMuqT"
      }
    },
    {
      "cell_type": "code",
      "source": [
        "two_letter = pd.DataFrame()\n",
        "for i in deaths.index: \n",
        "  name = str(deaths.loc[i, 'coroner_name'])\n",
        "  if name[2]==' ': \n",
        "    two_letter = two_letter.append(deaths[deaths['coroner_name']==name], ignore_index = True)\n",
        "two_letter_names = pd.DataFrame(two_letter.groupby(by = 'coroner_name')['Unnamed: 0'].count())\n",
        "two_letter_names.reset_index(inplace = True)\n",
        "two_letter_names.rename(columns = {'Unnamed: 0': 'count'}, inplace = True)"
      ],
      "metadata": {
        "id": "jo_8OLzKG0fQ"
      },
      "execution_count": null,
      "outputs": []
    },
    {
      "cell_type": "code",
      "source": [
        "display(two_letter_names)"
      ],
      "metadata": {
        "id": "oHVJJgxdM5od"
      },
      "execution_count": null,
      "outputs": []
    },
    {
      "cell_type": "code",
      "source": [
        "for i in two_letter_names.index: \n",
        "  print(i)\n",
        "  last = two_letter_names.loc[i, 'coroner_name'].split()[len(two_letter_names.loc[i, 'coroner_name'].split())-1]\n",
        "  display(full_count[full_count['last_name']==last])"
      ],
      "metadata": {
        "id": "PDgTzbEgNSpu"
      },
      "execution_count": null,
      "outputs": []
    },
    {
      "cell_type": "markdown",
      "source": [
        "#Three letter"
      ],
      "metadata": {
        "id": "EvQyRknfPsYe"
      }
    },
    {
      "cell_type": "code",
      "source": [
        "three_letter = pd.DataFrame()\n",
        "for i in deaths.index: \n",
        "  name = str(deaths.loc[i, 'coroner_name'])\n",
        "  if name[3]==' ': \n",
        "    three_letter = three_letter.append(deaths[deaths['coroner_name']==name], ignore_index = True)\n",
        "three_letter_names = pd.DataFrame(three_letter.groupby(by = 'coroner_name')['Unnamed: 0'].count())\n",
        "three_letter_names.reset_index(inplace = True)\n",
        "three_letter_names.rename(columns = {'Unnamed: 0': 'count'}, inplace = True)"
      ],
      "metadata": {
        "id": "SoIUCVJtPrm2"
      },
      "execution_count": null,
      "outputs": []
    },
    {
      "cell_type": "code",
      "source": [
        "display(three_letter_names)"
      ],
      "metadata": {
        "id": "ftVebXMXP1qh"
      },
      "execution_count": null,
      "outputs": []
    },
    {
      "cell_type": "markdown",
      "source": [
        "#Simple count"
      ],
      "metadata": {
        "id": "OejT6epVNRYp"
      }
    },
    {
      "cell_type": "code",
      "source": [
        "coroner_count = pd.DataFrame(deaths.groupby('coroner_name')['Unnamed: 0'].count()).reset_index()\n",
        "coroner_count.rename(columns = {'Unnamed: 0':'count'}, inplace = True)\n",
        "display(coroner_count)"
      ],
      "metadata": {
        "id": "olf3l954fTJw"
      },
      "execution_count": null,
      "outputs": []
    },
    {
      "cell_type": "code",
      "source": [
        "coroner_count.sort_values(by = 'count', ascending = False, inplace = True)"
      ],
      "metadata": {
        "id": "y2NldVKEWPyt"
      },
      "execution_count": null,
      "outputs": []
    },
    {
      "cell_type": "code",
      "source": [
        "display(coroner_count.head())\n",
        "print(coroner_count.shape)"
      ],
      "metadata": {
        "id": "wQ2BhPoWWT2d"
      },
      "execution_count": null,
      "outputs": []
    },
    {
      "cell_type": "code",
      "source": [
        "print(deaths[deaths['coroner_name'].str.contains('Brittain')].shape)"
      ],
      "metadata": {
        "id": "btgBbRaOXHMc"
      },
      "execution_count": null,
      "outputs": []
    },
    {
      "cell_type": "code",
      "source": [
        "print(coroner_count['count'].sum())"
      ],
      "metadata": {
        "id": "b9LtFM6YXuNm"
      },
      "execution_count": null,
      "outputs": []
    },
    {
      "cell_type": "code",
      "source": [
        "import matplotlib.pyplot as plt"
      ],
      "metadata": {
        "id": "6STm1Q6FXkoS"
      },
      "execution_count": null,
      "outputs": []
    },
    {
      "cell_type": "code",
      "source": [
        "plt.hist(coroner_count['count'], bins = 20)\n",
        "plt.xlabel('Number of PFD reports written by each coroner')\n",
        "plt.ylabel('Number of coroners who wrote X number of reports')\n",
        "plt.title('Histogram of the number of reports written by coroners')\n",
        "plt.savefig('histogram_coroner_names.png')\n",
        "plt.show()"
      ],
      "metadata": {
        "id": "8nGZzyttXo0I"
      },
      "execution_count": null,
      "outputs": []
    },
    {
      "cell_type": "code",
      "source": [
        "coroner_count.to_csv('coroner_name.csv')"
      ],
      "metadata": {
        "id": "9SaNjIVKQgX8"
      },
      "execution_count": null,
      "outputs": []
    },
    {
      "cell_type": "markdown",
      "source": [
        "Find the median, IQR"
      ],
      "metadata": {
        "id": "wLCl5xhcqaWC"
      }
    },
    {
      "cell_type": "code",
      "source": [
        "display(coroner_count.describe())"
      ],
      "metadata": {
        "id": "2S2QUmbAqSBg"
      },
      "execution_count": null,
      "outputs": []
    },
    {
      "cell_type": "code",
      "source": [
        "print(coroner_count[coroner_count['count']==1])"
      ],
      "metadata": {
        "id": "lGvZCEDjqf-g"
      },
      "execution_count": null,
      "outputs": []
    },
    {
      "cell_type": "markdown",
      "source": [
        "#Top 20 coroners"
      ],
      "metadata": {
        "id": "YrOj8wa4rUbm"
      }
    },
    {
      "cell_type": "code",
      "source": [
        "top_20 = coroner_count.loc[:20, :]"
      ],
      "metadata": {
        "id": "CMPdvHCorWcC"
      },
      "execution_count": null,
      "outputs": []
    },
    {
      "cell_type": "code",
      "source": [
        "top_20.sort_values(by = 'count', ascending = True, inplace = True)"
      ],
      "metadata": {
        "id": "U6CNRW51r7HN"
      },
      "execution_count": null,
      "outputs": []
    },
    {
      "cell_type": "code",
      "source": [
        "plt.figure(figsize = (10, 20))\n",
        "plt.barh(top_20['coroner_name'], top_20['count'])\n",
        "plt.xlabel('Number of PFD reports')\n",
        "plt.ylabel('Coroner\\'s name')\n",
        "plt.savefig('top_20_coroners.png', bbox_inches = 'tight')\n",
        "plt.show()"
      ],
      "metadata": {
        "id": "RIm2_8r1sT26"
      },
      "execution_count": null,
      "outputs": []
    }
  ]
}