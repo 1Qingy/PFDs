{
  "nbformat": 4,
  "nbformat_minor": 0,
  "metadata": {
    "colab": {
      "name": "Coroner area map.ipynb",
      "provenance": []
    },
    "kernelspec": {
      "name": "python3",
      "display_name": "Python 3"
    },
    "language_info": {
      "name": "python"
    }
  },
  "cells": [
    {
      "cell_type": "markdown",
      "source": [
        "# Make interactive country map for geographical variations of PFDs\n",
        "\n",
        "Coroners areas are not the same as geographical areas. Might be difficult"
      ],
      "metadata": {
        "id": "rDXFbBBBoWtM"
      }
    },
    {
      "cell_type": "markdown",
      "source": [
        "#Approximating 42 areas from police force area"
      ],
      "metadata": {
        "id": "ZRio5SJabU7F"
      }
    },
    {
      "cell_type": "markdown",
      "source": [
        "https://geoportal.statistics.gov.uk/datasets/ons::police-force-areas-december-2016-full-extent-boundaries-in-england-and-wales-1/about\n",
        "\n",
        "Data from json file of police boundaries. 43 regions\n",
        "\n",
        "NHS data took absolutely ages and wont finish downloading"
      ],
      "metadata": {
        "id": "0ZnGGeT3ka3x"
      }
    },
    {
      "cell_type": "code",
      "source": [
        "import pandas as pd\n",
        "import numpy as np\n",
        "import matplotlib.pyplot as plt"
      ],
      "metadata": {
        "id": "8s3Ju-9bsM6a"
      },
      "execution_count": null,
      "outputs": []
    },
    {
      "cell_type": "code",
      "source": [
        "!pip install geopandas\n",
        "import geopandas as gpd"
      ],
      "metadata": {
        "id": "Qgx69SnXbf6g"
      },
      "execution_count": null,
      "outputs": []
    },
    {
      "cell_type": "code",
      "source": [
        "boundary = gpd.read_file('Police_Boundaries_England_and_Wales.geojson')"
      ],
      "metadata": {
        "id": "gj7xb-qJq1nU"
      },
      "execution_count": null,
      "outputs": []
    },
    {
      "cell_type": "code",
      "source": [
        "display(boundary.head())\n",
        "display(boundary.shape)"
      ],
      "metadata": {
        "id": "T9OmBcuWwLNg"
      },
      "execution_count": null,
      "outputs": []
    },
    {
      "cell_type": "markdown",
      "source": [
        "Check what the columns are"
      ],
      "metadata": {
        "id": "Rf-skXlglWwM"
      }
    },
    {
      "cell_type": "markdown",
      "source": [
        "Rename columns"
      ],
      "metadata": {
        "id": "WGO3l_EwlTkr"
      }
    },
    {
      "cell_type": "code",
      "source": [
        "boundary.rename(columns = {'PFA16NM':'Area'}, inplace = True)"
      ],
      "metadata": {
        "id": "zXnVkWUxkWHI"
      },
      "execution_count": null,
      "outputs": []
    },
    {
      "cell_type": "markdown",
      "source": [
        "Find the number of unique columns in the regions column of england and wales and display them"
      ],
      "metadata": {
        "id": "ltPk_hbvnCA7"
      }
    },
    {
      "cell_type": "markdown",
      "source": [
        "Stack two dataframe together"
      ],
      "metadata": {
        "id": "AaN6KfOrmoC7"
      }
    },
    {
      "cell_type": "code",
      "source": [
        "area_frequency = pd.read_csv('geographical_variation_2022-06-22.csv')\n",
        "display(area_frequency.head())"
      ],
      "metadata": {
        "id": "CqQg4bMBm8ju"
      },
      "execution_count": null,
      "outputs": []
    },
    {
      "cell_type": "markdown",
      "source": [
        "Next step is to match \"coroner area\" with england-wales police areas \"Area\", which is the hard part\n",
        "\n",
        "Loop through coroner area, find the number of rows in police area that contains "
      ],
      "metadata": {
        "id": "fr-vatlynnzP"
      }
    },
    {
      "cell_type": "markdown",
      "source": [
        "South and West Wales is problematic, because the boundaries are completely difference\n",
        "\n",
        "Need to merge police areas and coroner areas together"
      ],
      "metadata": {
        "id": "sdCKEUy-AlDY"
      }
    },
    {
      "cell_type": "code",
      "source": [
        "boundary[\"dissolve\"] = np.nan"
      ],
      "metadata": {
        "id": "3qRAoazMCPb6"
      },
      "execution_count": null,
      "outputs": []
    },
    {
      "cell_type": "code",
      "source": [
        "dissolve_areas = ['Dyfed-Powys', 'South Wales']\n",
        "for i in boundary.index: \n",
        "  if boundary.loc[i, 'Area'] not in dissolve_areas: \n",
        "    boundary.loc[i, 'dissolve'] = i\n",
        "  else: \n",
        "    boundary.loc[i, 'dissolve']=90"
      ],
      "metadata": {
        "id": "UUUE2bipCZSn"
      },
      "execution_count": null,
      "outputs": []
    },
    {
      "cell_type": "code",
      "source": [
        "boundary_1 = boundary.dissolve(by = 'dissolve')"
      ],
      "metadata": {
        "id": "FIX_jSTkDPKA"
      },
      "execution_count": null,
      "outputs": []
    },
    {
      "cell_type": "code",
      "source": [
        "display(boundary_1[boundary_1.index==90])"
      ],
      "metadata": {
        "id": "oNiSm7mfDxqb"
      },
      "execution_count": null,
      "outputs": []
    },
    {
      "cell_type": "code",
      "source": [
        "print(boundary_1.shape)"
      ],
      "metadata": {
        "id": "0oR17s44DV77"
      },
      "execution_count": null,
      "outputs": []
    },
    {
      "cell_type": "code",
      "source": [
        "boundary_1.loc[90, 'Area'] = 'South West Wales'"
      ],
      "metadata": {
        "id": "ofspkGE3EskI"
      },
      "execution_count": null,
      "outputs": []
    },
    {
      "cell_type": "markdown",
      "source": [
        "Success! I've managed to merge the police area into one"
      ],
      "metadata": {
        "id": "z7hZ8BK9EMw_"
      }
    },
    {
      "cell_type": "markdown",
      "source": [
        "Next, try to merge the 4 coroner areas into 1"
      ],
      "metadata": {
        "id": "Lb8sMKtcERGZ"
      }
    },
    {
      "cell_type": "code",
      "source": [
        "area_frequency_1 = area_frequency"
      ],
      "metadata": {
        "id": "Ah-xl4mkGlzm"
      },
      "execution_count": null,
      "outputs": []
    },
    {
      "cell_type": "code",
      "source": [
        "area_frequency_1.loc[85, 'coroner area']= 'South West Wales' \n",
        "south = area_frequency_1.loc[area_frequency_1['coroner area']=='South Wales Central', 'Number of reports'].values[0]\n",
        "cere = area_frequency_1.loc[area_frequency_1['coroner area']=='Ceredigion', 'Number of reports'].values[0]\n",
        "carpem = area_frequency_1.loc[area_frequency_1['coroner area']=='Carmarthenshire and Pembrokeshire', 'Number of reports'].values[0]\n",
        "swan = area_frequency_1.loc[area_frequency_1['coroner area']=='Swansea and Neath Port Talbot', 'Number of reports'].values[0]\n",
        "\n",
        "area_frequency_1.loc[85, 'Number of reports'] = south + cere + carpem + swan"
      ],
      "metadata": {
        "id": "Fz5MsUPKETyX"
      },
      "execution_count": null,
      "outputs": []
    },
    {
      "cell_type": "code",
      "source": [
        "area_frequency_1 = area_frequency_1[area_frequency_1['coroner area']!='South Wales Central']\n",
        "area_frequency_1 = area_frequency_1[area_frequency_1['coroner area']!='Ceredigion']\n",
        "area_frequency_1 = area_frequency_1[area_frequency_1['coroner area']!='Carmarthenshire and Pembrokeshire']\n",
        "area_frequency_1 = area_frequency_1[area_frequency_1['coroner area']!='Swansea and Neath Port Talbot']"
      ],
      "metadata": {
        "id": "3dWC26iiH5Gv"
      },
      "execution_count": null,
      "outputs": []
    },
    {
      "cell_type": "code",
      "source": [
        "print(area_frequency_1.shape)"
      ],
      "metadata": {
        "id": "N0VQvbKBKV6C"
      },
      "execution_count": null,
      "outputs": []
    },
    {
      "cell_type": "markdown",
      "source": [
        "Merge Metropolitan police and \"City of London\""
      ],
      "metadata": {
        "id": "FPANyrVrQIR9"
      }
    },
    {
      "cell_type": "markdown",
      "source": [
        "Merge in the boundary"
      ],
      "metadata": {
        "id": "GbmT51wnSKVh"
      }
    },
    {
      "cell_type": "code",
      "source": [
        "boundary_1 = boundary_1.reset_index()"
      ],
      "metadata": {
        "id": "LbdjiQM6SMTH"
      },
      "execution_count": null,
      "outputs": []
    },
    {
      "cell_type": "code",
      "source": [
        "display(boundary_1.head())"
      ],
      "metadata": {
        "id": "Ae_k7di-SvOo"
      },
      "execution_count": null,
      "outputs": []
    },
    {
      "cell_type": "code",
      "source": [
        "boundary_1.loc[boundary_1['Area']=='Metropolitan Police', 'dissolve']=100\n",
        "boundary_1.loc[boundary_1['Area']=='City of London', 'dissolve']=100\n",
        "boundary_1.set_index('dissolve', inplace = True)\n"
      ],
      "metadata": {
        "id": "X9nyfRC4Sts8"
      },
      "execution_count": null,
      "outputs": []
    },
    {
      "cell_type": "code",
      "source": [
        "boundary_1 = boundary_1.dissolve(by = 'dissolve')"
      ],
      "metadata": {
        "id": "tigzWptkUBJ7"
      },
      "execution_count": null,
      "outputs": []
    },
    {
      "cell_type": "code",
      "source": [
        "display(boundary_1)"
      ],
      "metadata": {
        "id": "KbjSqzXHTHVX"
      },
      "execution_count": null,
      "outputs": []
    },
    {
      "cell_type": "code",
      "source": [
        "boundary_1.loc[100, 'Area'] = 'London'"
      ],
      "metadata": {
        "id": "6VSpinbEv4JJ"
      },
      "execution_count": null,
      "outputs": []
    },
    {
      "cell_type": "code",
      "source": [
        "print(boundary_1.shape)"
      ],
      "metadata": {
        "id": "cqf_rQTXUN6U"
      },
      "execution_count": null,
      "outputs": []
    },
    {
      "cell_type": "markdown",
      "source": [
        "Now try to merge coroner areas - everything containing London will go under Metropolitan police. Forget City of London"
      ],
      "metadata": {
        "id": "NtuWxKY8uzTM"
      }
    },
    {
      "cell_type": "code",
      "source": [
        "print(area_frequency_1.shape)"
      ],
      "metadata": {
        "id": "XWVGDG5qvtdm"
      },
      "execution_count": null,
      "outputs": []
    },
    {
      "cell_type": "code",
      "source": [
        "area_frequency_1.loc[86, 'coroner area'] = 'London'\n",
        "area_frequency_1.loc[86, 'Number of reports'] = area_frequency_1.loc[area_frequency_1['coroner area'].str.contains(' London'), 'Number of reports'].sum()"
      ],
      "metadata": {
        "id": "FxRIctI-QXpm"
      },
      "execution_count": null,
      "outputs": []
    },
    {
      "cell_type": "code",
      "source": [
        "print(area_frequency_1.shape)"
      ],
      "metadata": {
        "id": "2yTW6LTvv-WF"
      },
      "execution_count": null,
      "outputs": []
    },
    {
      "cell_type": "code",
      "source": [
        "display(area_frequency_1.loc[85:86, :])"
      ],
      "metadata": {
        "id": "KWFiGUs9vF6P"
      },
      "execution_count": null,
      "outputs": []
    },
    {
      "cell_type": "code",
      "source": [
        "#df_1 = area_frequency['coroner area'].str.contains('London')\n",
        "df_1 = area_frequency_1.loc[area_frequency_1['coroner area'].str.contains(' London'), :]\n",
        "display(df_1)\n",
        "print(df_1.shape)"
      ],
      "metadata": {
        "id": "1tG226GGQ4bO"
      },
      "execution_count": null,
      "outputs": []
    },
    {
      "cell_type": "code",
      "source": [
        "index_to_remove = df_1.index\n",
        "print(index_to_remove)"
      ],
      "metadata": {
        "id": "ce1b75FVvWIA"
      },
      "execution_count": null,
      "outputs": []
    },
    {
      "cell_type": "code",
      "source": [
        "for index in index_to_remove: \n",
        "  area_frequency_1.drop(index, inplace = True)"
      ],
      "metadata": {
        "id": "NF1FMDQYwa3u"
      },
      "execution_count": null,
      "outputs": []
    },
    {
      "cell_type": "code",
      "source": [
        "print(area_frequency_1.shape)"
      ],
      "metadata": {
        "id": "KgVoGbi3vfNz"
      },
      "execution_count": null,
      "outputs": []
    },
    {
      "cell_type": "markdown",
      "source": [
        "Sucess"
      ],
      "metadata": {
        "id": "R61ta2Zvwj8x"
      }
    },
    {
      "cell_type": "markdown",
      "source": [
        "Now try to match and police area and coroner area"
      ],
      "metadata": {
        "id": "MtLvM5SoQFKI"
      }
    },
    {
      "cell_type": "code",
      "source": [
        "area_frequency_1[\"police_area\"] = np.nan"
      ],
      "metadata": {
        "id": "yzRrslFr0y91"
      },
      "execution_count": null,
      "outputs": []
    },
    {
      "cell_type": "markdown",
      "source": [
        "Do a simple filter first: if the two names are identical, match them"
      ],
      "metadata": {
        "id": "aqqBXPNl3B4D"
      }
    },
    {
      "cell_type": "code",
      "source": [
        "import re"
      ],
      "metadata": {
        "id": "kZPjEnRi6kA_"
      },
      "execution_count": null,
      "outputs": []
    },
    {
      "cell_type": "code",
      "source": [
        "for i in area_frequency_1.index: \n",
        "  for j in boundary_1.index: \n",
        "    coroner_area=re.sub(\"\\(.*?\\)\",\"\",area_frequency_1.loc[i, 'coroner area'])\n",
        "    if coroner_area == boundary_1.loc[j, 'Area']: \n",
        "      # If the two areas are spelt identically, I can just match them\n",
        "      area_frequency_1.loc[i, 'police_area']=area_frequency_1.loc[i, 'coroner area']\n",
        "    elif coroner_area in boundary_1.loc[j, 'Area']: \n",
        "      # if the coroner area name is contained in the police area name, I can also match them (hopefully)\n",
        "      # it turns out this elif statement is useless\n",
        "      area_frequency_1.loc[i, 'police_area']=boundary_1.loc[j, 'Area']\n",
        "    elif boundary_1.loc[j, 'Area'] in coroner_area: \n",
        "      # if the coroner area name contains police area. Print it out and I will check\n",
        "      # I have checked that the coroner areas are actually all conatined in the polie area, so I will also maatch them\n",
        "      area_frequency_1.loc[i, 'police_area'] = boundary_1.loc[j, 'Area']"
      ],
      "metadata": {
        "id": "HIRXP1G4xv7y"
      },
      "execution_count": null,
      "outputs": []
    },
    {
      "cell_type": "code",
      "source": [
        "print(area_frequency_1['police_area'].isnull().sum())"
      ],
      "metadata": {
        "id": "Vsqq30cP5FsQ"
      },
      "execution_count": null,
      "outputs": []
    },
    {
      "cell_type": "code",
      "source": [
        "df = area_frequency_1[area_frequency_1['police_area'].notna()]\n",
        "print(df.shape)"
      ],
      "metadata": {
        "id": "PtoYordB5RtR"
      },
      "execution_count": null,
      "outputs": []
    },
    {
      "cell_type": "markdown",
      "source": [
        "I've now sorted 42 out of 82. 33/75 remaining"
      ],
      "metadata": {
        "id": "cKicDMco5mHR"
      }
    },
    {
      "cell_type": "markdown",
      "source": [
        "This is dumb but I'm just going to match manually from this point onwards. There are 40 remaining. Some of them are not obviously a match at all and I don't see how I can do it with code"
      ],
      "metadata": {
        "id": "PeVFiBqT7AEH"
      }
    },
    {
      "cell_type": "code",
      "source": [
        "# first item on the sublist is coroner area, second item is police area\n",
        "# This is got to be manually done. There are 40 of them\n",
        "replacements = [['Wiltshire and Swindon', 'Wiltshire'], \n",
        "               ['Cornwall and Isles of Scilly','Devon and Cornwall' ], \n",
        "               ['Exeter and Greater Devon', 'Devon and Cornwall'], \n",
        "               ['Plymouth, Torbay and South Devon', 'Devon and Cornwall'], \n",
        "               ['Avon', 'Avon and Somerset'], \n",
        "               ['Somerset', 'Avon and Somerset'], \n",
        "               ['Brighton and Hove', 'Sussex'],\n",
        "               ['Manchester South', 'Greater Manchester'],\n",
        "               ['Manchester North', 'Greater Manchester'],\n",
        "               ['Manchester West', 'Greater Manchester'],\n",
        "               ['Manchester City', 'Greater Manchester'],\n",
        "               ['Birmingham and Solihull', 'West Midlands'],\n",
        "               ['Black Country', 'West Midlands'],\n",
        "               ['Milton Keynes', 'Thames Valley'],\n",
        "               ['Liverpool and the Wirral', 'Merseyside'],\n",
        "               ['Worcestershire', 'West Mercia'],\n",
        "               ['Sunderland', 'Northumbria'],\n",
        "               ['Blackpool and the Fylde', 'Lancashire'],\n",
        "               ['Berkshire', 'Thames Valley'],\n",
        "               ['Oxfordshire', 'Thames Valley'],\n",
        "               ['Gwent', 'Gwent'],\n",
        "               ['Shropshire, Telford and Wrekin', 'West Mercia'],\n",
        "               ['Coventry', 'West Midlands'],\n",
        "               ['Isle of Wight', 'Hampshire'],\n",
        "               ['Buckinghamshire', 'Thames Valley'],\n",
        "               ['Newcastle upon Tyne', 'Northumbria'],\n",
        "               ['Teesside', 'Cleveland'],\n",
        "                ['Hartlepool', 'Cleveland'], \n",
        "               ['North Northumberland', 'Northumbria'],\n",
        "               ['South Northumberland', 'Northumbria'],\n",
        "               ['North West Wales', 'North Wales'],\n",
        "               ['East Riding and Hull', 'Humberside'],\n",
        "               ['Gateshead and South Tyneside', 'Northumbria'],\n",
        "               ['North Tyneside', 'Northumbria'],\n",
        "               ['York City', 'North Yorkshire'],\n",
        "               ['Sefton, Knowsley and St Helens', 'Merseyside'], \n",
        "                ['Herefordshire', 'West Mercia']\n",
        "               ]\n",
        "for replacement in replacements: \n",
        "  area_frequency_1.loc[area_frequency_1['coroner area']==replacement[0], 'police_area'] =replacement[1]\n"
      ],
      "metadata": {
        "id": "OO6TDaeJ5oVZ"
      },
      "execution_count": null,
      "outputs": []
    },
    {
      "cell_type": "code",
      "source": [
        "display(area_frequency_1[area_frequency_1['police_area'].isna()])"
      ],
      "metadata": {
        "id": "qMWLYs8F3Jw4"
      },
      "execution_count": null,
      "outputs": []
    },
    {
      "cell_type": "code",
      "source": [
        "display(area_frequency_1.head())"
      ],
      "metadata": {
        "id": "Ad6mAlcu3d6R"
      },
      "execution_count": null,
      "outputs": []
    },
    {
      "cell_type": "code",
      "source": [
        "display(area_frequency_1[area_frequency_1['police_area']=='London'])"
      ],
      "metadata": {
        "id": "YNmUXO_IyMw-"
      },
      "execution_count": null,
      "outputs": []
    },
    {
      "cell_type": "markdown",
      "source": [
        "# Find out how many police areas take 1, 2, 3..4 coroner areas. "
      ],
      "metadata": {
        "id": "exxQQkKSeddZ"
      }
    },
    {
      "cell_type": "code",
      "source": [
        "freq = area_frequency_1.police_area.value_counts().reset_index()"
      ],
      "metadata": {
        "id": "UIEUZPSjfwQf"
      },
      "execution_count": null,
      "outputs": []
    },
    {
      "cell_type": "code",
      "source": [
        "display(freq[freq['index'].str.contains('London')])"
      ],
      "metadata": {
        "id": "DMhC1P-Lx9kL"
      },
      "execution_count": null,
      "outputs": []
    },
    {
      "cell_type": "code",
      "source": [
        "freq.rename(columns = {'index': 'police area', 'police_area': 'number of coronial area mergers'}, inplace = True)\n",
        "freq.loc[freq['police area']=='London', 'police area'] = 'London'\n",
        "freq.loc[freq['police area']=='London', 'number of coronial area mergers'] = 8\n",
        "freq.loc[freq['police area']=='South West Wales', 'number of coronial area mergers'] = 4"
      ],
      "metadata": {
        "id": "pGbWthQ0gW5K"
      },
      "execution_count": null,
      "outputs": []
    },
    {
      "cell_type": "code",
      "source": [
        "freq = freq.sort_values(by = 'number of coronial area mergers', ascending = False)"
      ],
      "metadata": {
        "id": "q3X8xORehMH_"
      },
      "execution_count": null,
      "outputs": []
    },
    {
      "cell_type": "code",
      "source": [
        "display(freq)"
      ],
      "metadata": {
        "id": "k505poFChXM3"
      },
      "execution_count": null,
      "outputs": []
    },
    {
      "cell_type": "code",
      "source": [
        "freq.to_csv('number_of_coronial_merger.csv')"
      ],
      "metadata": {
        "id": "VrTlMaQxhaoE"
      },
      "execution_count": null,
      "outputs": []
    },
    {
      "cell_type": "markdown",
      "source": [
        "#Now I can finally merge the boundary_1 and area_frequency_1 together"
      ],
      "metadata": {
        "id": "edlcH91r3jre"
      }
    },
    {
      "cell_type": "markdown",
      "source": [
        "Merge the two dataframe with the merge (how = 'left')"
      ],
      "metadata": {
        "id": "E9US3fsA4X2Q"
      }
    },
    {
      "cell_type": "code",
      "source": [
        "display(boundary_1.keys())"
      ],
      "metadata": {
        "id": "RouPFRPi47te"
      },
      "execution_count": null,
      "outputs": []
    },
    {
      "cell_type": "code",
      "source": [
        "boundary_1.rename(columns = {'Area': 'police_area'}, inplace = True)"
      ],
      "metadata": {
        "id": "x__4YaYi4_L4"
      },
      "execution_count": null,
      "outputs": []
    },
    {
      "cell_type": "code",
      "source": [
        "area_boundary = area_frequency_1.merge( boundary_1, on = 'police_area', how = 'left')"
      ],
      "metadata": {
        "id": "Ny9icRR53m2h"
      },
      "execution_count": null,
      "outputs": []
    },
    {
      "cell_type": "code",
      "source": [
        "display(area_boundary[area_boundary.isnull().any(axis=1)])"
      ],
      "metadata": {
        "id": "XTBMLIOQ4mZb"
      },
      "execution_count": null,
      "outputs": []
    },
    {
      "cell_type": "markdown",
      "source": [
        "No NAN values and missing areas, good"
      ],
      "metadata": {
        "id": "Y7cPpRhQ7Z_G"
      }
    },
    {
      "cell_type": "code",
      "source": [
        "area_boundary.drop(columns = ['coroner area', 'OBJECTID', 'Unnamed: 0'], inplace = True)"
      ],
      "metadata": {
        "id": "xoUzic377cUB"
      },
      "execution_count": null,
      "outputs": []
    },
    {
      "cell_type": "markdown",
      "source": [
        "Aggregate rows with the same Police area together, keeping one copy of the longitude and latitude, summing the number of reports"
      ],
      "metadata": {
        "id": "QuLZB8kq7uiG"
      }
    },
    {
      "cell_type": "code",
      "source": [
        "area_boundary_1 = area_boundary[['Number of reports', 'police_area']]\n",
        "area_boundary_2 = area_boundary[['police_area', 'geometry', 'PFA16CD', 'BNG_E', 'BNG_N', 'LONG', \"LAT\", 'Shape__Area', \"Shape__Length\"]]"
      ],
      "metadata": {
        "id": "_RWbLYlr768f"
      },
      "execution_count": null,
      "outputs": []
    },
    {
      "cell_type": "code",
      "source": [
        "df_3 = area_boundary_1.groupby(by = 'police_area').sum()\n",
        "df_3.reset_index(inplace = True)\n",
        "display(df_3.shape)"
      ],
      "metadata": {
        "id": "RkE1Motv8drv"
      },
      "execution_count": null,
      "outputs": []
    },
    {
      "cell_type": "code",
      "source": [
        "df_4 = area_boundary_2.drop_duplicates()\n",
        "display(df_4.shape)"
      ],
      "metadata": {
        "id": "Ar3GIZGX8665"
      },
      "execution_count": null,
      "outputs": []
    },
    {
      "cell_type": "code",
      "source": [
        "area_boundary = df_3.merge(df_4, on = 'police_area', how = 'left')"
      ],
      "metadata": {
        "id": "-zlvwOx49Gni"
      },
      "execution_count": null,
      "outputs": []
    },
    {
      "cell_type": "code",
      "source": [
        "display(area_boundary.shape)\n",
        "display(area_boundary[area_boundary.isnull().any(axis=1)])"
      ],
      "metadata": {
        "id": "QVz9OtTe9V9Y"
      },
      "execution_count": null,
      "outputs": []
    },
    {
      "cell_type": "markdown",
      "source": [
        "Success in merging and calculating the total number of reports of each police area"
      ],
      "metadata": {
        "id": "nqtMF11G9dcs"
      }
    },
    {
      "cell_type": "markdown",
      "source": [
        "#Now actually plot the map"
      ],
      "metadata": {
        "id": "HHTiYtVh9kp9"
      }
    },
    {
      "cell_type": "code",
      "source": [
        "import pandas as pd\n",
        "from geopandas import GeoDataFrame"
      ],
      "metadata": {
        "id": "_-LP13ayB503"
      },
      "execution_count": null,
      "outputs": []
    },
    {
      "cell_type": "code",
      "source": [
        "area_boundary_geo = GeoDataFrame(area_boundary, crs=\"EPSG:4326\", geometry='geometry')"
      ],
      "metadata": {
        "id": "MNAqPexXF1bR"
      },
      "execution_count": null,
      "outputs": []
    },
    {
      "cell_type": "code",
      "source": [
        "fig, ax = plt.subplots(1, figsize=(18, 18))\n",
        "plt.xticks(ticks =[], labels = None)\n",
        "plt.yticks(ticks =[], labels = None)\n",
        "map = area_boundary_geo.plot(column = 'Number of reports', figsize = (18, 18), ax = ax, legend = True, cmap = 'Oranges')\n",
        "for x, y, area in zip(area_boundary_geo['LONG'], area_boundary_geo['LAT'], area_boundary_geo['police_area']): \n",
        "  map.annotate(area, xy = (x, y))"
      ],
      "metadata": {
        "id": "h_Z9XRArCYMs"
      },
      "execution_count": null,
      "outputs": []
    },
    {
      "cell_type": "code",
      "source": [
        "fig.savefig('geographical_variations_orange.png')"
      ],
      "metadata": {
        "id": "7V8bvYWiCm5Z"
      },
      "execution_count": null,
      "outputs": []
    }
  ]
}