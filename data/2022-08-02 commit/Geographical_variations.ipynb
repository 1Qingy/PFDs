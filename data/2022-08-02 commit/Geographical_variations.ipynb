{
  "nbformat": 4,
  "nbformat_minor": 0,
  "metadata": {
    "colab": {
      "name": "Geographical_variations.ipynb",
      "provenance": []
    },
    "kernelspec": {
      "name": "python3",
      "display_name": "Python 3"
    },
    "language_info": {
      "name": "python"
    }
  },
  "cells": [
    {
      "cell_type": "code",
      "execution_count": null,
      "metadata": {
        "id": "1RUtbYj-PB_g"
      },
      "outputs": [],
      "source": [
        ""
      ]
    },
    {
      "cell_type": "markdown",
      "source": [
        "# Most common coroner area to have PFDs\n",
        "\n",
        "Need to check there are no typos in the area names first: check how many rows of data we have\n",
        "\n",
        "There are 98 coroners covering approximately (?) 109 coroner areas in this government website: https://www.cps.gov.uk/legal-guidance/coroners???: that is definitely wrong\n",
        "\n",
        "The judiciary website says there are 88 coroner areas: https://www.judiciary.uk/related-offices-and-bodies/office-chief-coroner/mergers-of-coroner-areas/. \n",
        "\n",
        "After checking the html file of this website, there are 86 coroner areas: https://www.coronersociety.org.uk/coroners/\n"
      ],
      "metadata": {
        "id": "m0nb4nDNG3TZ"
      }
    },
    {
      "cell_type": "code",
      "source": [
        "import pandas as pd\n",
        "import numpy as np\n",
        "import re"
      ],
      "metadata": {
        "id": "V7c-tv5eRkyx"
      },
      "execution_count": null,
      "outputs": []
    },
    {
      "cell_type": "code",
      "source": [
        "names_processed = pd.read_csv('death_info_2022-06-23_processed.csv', converters={'reviews.text' : str})\n",
        "names_processed.head()"
      ],
      "metadata": {
        "colab": {
          "base_uri": "https://localhost:8080/",
          "height": 698
        },
        "id": "MgM0aD8A6RBL",
        "outputId": "87e61670-b680-48bb-913f-216767d75af4"
      },
      "execution_count": null,
      "outputs": [
        {
          "output_type": "execute_result",
          "data": {
            "text/plain": [
              "   Unnamed: 0 date_of_report        ref deceased_name     coroner_name  \\\n",
              "0           0    26 May 2022  2022-0155            SR    James Bennett   \n",
              "1           1    25 May 2022  2022-0154            RG  Kate Sutherland   \n",
              "2           2    24 May 2022  2022-0153            MW  Jacqueline Lake   \n",
              "3           3    12 May 2022  2022-0152            PK   Joanne Andrews   \n",
              "4           4    19 May 2022  2022-0151            SG      Tom Osborne   \n",
              "\n",
              "                   coroner_area  \\\n",
              "0       Birmingham and Solihull   \n",
              "1  North Wales (East & Central)   \n",
              "2                       Norfolk   \n",
              "3               North East Kent   \n",
              "4                 Milton Keynes   \n",
              "\n",
              "                                            category  \\\n",
              "0  State Custody related deaths | Mental Health r...   \n",
              "1  Emergency services related deaths (2019 onward...   \n",
              "2  Hospital Death (Clinical Procedures and medica...   \n",
              "3  Hospital Death (Clinical Procedures and medica...   \n",
              "4  Hospital Death (Clinical Procedures and medica...   \n",
              "\n",
              "                        this_report_is_being_sent_to  \\\n",
              "0  Ministry of Justice and Birmingham and Solihul...   \n",
              "1  Welsh Ambulance NHS Foundation Trust and Betsi...   \n",
              "2  Queen Elizabeth Hospital King’s Lynn NHS Found...   \n",
              "3  Kent and Medway NHS Social Care Partnership Tr...   \n",
              "4  Milton Keyne University Hospital and Secretary...   \n",
              "\n",
              "                                                 url  \n",
              "0  https://www.judiciary.uk/publications/saifur-r...  \n",
              "1  https://www.judiciary.uk/publications/raymond-...  \n",
              "2  https://www.judiciary.uk/publications/michael-...  \n",
              "3  https://www.judiciary.uk/publications/pauline-...  \n",
              "4  https://www.judiciary.uk/publications/sangeert...  "
            ],
            "text/html": [
              "\n",
              "  <div id=\"df-95441daf-14ee-4a1a-be46-56bef5956f58\">\n",
              "    <div class=\"colab-df-container\">\n",
              "      <div>\n",
              "<style scoped>\n",
              "    .dataframe tbody tr th:only-of-type {\n",
              "        vertical-align: middle;\n",
              "    }\n",
              "\n",
              "    .dataframe tbody tr th {\n",
              "        vertical-align: top;\n",
              "    }\n",
              "\n",
              "    .dataframe thead th {\n",
              "        text-align: right;\n",
              "    }\n",
              "</style>\n",
              "<table border=\"1\" class=\"dataframe\">\n",
              "  <thead>\n",
              "    <tr style=\"text-align: right;\">\n",
              "      <th></th>\n",
              "      <th>Unnamed: 0</th>\n",
              "      <th>date_of_report</th>\n",
              "      <th>ref</th>\n",
              "      <th>deceased_name</th>\n",
              "      <th>coroner_name</th>\n",
              "      <th>coroner_area</th>\n",
              "      <th>category</th>\n",
              "      <th>this_report_is_being_sent_to</th>\n",
              "      <th>url</th>\n",
              "    </tr>\n",
              "  </thead>\n",
              "  <tbody>\n",
              "    <tr>\n",
              "      <th>0</th>\n",
              "      <td>0</td>\n",
              "      <td>26 May 2022</td>\n",
              "      <td>2022-0155</td>\n",
              "      <td>SR</td>\n",
              "      <td>James Bennett</td>\n",
              "      <td>Birmingham and Solihull</td>\n",
              "      <td>State Custody related deaths | Mental Health r...</td>\n",
              "      <td>Ministry of Justice and Birmingham and Solihul...</td>\n",
              "      <td>https://www.judiciary.uk/publications/saifur-r...</td>\n",
              "    </tr>\n",
              "    <tr>\n",
              "      <th>1</th>\n",
              "      <td>1</td>\n",
              "      <td>25 May 2022</td>\n",
              "      <td>2022-0154</td>\n",
              "      <td>RG</td>\n",
              "      <td>Kate Sutherland</td>\n",
              "      <td>North Wales (East &amp; Central)</td>\n",
              "      <td>Emergency services related deaths (2019 onward...</td>\n",
              "      <td>Welsh Ambulance NHS Foundation Trust and Betsi...</td>\n",
              "      <td>https://www.judiciary.uk/publications/raymond-...</td>\n",
              "    </tr>\n",
              "    <tr>\n",
              "      <th>2</th>\n",
              "      <td>2</td>\n",
              "      <td>24 May 2022</td>\n",
              "      <td>2022-0153</td>\n",
              "      <td>MW</td>\n",
              "      <td>Jacqueline Lake</td>\n",
              "      <td>Norfolk</td>\n",
              "      <td>Hospital Death (Clinical Procedures and medica...</td>\n",
              "      <td>Queen Elizabeth Hospital King’s Lynn NHS Found...</td>\n",
              "      <td>https://www.judiciary.uk/publications/michael-...</td>\n",
              "    </tr>\n",
              "    <tr>\n",
              "      <th>3</th>\n",
              "      <td>3</td>\n",
              "      <td>12 May 2022</td>\n",
              "      <td>2022-0152</td>\n",
              "      <td>PK</td>\n",
              "      <td>Joanne Andrews</td>\n",
              "      <td>North East Kent</td>\n",
              "      <td>Hospital Death (Clinical Procedures and medica...</td>\n",
              "      <td>Kent and Medway NHS Social Care Partnership Tr...</td>\n",
              "      <td>https://www.judiciary.uk/publications/pauline-...</td>\n",
              "    </tr>\n",
              "    <tr>\n",
              "      <th>4</th>\n",
              "      <td>4</td>\n",
              "      <td>19 May 2022</td>\n",
              "      <td>2022-0151</td>\n",
              "      <td>SG</td>\n",
              "      <td>Tom Osborne</td>\n",
              "      <td>Milton Keynes</td>\n",
              "      <td>Hospital Death (Clinical Procedures and medica...</td>\n",
              "      <td>Milton Keyne University Hospital and Secretary...</td>\n",
              "      <td>https://www.judiciary.uk/publications/sangeert...</td>\n",
              "    </tr>\n",
              "  </tbody>\n",
              "</table>\n",
              "</div>\n",
              "      <button class=\"colab-df-convert\" onclick=\"convertToInteractive('df-95441daf-14ee-4a1a-be46-56bef5956f58')\"\n",
              "              title=\"Convert this dataframe to an interactive table.\"\n",
              "              style=\"display:none;\">\n",
              "        \n",
              "  <svg xmlns=\"http://www.w3.org/2000/svg\" height=\"24px\"viewBox=\"0 0 24 24\"\n",
              "       width=\"24px\">\n",
              "    <path d=\"M0 0h24v24H0V0z\" fill=\"none\"/>\n",
              "    <path d=\"M18.56 5.44l.94 2.06.94-2.06 2.06-.94-2.06-.94-.94-2.06-.94 2.06-2.06.94zm-11 1L8.5 8.5l.94-2.06 2.06-.94-2.06-.94L8.5 2.5l-.94 2.06-2.06.94zm10 10l.94 2.06.94-2.06 2.06-.94-2.06-.94-.94-2.06-.94 2.06-2.06.94z\"/><path d=\"M17.41 7.96l-1.37-1.37c-.4-.4-.92-.59-1.43-.59-.52 0-1.04.2-1.43.59L10.3 9.45l-7.72 7.72c-.78.78-.78 2.05 0 2.83L4 21.41c.39.39.9.59 1.41.59.51 0 1.02-.2 1.41-.59l7.78-7.78 2.81-2.81c.8-.78.8-2.07 0-2.86zM5.41 20L4 18.59l7.72-7.72 1.47 1.35L5.41 20z\"/>\n",
              "  </svg>\n",
              "      </button>\n",
              "      \n",
              "  <style>\n",
              "    .colab-df-container {\n",
              "      display:flex;\n",
              "      flex-wrap:wrap;\n",
              "      gap: 12px;\n",
              "    }\n",
              "\n",
              "    .colab-df-convert {\n",
              "      background-color: #E8F0FE;\n",
              "      border: none;\n",
              "      border-radius: 50%;\n",
              "      cursor: pointer;\n",
              "      display: none;\n",
              "      fill: #1967D2;\n",
              "      height: 32px;\n",
              "      padding: 0 0 0 0;\n",
              "      width: 32px;\n",
              "    }\n",
              "\n",
              "    .colab-df-convert:hover {\n",
              "      background-color: #E2EBFA;\n",
              "      box-shadow: 0px 1px 2px rgba(60, 64, 67, 0.3), 0px 1px 3px 1px rgba(60, 64, 67, 0.15);\n",
              "      fill: #174EA6;\n",
              "    }\n",
              "\n",
              "    [theme=dark] .colab-df-convert {\n",
              "      background-color: #3B4455;\n",
              "      fill: #D2E3FC;\n",
              "    }\n",
              "\n",
              "    [theme=dark] .colab-df-convert:hover {\n",
              "      background-color: #434B5C;\n",
              "      box-shadow: 0px 1px 3px 1px rgba(0, 0, 0, 0.15);\n",
              "      filter: drop-shadow(0px 1px 2px rgba(0, 0, 0, 0.3));\n",
              "      fill: #FFFFFF;\n",
              "    }\n",
              "  </style>\n",
              "\n",
              "      <script>\n",
              "        const buttonEl =\n",
              "          document.querySelector('#df-95441daf-14ee-4a1a-be46-56bef5956f58 button.colab-df-convert');\n",
              "        buttonEl.style.display =\n",
              "          google.colab.kernel.accessAllowed ? 'block' : 'none';\n",
              "\n",
              "        async function convertToInteractive(key) {\n",
              "          const element = document.querySelector('#df-95441daf-14ee-4a1a-be46-56bef5956f58');\n",
              "          const dataTable =\n",
              "            await google.colab.kernel.invokeFunction('convertToInteractive',\n",
              "                                                     [key], {});\n",
              "          if (!dataTable) return;\n",
              "\n",
              "          const docLinkHtml = 'Like what you see? Visit the ' +\n",
              "            '<a target=\"_blank\" href=https://colab.research.google.com/notebooks/data_table.ipynb>data table notebook</a>'\n",
              "            + ' to learn more about interactive tables.';\n",
              "          element.innerHTML = '';\n",
              "          dataTable['output_type'] = 'display_data';\n",
              "          await google.colab.output.renderOutput(dataTable, element);\n",
              "          const docLink = document.createElement('div');\n",
              "          docLink.innerHTML = docLinkHtml;\n",
              "          element.appendChild(docLink);\n",
              "        }\n",
              "      </script>\n",
              "    </div>\n",
              "  </div>\n",
              "  "
            ]
          },
          "metadata": {},
          "execution_count": 2
        }
      ]
    },
    {
      "cell_type": "code",
      "source": [
        "display(names_processed[names_processed['ref']=='2022-0117'])\n",
        "display(names_processed[names_processed['ref']=='2022-0057'])"
      ],
      "metadata": {
        "colab": {
          "base_uri": "https://localhost:8080/",
          "height": 399
        },
        "id": "-5qrMzy7BFcL",
        "outputId": "1804b956-aca1-41ef-d842-9fc9469324f7"
      },
      "execution_count": null,
      "outputs": [
        {
          "output_type": "display_data",
          "data": {
            "text/plain": [
              "    Unnamed: 0 date_of_report        ref deceased_name      coroner_name  \\\n",
              "38          38  25 April 2022  2022-0117            ZZ  John Broadbridge   \n",
              "\n",
              "                                         coroner_area  \\\n",
              "38  North Yorkshire and York including North Yorks...   \n",
              "\n",
              "                                             category  \\\n",
              "38  Mental Health related deaths | Suicide (from 2...   \n",
              "\n",
              "                         this_report_is_being_sent_to  \\\n",
              "38  Minister of State for Care and Mental Health, ...   \n",
              "\n",
              "                                                  url  \n",
              "38  https://www.judiciary.uk/publications/zoe-zare...  "
            ],
            "text/html": [
              "\n",
              "  <div id=\"df-6807977e-a485-4aec-b1a9-51c47c937edc\">\n",
              "    <div class=\"colab-df-container\">\n",
              "      <div>\n",
              "<style scoped>\n",
              "    .dataframe tbody tr th:only-of-type {\n",
              "        vertical-align: middle;\n",
              "    }\n",
              "\n",
              "    .dataframe tbody tr th {\n",
              "        vertical-align: top;\n",
              "    }\n",
              "\n",
              "    .dataframe thead th {\n",
              "        text-align: right;\n",
              "    }\n",
              "</style>\n",
              "<table border=\"1\" class=\"dataframe\">\n",
              "  <thead>\n",
              "    <tr style=\"text-align: right;\">\n",
              "      <th></th>\n",
              "      <th>Unnamed: 0</th>\n",
              "      <th>date_of_report</th>\n",
              "      <th>ref</th>\n",
              "      <th>deceased_name</th>\n",
              "      <th>coroner_name</th>\n",
              "      <th>coroner_area</th>\n",
              "      <th>category</th>\n",
              "      <th>this_report_is_being_sent_to</th>\n",
              "      <th>url</th>\n",
              "    </tr>\n",
              "  </thead>\n",
              "  <tbody>\n",
              "    <tr>\n",
              "      <th>38</th>\n",
              "      <td>38</td>\n",
              "      <td>25 April 2022</td>\n",
              "      <td>2022-0117</td>\n",
              "      <td>ZZ</td>\n",
              "      <td>John Broadbridge</td>\n",
              "      <td>North Yorkshire and York including North Yorks...</td>\n",
              "      <td>Mental Health related deaths | Suicide (from 2...</td>\n",
              "      <td>Minister of State for Care and Mental Health, ...</td>\n",
              "      <td>https://www.judiciary.uk/publications/zoe-zare...</td>\n",
              "    </tr>\n",
              "  </tbody>\n",
              "</table>\n",
              "</div>\n",
              "      <button class=\"colab-df-convert\" onclick=\"convertToInteractive('df-6807977e-a485-4aec-b1a9-51c47c937edc')\"\n",
              "              title=\"Convert this dataframe to an interactive table.\"\n",
              "              style=\"display:none;\">\n",
              "        \n",
              "  <svg xmlns=\"http://www.w3.org/2000/svg\" height=\"24px\"viewBox=\"0 0 24 24\"\n",
              "       width=\"24px\">\n",
              "    <path d=\"M0 0h24v24H0V0z\" fill=\"none\"/>\n",
              "    <path d=\"M18.56 5.44l.94 2.06.94-2.06 2.06-.94-2.06-.94-.94-2.06-.94 2.06-2.06.94zm-11 1L8.5 8.5l.94-2.06 2.06-.94-2.06-.94L8.5 2.5l-.94 2.06-2.06.94zm10 10l.94 2.06.94-2.06 2.06-.94-2.06-.94-.94-2.06-.94 2.06-2.06.94z\"/><path d=\"M17.41 7.96l-1.37-1.37c-.4-.4-.92-.59-1.43-.59-.52 0-1.04.2-1.43.59L10.3 9.45l-7.72 7.72c-.78.78-.78 2.05 0 2.83L4 21.41c.39.39.9.59 1.41.59.51 0 1.02-.2 1.41-.59l7.78-7.78 2.81-2.81c.8-.78.8-2.07 0-2.86zM5.41 20L4 18.59l7.72-7.72 1.47 1.35L5.41 20z\"/>\n",
              "  </svg>\n",
              "      </button>\n",
              "      \n",
              "  <style>\n",
              "    .colab-df-container {\n",
              "      display:flex;\n",
              "      flex-wrap:wrap;\n",
              "      gap: 12px;\n",
              "    }\n",
              "\n",
              "    .colab-df-convert {\n",
              "      background-color: #E8F0FE;\n",
              "      border: none;\n",
              "      border-radius: 50%;\n",
              "      cursor: pointer;\n",
              "      display: none;\n",
              "      fill: #1967D2;\n",
              "      height: 32px;\n",
              "      padding: 0 0 0 0;\n",
              "      width: 32px;\n",
              "    }\n",
              "\n",
              "    .colab-df-convert:hover {\n",
              "      background-color: #E2EBFA;\n",
              "      box-shadow: 0px 1px 2px rgba(60, 64, 67, 0.3), 0px 1px 3px 1px rgba(60, 64, 67, 0.15);\n",
              "      fill: #174EA6;\n",
              "    }\n",
              "\n",
              "    [theme=dark] .colab-df-convert {\n",
              "      background-color: #3B4455;\n",
              "      fill: #D2E3FC;\n",
              "    }\n",
              "\n",
              "    [theme=dark] .colab-df-convert:hover {\n",
              "      background-color: #434B5C;\n",
              "      box-shadow: 0px 1px 3px 1px rgba(0, 0, 0, 0.15);\n",
              "      filter: drop-shadow(0px 1px 2px rgba(0, 0, 0, 0.3));\n",
              "      fill: #FFFFFF;\n",
              "    }\n",
              "  </style>\n",
              "\n",
              "      <script>\n",
              "        const buttonEl =\n",
              "          document.querySelector('#df-6807977e-a485-4aec-b1a9-51c47c937edc button.colab-df-convert');\n",
              "        buttonEl.style.display =\n",
              "          google.colab.kernel.accessAllowed ? 'block' : 'none';\n",
              "\n",
              "        async function convertToInteractive(key) {\n",
              "          const element = document.querySelector('#df-6807977e-a485-4aec-b1a9-51c47c937edc');\n",
              "          const dataTable =\n",
              "            await google.colab.kernel.invokeFunction('convertToInteractive',\n",
              "                                                     [key], {});\n",
              "          if (!dataTable) return;\n",
              "\n",
              "          const docLinkHtml = 'Like what you see? Visit the ' +\n",
              "            '<a target=\"_blank\" href=https://colab.research.google.com/notebooks/data_table.ipynb>data table notebook</a>'\n",
              "            + ' to learn more about interactive tables.';\n",
              "          element.innerHTML = '';\n",
              "          dataTable['output_type'] = 'display_data';\n",
              "          await google.colab.output.renderOutput(dataTable, element);\n",
              "          const docLink = document.createElement('div');\n",
              "          docLink.innerHTML = docLinkHtml;\n",
              "          element.appendChild(docLink);\n",
              "        }\n",
              "      </script>\n",
              "    </div>\n",
              "  </div>\n",
              "  "
            ]
          },
          "metadata": {}
        },
        {
          "output_type": "display_data",
          "data": {
            "text/plain": [
              "    Unnamed: 0    date_of_report        ref deceased_name      coroner_name  \\\n",
              "98          98  18 February 2022  2022-0057           SMB  John Broadbridge   \n",
              "\n",
              "                                         coroner_area  \\\n",
              "98  North Yorkshire and York including North Yorks...   \n",
              "\n",
              "                                             category  \\\n",
              "98  Road (Highways Safety) related deaths |Other r...   \n",
              "\n",
              "      this_report_is_being_sent_to  \\\n",
              "98  North Yorkshire County Council   \n",
              "\n",
              "                                                  url  \n",
              "98  https://www.judiciary.uk/publications/sasha-ra...  "
            ],
            "text/html": [
              "\n",
              "  <div id=\"df-ed6e5297-0e26-4770-bb5d-94baa8b20726\">\n",
              "    <div class=\"colab-df-container\">\n",
              "      <div>\n",
              "<style scoped>\n",
              "    .dataframe tbody tr th:only-of-type {\n",
              "        vertical-align: middle;\n",
              "    }\n",
              "\n",
              "    .dataframe tbody tr th {\n",
              "        vertical-align: top;\n",
              "    }\n",
              "\n",
              "    .dataframe thead th {\n",
              "        text-align: right;\n",
              "    }\n",
              "</style>\n",
              "<table border=\"1\" class=\"dataframe\">\n",
              "  <thead>\n",
              "    <tr style=\"text-align: right;\">\n",
              "      <th></th>\n",
              "      <th>Unnamed: 0</th>\n",
              "      <th>date_of_report</th>\n",
              "      <th>ref</th>\n",
              "      <th>deceased_name</th>\n",
              "      <th>coroner_name</th>\n",
              "      <th>coroner_area</th>\n",
              "      <th>category</th>\n",
              "      <th>this_report_is_being_sent_to</th>\n",
              "      <th>url</th>\n",
              "    </tr>\n",
              "  </thead>\n",
              "  <tbody>\n",
              "    <tr>\n",
              "      <th>98</th>\n",
              "      <td>98</td>\n",
              "      <td>18 February 2022</td>\n",
              "      <td>2022-0057</td>\n",
              "      <td>SMB</td>\n",
              "      <td>John Broadbridge</td>\n",
              "      <td>North Yorkshire and York including North Yorks...</td>\n",
              "      <td>Road (Highways Safety) related deaths |Other r...</td>\n",
              "      <td>North Yorkshire County Council</td>\n",
              "      <td>https://www.judiciary.uk/publications/sasha-ra...</td>\n",
              "    </tr>\n",
              "  </tbody>\n",
              "</table>\n",
              "</div>\n",
              "      <button class=\"colab-df-convert\" onclick=\"convertToInteractive('df-ed6e5297-0e26-4770-bb5d-94baa8b20726')\"\n",
              "              title=\"Convert this dataframe to an interactive table.\"\n",
              "              style=\"display:none;\">\n",
              "        \n",
              "  <svg xmlns=\"http://www.w3.org/2000/svg\" height=\"24px\"viewBox=\"0 0 24 24\"\n",
              "       width=\"24px\">\n",
              "    <path d=\"M0 0h24v24H0V0z\" fill=\"none\"/>\n",
              "    <path d=\"M18.56 5.44l.94 2.06.94-2.06 2.06-.94-2.06-.94-.94-2.06-.94 2.06-2.06.94zm-11 1L8.5 8.5l.94-2.06 2.06-.94-2.06-.94L8.5 2.5l-.94 2.06-2.06.94zm10 10l.94 2.06.94-2.06 2.06-.94-2.06-.94-.94-2.06-.94 2.06-2.06.94z\"/><path d=\"M17.41 7.96l-1.37-1.37c-.4-.4-.92-.59-1.43-.59-.52 0-1.04.2-1.43.59L10.3 9.45l-7.72 7.72c-.78.78-.78 2.05 0 2.83L4 21.41c.39.39.9.59 1.41.59.51 0 1.02-.2 1.41-.59l7.78-7.78 2.81-2.81c.8-.78.8-2.07 0-2.86zM5.41 20L4 18.59l7.72-7.72 1.47 1.35L5.41 20z\"/>\n",
              "  </svg>\n",
              "      </button>\n",
              "      \n",
              "  <style>\n",
              "    .colab-df-container {\n",
              "      display:flex;\n",
              "      flex-wrap:wrap;\n",
              "      gap: 12px;\n",
              "    }\n",
              "\n",
              "    .colab-df-convert {\n",
              "      background-color: #E8F0FE;\n",
              "      border: none;\n",
              "      border-radius: 50%;\n",
              "      cursor: pointer;\n",
              "      display: none;\n",
              "      fill: #1967D2;\n",
              "      height: 32px;\n",
              "      padding: 0 0 0 0;\n",
              "      width: 32px;\n",
              "    }\n",
              "\n",
              "    .colab-df-convert:hover {\n",
              "      background-color: #E2EBFA;\n",
              "      box-shadow: 0px 1px 2px rgba(60, 64, 67, 0.3), 0px 1px 3px 1px rgba(60, 64, 67, 0.15);\n",
              "      fill: #174EA6;\n",
              "    }\n",
              "\n",
              "    [theme=dark] .colab-df-convert {\n",
              "      background-color: #3B4455;\n",
              "      fill: #D2E3FC;\n",
              "    }\n",
              "\n",
              "    [theme=dark] .colab-df-convert:hover {\n",
              "      background-color: #434B5C;\n",
              "      box-shadow: 0px 1px 3px 1px rgba(0, 0, 0, 0.15);\n",
              "      filter: drop-shadow(0px 1px 2px rgba(0, 0, 0, 0.3));\n",
              "      fill: #FFFFFF;\n",
              "    }\n",
              "  </style>\n",
              "\n",
              "      <script>\n",
              "        const buttonEl =\n",
              "          document.querySelector('#df-ed6e5297-0e26-4770-bb5d-94baa8b20726 button.colab-df-convert');\n",
              "        buttonEl.style.display =\n",
              "          google.colab.kernel.accessAllowed ? 'block' : 'none';\n",
              "\n",
              "        async function convertToInteractive(key) {\n",
              "          const element = document.querySelector('#df-ed6e5297-0e26-4770-bb5d-94baa8b20726');\n",
              "          const dataTable =\n",
              "            await google.colab.kernel.invokeFunction('convertToInteractive',\n",
              "                                                     [key], {});\n",
              "          if (!dataTable) return;\n",
              "\n",
              "          const docLinkHtml = 'Like what you see? Visit the ' +\n",
              "            '<a target=\"_blank\" href=https://colab.research.google.com/notebooks/data_table.ipynb>data table notebook</a>'\n",
              "            + ' to learn more about interactive tables.';\n",
              "          element.innerHTML = '';\n",
              "          dataTable['output_type'] = 'display_data';\n",
              "          await google.colab.output.renderOutput(dataTable, element);\n",
              "          const docLink = document.createElement('div');\n",
              "          docLink.innerHTML = docLinkHtml;\n",
              "          element.appendChild(docLink);\n",
              "        }\n",
              "      </script>\n",
              "    </div>\n",
              "  </div>\n",
              "  "
            ]
          },
          "metadata": {}
        }
      ]
    },
    {
      "cell_type": "markdown",
      "source": [
        "Try Joshua's code in Web_scraper_PFD.ipynb on github"
      ],
      "metadata": {
        "id": "7waaWdobcu7o"
      }
    },
    {
      "cell_type": "code",
      "source": [
        "present_areas = pd.read_csv('areas_2022.csv', header = None)[0]\n",
        "amalgamations = pd.read_csv(\"amalgamations.tsv\",sep='\\t')\n",
        "amalgamations[\"Old areas\"] = amalgamations[\"Old areas\"].str.split(\"; \")\n",
        "amalgamations[\"New area(s)\"] = amalgamations[\"New area(s)\"].str.split(\"; \")\n",
        "amalgamations = amalgamations.explode(\"New area(s)\").explode(\"Old areas\")\n",
        "conversions = dict(zip(amalgamations[\"Old areas\"].dropna(),amalgamations[\"New area(s)\"]))\n",
        "all_areas = list(np.concatenate(\n",
        "        (present_areas,\n",
        "        amalgamations[\"Old areas\"].str.split(\"; \").explode().dropna().unique())\n",
        "))\n",
        "for area in present_areas:\n",
        "    conversions[area] = area"
      ],
      "metadata": {
        "id": "FJh0YMXmdD_G"
      },
      "execution_count": null,
      "outputs": []
    },
    {
      "cell_type": "code",
      "source": [
        "replacements = [\n",
        "    [\"kent \\(south east \\& central\\)\", \"central_south_east_kent\"],\n",
        "    ['leicester city and leicestershire south', 'leicester city and south leicestershire'], \n",
        "    [\"north.*(east|central|wales).*(east|central|wales).*(east|central|wales)\", \"north east north central wales\"],\n",
        "    [\"\\(e\\)\", \"east\"],\n",
        "    [\"london \\(city\\)\", \"city of london\"],\n",
        "    ['north yorkshire and york including north yorkshire western district', 'north yorkshire (western)'], \n",
        "    [\".*(hampshire|portsmouth).*\", \"hampshire_portsmouth_southampton\"],\n",
        "    [\"birmingham$\", \"birmingham_solihull\"],\n",
        "    [\"(coroner service|coroner’s court|coroner)\", \"\"],\n",
        "    [\".*knowsley.*\", \"sefton_knowsley_st_helens\"],\n",
        "    [\".*nottingham.*\", \"nottinghamshire\"],\n",
        "    [\".*cumbria.*\", \"cumbria\"],\n",
        "    [\".*derby.*\", \"derby_derbyshire\"],\n",
        "    [\".*(lancashire|blackburn).*\", \"lancashire_blackburn_darwen\"],\n",
        "    [\".*east riding.*\", \"east_riding_hull\"],\n",
        "    [\".*? north tyneside\", \"north tyneside\"],\n",
        "    [\".*leicester.*(south|city).*|.*south.*leicester.*\", \"leicestershire_south_leicestershire\"],\n",
        "    [\"pembrokeshire & camarthenshire\", \"carmarthenshire_pembrokeshire\"],\n",
        "    [\"coventry and warwickshire\", \"warwickshire\"],\n",
        "    [\"-\", \" \"],\n",
        "    [\"\\: \", \"\"],\n",
        "    [\"&\", \"and\"],\n",
        "    [\"the \", \" \"],\n",
        "    [\"greater \", \"\"],\n",
        "    [\"([a-z|A-Z])(\\(|\\))([a-z|A-Z])\", \"\\\\1 \\\\3\"],\n",
        "    [\"\\(|\\)\", \"\"],\n",
        "    [\"(east|west|north|south)ern\", \"\\\\1\"],\n",
        "    [\"city of ((?!l)[a-z])\", \"\\\\1\"],\n",
        "    [\"(county of |county )\", \"\"],\n",
        "    [\",\", \"\"],\n",
        "    [\" district\", \"\"],\n",
        "    [\" division\", \"\"],\n",
        "    [\" and\", \"\"],\n",
        "    [\" upon .*? \", \" \"],\n",
        "    [\".*\\; (.*)\", \"\\\\1\"],\n",
        "    [\" upon ( .*? |.*?$)\", \"\"],\n",
        "    [\"(.*) city\", \"\\\\1\"],\n",
        "    [\"city and \", \"\"],\n",
        "    [\"(.*)(inner|innner)(.*)\", \"inner \\\\1\\\\3\"],\n",
        "    [\"inner\\s+?london (.*)\", \"inner \\\\1 london\"],\n",
        "    [\"(north|east|west|south) (.*) (north|east|west|south)$\", \"\\\\1 \\\\3 \\\\2\"],\n",
        "    [\"(.*) (north|east|west|south) (north|east|west|south) (north|east|west|south)$\", \"\\\\2 \\\\3 \\\\4 \\\\1\"],\n",
        "    [\"(.*) (north|east|west|south) (north|east|west|south|central)$\", \"\\\\2 \\\\3 \\\\1\"],\n",
        "    [\"(.*) (north|east|west|south|central)$\", \"\\\\2 \\\\1\"],\n",
        "    [\" valley|valleys\", \"\"]\n",
        "]\n",
        "\n",
        "def process_area(area):\n",
        "    area = area.lower()\n",
        "    for replacement in replacements:\n",
        "        area = re.sub(replacement[0], replacement[1], area)\n",
        "\n",
        "    area = area.replace(\" \", \"_\")\n",
        "    return area\n",
        "\n",
        "def process_area_test(area):\n",
        "    area = area.lower()\n",
        "    for replacement in replacements:\n",
        "        new = re.sub(replacement[0], replacement[1], area)\n",
        "        if new != area:\n",
        "            print(replacement[0], replacement[1], new)            \n",
        "        area = new\n",
        "    area = area.replace(\" \", \"_\")\n",
        "    return area    \n",
        "\n",
        "all_areas_dict = \"\\n\".join([process_area(area)+\" 1\" for area in all_areas])\n",
        "\n",
        "go_back = {process_area(area): conversions[area] for area in all_areas}\n",
        "\n",
        "with open(\"areas.txt\", \"w\") as f:\n",
        "    print(all_areas_dict, file = f)\n",
        "    \n",
        "with open(\"with_unprocessed.txt\", \"w\") as f:\n",
        "    print(\"\\n\".join([area+\": \"+process_area(area) for area in all_areas]), file = f)"
      ],
      "metadata": {
        "id": "rsWczd0mczrz"
      },
      "execution_count": null,
      "outputs": []
    },
    {
      "cell_type": "code",
      "source": [
        "# North Northumberland\n",
        "names_processed.loc[names_processed['ref']=='2022-0119', 'coroner_area'] = 'North Northumberland'\n",
        "names_processed.loc[names_processed['ref']=='2022-0118', 'coroner_area'] = 'South Northumberland'\n",
        "\n",
        "# North Yorkshire (Western)\n",
        "names_processed.loc[names_processed['ref']=='2022-0117', 'coroner_area'] = 'North Yorkshire (Western)'\n",
        "names_processed.loc[names_processed['ref']=='2022-0057', 'coroner_area'] = 'North Yorkshire (Western)'\n",
        "#Teesside and Hartlepool\n",
        "names_processed.loc[names_processed['ref']=='2016-0107', 'coroner_area'] = 'Teesside'\n",
        "names_processed.loc[names_processed['ref']=='2022-0050', 'coroner_area'] = 'Teesside'\n",
        "names_processed.loc[names_processed['ref']=='2019-0171', 'coroner_area'] = 'Hartlepool'"
      ],
      "metadata": {
        "id": "pl6_dW-wb-_O"
      },
      "execution_count": null,
      "outputs": []
    },
    {
      "cell_type": "code",
      "source": [
        "by_la = names_processed[names_processed[\"coroner_area\"].notna()].copy()\n",
        "local_authorities = by_la[by_la[\"coroner_area\"].notna()][\"coroner_area\"]\n",
        "to_correct = list(local_authorities.unique())\n",
        "with open(\"raw_areas.txt\", \"w\") as f:\n",
        "    print(\"\\n\".join(to_correct), file = f)"
      ],
      "metadata": {
        "id": "NLnYdkV4oJvX"
      },
      "execution_count": null,
      "outputs": []
    },
    {
      "cell_type": "code",
      "source": [
        "!pip install SymSpellCppPy"
      ],
      "metadata": {
        "colab": {
          "base_uri": "https://localhost:8080/"
        },
        "id": "-FzxDvdDvqCZ",
        "outputId": "e6ec2343-a7c7-4c2e-de5d-4702971624d2"
      },
      "execution_count": null,
      "outputs": [
        {
          "output_type": "stream",
          "name": "stdout",
          "text": [
            "Looking in indexes: https://pypi.org/simple, https://us-python.pkg.dev/colab-wheels/public/simple/\n",
            "Collecting SymSpellCppPy\n",
            "  Downloading SymSpellCppPy-0.0.14.tar.gz (5.4 MB)\n",
            "\u001b[K     |████████████████████████████████| 5.4 MB 4.2 MB/s \n",
            "\u001b[?25hBuilding wheels for collected packages: SymSpellCppPy\n",
            "  Building wheel for SymSpellCppPy (setup.py) ... \u001b[?25l\u001b[?25hdone\n",
            "  Created wheel for SymSpellCppPy: filename=SymSpellCppPy-0.0.14-cp37-cp37m-linux_x86_64.whl size=203665 sha256=a28c0dd79318c3bf754aae2fa8a54bf22c4d232f2968ecf000511f18ef382ee3\n",
            "  Stored in directory: /root/.cache/pip/wheels/4e/94/d7/069d7f3097e722d9c2ce2ac7d85d0262ac3c4fddfc2fb4be42\n",
            "Successfully built SymSpellCppPy\n",
            "Installing collected packages: SymSpellCppPy\n",
            "Successfully installed SymSpellCppPy-0.0.14\n"
          ]
        }
      ]
    },
    {
      "cell_type": "code",
      "source": [
        "import SymSpellCppPy"
      ],
      "metadata": {
        "id": "Jc9waAUqwhkq"
      },
      "execution_count": null,
      "outputs": []
    },
    {
      "cell_type": "code",
      "source": [
        "symSpell = SymSpellCppPy.SymSpell(max_dictionary_edit_distance=6)\n",
        "symSpell.load_dictionary(corpus=\"areas.txt\", term_index=0, count_index=1, separator=\" \")"
      ],
      "metadata": {
        "id": "tFHR3PKFoblR",
        "colab": {
          "base_uri": "https://localhost:8080/"
        },
        "outputId": "e0e0d0c5-daac-4243-ca3f-97fab947e61c"
      },
      "execution_count": null,
      "outputs": [
        {
          "output_type": "execute_result",
          "data": {
            "text/plain": [
              "True"
            ]
          },
          "metadata": {},
          "execution_count": 10
        }
      ]
    },
    {
      "cell_type": "code",
      "source": [
        "class NoMatchError(Exception): pass\n",
        "\n",
        "def correct_spelling(area):\n",
        "    original = area\n",
        "    area = area.lower()\n",
        "    for replacement in replacements:\n",
        "        area = re.sub(replacement[0], replacement[1], area)\n",
        "    area = area.replace(\" \", \"_\")\n",
        "    attempt = symSpell.lookup(area, SymSpellCppPy.Verbosity.CLOSEST,max_edit_distance=6)\n",
        "    if not attempt:\n",
        "        # print(\"Original\" + original)\n",
        "        raise NoMatchError\n",
        "    return attempt[0].term\n",
        "    \n",
        "def test_correct_spelling(area):\n",
        "    original = area\n",
        "    area = area.lower()\n",
        "    for replacement in replacements:\n",
        "        new = re.sub(replacement[0], replacement[1], area)\n",
        "        if new != area:\n",
        "            print(new, replacement[0], replacement[1])\n",
        "        area = new\n",
        "    area = area.replace(\" \", \"_\")\n",
        "    attempt = symSpell.lookup(area, SymSpellCppPy.Verbosity.CLOSEST,max_edit_distance=6)\n",
        "    return (original, area, attempt)    \n",
        "\n",
        "corrections = {}\n",
        "\n",
        "for area in to_correct:\n",
        "    try:\n",
        "        corrections[area] = correct_spelling(area)\n",
        "    except NoMatchError:\n",
        "        print(f\"Could not match {area}\")\n",
        "        test_correct_spelling(area)\n",
        "        corrections[area] = area\n",
        "\n",
        "unsuccessful = [area for area in corrections.keys() if not corrections[area]]\n",
        "\n",
        "#print(unsuccessful)\n"
      ],
      "metadata": {
        "id": "YrT7nu3pvY5z"
      },
      "execution_count": null,
      "outputs": []
    },
    {
      "cell_type": "markdown",
      "source": [
        "after reading Zoe's report, her body was found at Bedale, which is in central North Yorkshire. It is a bit to the west so I guess North Yorkshire (Western)"
      ],
      "metadata": {
        "id": "79xJpX2Sfg8B"
      }
    },
    {
      "cell_type": "markdown",
      "source": [
        "After reading Sasha's report, she had an accident between Cowling and Glusburn, both of which are in North Yorkshire (Western)"
      ],
      "metadata": {
        "id": "JZOQMdO8ggX7"
      }
    },
    {
      "cell_type": "code",
      "source": [
        "display(names_processed[names_processed['coroner_area']==\"Teesside and Hartlepool\"])\n",
        "display(names_processed[names_processed['coroner_area']==\"North Yorkshire and York including North Yorkshire Western District\"])\n",
        "\n",
        "url_1 = names_processed.loc[names_processed['coroner_area']==\"North Northumberland and South Northumberland\", 'url']\n",
        "url_2 = names_processed.loc[names_processed['coroner_area']==\"North Yorkshire and York including North Yorkshire Western District\", 'url']\n",
        "print(url_2)"
      ],
      "metadata": {
        "colab": {
          "base_uri": "https://localhost:8080/",
          "height": 128
        },
        "id": "qjATVTc65hbT",
        "outputId": "3b475225-209b-4b36-c05d-241335af01f5"
      },
      "execution_count": null,
      "outputs": [
        {
          "output_type": "display_data",
          "data": {
            "text/plain": [
              "Empty DataFrame\n",
              "Columns: [Unnamed: 0, date_of_report, ref, deceased_name, coroner_name, coroner_area, category, this_report_is_being_sent_to, url]\n",
              "Index: []"
            ],
            "text/html": [
              "\n",
              "  <div id=\"df-0f72b24d-7514-4d8f-b693-323e90467c59\">\n",
              "    <div class=\"colab-df-container\">\n",
              "      <div>\n",
              "<style scoped>\n",
              "    .dataframe tbody tr th:only-of-type {\n",
              "        vertical-align: middle;\n",
              "    }\n",
              "\n",
              "    .dataframe tbody tr th {\n",
              "        vertical-align: top;\n",
              "    }\n",
              "\n",
              "    .dataframe thead th {\n",
              "        text-align: right;\n",
              "    }\n",
              "</style>\n",
              "<table border=\"1\" class=\"dataframe\">\n",
              "  <thead>\n",
              "    <tr style=\"text-align: right;\">\n",
              "      <th></th>\n",
              "      <th>Unnamed: 0</th>\n",
              "      <th>date_of_report</th>\n",
              "      <th>ref</th>\n",
              "      <th>deceased_name</th>\n",
              "      <th>coroner_name</th>\n",
              "      <th>coroner_area</th>\n",
              "      <th>category</th>\n",
              "      <th>this_report_is_being_sent_to</th>\n",
              "      <th>url</th>\n",
              "    </tr>\n",
              "  </thead>\n",
              "  <tbody>\n",
              "  </tbody>\n",
              "</table>\n",
              "</div>\n",
              "      <button class=\"colab-df-convert\" onclick=\"convertToInteractive('df-0f72b24d-7514-4d8f-b693-323e90467c59')\"\n",
              "              title=\"Convert this dataframe to an interactive table.\"\n",
              "              style=\"display:none;\">\n",
              "        \n",
              "  <svg xmlns=\"http://www.w3.org/2000/svg\" height=\"24px\"viewBox=\"0 0 24 24\"\n",
              "       width=\"24px\">\n",
              "    <path d=\"M0 0h24v24H0V0z\" fill=\"none\"/>\n",
              "    <path d=\"M18.56 5.44l.94 2.06.94-2.06 2.06-.94-2.06-.94-.94-2.06-.94 2.06-2.06.94zm-11 1L8.5 8.5l.94-2.06 2.06-.94-2.06-.94L8.5 2.5l-.94 2.06-2.06.94zm10 10l.94 2.06.94-2.06 2.06-.94-2.06-.94-.94-2.06-.94 2.06-2.06.94z\"/><path d=\"M17.41 7.96l-1.37-1.37c-.4-.4-.92-.59-1.43-.59-.52 0-1.04.2-1.43.59L10.3 9.45l-7.72 7.72c-.78.78-.78 2.05 0 2.83L4 21.41c.39.39.9.59 1.41.59.51 0 1.02-.2 1.41-.59l7.78-7.78 2.81-2.81c.8-.78.8-2.07 0-2.86zM5.41 20L4 18.59l7.72-7.72 1.47 1.35L5.41 20z\"/>\n",
              "  </svg>\n",
              "      </button>\n",
              "      \n",
              "  <style>\n",
              "    .colab-df-container {\n",
              "      display:flex;\n",
              "      flex-wrap:wrap;\n",
              "      gap: 12px;\n",
              "    }\n",
              "\n",
              "    .colab-df-convert {\n",
              "      background-color: #E8F0FE;\n",
              "      border: none;\n",
              "      border-radius: 50%;\n",
              "      cursor: pointer;\n",
              "      display: none;\n",
              "      fill: #1967D2;\n",
              "      height: 32px;\n",
              "      padding: 0 0 0 0;\n",
              "      width: 32px;\n",
              "    }\n",
              "\n",
              "    .colab-df-convert:hover {\n",
              "      background-color: #E2EBFA;\n",
              "      box-shadow: 0px 1px 2px rgba(60, 64, 67, 0.3), 0px 1px 3px 1px rgba(60, 64, 67, 0.15);\n",
              "      fill: #174EA6;\n",
              "    }\n",
              "\n",
              "    [theme=dark] .colab-df-convert {\n",
              "      background-color: #3B4455;\n",
              "      fill: #D2E3FC;\n",
              "    }\n",
              "\n",
              "    [theme=dark] .colab-df-convert:hover {\n",
              "      background-color: #434B5C;\n",
              "      box-shadow: 0px 1px 3px 1px rgba(0, 0, 0, 0.15);\n",
              "      filter: drop-shadow(0px 1px 2px rgba(0, 0, 0, 0.3));\n",
              "      fill: #FFFFFF;\n",
              "    }\n",
              "  </style>\n",
              "\n",
              "      <script>\n",
              "        const buttonEl =\n",
              "          document.querySelector('#df-0f72b24d-7514-4d8f-b693-323e90467c59 button.colab-df-convert');\n",
              "        buttonEl.style.display =\n",
              "          google.colab.kernel.accessAllowed ? 'block' : 'none';\n",
              "\n",
              "        async function convertToInteractive(key) {\n",
              "          const element = document.querySelector('#df-0f72b24d-7514-4d8f-b693-323e90467c59');\n",
              "          const dataTable =\n",
              "            await google.colab.kernel.invokeFunction('convertToInteractive',\n",
              "                                                     [key], {});\n",
              "          if (!dataTable) return;\n",
              "\n",
              "          const docLinkHtml = 'Like what you see? Visit the ' +\n",
              "            '<a target=\"_blank\" href=https://colab.research.google.com/notebooks/data_table.ipynb>data table notebook</a>'\n",
              "            + ' to learn more about interactive tables.';\n",
              "          element.innerHTML = '';\n",
              "          dataTable['output_type'] = 'display_data';\n",
              "          await google.colab.output.renderOutput(dataTable, element);\n",
              "          const docLink = document.createElement('div');\n",
              "          docLink.innerHTML = docLinkHtml;\n",
              "          element.appendChild(docLink);\n",
              "        }\n",
              "      </script>\n",
              "    </div>\n",
              "  </div>\n",
              "  "
            ]
          },
          "metadata": {}
        },
        {
          "output_type": "display_data",
          "data": {
            "text/plain": [
              "Empty DataFrame\n",
              "Columns: [Unnamed: 0, date_of_report, ref, deceased_name, coroner_name, coroner_area, category, this_report_is_being_sent_to, url]\n",
              "Index: []"
            ],
            "text/html": [
              "\n",
              "  <div id=\"df-c66d408e-9a1d-42a2-99db-77e4aac5b74d\">\n",
              "    <div class=\"colab-df-container\">\n",
              "      <div>\n",
              "<style scoped>\n",
              "    .dataframe tbody tr th:only-of-type {\n",
              "        vertical-align: middle;\n",
              "    }\n",
              "\n",
              "    .dataframe tbody tr th {\n",
              "        vertical-align: top;\n",
              "    }\n",
              "\n",
              "    .dataframe thead th {\n",
              "        text-align: right;\n",
              "    }\n",
              "</style>\n",
              "<table border=\"1\" class=\"dataframe\">\n",
              "  <thead>\n",
              "    <tr style=\"text-align: right;\">\n",
              "      <th></th>\n",
              "      <th>Unnamed: 0</th>\n",
              "      <th>date_of_report</th>\n",
              "      <th>ref</th>\n",
              "      <th>deceased_name</th>\n",
              "      <th>coroner_name</th>\n",
              "      <th>coroner_area</th>\n",
              "      <th>category</th>\n",
              "      <th>this_report_is_being_sent_to</th>\n",
              "      <th>url</th>\n",
              "    </tr>\n",
              "  </thead>\n",
              "  <tbody>\n",
              "  </tbody>\n",
              "</table>\n",
              "</div>\n",
              "      <button class=\"colab-df-convert\" onclick=\"convertToInteractive('df-c66d408e-9a1d-42a2-99db-77e4aac5b74d')\"\n",
              "              title=\"Convert this dataframe to an interactive table.\"\n",
              "              style=\"display:none;\">\n",
              "        \n",
              "  <svg xmlns=\"http://www.w3.org/2000/svg\" height=\"24px\"viewBox=\"0 0 24 24\"\n",
              "       width=\"24px\">\n",
              "    <path d=\"M0 0h24v24H0V0z\" fill=\"none\"/>\n",
              "    <path d=\"M18.56 5.44l.94 2.06.94-2.06 2.06-.94-2.06-.94-.94-2.06-.94 2.06-2.06.94zm-11 1L8.5 8.5l.94-2.06 2.06-.94-2.06-.94L8.5 2.5l-.94 2.06-2.06.94zm10 10l.94 2.06.94-2.06 2.06-.94-2.06-.94-.94-2.06-.94 2.06-2.06.94z\"/><path d=\"M17.41 7.96l-1.37-1.37c-.4-.4-.92-.59-1.43-.59-.52 0-1.04.2-1.43.59L10.3 9.45l-7.72 7.72c-.78.78-.78 2.05 0 2.83L4 21.41c.39.39.9.59 1.41.59.51 0 1.02-.2 1.41-.59l7.78-7.78 2.81-2.81c.8-.78.8-2.07 0-2.86zM5.41 20L4 18.59l7.72-7.72 1.47 1.35L5.41 20z\"/>\n",
              "  </svg>\n",
              "      </button>\n",
              "      \n",
              "  <style>\n",
              "    .colab-df-container {\n",
              "      display:flex;\n",
              "      flex-wrap:wrap;\n",
              "      gap: 12px;\n",
              "    }\n",
              "\n",
              "    .colab-df-convert {\n",
              "      background-color: #E8F0FE;\n",
              "      border: none;\n",
              "      border-radius: 50%;\n",
              "      cursor: pointer;\n",
              "      display: none;\n",
              "      fill: #1967D2;\n",
              "      height: 32px;\n",
              "      padding: 0 0 0 0;\n",
              "      width: 32px;\n",
              "    }\n",
              "\n",
              "    .colab-df-convert:hover {\n",
              "      background-color: #E2EBFA;\n",
              "      box-shadow: 0px 1px 2px rgba(60, 64, 67, 0.3), 0px 1px 3px 1px rgba(60, 64, 67, 0.15);\n",
              "      fill: #174EA6;\n",
              "    }\n",
              "\n",
              "    [theme=dark] .colab-df-convert {\n",
              "      background-color: #3B4455;\n",
              "      fill: #D2E3FC;\n",
              "    }\n",
              "\n",
              "    [theme=dark] .colab-df-convert:hover {\n",
              "      background-color: #434B5C;\n",
              "      box-shadow: 0px 1px 3px 1px rgba(0, 0, 0, 0.15);\n",
              "      filter: drop-shadow(0px 1px 2px rgba(0, 0, 0, 0.3));\n",
              "      fill: #FFFFFF;\n",
              "    }\n",
              "  </style>\n",
              "\n",
              "      <script>\n",
              "        const buttonEl =\n",
              "          document.querySelector('#df-c66d408e-9a1d-42a2-99db-77e4aac5b74d button.colab-df-convert');\n",
              "        buttonEl.style.display =\n",
              "          google.colab.kernel.accessAllowed ? 'block' : 'none';\n",
              "\n",
              "        async function convertToInteractive(key) {\n",
              "          const element = document.querySelector('#df-c66d408e-9a1d-42a2-99db-77e4aac5b74d');\n",
              "          const dataTable =\n",
              "            await google.colab.kernel.invokeFunction('convertToInteractive',\n",
              "                                                     [key], {});\n",
              "          if (!dataTable) return;\n",
              "\n",
              "          const docLinkHtml = 'Like what you see? Visit the ' +\n",
              "            '<a target=\"_blank\" href=https://colab.research.google.com/notebooks/data_table.ipynb>data table notebook</a>'\n",
              "            + ' to learn more about interactive tables.';\n",
              "          element.innerHTML = '';\n",
              "          dataTable['output_type'] = 'display_data';\n",
              "          await google.colab.output.renderOutput(dataTable, element);\n",
              "          const docLink = document.createElement('div');\n",
              "          docLink.innerHTML = docLinkHtml;\n",
              "          element.appendChild(docLink);\n",
              "        }\n",
              "      </script>\n",
              "    </div>\n",
              "  </div>\n",
              "  "
            ]
          },
          "metadata": {}
        },
        {
          "output_type": "stream",
          "name": "stdout",
          "text": [
            "Series([], Name: url, dtype: object)\n"
          ]
        }
      ]
    },
    {
      "cell_type": "markdown",
      "source": [
        "There are more than one margaret who died and more than one william, so the url got cut, and assumes it is the first Margaret who died (hence Atkinson) (and For William it's Abel)\n",
        "\n",
        "It caused me to go into a bit of a scare and check that I processed the names_processed csv wrong, but I think I'm safe from that bigger issue\n",
        "\n",
        "Issue is how do we locate the MG's and WR's url. "
      ],
      "metadata": {
        "id": "dfAvQDzwMJKt"
      }
    },
    {
      "cell_type": "markdown",
      "source": [
        "Found MG and WR's urls and read their reports\n",
        "\n",
        "MG: https://www.judiciary.uk/publications/margaret-greenacre-prevention-of-future-deaths-report/\n",
        "\n",
        "WR: https://www.judiciary.uk/publications/william-rutherford-prevention-of-future-deaths-report/\n"
      ],
      "metadata": {
        "id": "f0zqNbHYP0ps"
      }
    },
    {
      "cell_type": "markdown",
      "source": [
        "The two patients both sustained injuries in Baedling care home (NE22 5TT). Margaret died further north in Wansbeck general hospital. William died further south in Northumbria specialist emergency hospital. \n",
        "\n",
        "Guess that one is North Northumberland, one is South northumberland. "
      ],
      "metadata": {
        "id": "CFND0c4JYKFL"
      }
    },
    {
      "cell_type": "markdown",
      "source": [
        "Continue Joshua's code"
      ],
      "metadata": {
        "id": "_FjVlk9zhpIS"
      }
    },
    {
      "cell_type": "code",
      "source": [
        "by_la[\"corrected_area\"] = by_la[\"coroner_area\"].map(correct_spelling).map(go_back)"
      ],
      "metadata": {
        "id": "ocx2fd_uwzlH"
      },
      "execution_count": null,
      "outputs": []
    },
    {
      "cell_type": "code",
      "source": [
        "t_h = by_la[by_la['corrected_area'].str.contains('Teesside')]\n",
        "refs = t_h['ref'].values"
      ],
      "metadata": {
        "id": "vY2mnuGcMdVA"
      },
      "execution_count": null,
      "outputs": []
    },
    {
      "cell_type": "markdown",
      "source": [
        "I found \"Teesside and Hartlepool\" to be two coroner areas, but the code merges them into one. I keep Teesside and Hartlepool separate, then also correct individually for three cases\n",
        "\n",
        "Alternatively, I have also created areas_2022.csv with Teesside and Hartlepool as two coroner areas"
      ],
      "metadata": {
        "id": "axVACmPcM0je"
      }
    },
    {
      "cell_type": "code",
      "source": [
        ""
      ],
      "metadata": {
        "id": "lWp0VYlePn9d"
      },
      "execution_count": null,
      "outputs": []
    },
    {
      "cell_type": "code",
      "source": [
        "for ref in refs: \n",
        "  by_la.loc[by_la['ref']==ref, 'corrected_area']=by_la.loc[by_la['ref']==ref, 'coroner_area']"
      ],
      "metadata": {
        "id": "qxPijSDdsvR5"
      },
      "execution_count": null,
      "outputs": []
    },
    {
      "cell_type": "code",
      "source": [
        "by_la.loc[by_la['ref']=='2022-0050', 'corrected_area'] = 'Teesside'\n",
        "by_la.loc[by_la['ref']=='2019-0171', 'corrected_area'] = 'Hartlepool'"
      ],
      "metadata": {
        "id": "vIA9SuYXtgUb"
      },
      "execution_count": null,
      "outputs": []
    },
    {
      "cell_type": "code",
      "source": [
        "by_la.loc[by_la['corrected_area']=='Teeside', 'corrected_area'] = 'Teesside'"
      ],
      "metadata": {
        "id": "gg0-I956vVUu"
      },
      "execution_count": null,
      "outputs": []
    },
    {
      "cell_type": "code",
      "source": [
        "area_frequency = pd.DataFrame(by_la[\"corrected_area\"].value_counts())"
      ],
      "metadata": {
        "id": "USkWCAn0xAIt"
      },
      "execution_count": null,
      "outputs": []
    },
    {
      "cell_type": "code",
      "source": [
        "area_frequency = area_frequency.reset_index()"
      ],
      "metadata": {
        "id": "eIWgegeNjS90"
      },
      "execution_count": null,
      "outputs": []
    },
    {
      "cell_type": "code",
      "source": [
        "display(area_frequency.head())"
      ],
      "metadata": {
        "colab": {
          "base_uri": "https://localhost:8080/",
          "height": 204
        },
        "id": "3hKYiBxwjgsn",
        "outputId": "e9c49840-f11d-40d7-e5e9-a80aef77be14"
      },
      "execution_count": null,
      "outputs": [
        {
          "output_type": "display_data",
          "data": {
            "text/plain": [
              "                     index  corrected_area\n",
              "0         Manchester South             326\n",
              "1       Inner North London             208\n",
              "2  Birmingham and Solihull             126\n",
              "3                   Surrey             118\n",
              "4       Inner South London             110"
            ],
            "text/html": [
              "\n",
              "  <div id=\"df-afa3ef89-0b06-4633-aa8c-7bcd2a1cc1d6\">\n",
              "    <div class=\"colab-df-container\">\n",
              "      <div>\n",
              "<style scoped>\n",
              "    .dataframe tbody tr th:only-of-type {\n",
              "        vertical-align: middle;\n",
              "    }\n",
              "\n",
              "    .dataframe tbody tr th {\n",
              "        vertical-align: top;\n",
              "    }\n",
              "\n",
              "    .dataframe thead th {\n",
              "        text-align: right;\n",
              "    }\n",
              "</style>\n",
              "<table border=\"1\" class=\"dataframe\">\n",
              "  <thead>\n",
              "    <tr style=\"text-align: right;\">\n",
              "      <th></th>\n",
              "      <th>index</th>\n",
              "      <th>corrected_area</th>\n",
              "    </tr>\n",
              "  </thead>\n",
              "  <tbody>\n",
              "    <tr>\n",
              "      <th>0</th>\n",
              "      <td>Manchester South</td>\n",
              "      <td>326</td>\n",
              "    </tr>\n",
              "    <tr>\n",
              "      <th>1</th>\n",
              "      <td>Inner North London</td>\n",
              "      <td>208</td>\n",
              "    </tr>\n",
              "    <tr>\n",
              "      <th>2</th>\n",
              "      <td>Birmingham and Solihull</td>\n",
              "      <td>126</td>\n",
              "    </tr>\n",
              "    <tr>\n",
              "      <th>3</th>\n",
              "      <td>Surrey</td>\n",
              "      <td>118</td>\n",
              "    </tr>\n",
              "    <tr>\n",
              "      <th>4</th>\n",
              "      <td>Inner South London</td>\n",
              "      <td>110</td>\n",
              "    </tr>\n",
              "  </tbody>\n",
              "</table>\n",
              "</div>\n",
              "      <button class=\"colab-df-convert\" onclick=\"convertToInteractive('df-afa3ef89-0b06-4633-aa8c-7bcd2a1cc1d6')\"\n",
              "              title=\"Convert this dataframe to an interactive table.\"\n",
              "              style=\"display:none;\">\n",
              "        \n",
              "  <svg xmlns=\"http://www.w3.org/2000/svg\" height=\"24px\"viewBox=\"0 0 24 24\"\n",
              "       width=\"24px\">\n",
              "    <path d=\"M0 0h24v24H0V0z\" fill=\"none\"/>\n",
              "    <path d=\"M18.56 5.44l.94 2.06.94-2.06 2.06-.94-2.06-.94-.94-2.06-.94 2.06-2.06.94zm-11 1L8.5 8.5l.94-2.06 2.06-.94-2.06-.94L8.5 2.5l-.94 2.06-2.06.94zm10 10l.94 2.06.94-2.06 2.06-.94-2.06-.94-.94-2.06-.94 2.06-2.06.94z\"/><path d=\"M17.41 7.96l-1.37-1.37c-.4-.4-.92-.59-1.43-.59-.52 0-1.04.2-1.43.59L10.3 9.45l-7.72 7.72c-.78.78-.78 2.05 0 2.83L4 21.41c.39.39.9.59 1.41.59.51 0 1.02-.2 1.41-.59l7.78-7.78 2.81-2.81c.8-.78.8-2.07 0-2.86zM5.41 20L4 18.59l7.72-7.72 1.47 1.35L5.41 20z\"/>\n",
              "  </svg>\n",
              "      </button>\n",
              "      \n",
              "  <style>\n",
              "    .colab-df-container {\n",
              "      display:flex;\n",
              "      flex-wrap:wrap;\n",
              "      gap: 12px;\n",
              "    }\n",
              "\n",
              "    .colab-df-convert {\n",
              "      background-color: #E8F0FE;\n",
              "      border: none;\n",
              "      border-radius: 50%;\n",
              "      cursor: pointer;\n",
              "      display: none;\n",
              "      fill: #1967D2;\n",
              "      height: 32px;\n",
              "      padding: 0 0 0 0;\n",
              "      width: 32px;\n",
              "    }\n",
              "\n",
              "    .colab-df-convert:hover {\n",
              "      background-color: #E2EBFA;\n",
              "      box-shadow: 0px 1px 2px rgba(60, 64, 67, 0.3), 0px 1px 3px 1px rgba(60, 64, 67, 0.15);\n",
              "      fill: #174EA6;\n",
              "    }\n",
              "\n",
              "    [theme=dark] .colab-df-convert {\n",
              "      background-color: #3B4455;\n",
              "      fill: #D2E3FC;\n",
              "    }\n",
              "\n",
              "    [theme=dark] .colab-df-convert:hover {\n",
              "      background-color: #434B5C;\n",
              "      box-shadow: 0px 1px 3px 1px rgba(0, 0, 0, 0.15);\n",
              "      filter: drop-shadow(0px 1px 2px rgba(0, 0, 0, 0.3));\n",
              "      fill: #FFFFFF;\n",
              "    }\n",
              "  </style>\n",
              "\n",
              "      <script>\n",
              "        const buttonEl =\n",
              "          document.querySelector('#df-afa3ef89-0b06-4633-aa8c-7bcd2a1cc1d6 button.colab-df-convert');\n",
              "        buttonEl.style.display =\n",
              "          google.colab.kernel.accessAllowed ? 'block' : 'none';\n",
              "\n",
              "        async function convertToInteractive(key) {\n",
              "          const element = document.querySelector('#df-afa3ef89-0b06-4633-aa8c-7bcd2a1cc1d6');\n",
              "          const dataTable =\n",
              "            await google.colab.kernel.invokeFunction('convertToInteractive',\n",
              "                                                     [key], {});\n",
              "          if (!dataTable) return;\n",
              "\n",
              "          const docLinkHtml = 'Like what you see? Visit the ' +\n",
              "            '<a target=\"_blank\" href=https://colab.research.google.com/notebooks/data_table.ipynb>data table notebook</a>'\n",
              "            + ' to learn more about interactive tables.';\n",
              "          element.innerHTML = '';\n",
              "          dataTable['output_type'] = 'display_data';\n",
              "          await google.colab.output.renderOutput(dataTable, element);\n",
              "          const docLink = document.createElement('div');\n",
              "          docLink.innerHTML = docLinkHtml;\n",
              "          element.appendChild(docLink);\n",
              "        }\n",
              "      </script>\n",
              "    </div>\n",
              "  </div>\n",
              "  "
            ]
          },
          "metadata": {}
        }
      ]
    },
    {
      "cell_type": "code",
      "source": [
        "display(area_frequency.shape)"
      ],
      "metadata": {
        "colab": {
          "base_uri": "https://localhost:8080/",
          "height": 34
        },
        "id": "an6Jj7HIlgt7",
        "outputId": "9c3504e7-eb8f-443f-eac4-dbd79b5ace96"
      },
      "execution_count": null,
      "outputs": [
        {
          "output_type": "display_data",
          "data": {
            "text/plain": [
              "(86, 2)"
            ]
          },
          "metadata": {}
        }
      ]
    },
    {
      "cell_type": "code",
      "source": [
        "area_frequency.sort_values(by = 'corrected_area', ascending = True, inplace = True)"
      ],
      "metadata": {
        "id": "XLbWN4Rdl_ry"
      },
      "execution_count": null,
      "outputs": []
    },
    {
      "cell_type": "code",
      "source": [
        "area_frequency.rename(columns = {'index':'coroner area', 'corrected_area': 'Number of reports'}, inplace = True)"
      ],
      "metadata": {
        "id": "qKl9rrGZrQPt"
      },
      "execution_count": null,
      "outputs": []
    },
    {
      "cell_type": "code",
      "source": [
        "display(area_frequency[:10])"
      ],
      "metadata": {
        "colab": {
          "base_uri": "https://localhost:8080/",
          "height": 359
        },
        "id": "K8s-4uePrfJU",
        "outputId": "c6a36f8d-7fef-4c3a-e953-bf98203ab030"
      },
      "execution_count": null,
      "outputs": [
        {
          "output_type": "display_data",
          "data": {
            "text/plain": [
              "                      coroner area  Number of reports\n",
              "85                      Ceredigion                  1\n",
              "82  Sefton, Knowsley and St Helens                  2\n",
              "84                      Hartlepool                  2\n",
              "83                   Herefordshire                  2\n",
              "81                       York City                  3\n",
              "79                  North Tyneside                  4\n",
              "78       North Yorkshire (Eastern)                  4\n",
              "77            South Northumberland                  4\n",
              "80  North Lincolnshire and Grimsby                  4\n",
              "76    Gateshead and South Tyneside                  7"
            ],
            "text/html": [
              "\n",
              "  <div id=\"df-6e95e2b1-8d8f-4d4e-a836-e0e8d0b8ddc0\">\n",
              "    <div class=\"colab-df-container\">\n",
              "      <div>\n",
              "<style scoped>\n",
              "    .dataframe tbody tr th:only-of-type {\n",
              "        vertical-align: middle;\n",
              "    }\n",
              "\n",
              "    .dataframe tbody tr th {\n",
              "        vertical-align: top;\n",
              "    }\n",
              "\n",
              "    .dataframe thead th {\n",
              "        text-align: right;\n",
              "    }\n",
              "</style>\n",
              "<table border=\"1\" class=\"dataframe\">\n",
              "  <thead>\n",
              "    <tr style=\"text-align: right;\">\n",
              "      <th></th>\n",
              "      <th>coroner area</th>\n",
              "      <th>Number of reports</th>\n",
              "    </tr>\n",
              "  </thead>\n",
              "  <tbody>\n",
              "    <tr>\n",
              "      <th>85</th>\n",
              "      <td>Ceredigion</td>\n",
              "      <td>1</td>\n",
              "    </tr>\n",
              "    <tr>\n",
              "      <th>82</th>\n",
              "      <td>Sefton, Knowsley and St Helens</td>\n",
              "      <td>2</td>\n",
              "    </tr>\n",
              "    <tr>\n",
              "      <th>84</th>\n",
              "      <td>Hartlepool</td>\n",
              "      <td>2</td>\n",
              "    </tr>\n",
              "    <tr>\n",
              "      <th>83</th>\n",
              "      <td>Herefordshire</td>\n",
              "      <td>2</td>\n",
              "    </tr>\n",
              "    <tr>\n",
              "      <th>81</th>\n",
              "      <td>York City</td>\n",
              "      <td>3</td>\n",
              "    </tr>\n",
              "    <tr>\n",
              "      <th>79</th>\n",
              "      <td>North Tyneside</td>\n",
              "      <td>4</td>\n",
              "    </tr>\n",
              "    <tr>\n",
              "      <th>78</th>\n",
              "      <td>North Yorkshire (Eastern)</td>\n",
              "      <td>4</td>\n",
              "    </tr>\n",
              "    <tr>\n",
              "      <th>77</th>\n",
              "      <td>South Northumberland</td>\n",
              "      <td>4</td>\n",
              "    </tr>\n",
              "    <tr>\n",
              "      <th>80</th>\n",
              "      <td>North Lincolnshire and Grimsby</td>\n",
              "      <td>4</td>\n",
              "    </tr>\n",
              "    <tr>\n",
              "      <th>76</th>\n",
              "      <td>Gateshead and South Tyneside</td>\n",
              "      <td>7</td>\n",
              "    </tr>\n",
              "  </tbody>\n",
              "</table>\n",
              "</div>\n",
              "      <button class=\"colab-df-convert\" onclick=\"convertToInteractive('df-6e95e2b1-8d8f-4d4e-a836-e0e8d0b8ddc0')\"\n",
              "              title=\"Convert this dataframe to an interactive table.\"\n",
              "              style=\"display:none;\">\n",
              "        \n",
              "  <svg xmlns=\"http://www.w3.org/2000/svg\" height=\"24px\"viewBox=\"0 0 24 24\"\n",
              "       width=\"24px\">\n",
              "    <path d=\"M0 0h24v24H0V0z\" fill=\"none\"/>\n",
              "    <path d=\"M18.56 5.44l.94 2.06.94-2.06 2.06-.94-2.06-.94-.94-2.06-.94 2.06-2.06.94zm-11 1L8.5 8.5l.94-2.06 2.06-.94-2.06-.94L8.5 2.5l-.94 2.06-2.06.94zm10 10l.94 2.06.94-2.06 2.06-.94-2.06-.94-.94-2.06-.94 2.06-2.06.94z\"/><path d=\"M17.41 7.96l-1.37-1.37c-.4-.4-.92-.59-1.43-.59-.52 0-1.04.2-1.43.59L10.3 9.45l-7.72 7.72c-.78.78-.78 2.05 0 2.83L4 21.41c.39.39.9.59 1.41.59.51 0 1.02-.2 1.41-.59l7.78-7.78 2.81-2.81c.8-.78.8-2.07 0-2.86zM5.41 20L4 18.59l7.72-7.72 1.47 1.35L5.41 20z\"/>\n",
              "  </svg>\n",
              "      </button>\n",
              "      \n",
              "  <style>\n",
              "    .colab-df-container {\n",
              "      display:flex;\n",
              "      flex-wrap:wrap;\n",
              "      gap: 12px;\n",
              "    }\n",
              "\n",
              "    .colab-df-convert {\n",
              "      background-color: #E8F0FE;\n",
              "      border: none;\n",
              "      border-radius: 50%;\n",
              "      cursor: pointer;\n",
              "      display: none;\n",
              "      fill: #1967D2;\n",
              "      height: 32px;\n",
              "      padding: 0 0 0 0;\n",
              "      width: 32px;\n",
              "    }\n",
              "\n",
              "    .colab-df-convert:hover {\n",
              "      background-color: #E2EBFA;\n",
              "      box-shadow: 0px 1px 2px rgba(60, 64, 67, 0.3), 0px 1px 3px 1px rgba(60, 64, 67, 0.15);\n",
              "      fill: #174EA6;\n",
              "    }\n",
              "\n",
              "    [theme=dark] .colab-df-convert {\n",
              "      background-color: #3B4455;\n",
              "      fill: #D2E3FC;\n",
              "    }\n",
              "\n",
              "    [theme=dark] .colab-df-convert:hover {\n",
              "      background-color: #434B5C;\n",
              "      box-shadow: 0px 1px 3px 1px rgba(0, 0, 0, 0.15);\n",
              "      filter: drop-shadow(0px 1px 2px rgba(0, 0, 0, 0.3));\n",
              "      fill: #FFFFFF;\n",
              "    }\n",
              "  </style>\n",
              "\n",
              "      <script>\n",
              "        const buttonEl =\n",
              "          document.querySelector('#df-6e95e2b1-8d8f-4d4e-a836-e0e8d0b8ddc0 button.colab-df-convert');\n",
              "        buttonEl.style.display =\n",
              "          google.colab.kernel.accessAllowed ? 'block' : 'none';\n",
              "\n",
              "        async function convertToInteractive(key) {\n",
              "          const element = document.querySelector('#df-6e95e2b1-8d8f-4d4e-a836-e0e8d0b8ddc0');\n",
              "          const dataTable =\n",
              "            await google.colab.kernel.invokeFunction('convertToInteractive',\n",
              "                                                     [key], {});\n",
              "          if (!dataTable) return;\n",
              "\n",
              "          const docLinkHtml = 'Like what you see? Visit the ' +\n",
              "            '<a target=\"_blank\" href=https://colab.research.google.com/notebooks/data_table.ipynb>data table notebook</a>'\n",
              "            + ' to learn more about interactive tables.';\n",
              "          element.innerHTML = '';\n",
              "          dataTable['output_type'] = 'display_data';\n",
              "          await google.colab.output.renderOutput(dataTable, element);\n",
              "          const docLink = document.createElement('div');\n",
              "          docLink.innerHTML = docLinkHtml;\n",
              "          element.appendChild(docLink);\n",
              "        }\n",
              "      </script>\n",
              "    </div>\n",
              "  </div>\n",
              "  "
            ]
          },
          "metadata": {}
        }
      ]
    },
    {
      "cell_type": "markdown",
      "source": [
        "Plot horizontal bar chart"
      ],
      "metadata": {
        "id": "2tLilGsDjmYn"
      }
    },
    {
      "cell_type": "code",
      "source": [
        "import matplotlib.pyplot as plt\n",
        "plt.figure(figsize = (10, 18))\n",
        "plt.barh(area_frequency['coroner area'], area_frequency['Number of reports'])\n",
        "plt.xlabel('Number of PFDs (2013-2022)')\n",
        "plt.ylabel('Coroner areas')\n",
        "plt.yticks(fontsize = 10)\n",
        "plt.savefig('geographical_variation.png', bbox_inches = \"tight\")\n",
        "plt.show()"
      ],
      "metadata": {
        "colab": {
          "base_uri": "https://localhost:8080/",
          "height": 1000
        },
        "id": "brvSqI-Vjp0-",
        "outputId": "ca2a2269-2dab-4d68-94b3-c17b350d4969"
      },
      "execution_count": null,
      "outputs": [
        {
          "output_type": "display_data",
          "data": {
            "text/plain": [
              "<Figure size 720x1296 with 1 Axes>"
            ],
            "image/png": "[encoded data removed]"
          },
          "metadata": {
            "needs_background": "light"
          }
        }
      ]
    },
    {
      "cell_type": "markdown",
      "source": [
        "# Find the median and IQR"
      ],
      "metadata": {
        "id": "56vOqirFQadG"
      }
    },
    {
      "cell_type": "code",
      "source": [
        "display(area_frequency.describe())"
      ],
      "metadata": {
        "id": "YIJh0FvrPt5G"
      },
      "execution_count": null,
      "outputs": []
    },
    {
      "cell_type": "markdown",
      "source": [
        "# Save csv"
      ],
      "metadata": {
        "id": "BOc2b_vuQdTZ"
      }
    },
    {
      "cell_type": "code",
      "source": [
        "area_frequency.sort_values(by = 'Number of reports', ascending = False, inplace = True)"
      ],
      "metadata": {
        "id": "AY7k5uImrjjj"
      },
      "execution_count": null,
      "outputs": []
    },
    {
      "cell_type": "code",
      "source": [
        "area_frequency.to_csv('geographical_variation_2022-06-22.csv')"
      ],
      "metadata": {
        "id": "nszDLMxIrtb4"
      },
      "execution_count": null,
      "outputs": []
    }
  ]
}